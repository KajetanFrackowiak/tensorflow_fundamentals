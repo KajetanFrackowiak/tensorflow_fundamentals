{
 "cells": [
  {
   "cell_type": "markdown",
   "id": "364f46ef",
   "metadata": {
    "colab_type": "text",
    "id": "view-in-github"
   },
   "source": [
    "<a href=\"https://colab.research.google.com/github/KajetanFrackowiak/tensorflow_fundamentals/blob/main/01_neural_network_regression_with_tensorflow.ipynb\" target=\"_parent\"><img src=\"https://colab.research.google.com/assets/colab-badge.svg\" alt=\"Open In Colab\"/></a>"
   ]
  },
  {
   "cell_type": "markdown",
   "id": "4eb72331",
   "metadata": {
    "id": "4eb72331"
   },
   "source": [
    "# Introduction to Regression with Neural Networks in TensorFlow"
   ]
  },
  {
   "cell_type": "code",
   "execution_count": 185,
   "id": "6bed05ea",
   "metadata": {
    "colab": {
     "base_uri": "https://localhost:8080/"
    },
    "id": "6bed05ea",
    "outputId": "2e48feb0-4e59-4556-a44b-20e09ad22cde"
   },
   "outputs": [
    {
     "name": "stdout",
     "output_type": "stream",
     "text": [
      "2.15.0\n"
     ]
    }
   ],
   "source": [
    "import tensorflow as tf\n",
    "print(tf.__version__)"
   ]
  },
  {
   "cell_type": "code",
   "execution_count": 186,
   "id": "d1ca512c",
   "metadata": {
    "colab": {
     "base_uri": "https://localhost:8080/",
     "height": 435
    },
    "id": "d1ca512c",
    "outputId": "b381948c-2350-4513-81c7-c89b356f7987"
   },
   "outputs": [
    {
     "data": {
      "image/png": "[encoded data removed]",
      "text/plain": [
       "<Figure size 640x480 with 1 Axes>"
      ]
     },
     "metadata": {},
     "output_type": "display_data"
    }
   ],
   "source": [
    "import numpy as np\n",
    "import matplotlib.pyplot as plt\n",
    "\n",
    "# Create features\n",
    "X = np.array([-7.0, -4.0, -1.0, 2.0, 5.0, 8.0, 11.0, 14.0])\n",
    "\n",
    "# Create labels\n",
    "y = np.array([3.0, 6.0, 9.0, 12.0, 15.0, 18.0, 21.0, 24.0])\n",
    "\n",
    "# Visualize it\n",
    "plt.scatter(X, y);"
   ]
  },
  {
   "cell_type": "code",
   "execution_count": 187,
   "id": "7a2f5345",
   "metadata": {
    "colab": {
     "base_uri": "https://localhost:8080/"
    },
    "id": "7a2f5345",
    "outputId": "1ec8813d-6faa-4496-955d-84054986d160"
   },
   "outputs": [
    {
     "data": {
      "text/plain": [
       "array([ True,  True,  True,  True,  True,  True,  True,  True])"
      ]
     },
     "execution_count": 187,
     "metadata": {},
     "output_type": "execute_result"
    }
   ],
   "source": [
    "y == X + 10"
   ]
  },
  {
   "cell_type": "markdown",
   "id": "7e74915b",
   "metadata": {
    "id": "7e74915b"
   },
   "source": [
    "# Input and output shape"
   ]
  },
  {
   "cell_type": "code",
   "execution_count": 188,
   "id": "6e8f18bc",
   "metadata": {
    "colab": {
     "base_uri": "https://localhost:8080/"
    },
    "id": "6e8f18bc",
    "outputId": "30663dc6-1521-4771-ee8c-9f504c38ae4b"
   },
   "outputs": [
    {
     "data": {
      "text/plain": [
       "(<tf.Tensor: shape=(3,), dtype=string, numpy=array([b'bedroom', b'bathroom', b'garage'], dtype=object)>,\n",
       " <tf.Tensor: shape=(1,), dtype=int32, numpy=array([939700], dtype=int32)>)"
      ]
     },
     "execution_count": 188,
     "metadata": {},
     "output_type": "execute_result"
    }
   ],
   "source": [
    "# Create a demo tensor for our housing price prediciton problem\n",
    "house_info = tf.constant([\"bedroom\", \"bathroom\", \"garage\"])\n",
    "house_price = tf.constant([939700])\n",
    "house_info, house_price"
   ]
  },
  {
   "cell_type": "code",
   "execution_count": 189,
   "id": "cf54c038",
   "metadata": {
    "colab": {
     "base_uri": "https://localhost:8080/"
    },
    "id": "cf54c038",
    "outputId": "d883e0f7-bf5f-442f-a177-60a298a56e48"
   },
   "outputs": [
    {
     "data": {
      "text/plain": [
       "((), ())"
      ]
     },
     "execution_count": 189,
     "metadata": {},
     "output_type": "execute_result"
    }
   ],
   "source": [
    "input_shape = X[0].shape\n",
    "output_shape = y[0].shape\n",
    "input_shape, output_shape"
   ]
  },
  {
   "cell_type": "code",
   "execution_count": 190,
   "id": "07b1b411",
   "metadata": {
    "colab": {
     "base_uri": "https://localhost:8080/"
    },
    "id": "07b1b411",
    "outputId": "d163b0d8-f933-4825-d2f4-6177ed1898e0"
   },
   "outputs": [
    {
     "data": {
      "text/plain": [
       "0"
      ]
     },
     "execution_count": 190,
     "metadata": {},
     "output_type": "execute_result"
    }
   ],
   "source": [
    "X[0].ndim"
   ]
  },
  {
   "cell_type": "code",
   "execution_count": 191,
   "id": "7673b6c5",
   "metadata": {
    "colab": {
     "base_uri": "https://localhost:8080/"
    },
    "id": "7673b6c5",
    "outputId": "86c2cfee-f025-406b-89b7-eb83eab65706"
   },
   "outputs": [
    {
     "data": {
      "text/plain": [
       "(-7.0, 3.0)"
      ]
     },
     "execution_count": 191,
     "metadata": {},
     "output_type": "execute_result"
    }
   ],
   "source": [
    "X[0], y[0]"
   ]
  },
  {
   "cell_type": "code",
   "execution_count": 192,
   "id": "16668a1c",
   "metadata": {
    "colab": {
     "base_uri": "https://localhost:8080/"
    },
    "id": "16668a1c",
    "outputId": "08fb8d0d-99ef-4f80-8cc0-3749af154947"
   },
   "outputs": [
    {
     "data": {
      "text/plain": [
       "(<tf.Tensor: shape=(8,), dtype=float32, numpy=array([-7., -4., -1.,  2.,  5.,  8., 11., 14.], dtype=float32)>,\n",
       " <tf.Tensor: shape=(8,), dtype=float32, numpy=array([ 3.,  6.,  9., 12., 15., 18., 21., 24.], dtype=float32)>)"
      ]
     },
     "execution_count": 192,
     "metadata": {},
     "output_type": "execute_result"
    }
   ],
   "source": [
    "# Turn our NumPy arrays into tensors\n",
    "X = tf.cast(tf.constant(X), dtype=tf.float32)\n",
    "y = tf.cast(tf.constant(y), dtype=tf.float32)\n",
    "X, y"
   ]
  },
  {
   "cell_type": "code",
   "execution_count": 193,
   "id": "b4b16637",
   "metadata": {
    "colab": {
     "base_uri": "https://localhost:8080/"
    },
    "id": "b4b16637",
    "outputId": "79a5fe78-aa0f-4c15-fb78-d12690728249"
   },
   "outputs": [
    {
     "data": {
      "text/plain": [
       "(TensorShape([]), TensorShape([]))"
      ]
     },
     "execution_count": 193,
     "metadata": {},
     "output_type": "execute_result"
    }
   ],
   "source": [
    "input_shape = X[0].shape\n",
    "output_shape = y[0].shape\n",
    "input_shape, output_shape"
   ]
  },
  {
   "cell_type": "code",
   "execution_count": 194,
   "id": "fce8df22",
   "metadata": {
    "colab": {
     "base_uri": "https://localhost:8080/",
     "height": 452
    },
    "id": "fce8df22",
    "outputId": "08d3cdfa-de22-40b1-a6c9-1a94a8804b6c"
   },
   "outputs": [
    {
     "data": {
      "text/plain": [
       "<matplotlib.collections.PathCollection at 0x7f967e5ec790>"
      ]
     },
     "execution_count": 194,
     "metadata": {},
     "output_type": "execute_result"
    },
    {
     "data": {
      "image/png": "[encoded data removed]",
      "text/plain": [
       "<Figure size 640x480 with 1 Axes>"
      ]
     },
     "metadata": {},
     "output_type": "display_data"
    }
   ],
   "source": [
    "plt.scatter(X, y)"
   ]
  },
  {
   "cell_type": "markdown",
   "id": "f8cbe686",
   "metadata": {
    "id": "f8cbe686"
   },
   "source": [
    "# Modelling with TensorFlow\n",
    "\n",
    "**1. Creating a model**\n",
    "\n",
    "**2. Compiling a model**\n",
    "\n",
    "**3. Fitting a model**"
   ]
  },
  {
   "cell_type": "code",
   "execution_count": 330,
   "id": "9a32f9ab",
   "metadata": {
    "colab": {
     "base_uri": "https://localhost:8080/"
    },
    "id": "9a32f9ab",
    "outputId": "d84ebe55-8b46-4e45-c645-be1b589ab543"
   },
   "outputs": [],
   "source": [
    "import wandb\n",
    "from wandb.keras import WandbCallback\n",
    "\n",
    "def initialize_wandb(project_name, run_name):\n",
    "    wandb.init(project=project_name, name=run_name)\n",
    "    wandb.config.learning_rate = 0.001\n",
    "    wandb.config.batch_size = 64"
   ]
  },
  {
   "cell_type": "code",
   "execution_count": 332,
   "id": "47758b1b",
   "metadata": {},
   "outputs": [
    {
     "name": "stdout",
     "output_type": "stream",
     "text": [
      "Epoch 1/5\n",
      "2/2 [==============================] - 0s 5ms/step - loss: 51.1354 - mae: 51.1354\n",
      "Epoch 2/5\n",
      "2/2 [==============================] - 0s 3ms/step - loss: 14.0344 - mae: 14.0344\n",
      "Epoch 3/5\n",
      "2/2 [==============================] - 0s 4ms/step - loss: 16.5007 - mae: 16.5007\n",
      "Epoch 4/5\n",
      "2/2 [==============================] - 0s 4ms/step - loss: 10.2060 - mae: 10.2060\n",
      "Epoch 5/5\n",
      "2/2 [==============================] - 0s 5ms/step - loss: 12.3356 - mae: 12.3356\n"
     ]
    },
    {
     "data": {
      "text/plain": [
       "<keras.src.callbacks.History at 0x7f97b230e550>"
      ]
     },
     "execution_count": 332,
     "metadata": {},
     "output_type": "execute_result"
    }
   ],
   "source": [
    "tf.random.set_seed(42)\n",
    "\n",
    "# 1. Create a model\n",
    "model = tf.keras.Sequential([\n",
    "    tf.keras.layers.Dense(1, input_shape=(1,))  # Specify input_shape for the first layer\n",
    "])\n",
    "\n",
    "# 2. Compile the model\n",
    "model.compile(loss=tf.keras.losses.mae,\n",
    "              optimizer=tf.keras.optimizers.SGD(),\n",
    "              metrics=[\"mae\"])\n",
    "\n",
    "# 3. Fit the model\n",
    "model.fit(X, y, epochs=5)"
   ]
  },
  {
   "cell_type": "code",
   "execution_count": 333,
   "id": "1b6c1258",
   "metadata": {
    "colab": {
     "base_uri": "https://localhost:8080/"
    },
    "id": "1b6c1258",
    "outputId": "0ea80add-e878-4f6b-aeaa-e5aa4db020f0"
   },
   "outputs": [
    {
     "name": "stdout",
     "output_type": "stream",
     "text": [
      "1/1 [==============================] - 0s 42ms/step\n"
     ]
    },
    {
     "data": {
      "text/plain": [
       "array([[12.490474]], dtype=float32)"
      ]
     },
     "execution_count": 333,
     "metadata": {},
     "output_type": "execute_result"
    }
   ],
   "source": [
    "y_pred = model.predict([17.0])\n",
    "y_pred"
   ]
  },
  {
   "cell_type": "code",
   "execution_count": 334,
   "id": "5cc64216",
   "metadata": {
    "colab": {
     "base_uri": "https://localhost:8080/"
    },
    "id": "5cc64216",
    "outputId": "0adc74ba-b1d0-4357-beea-d73e9f23b504"
   },
   "outputs": [
    {
     "data": {
      "text/plain": [
       "array([[23.490475]], dtype=float32)"
      ]
     },
     "execution_count": 334,
     "metadata": {},
     "output_type": "execute_result"
    }
   ],
   "source": [
    "y_pred + 11"
   ]
  },
  {
   "cell_type": "markdown",
   "id": "e53b4119",
   "metadata": {
    "id": "e53b4119"
   },
   "source": [
    "# Improving our model\n",
    "We can improve our model. by altering the steps we took to create a model.\n",
    "\n",
    "**1. Creating a model**\n",
    "\n",
    "**2. Compiling a model**\n",
    "\n",
    "**3. Fitting a model**"
   ]
  },
  {
   "cell_type": "code",
   "execution_count": 335,
   "id": "7b25c4e2",
   "metadata": {
    "colab": {
     "base_uri": "https://localhost:8080/"
    },
    "id": "7b25c4e2",
    "outputId": "eec4e5eb-069c-4b99-f035-d6e9feb19c86"
   },
   "outputs": [
    {
     "name": "stdout",
     "output_type": "stream",
     "text": [
      "Epoch 1/100\n",
      "2/2 [==============================] - 0s 6ms/step - loss: 10.0429 - mae: 10.0429\n",
      "Epoch 2/100\n",
      "2/2 [==============================] - 0s 3ms/step - loss: 10.0410 - mae: 10.0410\n",
      "Epoch 3/100\n",
      "2/2 [==============================] - 0s 4ms/step - loss: 10.0355 - mae: 10.0355\n",
      "Epoch 4/100\n",
      "2/2 [==============================] - 0s 3ms/step - loss: 10.0317 - mae: 10.0317\n",
      "Epoch 5/100\n",
      "2/2 [==============================] - 0s 3ms/step - loss: 10.0278 - mae: 10.0278\n",
      "Epoch 6/100\n",
      "2/2 [==============================] - 0s 4ms/step - loss: 10.0274 - mae: 10.0274\n",
      "Epoch 7/100\n",
      "2/2 [==============================] - 0s 3ms/step - loss: 10.0246 - mae: 10.0246\n",
      "Epoch 8/100\n",
      "2/2 [==============================] - 0s 4ms/step - loss: 10.0205 - mae: 10.0205\n",
      "Epoch 9/100\n",
      "2/2 [==============================] - 0s 3ms/step - loss: 10.0163 - mae: 10.0163\n",
      "Epoch 10/100\n",
      "2/2 [==============================] - 0s 3ms/step - loss: 10.0143 - mae: 10.0143\n",
      "Epoch 11/100\n",
      "2/2 [==============================] - 0s 3ms/step - loss: 10.0115 - mae: 10.0115\n",
      "Epoch 12/100\n",
      "2/2 [==============================] - 0s 3ms/step - loss: 10.0087 - mae: 10.0087\n",
      "Epoch 13/100\n",
      "2/2 [==============================] - 0s 3ms/step - loss: 10.0057 - mae: 10.0057\n",
      "Epoch 14/100\n",
      "2/2 [==============================] - 0s 3ms/step - loss: 10.0034 - mae: 10.0034\n",
      "Epoch 15/100\n",
      "2/2 [==============================] - 0s 3ms/step - loss: 10.0000 - mae: 10.0000\n",
      "Epoch 16/100\n",
      "2/2 [==============================] - 0s 3ms/step - loss: 9.9993 - mae: 9.9993\n",
      "Epoch 17/100\n",
      "2/2 [==============================] - 0s 3ms/step - loss: 9.9940 - mae: 9.9940\n",
      "Epoch 18/100\n",
      "2/2 [==============================] - 0s 5ms/step - loss: 9.9912 - mae: 9.9912\n",
      "Epoch 19/100\n",
      "2/2 [==============================] - 0s 3ms/step - loss: 9.9877 - mae: 9.9877\n",
      "Epoch 20/100\n",
      "2/2 [==============================] - 0s 3ms/step - loss: 9.9839 - mae: 9.9839\n",
      "Epoch 21/100\n",
      "2/2 [==============================] - 0s 3ms/step - loss: 9.9861 - mae: 9.9861\n",
      "Epoch 22/100\n",
      "2/2 [==============================] - 0s 3ms/step - loss: 9.9785 - mae: 9.9785\n",
      "Epoch 23/100\n",
      "2/2 [==============================] - 0s 3ms/step - loss: 9.9773 - mae: 9.9773\n",
      "Epoch 24/100\n",
      "2/2 [==============================] - 0s 3ms/step - loss: 9.9735 - mae: 9.9735\n",
      "Epoch 25/100\n",
      "2/2 [==============================] - 0s 4ms/step - loss: 9.9699 - mae: 9.9699\n",
      "Epoch 26/100\n",
      "2/2 [==============================] - 0s 3ms/step - loss: 9.9684 - mae: 9.9684\n",
      "Epoch 27/100\n",
      "2/2 [==============================] - 0s 4ms/step - loss: 9.9646 - mae: 9.9646\n",
      "Epoch 28/100\n",
      "2/2 [==============================] - 0s 3ms/step - loss: 9.9620 - mae: 9.9620\n",
      "Epoch 29/100\n",
      "2/2 [==============================] - 0s 3ms/step - loss: 9.9594 - mae: 9.9594\n",
      "Epoch 30/100\n",
      "2/2 [==============================] - 0s 4ms/step - loss: 9.9574 - mae: 9.9574\n",
      "Epoch 31/100\n",
      "2/2 [==============================] - 0s 3ms/step - loss: 9.9538 - mae: 9.9538\n",
      "Epoch 32/100\n",
      "2/2 [==============================] - 0s 4ms/step - loss: 9.9514 - mae: 9.9514\n",
      "Epoch 33/100\n",
      "2/2 [==============================] - 0s 3ms/step - loss: 9.9480 - mae: 9.9480\n",
      "Epoch 34/100\n",
      "2/2 [==============================] - 0s 4ms/step - loss: 9.9445 - mae: 9.9445\n",
      "Epoch 35/100\n",
      "2/2 [==============================] - 0s 3ms/step - loss: 9.9417 - mae: 9.9417\n",
      "Epoch 36/100\n",
      "2/2 [==============================] - 0s 3ms/step - loss: 9.9383 - mae: 9.9383\n",
      "Epoch 37/100\n",
      "2/2 [==============================] - 0s 4ms/step - loss: 9.9363 - mae: 9.9363\n",
      "Epoch 38/100\n",
      "2/2 [==============================] - 0s 3ms/step - loss: 9.9333 - mae: 9.9333\n",
      "Epoch 39/100\n",
      "2/2 [==============================] - 0s 4ms/step - loss: 9.9285 - mae: 9.9285\n",
      "Epoch 40/100\n",
      "2/2 [==============================] - 0s 3ms/step - loss: 9.9271 - mae: 9.9271\n",
      "Epoch 41/100\n",
      "2/2 [==============================] - 0s 3ms/step - loss: 9.9262 - mae: 9.9262\n",
      "Epoch 42/100\n",
      "2/2 [==============================] - 0s 3ms/step - loss: 9.9200 - mae: 9.9200\n",
      "Epoch 43/100\n",
      "2/2 [==============================] - 0s 3ms/step - loss: 9.9178 - mae: 9.9178\n",
      "Epoch 44/100\n",
      "2/2 [==============================] - 0s 4ms/step - loss: 9.9153 - mae: 9.9153\n",
      "Epoch 45/100\n",
      "2/2 [==============================] - 0s 3ms/step - loss: 9.9117 - mae: 9.9117\n",
      "Epoch 46/100\n",
      "2/2 [==============================] - 0s 3ms/step - loss: 9.9096 - mae: 9.9096\n",
      "Epoch 47/100\n",
      "2/2 [==============================] - 0s 3ms/step - loss: 9.9066 - mae: 9.9066\n",
      "Epoch 48/100\n",
      "2/2 [==============================] - 0s 4ms/step - loss: 9.9049 - mae: 9.9049\n",
      "Epoch 49/100\n",
      "2/2 [==============================] - 0s 4ms/step - loss: 9.9029 - mae: 9.9029\n",
      "Epoch 50/100\n",
      "2/2 [==============================] - 0s 3ms/step - loss: 9.8984 - mae: 9.8984\n",
      "Epoch 51/100\n",
      "2/2 [==============================] - 0s 3ms/step - loss: 9.8959 - mae: 9.8959\n",
      "Epoch 52/100\n",
      "2/2 [==============================] - 0s 3ms/step - loss: 9.8936 - mae: 9.8936\n",
      "Epoch 53/100\n",
      "2/2 [==============================] - 0s 3ms/step - loss: 9.8916 - mae: 9.8916\n",
      "Epoch 54/100\n",
      "2/2 [==============================] - 0s 3ms/step - loss: 9.8886 - mae: 9.8886\n",
      "Epoch 55/100\n",
      "2/2 [==============================] - 0s 3ms/step - loss: 9.8856 - mae: 9.8856\n",
      "Epoch 56/100\n",
      "2/2 [==============================] - 0s 4ms/step - loss: 9.8834 - mae: 9.8834\n",
      "Epoch 57/100\n",
      "2/2 [==============================] - 0s 4ms/step - loss: 9.8802 - mae: 9.8802\n",
      "Epoch 58/100\n",
      "2/2 [==============================] - 0s 4ms/step - loss: 9.8771 - mae: 9.8771\n",
      "Epoch 59/100\n",
      "2/2 [==============================] - 0s 5ms/step - loss: 9.8739 - mae: 9.8739\n",
      "Epoch 60/100\n",
      "2/2 [==============================] - 0s 4ms/step - loss: 9.8707 - mae: 9.8707\n",
      "Epoch 61/100\n",
      "2/2 [==============================] - 0s 3ms/step - loss: 9.8693 - mae: 9.8693\n",
      "Epoch 62/100\n",
      "2/2 [==============================] - 0s 3ms/step - loss: 9.8677 - mae: 9.8677\n",
      "Epoch 63/100\n",
      "2/2 [==============================] - 0s 3ms/step - loss: 9.8624 - mae: 9.8624\n",
      "Epoch 64/100\n",
      "2/2 [==============================] - 0s 3ms/step - loss: 9.8596 - mae: 9.8596\n",
      "Epoch 65/100\n",
      "2/2 [==============================] - 0s 3ms/step - loss: 9.8564 - mae: 9.8564\n",
      "Epoch 66/100\n",
      "2/2 [==============================] - 0s 3ms/step - loss: 9.8543 - mae: 9.8543\n",
      "Epoch 67/100\n",
      "2/2 [==============================] - 0s 4ms/step - loss: 9.8518 - mae: 9.8518\n",
      "Epoch 68/100\n",
      "2/2 [==============================] - 0s 3ms/step - loss: 9.8494 - mae: 9.8494\n",
      "Epoch 69/100\n",
      "2/2 [==============================] - 0s 3ms/step - loss: 9.8467 - mae: 9.8467\n",
      "Epoch 70/100\n",
      "2/2 [==============================] - 0s 3ms/step - loss: 9.8439 - mae: 9.8439\n",
      "Epoch 71/100\n",
      "2/2 [==============================] - 0s 3ms/step - loss: 9.8409 - mae: 9.8409\n",
      "Epoch 72/100\n",
      "2/2 [==============================] - 0s 3ms/step - loss: 9.8394 - mae: 9.8394\n",
      "Epoch 73/100\n",
      "2/2 [==============================] - 0s 3ms/step - loss: 9.8365 - mae: 9.8365\n",
      "Epoch 74/100\n",
      "2/2 [==============================] - 0s 3ms/step - loss: 9.8334 - mae: 9.8334\n",
      "Epoch 75/100\n",
      "2/2 [==============================] - 0s 4ms/step - loss: 9.8304 - mae: 9.8304\n",
      "Epoch 76/100\n",
      "2/2 [==============================] - 0s 3ms/step - loss: 9.8276 - mae: 9.8276\n",
      "Epoch 77/100\n",
      "2/2 [==============================] - 0s 3ms/step - loss: 9.8262 - mae: 9.8262\n",
      "Epoch 78/100\n",
      "2/2 [==============================] - 0s 3ms/step - loss: 9.8223 - mae: 9.8223\n",
      "Epoch 79/100\n",
      "2/2 [==============================] - 0s 3ms/step - loss: 9.8194 - mae: 9.8194\n",
      "Epoch 80/100\n",
      "2/2 [==============================] - 0s 3ms/step - loss: 9.8169 - mae: 9.8169\n",
      "Epoch 81/100\n",
      "2/2 [==============================] - 0s 3ms/step - loss: 9.8132 - mae: 9.8132\n",
      "Epoch 82/100\n",
      "2/2 [==============================] - 0s 3ms/step - loss: 9.8104 - mae: 9.8104\n",
      "Epoch 83/100\n",
      "2/2 [==============================] - 0s 3ms/step - loss: 9.8068 - mae: 9.8068\n",
      "Epoch 84/100\n",
      "2/2 [==============================] - 0s 3ms/step - loss: 9.8052 - mae: 9.8052\n",
      "Epoch 85/100\n",
      "2/2 [==============================] - 0s 3ms/step - loss: 9.8012 - mae: 9.8012\n",
      "Epoch 86/100\n",
      "2/2 [==============================] - 0s 3ms/step - loss: 9.7995 - mae: 9.7995\n",
      "Epoch 87/100\n",
      "2/2 [==============================] - 0s 3ms/step - loss: 9.7964 - mae: 9.7964\n",
      "Epoch 88/100\n",
      "2/2 [==============================] - 0s 3ms/step - loss: 9.7921 - mae: 9.7921\n",
      "Epoch 89/100\n",
      "2/2 [==============================] - 0s 3ms/step - loss: 9.7901 - mae: 9.7901\n",
      "Epoch 90/100\n",
      "2/2 [==============================] - 0s 3ms/step - loss: 9.7870 - mae: 9.7870\n",
      "Epoch 91/100\n",
      "2/2 [==============================] - 0s 3ms/step - loss: 9.7848 - mae: 9.7848\n",
      "Epoch 92/100\n",
      "2/2 [==============================] - 0s 3ms/step - loss: 9.7821 - mae: 9.7821\n",
      "Epoch 93/100\n",
      "2/2 [==============================] - 0s 4ms/step - loss: 9.7798 - mae: 9.7798\n",
      "Epoch 94/100\n",
      "2/2 [==============================] - 0s 3ms/step - loss: 9.7771 - mae: 9.7771\n",
      "Epoch 95/100\n",
      "2/2 [==============================] - 0s 3ms/step - loss: 9.7739 - mae: 9.7739\n",
      "Epoch 96/100\n",
      "2/2 [==============================] - 0s 3ms/step - loss: 9.7711 - mae: 9.7711\n",
      "Epoch 97/100\n",
      "2/2 [==============================] - 0s 3ms/step - loss: 9.7697 - mae: 9.7697\n",
      "Epoch 98/100\n",
      "2/2 [==============================] - 0s 3ms/step - loss: 9.7650 - mae: 9.7650\n",
      "Epoch 99/100\n",
      "2/2 [==============================] - 0s 3ms/step - loss: 9.7625 - mae: 9.7625\n",
      "Epoch 100/100\n",
      "2/2 [==============================] - 0s 3ms/step - loss: 9.7608 - mae: 9.7608\n"
     ]
    },
    {
     "data": {
      "text/plain": [
       "<keras.src.callbacks.History at 0x7f97b24c7610>"
      ]
     },
     "execution_count": 335,
     "metadata": {},
     "output_type": "execute_result"
    }
   ],
   "source": [
    "\n",
    "# Set random seed\n",
    "tf.random.set_seed(42)\n",
    "\n",
    "# Create a model (same as above)\n",
    "model = tf.keras.Sequential([\n",
    "  tf.keras.layers.Dense(1)\n",
    "])\n",
    "\n",
    "# Compile model (same as above)\n",
    "model.compile(loss=tf.keras.losses.mae,\n",
    "              optimizer=tf.keras.optimizers.Adam(),\n",
    "              metrics=[\"mae\"])\n",
    "\n",
    "# Fit model (this time we'll train for longer)\n",
    "model.fit(tf.expand_dims(X, axis=-1), y, epochs=100)"
   ]
  },
  {
   "cell_type": "code",
   "execution_count": 336,
   "id": "d5d774f6",
   "metadata": {
    "colab": {
     "base_uri": "https://localhost:8080/"
    },
    "id": "d5d774f6",
    "outputId": "229d77b4-144b-4662-e447-0041b569035e"
   },
   "outputs": [
    {
     "data": {
      "text/plain": [
       "(<tf.Tensor: shape=(50,), dtype=int32, numpy=\n",
       " array([-100,  -96,  -92,  -88,  -84,  -80,  -76,  -72,  -68,  -64,  -60,\n",
       "         -56,  -52,  -48,  -44,  -40,  -36,  -32,  -28,  -24,  -20,  -16,\n",
       "         -12,   -8,   -4,    0,    4,    8,   12,   16,   20,   24,   28,\n",
       "          32,   36,   40,   44,   48,   52,   56,   60,   64,   68,   72,\n",
       "          76,   80,   84,   88,   92,   96], dtype=int32)>,\n",
       " <tf.Tensor: shape=(50,), dtype=int32, numpy=\n",
       " array([-90, -86, -82, -78, -74, -70, -66, -62, -58, -54, -50, -46, -42,\n",
       "        -38, -34, -30, -26, -22, -18, -14, -10,  -6,  -2,   2,   6,  10,\n",
       "         14,  18,  22,  26,  30,  34,  38,  42,  46,  50,  54,  58,  62,\n",
       "         66,  70,  74,  78,  82,  86,  90,  94,  98, 102, 106], dtype=int32)>)"
      ]
     },
     "execution_count": 336,
     "metadata": {},
     "output_type": "execute_result"
    }
   ],
   "source": [
    "# Remind ourselves of the data\n",
    "X, y"
   ]
  },
  {
   "cell_type": "code",
   "execution_count": 337,
   "id": "8a2163d3",
   "metadata": {
    "colab": {
     "base_uri": "https://localhost:8080/"
    },
    "id": "8a2163d3",
    "outputId": "58aca243-0792-42b6-e77a-6bd2c3dab9a7"
   },
   "outputs": [
    {
     "name": "stdout",
     "output_type": "stream",
     "text": [
      "1/1 [==============================] - 0s 43ms/step\n"
     ]
    },
    {
     "data": {
      "text/plain": [
       "array([[16.835936]], dtype=float32)"
      ]
     },
     "execution_count": 337,
     "metadata": {},
     "output_type": "execute_result"
    }
   ],
   "source": [
    "# Let's see if our model's prediction has improved...\n",
    "model.predict([17.0])"
   ]
  },
  {
   "cell_type": "code",
   "execution_count": 338,
   "id": "8cbed0f4",
   "metadata": {
    "colab": {
     "base_uri": "https://localhost:8080/"
    },
    "id": "8cbed0f4",
    "outputId": "be421554-e23b-4b9e-8207-a6d47779c431"
   },
   "outputs": [
    {
     "name": "stdout",
     "output_type": "stream",
     "text": [
      "Epoch 1/50\n",
      "2/2 [==============================] - 0s 4ms/step - loss: 68.8554 - mae: 68.8554\n",
      "Epoch 2/50\n",
      "2/2 [==============================] - 0s 4ms/step - loss: 44.6879 - mae: 44.6879\n",
      "Epoch 3/50\n",
      "2/2 [==============================] - 0s 3ms/step - loss: 24.0533 - mae: 24.0533\n",
      "Epoch 4/50\n",
      "2/2 [==============================] - 0s 4ms/step - loss: 10.6799 - mae: 10.6799\n",
      "Epoch 5/50\n",
      "2/2 [==============================] - 0s 4ms/step - loss: 16.1182 - mae: 16.1182\n",
      "Epoch 6/50\n",
      "2/2 [==============================] - 0s 3ms/step - loss: 18.0734 - mae: 18.0734\n",
      "Epoch 7/50\n",
      "2/2 [==============================] - 0s 4ms/step - loss: 13.1678 - mae: 13.1678\n",
      "Epoch 8/50\n",
      "2/2 [==============================] - 0s 3ms/step - loss: 9.4650 - mae: 9.4650\n",
      "Epoch 9/50\n",
      "2/2 [==============================] - 0s 3ms/step - loss: 8.6757 - mae: 8.6757\n",
      "Epoch 10/50\n",
      "2/2 [==============================] - 0s 5ms/step - loss: 11.5451 - mae: 11.5451\n",
      "Epoch 11/50\n",
      "2/2 [==============================] - 0s 3ms/step - loss: 11.9148 - mae: 11.9148\n",
      "Epoch 12/50\n",
      "2/2 [==============================] - 0s 4ms/step - loss: 9.3766 - mae: 9.3766\n",
      "Epoch 13/50\n",
      "2/2 [==============================] - 0s 3ms/step - loss: 8.0155 - mae: 8.0155\n",
      "Epoch 14/50\n",
      "2/2 [==============================] - 0s 3ms/step - loss: 8.2531 - mae: 8.2531\n",
      "Epoch 15/50\n",
      "2/2 [==============================] - 0s 4ms/step - loss: 8.4588 - mae: 8.4588\n",
      "Epoch 16/50\n",
      "2/2 [==============================] - 0s 3ms/step - loss: 8.1818 - mae: 8.1818\n",
      "Epoch 17/50\n",
      "2/2 [==============================] - 0s 4ms/step - loss: 7.1032 - mae: 7.1032\n",
      "Epoch 18/50\n",
      "2/2 [==============================] - 0s 3ms/step - loss: 6.8476 - mae: 6.8476\n",
      "Epoch 19/50\n",
      "2/2 [==============================] - 0s 4ms/step - loss: 6.5034 - mae: 6.5034\n",
      "Epoch 20/50\n",
      "2/2 [==============================] - 0s 3ms/step - loss: 6.5597 - mae: 6.5597\n",
      "Epoch 21/50\n",
      "2/2 [==============================] - 0s 3ms/step - loss: 6.3985 - mae: 6.3985\n",
      "Epoch 22/50\n",
      "2/2 [==============================] - 0s 3ms/step - loss: 5.8580 - mae: 5.8580\n",
      "Epoch 23/50\n",
      "2/2 [==============================] - 0s 2ms/step - loss: 5.5065 - mae: 5.5065\n",
      "Epoch 24/50\n",
      "2/2 [==============================] - 0s 3ms/step - loss: 5.2663 - mae: 5.2663\n",
      "Epoch 25/50\n",
      "2/2 [==============================] - 0s 4ms/step - loss: 5.2266 - mae: 5.2266\n",
      "Epoch 26/50\n",
      "2/2 [==============================] - 0s 3ms/step - loss: 4.7564 - mae: 4.7564\n",
      "Epoch 27/50\n",
      "2/2 [==============================] - 0s 4ms/step - loss: 4.2543 - mae: 4.2543\n",
      "Epoch 28/50\n",
      "2/2 [==============================] - 0s 3ms/step - loss: 3.8552 - mae: 3.8552\n",
      "Epoch 29/50\n",
      "2/2 [==============================] - 0s 4ms/step - loss: 3.6492 - mae: 3.6492\n",
      "Epoch 30/50\n",
      "2/2 [==============================] - 0s 3ms/step - loss: 3.0173 - mae: 3.0173\n",
      "Epoch 31/50\n",
      "2/2 [==============================] - 0s 3ms/step - loss: 2.8436 - mae: 2.8436\n",
      "Epoch 32/50\n",
      "2/2 [==============================] - 0s 3ms/step - loss: 2.1729 - mae: 2.1729\n",
      "Epoch 33/50\n",
      "2/2 [==============================] - 0s 3ms/step - loss: 1.6142 - mae: 1.6142\n",
      "Epoch 34/50\n",
      "2/2 [==============================] - 0s 4ms/step - loss: 1.2757 - mae: 1.2757\n",
      "Epoch 35/50\n",
      "2/2 [==============================] - 0s 3ms/step - loss: 0.5214 - mae: 0.5214\n",
      "Epoch 36/50\n",
      "2/2 [==============================] - 0s 4ms/step - loss: 0.8544 - mae: 0.8544\n",
      "Epoch 37/50\n",
      "2/2 [==============================] - 0s 4ms/step - loss: 1.5486 - mae: 1.5486\n",
      "Epoch 38/50\n",
      "2/2 [==============================] - 0s 4ms/step - loss: 1.5118 - mae: 1.5118\n",
      "Epoch 39/50\n",
      "2/2 [==============================] - 0s 4ms/step - loss: 1.4606 - mae: 1.4606\n",
      "Epoch 40/50\n",
      "2/2 [==============================] - 0s 3ms/step - loss: 1.6726 - mae: 1.6726\n",
      "Epoch 41/50\n",
      "2/2 [==============================] - 0s 3ms/step - loss: 1.0257 - mae: 1.0257\n",
      "Epoch 42/50\n",
      "2/2 [==============================] - 0s 3ms/step - loss: 1.9687 - mae: 1.9687\n",
      "Epoch 43/50\n",
      "2/2 [==============================] - 0s 3ms/step - loss: 1.1204 - mae: 1.1204\n",
      "Epoch 44/50\n",
      "2/2 [==============================] - 0s 4ms/step - loss: 0.6220 - mae: 0.6220\n",
      "Epoch 45/50\n",
      "2/2 [==============================] - 0s 3ms/step - loss: 0.2540 - mae: 0.2540\n",
      "Epoch 46/50\n",
      "2/2 [==============================] - 0s 5ms/step - loss: 1.0313 - mae: 1.0313\n",
      "Epoch 47/50\n",
      "2/2 [==============================] - 0s 3ms/step - loss: 1.4117 - mae: 1.4117\n",
      "Epoch 48/50\n",
      "2/2 [==============================] - 0s 4ms/step - loss: 0.6990 - mae: 0.6990\n",
      "Epoch 49/50\n",
      "2/2 [==============================] - 0s 3ms/step - loss: 0.9559 - mae: 0.9559\n",
      "Epoch 50/50\n",
      "2/2 [==============================] - 0s 3ms/step - loss: 0.7288 - mae: 0.7288\n"
     ]
    },
    {
     "data": {
      "text/plain": [
       "<keras.src.callbacks.History at 0x7f97b22984d0>"
      ]
     },
     "execution_count": 338,
     "metadata": {},
     "output_type": "execute_result"
    }
   ],
   "source": [
    "model = tf.keras.Sequential([\n",
    "    tf.keras.layers.Dense(100, activation=None),\n",
    "\n",
    "    tf.keras.layers.Dense(1)\n",
    "])\n",
    "\n",
    "# 2. Compile the model\n",
    "model.compile(loss=\"mae\",\n",
    "             optimizer=tf.keras.optimizers.Adam(learning_rate=0.01),\n",
    "             metrics=[\"mae\"])\n",
    "\n",
    "# 3.\n",
    "model.fit(tf.expand_dims(X, axis=-1), y, epochs=50)"
   ]
  },
  {
   "cell_type": "code",
   "execution_count": 339,
   "id": "029f7af3",
   "metadata": {
    "colab": {
     "base_uri": "https://localhost:8080/"
    },
    "id": "029f7af3",
    "outputId": "ab315bdb-7cfe-4b48-8840-56188e0d8c67"
   },
   "outputs": [
    {
     "data": {
      "text/plain": [
       "(<tf.Tensor: shape=(50,), dtype=int32, numpy=\n",
       " array([-100,  -96,  -92,  -88,  -84,  -80,  -76,  -72,  -68,  -64,  -60,\n",
       "         -56,  -52,  -48,  -44,  -40,  -36,  -32,  -28,  -24,  -20,  -16,\n",
       "         -12,   -8,   -4,    0,    4,    8,   12,   16,   20,   24,   28,\n",
       "          32,   36,   40,   44,   48,   52,   56,   60,   64,   68,   72,\n",
       "          76,   80,   84,   88,   92,   96], dtype=int32)>,\n",
       " <tf.Tensor: shape=(50,), dtype=int32, numpy=\n",
       " array([-90, -86, -82, -78, -74, -70, -66, -62, -58, -54, -50, -46, -42,\n",
       "        -38, -34, -30, -26, -22, -18, -14, -10,  -6,  -2,   2,   6,  10,\n",
       "         14,  18,  22,  26,  30,  34,  38,  42,  46,  50,  54,  58,  62,\n",
       "         66,  70,  74,  78,  82,  86,  90,  94,  98, 102, 106], dtype=int32)>)"
      ]
     },
     "execution_count": 339,
     "metadata": {},
     "output_type": "execute_result"
    }
   ],
   "source": [
    "# Let's remind ourselves of the data\n",
    "X, y"
   ]
  },
  {
   "cell_type": "code",
   "execution_count": 340,
   "id": "b5b5fff5",
   "metadata": {
    "colab": {
     "base_uri": "https://localhost:8080/"
    },
    "id": "b5b5fff5",
    "outputId": "736fb341-2097-4216-fb4c-c1d635d3d983"
   },
   "outputs": [
    {
     "data": {
      "text/plain": [
       "(1, 1)"
      ]
     },
     "execution_count": 340,
     "metadata": {},
     "output_type": "execute_result"
    }
   ],
   "source": [
    "X.ndim, y.ndim"
   ]
  },
  {
   "cell_type": "code",
   "execution_count": 341,
   "id": "83df6c50",
   "metadata": {
    "colab": {
     "base_uri": "https://localhost:8080/"
    },
    "id": "83df6c50",
    "outputId": "dbab137d-ffc1-47a5-a465-30feefdace08"
   },
   "outputs": [
    {
     "name": "stdout",
     "output_type": "stream",
     "text": [
      "1/1 [==============================] - 0s 46ms/step\n"
     ]
    },
    {
     "data": {
      "text/plain": [
       "array([[26.666828]], dtype=float32)"
      ]
     },
     "execution_count": 341,
     "metadata": {},
     "output_type": "execute_result"
    }
   ],
   "source": [
    "model.predict([17.0])"
   ]
  },
  {
   "cell_type": "code",
   "execution_count": 342,
   "id": "1ed6f1d1",
   "metadata": {
    "id": "1ed6f1d1"
   },
   "outputs": [],
   "source": [
    "# Common ways to improve a deep model:\n",
    "# Adding layers\n",
    "# Increase the number of hidden units\n",
    "# Change the activation functions\n",
    "# Change the optimization function\n",
    "# Change the learning rate\n",
    "# Fitting on more data\n",
    "# Fitting for longer (more epochs)"
   ]
  },
  {
   "cell_type": "markdown",
   "id": "b32d03e2",
   "metadata": {
    "id": "b32d03e2"
   },
   "source": [
    "# Evaluting a model\n",
    "\n",
    "**In practice, a typical workflow you'll go through when building neural netwroks:**\n",
    "\n",
    "**Build a model -> fit it -> evaluate it -> tweak a model->\n",
    "fit it -> evaluate it -> tweak a model ->\n",
    "fit it -> evaluate it ...**"
   ]
  },
  {
   "cell_type": "markdown",
   "id": "ad938106",
   "metadata": {
    "id": "ad938106"
   },
   "source": [
    "When it comes to evaluation.. there are 3 words you should memorize:\n",
    "\n",
    "**Visualize, visualize, visualize**\n",
    "\n",
    "**It's good idea to visualize:**\n",
    "\n",
    "**The data**\n",
    "\n",
    "**The model itself**\n",
    "\n",
    "**The training of a model - how does a model perform while it learns?**\n",
    "\n",
    "**The predictions of the modle**"
   ]
  },
  {
   "cell_type": "code",
   "execution_count": 343,
   "id": "a1626f6a",
   "metadata": {
    "colab": {
     "base_uri": "https://localhost:8080/"
    },
    "id": "a1626f6a",
    "outputId": "b7f4b051-385e-4ba7-fe73-496c39f6c50b"
   },
   "outputs": [
    {
     "data": {
      "text/plain": [
       "<tf.Tensor: shape=(50,), dtype=int32, numpy=\n",
       "array([-100,  -96,  -92,  -88,  -84,  -80,  -76,  -72,  -68,  -64,  -60,\n",
       "        -56,  -52,  -48,  -44,  -40,  -36,  -32,  -28,  -24,  -20,  -16,\n",
       "        -12,   -8,   -4,    0,    4,    8,   12,   16,   20,   24,   28,\n",
       "         32,   36,   40,   44,   48,   52,   56,   60,   64,   68,   72,\n",
       "         76,   80,   84,   88,   92,   96], dtype=int32)>"
      ]
     },
     "execution_count": 343,
     "metadata": {},
     "output_type": "execute_result"
    }
   ],
   "source": [
    "# Make a bigger dataset\n",
    "X = tf.range(-100, 100, 4)\n",
    "X"
   ]
  },
  {
   "cell_type": "code",
   "execution_count": 344,
   "id": "03ab6f6e",
   "metadata": {
    "colab": {
     "base_uri": "https://localhost:8080/"
    },
    "id": "03ab6f6e",
    "outputId": "9a85f05a-5731-4631-b365-1b62fc773f78"
   },
   "outputs": [
    {
     "data": {
      "text/plain": [
       "<tf.Tensor: shape=(50,), dtype=int32, numpy=\n",
       "array([-90, -86, -82, -78, -74, -70, -66, -62, -58, -54, -50, -46, -42,\n",
       "       -38, -34, -30, -26, -22, -18, -14, -10,  -6,  -2,   2,   6,  10,\n",
       "        14,  18,  22,  26,  30,  34,  38,  42,  46,  50,  54,  58,  62,\n",
       "        66,  70,  74,  78,  82,  86,  90,  94,  98, 102, 106], dtype=int32)>"
      ]
     },
     "execution_count": 344,
     "metadata": {},
     "output_type": "execute_result"
    }
   ],
   "source": [
    "# Make labels for the dataset\n",
    "y = X + 10\n",
    "y"
   ]
  },
  {
   "cell_type": "code",
   "execution_count": 345,
   "id": "c4781120",
   "metadata": {
    "colab": {
     "base_uri": "https://localhost:8080/",
     "height": 447
    },
    "id": "c4781120",
    "outputId": "e44e508c-bbe3-44ec-c5f7-9aba5fe652dd"
   },
   "outputs": [
    {
     "data": {
      "text/plain": [
       "<matplotlib.collections.PathCollection at 0x7f97b24f8b10>"
      ]
     },
     "execution_count": 345,
     "metadata": {},
     "output_type": "execute_result"
    },
    {
     "data": {
      "image/png": "[encoded data removed]",
      "text/plain": [
       "<Figure size 640x480 with 1 Axes>"
      ]
     },
     "metadata": {},
     "output_type": "display_data"
    }
   ],
   "source": [
    "# Visualize the data\n",
    "import matplotlib.pyplot as plt\n",
    "\n",
    "plt.scatter(X, y)"
   ]
  },
  {
   "cell_type": "markdown",
   "id": "b9a47140",
   "metadata": {
    "id": "b9a47140"
   },
   "source": [
    "# The 3 sets...\n",
    "* **Training set** - the model learns from this data, which is typically 70-80% of the total data you have available.\n",
    "* **Validation set** - the model gets tuned on this data, which is typically 10-15% of the data available.\n",
    "* **Test set** - the model gets evaluated on this data to test what is has learned, this set is typically 10-15% of the total data availale."
   ]
  },
  {
   "cell_type": "markdown",
   "id": "7467526e",
   "metadata": {
    "id": "7467526e"
   },
   "source": [
    "**Generalization** = The ability for a machine learning model to perform well on data it hasn't seen before"
   ]
  },
  {
   "cell_type": "code",
   "execution_count": 346,
   "id": "6898740d",
   "metadata": {
    "colab": {
     "base_uri": "https://localhost:8080/"
    },
    "id": "6898740d",
    "outputId": "23042a21-26bc-4280-e4e3-ebf5a5ec33d2"
   },
   "outputs": [
    {
     "data": {
      "text/plain": [
       "50"
      ]
     },
     "execution_count": 346,
     "metadata": {},
     "output_type": "execute_result"
    }
   ],
   "source": [
    "# Check the length of how many samples we have\n",
    "len(X)"
   ]
  },
  {
   "cell_type": "code",
   "execution_count": 347,
   "id": "4f74ab91",
   "metadata": {
    "colab": {
     "base_uri": "https://localhost:8080/"
    },
    "id": "4f74ab91",
    "outputId": "98356d17-3a4a-4848-dda4-215d8c4523c0"
   },
   "outputs": [
    {
     "data": {
      "text/plain": [
       "(40, 40, 10, 10)"
      ]
     },
     "execution_count": 347,
     "metadata": {},
     "output_type": "execute_result"
    }
   ],
   "source": [
    "# Split the data into train and test sets\n",
    "X_train = X[:40]  # first 40 are training samples (80%)\n",
    "y_train = y[:40]\n",
    "\n",
    "X_test = X[40:]  # last 10 are testing samples (20%)\n",
    "y_test = y[40:]\n",
    "\n",
    "len(X_train), len(y_train), len(X_test), len(y_test)"
   ]
  },
  {
   "cell_type": "markdown",
   "id": "b9d488ad",
   "metadata": {
    "id": "b9d488ad"
   },
   "source": [
    "### Visualizing the data\n",
    "Now we've got our data in training and test sets... let's visualize it again!"
   ]
  },
  {
   "cell_type": "code",
   "execution_count": 348,
   "id": "a7058c93",
   "metadata": {
    "colab": {
     "base_uri": "https://localhost:8080/",
     "height": 456
    },
    "id": "a7058c93",
    "outputId": "6cb6ebba-2a68-43aa-faf3-52d997bce9f6"
   },
   "outputs": [
    {
     "data": {
      "image/png": "[encoded data removed]",
      "text/plain": [
       "<Figure size 1000x700 with 1 Axes>"
      ]
     },
     "metadata": {},
     "output_type": "display_data"
    }
   ],
   "source": [
    "plt.figure(figsize=(10, 7))\n",
    "# Plot training data in blue\n",
    "plt.scatter(X_train, y_train, c='b', label='Training data')\n",
    "# Plot test data in green\n",
    "plt.scatter(X_test, y_test, c='g', label='Testing data')\n",
    "# Show the legend\n",
    "plt.legend();"
   ]
  },
  {
   "cell_type": "code",
   "execution_count": 349,
   "id": "6750c43a",
   "metadata": {
    "id": "6750c43a"
   },
   "outputs": [],
   "source": [
    "# # Let's have a look at how to build a neural network for our data\n",
    "\n",
    "# # 1. Create a model\n",
    "# model = tf.keras.Sequential([\n",
    "#     tf.keras.layers.Dense(1, input_shape)\n",
    "# ])\n",
    "\n",
    "# # 2.Compile the model\n",
    "# model.compile(loss=tf.keras.losses.mae,\n",
    "#              optimizer=tf.keras.optimizers.SGD(),\n",
    "#              metrics=\"mae\")\n",
    "\n",
    "# # 3. Fit the model\n",
    "# model.fit(X_train, y_train, epochs=100)"
   ]
  },
  {
   "cell_type": "code",
   "execution_count": 350,
   "id": "c67d5f2b",
   "metadata": {
    "id": "c67d5f2b"
   },
   "outputs": [],
   "source": [
    "def reset_model():\n",
    "    # Clear the prevous session\n",
    "    tf.keras.backend.clear_session()"
   ]
  },
  {
   "cell_type": "markdown",
   "id": "47613636",
   "metadata": {
    "id": "47613636"
   },
   "source": [
    "# Visualizing"
   ]
  },
  {
   "cell_type": "code",
   "execution_count": 281,
   "id": "ccd8f92d",
   "metadata": {
    "id": "ccd8f92d"
   },
   "outputs": [],
   "source": [
    "reset_model()"
   ]
  },
  {
   "cell_type": "code",
   "execution_count": 389,
   "id": "456e8448",
   "metadata": {
    "id": "456e8448"
   },
   "outputs": [
    {
     "data": {
      "text/html": [
       "Finishing last run (ID:zp9gmcd2) before initializing another..."
      ],
      "text/plain": [
       "<IPython.core.display.HTML object>"
      ]
     },
     "metadata": {},
     "output_type": "display_data"
    },
    {
     "data": {
      "application/vnd.jupyter.widget-view+json": {
       "model_id": "",
       "version_major": 2,
       "version_minor": 0
      },
      "text/plain": [
       "VBox(children=(Label(value='0.002 MB of 0.002 MB uploaded\\r'), FloatProgress(value=1.0, max=1.0)))"
      ]
     },
     "metadata": {},
     "output_type": "display_data"
    },
    {
     "data": {
      "text/html": [
       "<style>\n",
       "    table.wandb td:nth-child(1) { padding: 0 10px; text-align: left ; width: auto;} td:nth-child(2) {text-align: left ; width: 100%}\n",
       "    .wandb-row { display: flex; flex-direction: row; flex-wrap: wrap; justify-content: flex-start; width: 100% }\n",
       "    .wandb-col { display: flex; flex-direction: column; flex-basis: 100%; flex: 1; padding: 10px; }\n",
       "    </style>\n",
       "<div class=\"wandb-row\"><div class=\"wandb-col\"><h3>Run history:</h3><br/><table class=\"wandb\"><tr><td>epoch</td><td>▁▁▁▁▂▂▂▂▂▃▃▃▃▃▃▄▄▄▄▄▅▅▅▅▅▅▆▆▆▆▆▇▇▇▇▇▇███</td></tr><tr><td>loss</td><td>▂▂▁▁▁▂▁▁▁▁▂▂█▁▂▁▁▂▁▁▁▄▁▁▁▁▁▁▁▁▁▂▁▁▁▁▁▁▁▁</td></tr><tr><td>mae</td><td>▂▂▁▁▁▂▁▁▁▁▂▂█▁▂▁▁▂▁▁▁▄▁▁▁▁▁▁▁▁▁▂▁▁▁▁▁▁▁▁</td></tr></table><br/></div><div class=\"wandb-col\"><h3>Run summary:</h3><br/><table class=\"wandb\"><tr><td>epoch</td><td>99</td></tr><tr><td>loss</td><td>40.76685</td></tr><tr><td>mae</td><td>40.76685</td></tr></table><br/></div></div>"
      ],
      "text/plain": [
       "<IPython.core.display.HTML object>"
      ]
     },
     "metadata": {},
     "output_type": "display_data"
    },
    {
     "data": {
      "text/html": [
       " View run <strong style=\"color:#cdcd00\">experiment_with_Dense1_mae_SGD</strong> at: <a href='https://wandb.ai/frackowiak_kajetan/regression_fundamentals/runs/zp9gmcd2' target=\"_blank\">https://wandb.ai/frackowiak_kajetan/regression_fundamentals/runs/zp9gmcd2</a><br/> View job at <a href='https://wandb.ai/frackowiak_kajetan/regression_fundamentals/jobs/QXJ0aWZhY3RDb2xsZWN0aW9uOjEyMzk2MDE5NQ==/version_details/v2' target=\"_blank\">https://wandb.ai/frackowiak_kajetan/regression_fundamentals/jobs/QXJ0aWZhY3RDb2xsZWN0aW9uOjEyMzk2MDE5NQ==/version_details/v2</a><br/>Synced 6 W&B file(s), 1 media file(s), 0 artifact file(s) and 0 other file(s)"
      ],
      "text/plain": [
       "<IPython.core.display.HTML object>"
      ]
     },
     "metadata": {},
     "output_type": "display_data"
    },
    {
     "data": {
      "text/html": [
       "Find logs at: <code>./wandb/run-20231216_103616-zp9gmcd2/logs</code>"
      ],
      "text/plain": [
       "<IPython.core.display.HTML object>"
      ]
     },
     "metadata": {},
     "output_type": "display_data"
    },
    {
     "data": {
      "text/html": [
       "Successfully finished last run (ID:zp9gmcd2). Initializing new run:<br/>"
      ],
      "text/plain": [
       "<IPython.core.display.HTML object>"
      ]
     },
     "metadata": {},
     "output_type": "display_data"
    },
    {
     "data": {
      "application/vnd.jupyter.widget-view+json": {
       "model_id": "a422cd60e95245b18776da9b86e9adba",
       "version_major": 2,
       "version_minor": 0
      },
      "text/plain": [
       "VBox(children=(Label(value='Waiting for wandb.init()...\\r'), FloatProgress(value=0.011112515833317755, max=1.0…"
      ]
     },
     "metadata": {},
     "output_type": "display_data"
    },
    {
     "data": {
      "text/html": [
       "wandb version 0.16.1 is available!  To upgrade, please run:\n",
       " $ pip install wandb --upgrade"
      ],
      "text/plain": [
       "<IPython.core.display.HTML object>"
      ]
     },
     "metadata": {},
     "output_type": "display_data"
    },
    {
     "data": {
      "text/html": [
       "Tracking run with wandb version 0.16.0"
      ],
      "text/plain": [
       "<IPython.core.display.HTML object>"
      ]
     },
     "metadata": {},
     "output_type": "display_data"
    },
    {
     "data": {
      "text/html": [
       "Run data is saved locally in <code>/home/kajetan/tensorflow_fundamentals/wandb/run-20231216_103634-9a7o67s4</code>"
      ],
      "text/plain": [
       "<IPython.core.display.HTML object>"
      ]
     },
     "metadata": {},
     "output_type": "display_data"
    },
    {
     "data": {
      "text/html": [
       "Syncing run <strong><a href='https://wandb.ai/frackowiak_kajetan/regression_fundamentals/runs/9a7o67s4' target=\"_blank\">Dense10,1_mae_SGD</a></strong> to <a href='https://wandb.ai/frackowiak_kajetan/regression_fundamentals' target=\"_blank\">Weights & Biases</a> (<a href='https://wandb.me/run' target=\"_blank\">docs</a>)<br/>"
      ],
      "text/plain": [
       "<IPython.core.display.HTML object>"
      ]
     },
     "metadata": {},
     "output_type": "display_data"
    },
    {
     "data": {
      "text/html": [
       " View project at <a href='https://wandb.ai/frackowiak_kajetan/regression_fundamentals' target=\"_blank\">https://wandb.ai/frackowiak_kajetan/regression_fundamentals</a>"
      ],
      "text/plain": [
       "<IPython.core.display.HTML object>"
      ]
     },
     "metadata": {},
     "output_type": "display_data"
    },
    {
     "data": {
      "text/html": [
       " View run at <a href='https://wandb.ai/frackowiak_kajetan/regression_fundamentals/runs/9a7o67s4' target=\"_blank\">https://wandb.ai/frackowiak_kajetan/regression_fundamentals/runs/9a7o67s4</a>"
      ],
      "text/plain": [
       "<IPython.core.display.HTML object>"
      ]
     },
     "metadata": {},
     "output_type": "display_data"
    }
   ],
   "source": [
    "# Let's create a model which builds automatically by defining the input_shape arguent in the first layer\n",
    "tf.random.set_seed(42)\n",
    "\n",
    "# 1. Create a model (same as above)\n",
    "initialize_wandb(project_name=\"regression_fundamentals\", run_name=\"Dense10,1_mae_SGD\")\n",
    "model = tf.keras.Sequential([\n",
    "    tf.keras.layers.Dense(10, input_shape=[1], name=\"input_layer\"),\n",
    "    tf.keras.layers.Dense(1, name=\"output_layer\")\n",
    "], name=\"model_1\")\n",
    "\n",
    "# 2.Compile the model\n",
    "model.compile(loss=tf.keras.losses.mae,\n",
    "             optimizer=tf.keras.optimizers.SGD(),\n",
    "             metrics=[\"mae\"])"
   ]
  },
  {
   "cell_type": "code",
   "execution_count": 283,
   "id": "09cd5cba",
   "metadata": {
    "colab": {
     "base_uri": "https://localhost:8080/"
    },
    "id": "09cd5cba",
    "outputId": "668896eb-6732-4a84-b4c2-042b063a3c00"
   },
   "outputs": [
    {
     "name": "stdout",
     "output_type": "stream",
     "text": [
      "Model: \"model_1\"\n",
      "_________________________________________________________________\n",
      " Layer (type)                Output Shape              Param #   \n",
      "=================================================================\n",
      " input_layer (Dense)         (None, 10)                20        \n",
      "                                                                 \n",
      " output_layer (Dense)        (None, 1)                 11        \n",
      "                                                                 \n",
      "=================================================================\n",
      "Total params: 31 (124.00 Byte)\n",
      "Trainable params: 31 (124.00 Byte)\n",
      "Non-trainable params: 0 (0.00 Byte)\n",
      "_________________________________________________________________\n"
     ]
    }
   ],
   "source": [
    "model.summary()"
   ]
  },
  {
   "cell_type": "markdown",
   "id": "de8f61ff",
   "metadata": {
    "id": "de8f61ff"
   },
   "source": [
    "* Total params - total number of parameters in the model.\n",
    "* Trainable parameters - these are the parameters (patterns) the model can update as it trains.\n",
    "* Non-trainable params - these parameters aren't updated during training (this is typical when you bring in already learn patterns or parameters from other models during **transfer learning**).\n",
    "\n",
    "**Resource:** For a more in-depth overview of the trainable parameters whithin a layer, check out MIT's introduction to deep learning video.\n",
    "\n",
    "**Exercise:** Try playing around with the number ofidden units in the dense layer, see how that effects the number of parameters (total and trainable) by calling model.summar()."
   ]
  },
  {
   "cell_type": "markdown",
   "id": "8d22ac38",
   "metadata": {
    "id": "8d22ac38"
   },
   "source": [
    " ### Let's fit our model to the training data"
   ]
  },
  {
   "cell_type": "code",
   "execution_count": 354,
   "id": "4ca671f3",
   "metadata": {
    "colab": {
     "base_uri": "https://localhost:8080/"
    },
    "id": "4ca671f3",
    "outputId": "e846a5c8-f101-4793-8bd6-56abeaa006b8"
   },
   "outputs": [
    {
     "name": "stdout",
     "output_type": "stream",
     "text": [
      "Epoch 1/100\n",
      "2/2 [==============================] - 0s 7ms/step - loss: 29.4347 - mae: 29.4347\n",
      "Epoch 2/100\n",
      "2/2 [==============================] - 0s 3ms/step - loss: 25.7765 - mae: 25.7765\n",
      "Epoch 3/100\n",
      "2/2 [==============================] - 0s 3ms/step - loss: 31.6437 - mae: 31.6437\n",
      "Epoch 4/100\n",
      "2/2 [==============================] - 0s 3ms/step - loss: 24.3638 - mae: 24.3638\n",
      "Epoch 5/100\n",
      "1/2 [==============>...............] - ETA: 0s - loss: 13.3233 - mae: 13.3233WARNING:tensorflow:Callback method `on_train_batch_end` is slow compared to the batch time (batch time: 0.0009s vs `on_train_batch_end` time: 0.0009s). Check your callbacks.\n",
      "2/2 [==============================] - 0s 4ms/step - loss: 14.4691 - mae: 14.4691\n",
      "Epoch 6/100\n",
      "2/2 [==============================] - 0s 3ms/step - loss: 11.5383 - mae: 11.5383\n",
      "Epoch 7/100\n",
      "2/2 [==============================] - 0s 4ms/step - loss: 12.5781 - mae: 12.5781\n",
      "Epoch 8/100\n",
      "2/2 [==============================] - 0s 3ms/step - loss: 11.0038 - mae: 11.0038\n",
      "Epoch 9/100\n",
      "2/2 [==============================] - 0s 3ms/step - loss: 39.3145 - mae: 39.3145\n",
      "Epoch 10/100\n",
      "2/2 [==============================] - 0s 3ms/step - loss: 26.8548 - mae: 26.8548\n",
      "Epoch 11/100\n",
      "2/2 [==============================] - 0s 3ms/step - loss: 11.0434 - mae: 11.0434\n",
      "Epoch 12/100\n",
      "2/2 [==============================] - 0s 3ms/step - loss: 24.5172 - mae: 24.5172\n",
      "Epoch 13/100\n",
      "2/2 [==============================] - 0s 4ms/step - loss: 19.0778 - mae: 19.0778\n",
      "Epoch 14/100\n",
      "2/2 [==============================] - 0s 3ms/step - loss: 23.2299 - mae: 23.2299\n",
      "Epoch 15/100\n",
      "2/2 [==============================] - 0s 3ms/step - loss: 15.1188 - mae: 15.1188\n",
      "Epoch 16/100\n",
      "2/2 [==============================] - 0s 3ms/step - loss: 11.2937 - mae: 11.2937\n",
      "Epoch 17/100\n",
      "2/2 [==============================] - 0s 3ms/step - loss: 22.9783 - mae: 22.9783\n",
      "Epoch 18/100\n",
      "2/2 [==============================] - 0s 3ms/step - loss: 11.3385 - mae: 11.3385\n",
      "Epoch 19/100\n",
      "2/2 [==============================] - 0s 3ms/step - loss: 13.9029 - mae: 13.9029\n",
      "Epoch 20/100\n",
      "2/2 [==============================] - 0s 3ms/step - loss: 11.1845 - mae: 11.1845\n",
      "Epoch 21/100\n",
      "2/2 [==============================] - 0s 3ms/step - loss: 17.2162 - mae: 17.2162\n",
      "Epoch 22/100\n",
      "2/2 [==============================] - 0s 3ms/step - loss: 15.4532 - mae: 15.4532\n",
      "Epoch 23/100\n",
      "2/2 [==============================] - 0s 3ms/step - loss: 9.2461 - mae: 9.2461\n",
      "Epoch 24/100\n",
      "2/2 [==============================] - 0s 3ms/step - loss: 17.2925 - mae: 17.2925\n",
      "Epoch 25/100\n",
      "2/2 [==============================] - 0s 3ms/step - loss: 15.9591 - mae: 15.9591\n",
      "Epoch 26/100\n",
      "2/2 [==============================] - 0s 3ms/step - loss: 20.9780 - mae: 20.9780\n",
      "Epoch 27/100\n",
      "2/2 [==============================] - 0s 3ms/step - loss: 25.8587 - mae: 25.8587\n",
      "Epoch 28/100\n",
      "2/2 [==============================] - 0s 4ms/step - loss: 18.3703 - mae: 18.3703\n",
      "Epoch 29/100\n",
      "2/2 [==============================] - 0s 3ms/step - loss: 9.2421 - mae: 9.2421\n",
      "Epoch 30/100\n",
      "2/2 [==============================] - 0s 3ms/step - loss: 28.9765 - mae: 28.9765\n",
      "Epoch 31/100\n",
      "2/2 [==============================] - 0s 3ms/step - loss: 52.4700 - mae: 52.4700\n",
      "Epoch 32/100\n",
      "2/2 [==============================] - 0s 3ms/step - loss: 11.8850 - mae: 11.8850\n",
      "Epoch 33/100\n",
      "2/2 [==============================] - 0s 3ms/step - loss: 15.4470 - mae: 15.4470\n",
      "Epoch 34/100\n",
      "2/2 [==============================] - 0s 3ms/step - loss: 12.5618 - mae: 12.5618\n",
      "Epoch 35/100\n",
      "2/2 [==============================] - 0s 3ms/step - loss: 9.1814 - mae: 9.1814\n",
      "Epoch 36/100\n",
      "2/2 [==============================] - 0s 4ms/step - loss: 16.4109 - mae: 16.4109\n",
      "Epoch 37/100\n",
      "2/2 [==============================] - 0s 3ms/step - loss: 11.1046 - mae: 11.1046\n",
      "Epoch 38/100\n",
      "2/2 [==============================] - 0s 6ms/step - loss: 18.2361 - mae: 18.2361\n",
      "Epoch 39/100\n",
      "2/2 [==============================] - 0s 3ms/step - loss: 19.1661 - mae: 19.1661\n",
      "Epoch 40/100\n",
      "2/2 [==============================] - 0s 4ms/step - loss: 20.5507 - mae: 20.5507\n",
      "Epoch 41/100\n",
      "2/2 [==============================] - 0s 3ms/step - loss: 14.7625 - mae: 14.7625\n",
      "Epoch 42/100\n",
      "2/2 [==============================] - 0s 3ms/step - loss: 12.1689 - mae: 12.1689\n",
      "Epoch 43/100\n",
      "2/2 [==============================] - 0s 3ms/step - loss: 10.6813 - mae: 10.6813\n",
      "Epoch 44/100\n",
      "2/2 [==============================] - 0s 3ms/step - loss: 32.1457 - mae: 32.1457\n",
      "Epoch 45/100\n",
      "2/2 [==============================] - 0s 3ms/step - loss: 12.4358 - mae: 12.4358\n",
      "Epoch 46/100\n",
      "2/2 [==============================] - 0s 5ms/step - loss: 17.4196 - mae: 17.4196\n",
      "Epoch 47/100\n",
      "2/2 [==============================] - 0s 4ms/step - loss: 15.7926 - mae: 15.7926\n",
      "Epoch 48/100\n",
      "2/2 [==============================] - 0s 4ms/step - loss: 8.3980 - mae: 8.3980\n",
      "Epoch 49/100\n",
      "2/2 [==============================] - 0s 3ms/step - loss: 14.2511 - mae: 14.2511\n",
      "Epoch 50/100\n",
      "2/2 [==============================] - 0s 3ms/step - loss: 15.1822 - mae: 15.1822\n",
      "Epoch 51/100\n",
      "2/2 [==============================] - 0s 5ms/step - loss: 13.6959 - mae: 13.6959\n",
      "Epoch 52/100\n",
      "2/2 [==============================] - 0s 3ms/step - loss: 18.1104 - mae: 18.1104\n",
      "Epoch 53/100\n",
      "2/2 [==============================] - 0s 3ms/step - loss: 22.7764 - mae: 22.7764\n",
      "Epoch 54/100\n",
      "2/2 [==============================] - 0s 4ms/step - loss: 26.7894 - mae: 26.7894\n",
      "Epoch 55/100\n",
      "2/2 [==============================] - 0s 3ms/step - loss: 26.4215 - mae: 26.4215\n",
      "Epoch 56/100\n",
      "2/2 [==============================] - 0s 5ms/step - loss: 11.3552 - mae: 11.3552\n",
      "Epoch 57/100\n",
      "2/2 [==============================] - 0s 7ms/step - loss: 13.3754 - mae: 13.3754\n",
      "Epoch 58/100\n",
      "2/2 [==============================] - 0s 3ms/step - loss: 9.9573 - mae: 9.9573\n",
      "Epoch 59/100\n",
      "2/2 [==============================] - 0s 4ms/step - loss: 13.9256 - mae: 13.9256\n",
      "Epoch 60/100\n",
      "2/2 [==============================] - 0s 3ms/step - loss: 9.9980 - mae: 9.9980\n",
      "Epoch 61/100\n",
      "2/2 [==============================] - 0s 4ms/step - loss: 14.9777 - mae: 14.9777\n",
      "Epoch 62/100\n",
      "2/2 [==============================] - 0s 4ms/step - loss: 11.9313 - mae: 11.9313\n",
      "Epoch 63/100\n",
      "2/2 [==============================] - 0s 3ms/step - loss: 10.2917 - mae: 10.2917\n",
      "Epoch 64/100\n",
      "2/2 [==============================] - 0s 3ms/step - loss: 23.8828 - mae: 23.8828\n",
      "Epoch 65/100\n",
      "2/2 [==============================] - 0s 3ms/step - loss: 10.4673 - mae: 10.4673\n",
      "Epoch 66/100\n",
      "2/2 [==============================] - 0s 4ms/step - loss: 20.9258 - mae: 20.9258\n",
      "Epoch 67/100\n",
      "2/2 [==============================] - 0s 3ms/step - loss: 10.4431 - mae: 10.4431\n",
      "Epoch 68/100\n",
      "2/2 [==============================] - 0s 3ms/step - loss: 14.1691 - mae: 14.1691\n",
      "Epoch 69/100\n",
      "2/2 [==============================] - 0s 3ms/step - loss: 10.5113 - mae: 10.5113\n",
      "Epoch 70/100\n",
      "2/2 [==============================] - 0s 3ms/step - loss: 12.5810 - mae: 12.5810\n",
      "Epoch 71/100\n",
      "2/2 [==============================] - 0s 4ms/step - loss: 13.0089 - mae: 13.0089\n",
      "Epoch 72/100\n",
      "2/2 [==============================] - 0s 3ms/step - loss: 19.3364 - mae: 19.3364\n",
      "Epoch 73/100\n",
      "2/2 [==============================] - 0s 3ms/step - loss: 11.1258 - mae: 11.1258\n",
      "Epoch 74/100\n",
      "2/2 [==============================] - 0s 3ms/step - loss: 21.4139 - mae: 21.4139\n",
      "Epoch 75/100\n",
      "2/2 [==============================] - 0s 3ms/step - loss: 9.4531 - mae: 9.4531\n",
      "Epoch 76/100\n",
      "2/2 [==============================] - 0s 4ms/step - loss: 12.2737 - mae: 12.2737\n",
      "Epoch 77/100\n",
      "2/2 [==============================] - 0s 3ms/step - loss: 16.2921 - mae: 16.2921\n",
      "Epoch 78/100\n",
      "2/2 [==============================] - 0s 4ms/step - loss: 9.0078 - mae: 9.0078\n",
      "Epoch 79/100\n",
      "2/2 [==============================] - 0s 3ms/step - loss: 23.5282 - mae: 23.5282\n",
      "Epoch 80/100\n",
      "2/2 [==============================] - 0s 3ms/step - loss: 26.2159 - mae: 26.2159\n",
      "Epoch 81/100\n",
      "2/2 [==============================] - 0s 3ms/step - loss: 11.4212 - mae: 11.4212\n",
      "Epoch 82/100\n",
      "2/2 [==============================] - 0s 3ms/step - loss: 12.4583 - mae: 12.4583\n",
      "Epoch 83/100\n",
      "2/2 [==============================] - 0s 3ms/step - loss: 17.1306 - mae: 17.1306\n",
      "Epoch 84/100\n",
      "2/2 [==============================] - 0s 3ms/step - loss: 6.5619 - mae: 6.5619\n",
      "Epoch 85/100\n",
      "2/2 [==============================] - 0s 3ms/step - loss: 20.3945 - mae: 20.3945\n",
      "Epoch 86/100\n",
      "2/2 [==============================] - 0s 3ms/step - loss: 10.1697 - mae: 10.1697\n",
      "Epoch 87/100\n",
      "2/2 [==============================] - 0s 3ms/step - loss: 24.4536 - mae: 24.4536\n",
      "Epoch 88/100\n",
      "2/2 [==============================] - 0s 5ms/step - loss: 19.1140 - mae: 19.1140\n",
      "Epoch 89/100\n",
      "2/2 [==============================] - 0s 4ms/step - loss: 7.1481 - mae: 7.1481\n",
      "Epoch 90/100\n",
      "2/2 [==============================] - 0s 4ms/step - loss: 18.2132 - mae: 18.2132\n",
      "Epoch 91/100\n",
      "2/2 [==============================] - 0s 3ms/step - loss: 13.2618 - mae: 13.2618\n",
      "Epoch 92/100\n",
      "2/2 [==============================] - 0s 4ms/step - loss: 14.7974 - mae: 14.7974\n",
      "Epoch 93/100\n",
      "2/2 [==============================] - 0s 3ms/step - loss: 11.6017 - mae: 11.6017\n",
      "Epoch 94/100\n",
      "2/2 [==============================] - 0s 4ms/step - loss: 16.1571 - mae: 16.1571\n",
      "Epoch 95/100\n",
      "2/2 [==============================] - 0s 3ms/step - loss: 15.4989 - mae: 15.4989\n",
      "Epoch 96/100\n",
      "2/2 [==============================] - 0s 4ms/step - loss: 15.0258 - mae: 15.0258\n",
      "Epoch 97/100\n",
      "2/2 [==============================] - 0s 3ms/step - loss: 10.8581 - mae: 10.8581\n",
      "Epoch 98/100\n",
      "2/2 [==============================] - 0s 3ms/step - loss: 14.3156 - mae: 14.3156\n",
      "Epoch 99/100\n",
      "2/2 [==============================] - 0s 4ms/step - loss: 13.3467 - mae: 13.3467\n",
      "Epoch 100/100\n",
      "2/2 [==============================] - 0s 3ms/step - loss: 19.9353 - mae: 19.9353\n"
     ]
    },
    {
     "data": {
      "text/plain": [
       "<keras.src.callbacks.History at 0x7f976c13dd90>"
      ]
     },
     "execution_count": 354,
     "metadata": {},
     "output_type": "execute_result"
    }
   ],
   "source": [
    " model.fit(X_train, y_train, epochs=100, verbose=1, callbacks=[WandbCallback()])"
   ]
  },
  {
   "cell_type": "code",
   "execution_count": 355,
   "id": "5656911d",
   "metadata": {
    "colab": {
     "base_uri": "https://localhost:8080/"
    },
    "id": "5656911d",
    "outputId": "19634158-527f-47d6-bee4-3cbfbbc378ae"
   },
   "outputs": [
    {
     "name": "stdout",
     "output_type": "stream",
     "text": [
      "Model: \"model_1\"\n",
      "_________________________________________________________________\n",
      " Layer (type)                Output Shape              Param #   \n",
      "=================================================================\n",
      " input_layer (Dense)         (None, 10)                20        \n",
      "                                                                 \n",
      " output_layer (Dense)        (None, 1)                 11        \n",
      "                                                                 \n",
      "=================================================================\n",
      "Total params: 31 (124.00 Byte)\n",
      "Trainable params: 31 (124.00 Byte)\n",
      "Non-trainable params: 0 (0.00 Byte)\n",
      "_________________________________________________________________\n"
     ]
    }
   ],
   "source": [
    "model.summary()"
   ]
  },
  {
   "cell_type": "code",
   "execution_count": 356,
   "id": "497c80ff",
   "metadata": {
    "colab": {
     "base_uri": "https://localhost:8080/",
     "height": 312
    },
    "id": "497c80ff",
    "outputId": "49806134-39a5-4f59-d939-be356c9cf0e1"
   },
   "outputs": [
    {
     "data": {
      "image/png": "[encoded data removed]",
      "text/plain": [
       "<IPython.core.display.Image object>"
      ]
     },
     "execution_count": 356,
     "metadata": {},
     "output_type": "execute_result"
    }
   ],
   "source": [
    "from tensorflow.keras.utils import plot_model\n",
    "\n",
    "# Plot the model\n",
    "plot_model(model=model, show_shapes=True)"
   ]
  },
  {
   "cell_type": "code",
   "execution_count": 357,
   "id": "45c2d7cd",
   "metadata": {
    "colab": {
     "base_uri": "https://localhost:8080/"
    },
    "id": "45c2d7cd",
    "outputId": "e8ae9bde-4412-45c4-df18-9c483620ac96"
   },
   "outputs": [
    {
     "name": "stdout",
     "output_type": "stream",
     "text": [
      "Model: \"model_1\"\n",
      "_________________________________________________________________\n",
      " Layer (type)                Output Shape              Param #   \n",
      "=================================================================\n",
      " input_layer (Dense)         (None, 10)                20        \n",
      "                                                                 \n",
      " output_layer (Dense)        (None, 1)                 11        \n",
      "                                                                 \n",
      "=================================================================\n",
      "Total params: 31 (124.00 Byte)\n",
      "Trainable params: 31 (124.00 Byte)\n",
      "Non-trainable params: 0 (0.00 Byte)\n",
      "_________________________________________________________________\n"
     ]
    }
   ],
   "source": [
    "model.summary()"
   ]
  },
  {
   "cell_type": "markdown",
   "id": "ccaa5248",
   "metadata": {
    "id": "ccaa5248"
   },
   "source": [
    "### Visualizing our model predictions\n",
    "To visualize predictions, it's a good idea to plot them against the groud truth labels.\n",
    "\n",
    "Often you'll see this in the form of y_test or y_true versus y_pred"
   ]
  },
  {
   "cell_type": "code",
   "execution_count": 358,
   "id": "dceb00cd",
   "metadata": {
    "colab": {
     "base_uri": "https://localhost:8080/"
    },
    "id": "dceb00cd",
    "outputId": "a70e8f74-79aa-4838-c047-cfbbeaafefbf"
   },
   "outputs": [
    {
     "name": "stdout",
     "output_type": "stream",
     "text": [
      "1/1 [==============================] - 0s 34ms/step\n"
     ]
    },
    {
     "data": {
      "text/plain": [
       "array([[ 91.2572  ],\n",
       "       [ 97.21643 ],\n",
       "       [103.175644],\n",
       "       [109.134865],\n",
       "       [115.09408 ],\n",
       "       [121.05328 ],\n",
       "       [127.01251 ],\n",
       "       [132.97173 ],\n",
       "       [138.93094 ],\n",
       "       [144.89015 ]], dtype=float32)"
      ]
     },
     "execution_count": 358,
     "metadata": {},
     "output_type": "execute_result"
    }
   ],
   "source": [
    "# MAke some predicitons\n",
    "y_pred = model.predict(X_test)\n",
    "y_pred"
   ]
  },
  {
   "cell_type": "code",
   "execution_count": 359,
   "id": "97ffdc90",
   "metadata": {
    "colab": {
     "base_uri": "https://localhost:8080/"
    },
    "id": "97ffdc90",
    "outputId": "7e49354a-c9fc-40b6-f75a-fcd41f70a10b"
   },
   "outputs": [
    {
     "data": {
      "text/plain": [
       "<tf.Tensor: shape=(10,), dtype=int32, numpy=array([ 70,  74,  78,  82,  86,  90,  94,  98, 102, 106], dtype=int32)>"
      ]
     },
     "execution_count": 359,
     "metadata": {},
     "output_type": "execute_result"
    }
   ],
   "source": [
    "y_test"
   ]
  },
  {
   "cell_type": "code",
   "execution_count": 360,
   "id": "6090f679",
   "metadata": {
    "id": "6090f679"
   },
   "outputs": [],
   "source": [
    "# Let's create a plotting function\n",
    "def plot_predictions(train_data=X_train,\n",
    "                    train_labels=y_train,\n",
    "                    test_data=X_test,\n",
    "                    test_labels=y_test,\n",
    "                    predictions=y_pred):\n",
    "    \"\"\"\n",
    "    Plots training data, test data and compares predictions to ground truth\n",
    "    \"\"\"\n",
    "    plt.figure(figsize=(10, 7))\n",
    "    # Plot training data in blue\n",
    "    plt.scatter(train_data, train_labels, c=\"b\", label=\"Training data\")\n",
    "    # Plot testing data in green\n",
    "    plt.scatter(test_data, test_labels, c=\"g\", label=\"Testing data\")\n",
    "    # PLot model's predicting in red\n",
    "    plt.scatter(test_data, predictions, c=\"r\", label=\"Predictions\")\n",
    "    # Show the legend\n",
    "    plt.legend();"
   ]
  },
  {
   "cell_type": "code",
   "execution_count": 361,
   "id": "1c4f35f8",
   "metadata": {
    "colab": {
     "base_uri": "https://localhost:8080/",
     "height": 451
    },
    "id": "1c4f35f8",
    "outputId": "bd6aedf2-6a55-4b52-ac15-68c3835d644b"
   },
   "outputs": [
    {
     "data": {
      "image/png": "[encoded data removed]",
      "text/plain": [
       "<Figure size 1000x700 with 1 Axes>"
      ]
     },
     "metadata": {},
     "output_type": "display_data"
    }
   ],
   "source": [
    "plot_predictions(train_data=X_train,\n",
    "                train_labels=y_train,\n",
    "                test_data=X_test,\n",
    "                test_labels=y_test,\n",
    "                predictions=y_pred)"
   ]
  },
  {
   "cell_type": "markdown",
   "id": "a7709193",
   "metadata": {
    "id": "a7709193"
   },
   "source": [
    "### Evaluting our model's predictions with regression evaluation metrics\n",
    "\n",
    "Depending on the problem you're working on, there will be different evaluation metrics to evaluate your model's performance.\n",
    "\n",
    "Since we're working on a regression, two of the main metrics:\n",
    "* MAE - mean absolute error, \"on average, how rong is each of my model's predictions\"\n",
    "* MSE - mean square, \"square the average errors:"
   ]
  },
  {
   "cell_type": "code",
   "execution_count": 362,
   "id": "a54d9650",
   "metadata": {
    "colab": {
     "base_uri": "https://localhost:8080/"
    },
    "id": "a54d9650",
    "outputId": "2e74c075-04e0-4b9f-87d7-560e907fc342"
   },
   "outputs": [
    {
     "name": "stdout",
     "output_type": "stream",
     "text": [
      "WARNING:tensorflow:5 out of the last 5 calls to <function Model.make_test_function.<locals>.test_function at 0x7f976c00ed40> triggered tf.function retracing. Tracing is expensive and the excessive number of tracings could be due to (1) creating @tf.function repeatedly in a loop, (2) passing tensors with different shapes, (3) passing Python objects instead of tensors. For (1), please define your @tf.function outside of the loop. For (2), @tf.function has reduce_retracing=True option that can avoid unnecessary retracing. For (3), please refer to https://www.tensorflow.org/guide/function#controlling_retracing and https://www.tensorflow.org/api_docs/python/tf/function for  more details.\n",
      "1/1 [==============================] - 0s 71ms/step - loss: 30.0737 - mae: 30.0737\n"
     ]
    },
    {
     "data": {
      "text/plain": [
       "[30.073680877685547, 30.073680877685547]"
      ]
     },
     "execution_count": 362,
     "metadata": {},
     "output_type": "execute_result"
    }
   ],
   "source": [
    "# Evalute the model on the test\n",
    "model.evaluate(X_test, y_test)"
   ]
  },
  {
   "cell_type": "code",
   "execution_count": 363,
   "id": "d05a0837",
   "metadata": {
    "colab": {
     "base_uri": "https://localhost:8080/"
    },
    "id": "d05a0837",
    "outputId": "ccc8044d-be31-4c43-f188-c4dfc353ccc1"
   },
   "outputs": [
    {
     "data": {
      "text/plain": [
       "<tf.Tensor: shape=(10,), dtype=float32, numpy=\n",
       "array([10.25144 , 12.086573, 15.740515, 21.134865, 27.09408 , 33.053284,\n",
       "       39.012512, 44.971725, 50.93094 , 56.89015 ], dtype=float32)>"
      ]
     },
     "execution_count": 363,
     "metadata": {},
     "output_type": "execute_result"
    }
   ],
   "source": [
    "# Calculate the mean absolute error\n",
    "mae = tf.metrics.mean_absolute_error(y_true=y_test,\n",
    "                                     y_pred=tf.constant(y_pred))\n",
    "mae"
   ]
  },
  {
   "cell_type": "code",
   "execution_count": 364,
   "id": "0863b242",
   "metadata": {
    "colab": {
     "base_uri": "https://localhost:8080/"
    },
    "id": "0863b242",
    "outputId": "bddda516-fbd3-4e35-e44a-999b14815833"
   },
   "outputs": [
    {
     "data": {
      "text/plain": [
       "<tf.Tensor: shape=(10, 1), dtype=float32, numpy=\n",
       "array([[ 91.2572  ],\n",
       "       [ 97.21643 ],\n",
       "       [103.175644],\n",
       "       [109.134865],\n",
       "       [115.09408 ],\n",
       "       [121.05328 ],\n",
       "       [127.01251 ],\n",
       "       [132.97173 ],\n",
       "       [138.93094 ],\n",
       "       [144.89015 ]], dtype=float32)>"
      ]
     },
     "execution_count": 364,
     "metadata": {},
     "output_type": "execute_result"
    }
   ],
   "source": [
    "tf.constant(y_pred)"
   ]
  },
  {
   "cell_type": "code",
   "execution_count": 365,
   "id": "69f87fa3",
   "metadata": {
    "colab": {
     "base_uri": "https://localhost:8080/"
    },
    "id": "69f87fa3",
    "outputId": "5c03c71a-b934-46c4-96c6-4e93fbe7ded5"
   },
   "outputs": [
    {
     "data": {
      "text/plain": [
       "<tf.Tensor: shape=(10,), dtype=int32, numpy=array([ 70,  74,  78,  82,  86,  90,  94,  98, 102, 106], dtype=int32)>"
      ]
     },
     "execution_count": 365,
     "metadata": {},
     "output_type": "execute_result"
    }
   ],
   "source": [
    "y_test"
   ]
  },
  {
   "cell_type": "code",
   "execution_count": 366,
   "id": "e0c79eec",
   "metadata": {
    "colab": {
     "base_uri": "https://localhost:8080/"
    },
    "id": "e0c79eec",
    "outputId": "c135e783-426d-4c5d-acb9-2f3aabe97890"
   },
   "outputs": [
    {
     "data": {
      "text/plain": [
       "<tf.Tensor: shape=(10,), dtype=float32, numpy=\n",
       "array([ 91.2572  ,  97.21643 , 103.175644, 109.134865, 115.09408 ,\n",
       "       121.05328 , 127.01251 , 132.97173 , 138.93094 , 144.89015 ],\n",
       "      dtype=float32)>"
      ]
     },
     "execution_count": 366,
     "metadata": {},
     "output_type": "execute_result"
    }
   ],
   "source": [
    "tf.squeeze(y_pred)"
   ]
  },
  {
   "cell_type": "code",
   "execution_count": 367,
   "id": "70f00a1d",
   "metadata": {
    "colab": {
     "base_uri": "https://localhost:8080/"
    },
    "id": "70f00a1d",
    "outputId": "e27c858d-8661-4daf-9085-dcd54a6034cc"
   },
   "outputs": [
    {
     "data": {
      "text/plain": [
       "<tf.Tensor: shape=(), dtype=float32, numpy=30.07368>"
      ]
     },
     "execution_count": 367,
     "metadata": {},
     "output_type": "execute_result"
    }
   ],
   "source": [
    "# Calculate the mean absolute error\n",
    "mae = tf.metrics.mean_absolute_error(y_true=y_test,\n",
    "                                    y_pred=tf.squeeze(y_pred))\n",
    "mae"
   ]
  },
  {
   "cell_type": "code",
   "execution_count": 368,
   "id": "15c7b395",
   "metadata": {
    "colab": {
     "base_uri": "https://localhost:8080/",
     "height": 312
    },
    "id": "15c7b395",
    "outputId": "1d1d4455-ef65-4e2e-f1d9-446108e8e54e"
   },
   "outputs": [
    {
     "data": {
      "image/png": "[encoded data removed]",
      "text/plain": [
       "<IPython.core.display.Image object>"
      ]
     },
     "execution_count": 368,
     "metadata": {},
     "output_type": "execute_result"
    }
   ],
   "source": [
    "\n",
    "plot_model(model=model, show_shapes=True)"
   ]
  },
  {
   "cell_type": "code",
   "execution_count": 369,
   "id": "8c278f6c",
   "metadata": {
    "colab": {
     "base_uri": "https://localhost:8080/"
    },
    "id": "8c278f6c",
    "outputId": "8eafc46d-8a9c-4ba2-aef0-00631a89be02"
   },
   "outputs": [
    {
     "data": {
      "text/plain": [
       "<tf.Tensor: shape=(), dtype=float32, numpy=936.09436>"
      ]
     },
     "execution_count": 369,
     "metadata": {},
     "output_type": "execute_result"
    }
   ],
   "source": [
    "# Calcualte the Mean Square Error\n",
    "mse = tf.metrics.mean_squared_error(y_true=y_test,\n",
    "                            y_pred=tf.squeeze(y_pred))\n",
    "mse"
   ]
  },
  {
   "cell_type": "code",
   "execution_count": 370,
   "id": "c7ffbc1d",
   "metadata": {
    "id": "c7ffbc1d"
   },
   "outputs": [],
   "source": [
    "# Make some functions to reuse MAE and MSE\n",
    "def mae(y_true, y_pred):\n",
    "    return tf.metrics.mean_absolute_error(y_true=y_true,\n",
    "                                         y_pred=tf.squeeze(y_pred))\n",
    "\n",
    "def mse(y_true, y_pred):\n",
    "    return tf.metrics.mean_squared_error(y_true=y_true,\n",
    "                                        y_pred=tf.squeeze(y_pred))"
   ]
  },
  {
   "cell_type": "markdown",
   "id": "0ba22df1",
   "metadata": {
    "id": "0ba22df1"
   },
   "source": [
    "# Running experiments to improve\n",
    "Build a model -> fit it -> evaluate it -> tweak it -> fit it\n",
    "-> evaluate it -> tweak it -> fit it -> evaluate it...\n",
    "\n",
    "1. Get more data - get more examples for your model to train\n",
    "on (more opportunities to learn patterns or relationships\n",
    "between features and labels).\n",
    "2. Make your model larger (using a more complex model( - this mmight come in the form of more layers or more hidden units\n",
    "3. Train for longer - give your model more of a chance to find patterns in the data\n",
    "\n",
    "Let's do 3 modelling experiments:\n",
    "\n",
    "1. model_1 - same as the original model, 1 layer, trained for 100 epochs.\n",
    "2. model_2 - 2 layers, trained for 100 epochs\n",
    "3. model_3 - 2 layers, trained for 500 epochs\n",
    "4. model_4 - 3 layers, trained for 500 epochs\n",
    "5. model_5 - 4 layers, trained for 500 epochs"
   ]
  },
  {
   "cell_type": "code",
   "execution_count": 371,
   "id": "65873bbf",
   "metadata": {
    "colab": {
     "base_uri": "https://localhost:8080/"
    },
    "id": "65873bbf",
    "outputId": "0fcc3dbd-1473-4f26-e047-926d833932ee"
   },
   "outputs": [
    {
     "data": {
      "text/plain": [
       "(1, 1)"
      ]
     },
     "execution_count": 371,
     "metadata": {},
     "output_type": "execute_result"
    }
   ],
   "source": [
    "X_train.ndim, y_train.ndim"
   ]
  },
  {
   "cell_type": "code",
   "execution_count": 375,
   "id": "40264ff9",
   "metadata": {},
   "outputs": [],
   "source": [
    "X_train = tf.expand_dims(X_train, axis=-1)"
   ]
  },
  {
   "cell_type": "code",
   "execution_count": 388,
   "id": "3301ca4b",
   "metadata": {
    "colab": {
     "base_uri": "https://localhost:8080/"
    },
    "id": "3301ca4b",
    "outputId": "1add47bd-a1a5-4416-c7a6-9b078b324cf7",
    "scrolled": false
   },
   "outputs": [
    {
     "data": {
      "text/html": [
       "Finishing last run (ID:n3esnirr) before initializing another..."
      ],
      "text/plain": [
       "<IPython.core.display.HTML object>"
      ]
     },
     "metadata": {},
     "output_type": "display_data"
    },
    {
     "data": {
      "application/vnd.jupyter.widget-view+json": {
       "model_id": "",
       "version_major": 2,
       "version_minor": 0
      },
      "text/plain": [
       "VBox(children=(Label(value='0.002 MB of 0.002 MB uploaded\\r'), FloatProgress(value=1.0, max=1.0)))"
      ]
     },
     "metadata": {},
     "output_type": "display_data"
    },
    {
     "data": {
      "text/html": [
       "W&B sync reduced upload amount by 15.4%             "
      ],
      "text/plain": [
       "<IPython.core.display.HTML object>"
      ]
     },
     "metadata": {},
     "output_type": "display_data"
    },
    {
     "data": {
      "text/html": [
       "<style>\n",
       "    table.wandb td:nth-child(1) { padding: 0 10px; text-align: left ; width: auto;} td:nth-child(2) {text-align: left ; width: 100%}\n",
       "    .wandb-row { display: flex; flex-direction: row; flex-wrap: wrap; justify-content: flex-start; width: 100% }\n",
       "    .wandb-col { display: flex; flex-direction: column; flex-basis: 100%; flex: 1; padding: 10px; }\n",
       "    </style>\n",
       "<div class=\"wandb-row\"><div class=\"wandb-col\"><h3>Run history:</h3><br/><table class=\"wandb\"><tr><td>epoch</td><td>▁▁▁▁▂▂▂▂▂▃▃▃▃▃▃▄▄▄▄▄▅▅▅▅▅▅▆▆▆▆▆▇▇▇▇▇▇███</td></tr><tr><td>loss</td><td>▁▆▁▁▁▁▁▁▁▁▂▂█▁▂▁▁▁▁▁▁▂▁▁▁▁▁▁▁▁▁▁▁▁▁▁▁▁▁▁</td></tr><tr><td>mse</td><td>▁▆▁▁▁▁▁▁▁▁▂▂█▁▂▁▁▁▁▁▁▂▁▁▁▁▁▁▁▁▁▁▁▁▁▁▁▁▁▁</td></tr></table><br/></div><div class=\"wandb-col\"><h3>Run summary:</h3><br/><table class=\"wandb\"><tr><td>epoch</td><td>99</td></tr><tr><td>loss</td><td>40.71293</td></tr><tr><td>mse</td><td>2245.49902</td></tr></table><br/></div></div>"
      ],
      "text/plain": [
       "<IPython.core.display.HTML object>"
      ]
     },
     "metadata": {},
     "output_type": "display_data"
    },
    {
     "data": {
      "text/html": [
       " View run <strong style=\"color:#cdcd00\">Dense20_1,mae,SGD</strong> at: <a href='https://wandb.ai/frackowiak_kajetan/regression_fundamentals/runs/n3esnirr' target=\"_blank\">https://wandb.ai/frackowiak_kajetan/regression_fundamentals/runs/n3esnirr</a><br/> View job at <a href='https://wandb.ai/frackowiak_kajetan/regression_fundamentals/jobs/QXJ0aWZhY3RDb2xsZWN0aW9uOjEyMzk2MDE5NQ==/version_details/v1' target=\"_blank\">https://wandb.ai/frackowiak_kajetan/regression_fundamentals/jobs/QXJ0aWZhY3RDb2xsZWN0aW9uOjEyMzk2MDE5NQ==/version_details/v1</a><br/>Synced 6 W&B file(s), 1 media file(s), 2 artifact file(s) and 0 other file(s)"
      ],
      "text/plain": [
       "<IPython.core.display.HTML object>"
      ]
     },
     "metadata": {},
     "output_type": "display_data"
    },
    {
     "data": {
      "text/html": [
       "Find logs at: <code>./wandb/run-20231216_103522-n3esnirr/logs</code>"
      ],
      "text/plain": [
       "<IPython.core.display.HTML object>"
      ]
     },
     "metadata": {},
     "output_type": "display_data"
    },
    {
     "data": {
      "text/html": [
       "Successfully finished last run (ID:n3esnirr). Initializing new run:<br/>"
      ],
      "text/plain": [
       "<IPython.core.display.HTML object>"
      ]
     },
     "metadata": {},
     "output_type": "display_data"
    },
    {
     "data": {
      "application/vnd.jupyter.widget-view+json": {
       "model_id": "884b833ca24e4a8f9df89b938c0c0d7b",
       "version_major": 2,
       "version_minor": 0
      },
      "text/plain": [
       "VBox(children=(Label(value='Waiting for wandb.init()...\\r'), FloatProgress(value=0.011112568699981137, max=1.0…"
      ]
     },
     "metadata": {},
     "output_type": "display_data"
    },
    {
     "data": {
      "text/html": [
       "wandb version 0.16.1 is available!  To upgrade, please run:\n",
       " $ pip install wandb --upgrade"
      ],
      "text/plain": [
       "<IPython.core.display.HTML object>"
      ]
     },
     "metadata": {},
     "output_type": "display_data"
    },
    {
     "data": {
      "text/html": [
       "Tracking run with wandb version 0.16.0"
      ],
      "text/plain": [
       "<IPython.core.display.HTML object>"
      ]
     },
     "metadata": {},
     "output_type": "display_data"
    },
    {
     "data": {
      "text/html": [
       "Run data is saved locally in <code>/home/kajetan/tensorflow_fundamentals/wandb/run-20231216_103616-zp9gmcd2</code>"
      ],
      "text/plain": [
       "<IPython.core.display.HTML object>"
      ]
     },
     "metadata": {},
     "output_type": "display_data"
    },
    {
     "data": {
      "text/html": [
       "Syncing run <strong><a href='https://wandb.ai/frackowiak_kajetan/regression_fundamentals/runs/zp9gmcd2' target=\"_blank\">experiment_with_Dense1_mae_SGD</a></strong> to <a href='https://wandb.ai/frackowiak_kajetan/regression_fundamentals' target=\"_blank\">Weights & Biases</a> (<a href='https://wandb.me/run' target=\"_blank\">docs</a>)<br/>"
      ],
      "text/plain": [
       "<IPython.core.display.HTML object>"
      ]
     },
     "metadata": {},
     "output_type": "display_data"
    },
    {
     "data": {
      "text/html": [
       " View project at <a href='https://wandb.ai/frackowiak_kajetan/regression_fundamentals' target=\"_blank\">https://wandb.ai/frackowiak_kajetan/regression_fundamentals</a>"
      ],
      "text/plain": [
       "<IPython.core.display.HTML object>"
      ]
     },
     "metadata": {},
     "output_type": "display_data"
    },
    {
     "data": {
      "text/html": [
       " View run at <a href='https://wandb.ai/frackowiak_kajetan/regression_fundamentals/runs/zp9gmcd2' target=\"_blank\">https://wandb.ai/frackowiak_kajetan/regression_fundamentals/runs/zp9gmcd2</a>"
      ],
      "text/plain": [
       "<IPython.core.display.HTML object>"
      ]
     },
     "metadata": {},
     "output_type": "display_data"
    },
    {
     "name": "stdout",
     "output_type": "stream",
     "text": [
      "Epoch 1/100\n",
      "2/2 [==============================] - 0s 6ms/step - loss: 41.1695 - mae: 41.1695\n",
      "Epoch 2/100\n",
      "2/2 [==============================] - 0s 3ms/step - loss: 40.8905 - mae: 40.8905\n",
      "Epoch 3/100\n",
      "2/2 [==============================] - 0s 5ms/step - loss: 41.1388 - mae: 41.1388\n",
      "Epoch 4/100\n",
      "2/2 [==============================] - 0s 4ms/step - loss: 40.6711 - mae: 40.6711\n",
      "Epoch 5/100\n",
      "2/2 [==============================] - 0s 3ms/step - loss: 40.4633 - mae: 40.4633\n",
      "Epoch 6/100\n",
      "2/2 [==============================] - 0s 4ms/step - loss: 40.7312 - mae: 40.7312\n",
      "Epoch 7/100\n",
      "2/2 [==============================] - 0s 4ms/step - loss: 40.7494 - mae: 40.7494\n",
      "Epoch 8/100\n",
      "2/2 [==============================] - 0s 4ms/step - loss: 40.4288 - mae: 40.4288\n",
      "Epoch 9/100\n",
      "2/2 [==============================] - 0s 4ms/step - loss: 40.6649 - mae: 40.6649\n",
      "Epoch 10/100\n",
      "2/2 [==============================] - 0s 3ms/step - loss: 40.2311 - mae: 40.2311\n",
      "Epoch 11/100\n",
      "2/2 [==============================] - 0s 4ms/step - loss: 40.5522 - mae: 40.5522\n",
      "Epoch 12/100\n",
      "2/2 [==============================] - 0s 3ms/step - loss: 42.7864 - mae: 42.7864\n",
      "Epoch 13/100\n",
      "2/2 [==============================] - 0s 4ms/step - loss: 41.1963 - mae: 41.1963\n",
      "Epoch 14/100\n",
      "2/2 [==============================] - 0s 3ms/step - loss: 41.3741 - mae: 41.3741\n",
      "Epoch 15/100\n",
      "2/2 [==============================] - 0s 4ms/step - loss: 40.7254 - mae: 40.7254\n",
      "Epoch 16/100\n",
      "2/2 [==============================] - 0s 3ms/step - loss: 40.7159 - mae: 40.7159\n",
      "Epoch 17/100\n",
      "2/2 [==============================] - 0s 3ms/step - loss: 40.3416 - mae: 40.3416\n",
      "Epoch 18/100\n",
      "2/2 [==============================] - 0s 3ms/step - loss: 40.4922 - mae: 40.4922\n",
      "Epoch 19/100\n",
      "2/2 [==============================] - 0s 4ms/step - loss: 41.2805 - mae: 41.2805\n",
      "Epoch 20/100\n",
      "2/2 [==============================] - 0s 4ms/step - loss: 41.1463 - mae: 41.1463\n",
      "Epoch 21/100\n",
      "2/2 [==============================] - 0s 4ms/step - loss: 40.8418 - mae: 40.8418\n",
      "Epoch 22/100\n",
      "2/2 [==============================] - 0s 4ms/step - loss: 40.5290 - mae: 40.5290\n",
      "Epoch 23/100\n",
      "2/2 [==============================] - 0s 4ms/step - loss: 40.5989 - mae: 40.5989\n",
      "Epoch 24/100\n",
      "2/2 [==============================] - 0s 3ms/step - loss: 40.8131 - mae: 40.8131\n",
      "Epoch 25/100\n",
      "2/2 [==============================] - 0s 3ms/step - loss: 40.7019 - mae: 40.7019\n",
      "Epoch 26/100\n",
      "2/2 [==============================] - 0s 4ms/step - loss: 41.0394 - mae: 41.0394\n",
      "Epoch 27/100\n",
      "2/2 [==============================] - 0s 3ms/step - loss: 40.6611 - mae: 40.6611\n",
      "Epoch 28/100\n",
      "2/2 [==============================] - 0s 4ms/step - loss: 41.0329 - mae: 41.0329\n",
      "Epoch 29/100\n",
      "2/2 [==============================] - 0s 4ms/step - loss: 40.2529 - mae: 40.2529\n",
      "Epoch 30/100\n",
      "2/2 [==============================] - 0s 4ms/step - loss: 40.9350 - mae: 40.9350\n",
      "Epoch 31/100\n",
      "2/2 [==============================] - 0s 4ms/step - loss: 49.0294 - mae: 49.0294\n",
      "Epoch 32/100\n",
      "2/2 [==============================] - 0s 5ms/step - loss: 42.2140 - mae: 42.2140\n",
      "Epoch 33/100\n",
      "2/2 [==============================] - 0s 4ms/step - loss: 41.4703 - mae: 41.4703\n",
      "Epoch 34/100\n",
      "2/2 [==============================] - 0s 4ms/step - loss: 40.9340 - mae: 40.9340\n",
      "Epoch 35/100\n",
      "2/2 [==============================] - 0s 4ms/step - loss: 40.6709 - mae: 40.6709\n",
      "Epoch 36/100\n",
      "2/2 [==============================] - 0s 3ms/step - loss: 41.8984 - mae: 41.8984\n",
      "Epoch 37/100\n",
      "2/2 [==============================] - 0s 4ms/step - loss: 40.9354 - mae: 40.9354\n",
      "Epoch 38/100\n",
      "2/2 [==============================] - 0s 3ms/step - loss: 40.6768 - mae: 40.6768\n",
      "Epoch 39/100\n",
      "2/2 [==============================] - 0s 4ms/step - loss: 40.7571 - mae: 40.7571\n",
      "Epoch 40/100\n",
      "2/2 [==============================] - 0s 3ms/step - loss: 40.9146 - mae: 40.9146\n",
      "Epoch 41/100\n",
      "2/2 [==============================] - 0s 5ms/step - loss: 40.3771 - mae: 40.3771\n",
      "Epoch 42/100\n",
      "2/2 [==============================] - 0s 3ms/step - loss: 40.7256 - mae: 40.7256\n",
      "Epoch 43/100\n",
      "2/2 [==============================] - 0s 4ms/step - loss: 40.6058 - mae: 40.6058\n",
      "Epoch 44/100\n",
      "2/2 [==============================] - 0s 4ms/step - loss: 41.2012 - mae: 41.2012\n",
      "Epoch 45/100\n",
      "2/2 [==============================] - 0s 4ms/step - loss: 41.0402 - mae: 41.0402\n",
      "Epoch 46/100\n",
      "2/2 [==============================] - 0s 3ms/step - loss: 40.6900 - mae: 40.6900\n",
      "Epoch 47/100\n",
      "2/2 [==============================] - 0s 3ms/step - loss: 40.7105 - mae: 40.7105\n",
      "Epoch 48/100\n",
      "2/2 [==============================] - 0s 5ms/step - loss: 40.7198 - mae: 40.7198\n",
      "Epoch 49/100\n",
      "2/2 [==============================] - 0s 4ms/step - loss: 40.6746 - mae: 40.6746\n",
      "Epoch 50/100\n",
      "2/2 [==============================] - 0s 4ms/step - loss: 40.5828 - mae: 40.5828\n",
      "Epoch 51/100\n",
      "2/2 [==============================] - 0s 4ms/step - loss: 40.6889 - mae: 40.6889\n",
      "Epoch 52/100\n",
      "2/2 [==============================] - 0s 4ms/step - loss: 40.6800 - mae: 40.6800\n",
      "Epoch 53/100\n",
      "2/2 [==============================] - 0s 4ms/step - loss: 40.7647 - mae: 40.7647\n",
      "Epoch 54/100\n",
      "2/2 [==============================] - 0s 4ms/step - loss: 44.5701 - mae: 44.5701\n",
      "Epoch 55/100\n",
      "2/2 [==============================] - 0s 4ms/step - loss: 44.2055 - mae: 44.2055\n",
      "Epoch 56/100\n",
      "2/2 [==============================] - 0s 4ms/step - loss: 40.9109 - mae: 40.9109\n",
      "Epoch 57/100\n",
      "2/2 [==============================] - 0s 4ms/step - loss: 40.4960 - mae: 40.4960\n",
      "Epoch 58/100\n",
      "2/2 [==============================] - 0s 3ms/step - loss: 40.6968 - mae: 40.6968\n",
      "Epoch 59/100\n",
      "2/2 [==============================] - 0s 4ms/step - loss: 40.7545 - mae: 40.7545\n",
      "Epoch 60/100\n",
      "2/2 [==============================] - 0s 4ms/step - loss: 40.7024 - mae: 40.7024\n",
      "Epoch 61/100\n",
      "2/2 [==============================] - 0s 4ms/step - loss: 40.6989 - mae: 40.6989\n",
      "Epoch 62/100\n",
      "2/2 [==============================] - 0s 4ms/step - loss: 40.7320 - mae: 40.7320\n",
      "Epoch 63/100\n",
      "2/2 [==============================] - 0s 3ms/step - loss: 40.6759 - mae: 40.6759\n",
      "Epoch 64/100\n",
      "2/2 [==============================] - 0s 4ms/step - loss: 40.8732 - mae: 40.8732\n",
      "Epoch 65/100\n",
      "2/2 [==============================] - 0s 3ms/step - loss: 40.7266 - mae: 40.7266\n",
      "Epoch 66/100\n",
      "2/2 [==============================] - 0s 5ms/step - loss: 40.8901 - mae: 40.8901\n",
      "Epoch 67/100\n",
      "2/2 [==============================] - 0s 4ms/step - loss: 40.7401 - mae: 40.7401\n",
      "Epoch 68/100\n",
      "2/2 [==============================] - 0s 4ms/step - loss: 40.6788 - mae: 40.6788\n",
      "Epoch 69/100\n",
      "2/2 [==============================] - 0s 4ms/step - loss: 40.8379 - mae: 40.8379\n",
      "Epoch 70/100\n",
      "2/2 [==============================] - 0s 3ms/step - loss: 40.6613 - mae: 40.6613\n",
      "Epoch 71/100\n",
      "2/2 [==============================] - 0s 4ms/step - loss: 40.7123 - mae: 40.7123\n",
      "Epoch 72/100\n",
      "2/2 [==============================] - 0s 3ms/step - loss: 40.7203 - mae: 40.7203\n",
      "Epoch 73/100\n",
      "2/2 [==============================] - 0s 4ms/step - loss: 40.7807 - mae: 40.7807\n",
      "Epoch 74/100\n",
      "2/2 [==============================] - 0s 4ms/step - loss: 40.7325 - mae: 40.7325\n",
      "Epoch 75/100\n",
      "2/2 [==============================] - 0s 3ms/step - loss: 40.7433 - mae: 40.7433\n",
      "Epoch 76/100\n",
      "2/2 [==============================] - 0s 5ms/step - loss: 40.6833 - mae: 40.6833\n",
      "Epoch 77/100\n",
      "2/2 [==============================] - 0s 5ms/step - loss: 40.7646 - mae: 40.7646\n",
      "Epoch 78/100\n",
      "2/2 [==============================] - 0s 4ms/step - loss: 40.5017 - mae: 40.5017\n",
      "Epoch 79/100\n",
      "2/2 [==============================] - 0s 3ms/step - loss: 41.0709 - mae: 41.0709\n",
      "Epoch 80/100\n",
      "2/2 [==============================] - 0s 3ms/step - loss: 42.2975 - mae: 42.2975\n",
      "Epoch 81/100\n",
      "2/2 [==============================] - 0s 4ms/step - loss: 39.9333 - mae: 39.9333\n",
      "Epoch 82/100\n",
      "2/2 [==============================] - 0s 3ms/step - loss: 40.6642 - mae: 40.6642\n",
      "Epoch 83/100\n",
      "2/2 [==============================] - 0s 4ms/step - loss: 40.6828 - mae: 40.6828\n",
      "Epoch 84/100\n",
      "2/2 [==============================] - 0s 4ms/step - loss: 40.7019 - mae: 40.7019\n",
      "Epoch 85/100\n",
      "2/2 [==============================] - 0s 3ms/step - loss: 40.7216 - mae: 40.7216\n",
      "Epoch 86/100\n",
      "2/2 [==============================] - 0s 4ms/step - loss: 40.7417 - mae: 40.7417\n",
      "Epoch 87/100\n",
      "2/2 [==============================] - 0s 3ms/step - loss: 40.7036 - mae: 40.7036\n",
      "Epoch 88/100\n",
      "2/2 [==============================] - 0s 3ms/step - loss: 40.7438 - mae: 40.7438\n",
      "Epoch 89/100\n",
      "2/2 [==============================] - 0s 5ms/step - loss: 40.7686 - mae: 40.7686\n",
      "Epoch 90/100\n",
      "2/2 [==============================] - 0s 4ms/step - loss: 40.7404 - mae: 40.7404\n",
      "Epoch 91/100\n",
      "2/2 [==============================] - 0s 4ms/step - loss: 40.6930 - mae: 40.6930\n",
      "Epoch 92/100\n",
      "2/2 [==============================] - 0s 3ms/step - loss: 40.6998 - mae: 40.6998\n",
      "Epoch 93/100\n",
      "2/2 [==============================] - 0s 3ms/step - loss: 40.6533 - mae: 40.6533\n",
      "Epoch 94/100\n",
      "2/2 [==============================] - 0s 4ms/step - loss: 40.7635 - mae: 40.7635\n",
      "Epoch 95/100\n",
      "2/2 [==============================] - 0s 4ms/step - loss: 40.8815 - mae: 40.8815\n",
      "Epoch 96/100\n",
      "2/2 [==============================] - 0s 4ms/step - loss: 40.6242 - mae: 40.6242\n",
      "Epoch 97/100\n",
      "2/2 [==============================] - 0s 4ms/step - loss: 40.7149 - mae: 40.7149\n",
      "Epoch 98/100\n",
      "2/2 [==============================] - 0s 4ms/step - loss: 40.6732 - mae: 40.6732\n",
      "Epoch 99/100\n",
      "2/2 [==============================] - 0s 4ms/step - loss: 40.6966 - mae: 40.6966\n",
      "Epoch 100/100\n",
      "2/2 [==============================] - 0s 3ms/step - loss: 40.7668 - mae: 40.7668\n"
     ]
    },
    {
     "data": {
      "text/plain": [
       "<keras.src.callbacks.History at 0x7f976c128110>"
      ]
     },
     "execution_count": 388,
     "metadata": {},
     "output_type": "execute_result"
    }
   ],
   "source": [
    "# Set random seed\n",
    "tf.random.set_seed(42)\n",
    "\n",
    "# 1. Create the model\n",
    "initialize_wandb(project_name=\"regression_fundamentals\", run_name=\"experiment_with_Dense1_mae_SGD\")\n",
    "model_1 = tf.keras.Sequential([\n",
    "    tf.keras.layers.Dense(1)\n",
    "])\n",
    "\n",
    "# 2. Compile the model\n",
    "model_1.compile(loss=tf.keras.losses.mae,\n",
    "               optimizer=tf.keras.optimizers.SGD(),\n",
    "               metrics=[\"mae\"])\n",
    "\n",
    "# 3. Fit the model\n",
    "model_1.fit(X_train, y_train, epochs=100, callbacks=[WandbCallback()])"
   ]
  },
  {
   "cell_type": "code",
   "execution_count": 380,
   "id": "f6cfc0ef",
   "metadata": {
    "colab": {
     "base_uri": "https://localhost:8080/",
     "height": 469
    },
    "id": "f6cfc0ef",
    "outputId": "77514ee9-4ea3-4859-f76d-ffd01d714d64",
    "scrolled": true
   },
   "outputs": [
    {
     "name": "stdout",
     "output_type": "stream",
     "text": [
      "1/1 [==============================] - 0s 30ms/step\n"
     ]
    },
    {
     "data": {
      "image/png": "[encoded data removed]",
      "text/plain": [
       "<Figure size 1000x700 with 1 Axes>"
      ]
     },
     "metadata": {},
     "output_type": "display_data"
    }
   ],
   "source": [
    "# Make and plot predictions for model_1\n",
    "y_preds_1 = model_1.predict(X_test)\n",
    "plot_predictions(predictions=y_preds_1)"
   ]
  },
  {
   "cell_type": "code",
   "execution_count": 381,
   "id": "d4378489",
   "metadata": {
    "colab": {
     "base_uri": "https://localhost:8080/"
    },
    "id": "d4378489",
    "outputId": "398dc35f-3102-41f5-a1f8-747c71c56daa"
   },
   "outputs": [
    {
     "name": "stdout",
     "output_type": "stream",
     "text": [
      "initialize_wandb\t mae\t mse\t plot_model\t plot_predictions\t reset_model\t \n"
     ]
    }
   ],
   "source": [
    "%who -p function"
   ]
  },
  {
   "cell_type": "code",
   "execution_count": 382,
   "id": "f754cecf",
   "metadata": {
    "colab": {
     "base_uri": "https://localhost:8080/"
    },
    "id": "f754cecf",
    "outputId": "fe466ff2-fd09-4c11-c52a-4610506fe060"
   },
   "outputs": [
    {
     "name": "stdout",
     "output_type": "stream",
     "text": [
      "Help on function plot_predictions in module __main__:\n",
      "\n",
      "plot_predictions(train_data=<tf.Tensor: shape=(40,), dtype=int32, numpy=\n",
      "array([-100,  -96,  -92,  -88,  -84,  -80,  -76,  -72,  -68,  -64,  -60,\n",
      "        -56,  -52,  -48,  -44,  -40,  -36,  -32,  -28,  -24,  -20,  -16,\n",
      "        -12,   -8,   -4,    0,    4,    8,   12,   16,   20,   24,   28,\n",
      "         32,   36,   40,   44,   48,   52,   56], dtype=int32)>, train_labels=<tf.Tensor: shape=(40,), dtype=int32, numpy=\n",
      "array([-90, -86, -82, -78, -74, -70, -66, -62, -58, -54, -50, -46, -42,\n",
      "       -38, -34, -30, -26, -22, -18, -14, -10,  -6,  -2,   2,   6,  10,\n",
      "        14,  18,  22,  26,  30,  34,  38,  42,  46,  50,  54,  58,  62,\n",
      "        66], dtype=int32)>, test_data=<tf.Tensor: shape=(10,), dtype=int32, numpy=array([60, 64, 68, 72, 76, 80, 84, 88, 92, 96], dtype=int32)>, test_labels=<tf.Tensor: shape=(10,), dtype=int32, numpy=array([ 70,  74,  78,  82,  86,  90,  94,  98, 102, 106], dtype=int32)>, predictions=array([[ 91.2572  ],\n",
      "       [ 97.21643 ],\n",
      "       [103.175644],\n",
      "       [109.134865],\n",
      "       [115.09408 ],\n",
      "       [121.05328 ],\n",
      "       [127.01251 ],\n",
      "       [132.97173 ],\n",
      "       [138.93094 ],\n",
      "       [144.89015 ]], dtype=float32))\n",
      "    Plots training data, test data and compares predictions to ground truth\n",
      "\n"
     ]
    }
   ],
   "source": [
    "help(plot_predictions)"
   ]
  },
  {
   "cell_type": "code",
   "execution_count": 383,
   "id": "c7bbb81b",
   "metadata": {
    "colab": {
     "base_uri": "https://localhost:8080/"
    },
    "id": "c7bbb81b",
    "outputId": "4a25fb52-96eb-4187-bf69-427c20d2c0be"
   },
   "outputs": [
    {
     "data": {
      "text/plain": [
       "(<tf.Tensor: shape=(), dtype=float32, numpy=30.630808>,\n",
       " <tf.Tensor: shape=(), dtype=float32, numpy=948.69446>)"
      ]
     },
     "execution_count": 383,
     "metadata": {},
     "output_type": "execute_result"
    }
   ],
   "source": [
    "# Calculate model_1 evaluation metrics\n",
    "mae_1 = mae(y_test, y_preds_1)\n",
    "mse_1 = mse(y_test, y_preds_1)\n",
    "mae_1, mse_1"
   ]
  },
  {
   "cell_type": "code",
   "execution_count": 387,
   "id": "76985be8",
   "metadata": {
    "colab": {
     "base_uri": "https://localhost:8080/"
    },
    "id": "76985be8",
    "outputId": "e8025717-b6dd-4078-f9b2-aae4e219ebbe"
   },
   "outputs": [
    {
     "data": {
      "text/html": [
       "Finishing last run (ID:fg07bdnx) before initializing another..."
      ],
      "text/plain": [
       "<IPython.core.display.HTML object>"
      ]
     },
     "metadata": {},
     "output_type": "display_data"
    },
    {
     "data": {
      "application/vnd.jupyter.widget-view+json": {
       "model_id": "",
       "version_major": 2,
       "version_minor": 0
      },
      "text/plain": [
       "VBox(children=(Label(value='0.012 MB of 0.084 MB uploaded\\r'), FloatProgress(value=0.14159782105037125, max=1.…"
      ]
     },
     "metadata": {},
     "output_type": "display_data"
    },
    {
     "data": {
      "text/html": [
       "<style>\n",
       "    table.wandb td:nth-child(1) { padding: 0 10px; text-align: left ; width: auto;} td:nth-child(2) {text-align: left ; width: 100%}\n",
       "    .wandb-row { display: flex; flex-direction: row; flex-wrap: wrap; justify-content: flex-start; width: 100% }\n",
       "    .wandb-col { display: flex; flex-direction: column; flex-basis: 100%; flex: 1; padding: 10px; }\n",
       "    </style>\n",
       "<div class=\"wandb-row\"><div class=\"wandb-col\"><h3>Run history:</h3><br/><table class=\"wandb\"><tr><td>epoch</td><td>▁▁▁▂▂▂▂▂▂▃▃▃▃▃▄▄▄▄▄▄▅▅▅▅▅▅▆▆▆▆▆▇▇▇▇▇▇███</td></tr><tr><td>loss</td><td>█▆▆▆▅▆▆▆▆▅█▆▅▆▅▄▆▃▆▅▅▄▆▅▆▆▅▁▆▅▃▄▃▅█▅▆▅▂▅</td></tr><tr><td>mae</td><td>█▆▆▆▅▆▆▆▆▅█▆▅▆▅▄▆▃▆▅▅▄▆▅▆▆▅▁▆▅▃▄▃▅█▅▆▅▂▅</td></tr></table><br/></div><div class=\"wandb-col\"><h3>Run summary:</h3><br/><table class=\"wandb\"><tr><td>epoch</td><td>499</td></tr><tr><td>loss</td><td>39.72004</td></tr><tr><td>mae</td><td>39.72004</td></tr></table><br/></div></div>"
      ],
      "text/plain": [
       "<IPython.core.display.HTML object>"
      ]
     },
     "metadata": {},
     "output_type": "display_data"
    },
    {
     "data": {
      "text/html": [
       " View run <strong style=\"color:#cdcd00\">Dense:10,10,1.SGD.E500</strong> at: <a href='https://wandb.ai/frackowiak_kajetan/regression_fundamentals/runs/fg07bdnx' target=\"_blank\">https://wandb.ai/frackowiak_kajetan/regression_fundamentals/runs/fg07bdnx</a><br/> View job at <a href='https://wandb.ai/frackowiak_kajetan/regression_fundamentals/jobs/QXJ0aWZhY3RDb2xsZWN0aW9uOjEyMzk2MDE5NQ==/version_details/v0' target=\"_blank\">https://wandb.ai/frackowiak_kajetan/regression_fundamentals/jobs/QXJ0aWZhY3RDb2xsZWN0aW9uOjEyMzk2MDE5NQ==/version_details/v0</a><br/>Synced 6 W&B file(s), 1 media file(s), 2 artifact file(s) and 0 other file(s)"
      ],
      "text/plain": [
       "<IPython.core.display.HTML object>"
      ]
     },
     "metadata": {},
     "output_type": "display_data"
    },
    {
     "data": {
      "text/html": [
       "Find logs at: <code>./wandb/run-20231216_103355-fg07bdnx/logs</code>"
      ],
      "text/plain": [
       "<IPython.core.display.HTML object>"
      ]
     },
     "metadata": {},
     "output_type": "display_data"
    },
    {
     "data": {
      "text/html": [
       "Successfully finished last run (ID:fg07bdnx). Initializing new run:<br/>"
      ],
      "text/plain": [
       "<IPython.core.display.HTML object>"
      ]
     },
     "metadata": {},
     "output_type": "display_data"
    },
    {
     "data": {
      "application/vnd.jupyter.widget-view+json": {
       "model_id": "2743ca82cf5e4338a214340b774f2d3d",
       "version_major": 2,
       "version_minor": 0
      },
      "text/plain": [
       "VBox(children=(Label(value='Waiting for wandb.init()...\\r'), FloatProgress(value=0.011112271188903834, max=1.0…"
      ]
     },
     "metadata": {},
     "output_type": "display_data"
    },
    {
     "data": {
      "text/html": [
       "wandb version 0.16.1 is available!  To upgrade, please run:\n",
       " $ pip install wandb --upgrade"
      ],
      "text/plain": [
       "<IPython.core.display.HTML object>"
      ]
     },
     "metadata": {},
     "output_type": "display_data"
    },
    {
     "data": {
      "text/html": [
       "Tracking run with wandb version 0.16.0"
      ],
      "text/plain": [
       "<IPython.core.display.HTML object>"
      ]
     },
     "metadata": {},
     "output_type": "display_data"
    },
    {
     "data": {
      "text/html": [
       "Run data is saved locally in <code>/home/kajetan/tensorflow_fundamentals/wandb/run-20231216_103522-n3esnirr</code>"
      ],
      "text/plain": [
       "<IPython.core.display.HTML object>"
      ]
     },
     "metadata": {},
     "output_type": "display_data"
    },
    {
     "data": {
      "text/html": [
       "Syncing run <strong><a href='https://wandb.ai/frackowiak_kajetan/regression_fundamentals/runs/n3esnirr' target=\"_blank\">Dense20_1,mae,SGD</a></strong> to <a href='https://wandb.ai/frackowiak_kajetan/regression_fundamentals' target=\"_blank\">Weights & Biases</a> (<a href='https://wandb.me/run' target=\"_blank\">docs</a>)<br/>"
      ],
      "text/plain": [
       "<IPython.core.display.HTML object>"
      ]
     },
     "metadata": {},
     "output_type": "display_data"
    },
    {
     "data": {
      "text/html": [
       " View project at <a href='https://wandb.ai/frackowiak_kajetan/regression_fundamentals' target=\"_blank\">https://wandb.ai/frackowiak_kajetan/regression_fundamentals</a>"
      ],
      "text/plain": [
       "<IPython.core.display.HTML object>"
      ]
     },
     "metadata": {},
     "output_type": "display_data"
    },
    {
     "data": {
      "text/html": [
       " View run at <a href='https://wandb.ai/frackowiak_kajetan/regression_fundamentals/runs/n3esnirr' target=\"_blank\">https://wandb.ai/frackowiak_kajetan/regression_fundamentals/runs/n3esnirr</a>"
      ],
      "text/plain": [
       "<IPython.core.display.HTML object>"
      ]
     },
     "metadata": {},
     "output_type": "display_data"
    },
    {
     "name": "stdout",
     "output_type": "stream",
     "text": [
      "Epoch 1/100\n",
      "2/2 [==============================] - 0s 7ms/step - loss: 40.9306 - mse: 2302.6348\n",
      "Epoch 2/100\n",
      "2/2 [==============================] - 0s 4ms/step - loss: 40.9598 - mse: 2268.1628\n",
      "Epoch 3/100\n",
      "2/2 [==============================] - 0s 3ms/step - loss: 51.6568 - mse: 4010.6531\n",
      "Epoch 4/100\n",
      "2/2 [==============================] - 0s 13ms/step - loss: 40.6740 - mse: 2235.1191\n",
      "Epoch 5/100\n",
      "2/2 [==============================] - 0s 4ms/step - loss: 41.1628 - mse: 2333.8352\n",
      "Epoch 6/100\n",
      "2/2 [==============================] - 0s 5ms/step - loss: 41.0459 - mse: 2310.2153\n",
      "Epoch 7/100\n",
      "2/2 [==============================] - 0s 4ms/step - loss: 40.7412 - mse: 2251.7598\n",
      "Epoch 8/100\n",
      "2/2 [==============================] - 0s 6ms/step - loss: 40.7602 - mse: 2268.0613\n",
      "Epoch 9/100\n",
      "2/2 [==============================] - 0s 3ms/step - loss: 46.1920 - mse: 3024.7043\n",
      "Epoch 10/100\n",
      "2/2 [==============================] - 0s 5ms/step - loss: 40.4420 - mse: 2230.7053\n",
      "Epoch 11/100\n",
      "2/2 [==============================] - 0s 3ms/step - loss: 40.9228 - mse: 2272.5637\n",
      "Epoch 12/100\n",
      "2/2 [==============================] - 0s 4ms/step - loss: 50.8835 - mse: 3772.9590\n",
      "Epoch 13/100\n",
      "2/2 [==============================] - 0s 4ms/step - loss: 40.7423 - mse: 2248.2644\n",
      "Epoch 14/100\n",
      "2/2 [==============================] - 0s 4ms/step - loss: 41.1094 - mse: 2314.5574\n",
      "Epoch 15/100\n",
      "2/2 [==============================] - 0s 3ms/step - loss: 40.8325 - mse: 2258.4636\n",
      "Epoch 16/100\n",
      "2/2 [==============================] - 0s 5ms/step - loss: 40.8378 - mse: 2267.9292\n",
      "Epoch 17/100\n",
      "2/2 [==============================] - 0s 5ms/step - loss: 40.3246 - mse: 2196.4695\n",
      "Epoch 18/100\n",
      "2/2 [==============================] - 0s 4ms/step - loss: 40.8203 - mse: 2274.9507\n",
      "Epoch 19/100\n",
      "2/2 [==============================] - 0s 4ms/step - loss: 43.0151 - mse: 2750.8618\n",
      "Epoch 20/100\n",
      "2/2 [==============================] - 0s 4ms/step - loss: 40.9897 - mse: 2285.5591\n",
      "Epoch 21/100\n",
      "2/2 [==============================] - 0s 4ms/step - loss: 40.7378 - mse: 2250.1362\n",
      "Epoch 22/100\n",
      "2/2 [==============================] - 0s 4ms/step - loss: 40.6245 - mse: 2241.4739\n",
      "Epoch 23/100\n",
      "2/2 [==============================] - 0s 4ms/step - loss: 40.6485 - mse: 2243.9351\n",
      "Epoch 24/100\n",
      "2/2 [==============================] - 0s 4ms/step - loss: 40.9701 - mse: 2296.2471\n",
      "Epoch 25/100\n",
      "2/2 [==============================] - 0s 4ms/step - loss: 40.8860 - mse: 2275.8999\n",
      "Epoch 26/100\n",
      "2/2 [==============================] - 0s 5ms/step - loss: 41.8302 - mse: 2418.1440\n",
      "Epoch 27/100\n",
      "2/2 [==============================] - 0s 3ms/step - loss: 40.7308 - mse: 2253.7180\n",
      "Epoch 28/100\n",
      "2/2 [==============================] - 0s 5ms/step - loss: 42.0984 - mse: 2497.4126\n",
      "Epoch 29/100\n",
      "2/2 [==============================] - 0s 3ms/step - loss: 40.6893 - mse: 2244.1118\n",
      "Epoch 30/100\n",
      "2/2 [==============================] - 0s 5ms/step - loss: 44.9115 - mse: 2954.9009\n",
      "Epoch 31/100\n",
      "2/2 [==============================] - 0s 3ms/step - loss: 56.8189 - mse: 5001.5923\n",
      "Epoch 32/100\n",
      "2/2 [==============================] - 0s 4ms/step - loss: 41.2296 - mse: 2384.9653\n",
      "Epoch 33/100\n",
      "2/2 [==============================] - 0s 3ms/step - loss: 41.1879 - mse: 2312.1812\n",
      "Epoch 34/100\n",
      "2/2 [==============================] - 0s 3ms/step - loss: 40.8254 - mse: 2260.4841\n",
      "Epoch 35/100\n",
      "2/2 [==============================] - 0s 3ms/step - loss: 40.6066 - mse: 2241.3340\n",
      "Epoch 36/100\n",
      "2/2 [==============================] - 0s 4ms/step - loss: 41.6051 - mse: 2447.5750\n",
      "Epoch 37/100\n",
      "2/2 [==============================] - 0s 3ms/step - loss: 40.8621 - mse: 2269.3247\n",
      "Epoch 38/100\n",
      "2/2 [==============================] - 0s 4ms/step - loss: 40.6581 - mse: 2247.2314\n",
      "Epoch 39/100\n",
      "2/2 [==============================] - 0s 4ms/step - loss: 40.7281 - mse: 2252.0066\n",
      "Epoch 40/100\n",
      "2/2 [==============================] - 0s 4ms/step - loss: 40.8670 - mse: 2267.3799\n",
      "Epoch 41/100\n",
      "2/2 [==============================] - 0s 5ms/step - loss: 40.3696 - mse: 2213.6196\n",
      "Epoch 42/100\n",
      "2/2 [==============================] - 0s 4ms/step - loss: 40.7173 - mse: 2251.1938\n",
      "Epoch 43/100\n",
      "2/2 [==============================] - 0s 3ms/step - loss: 40.5491 - mse: 2225.9805\n",
      "Epoch 44/100\n",
      "2/2 [==============================] - 0s 3ms/step - loss: 41.0137 - mse: 2313.7905\n",
      "Epoch 45/100\n",
      "2/2 [==============================] - 0s 4ms/step - loss: 41.0513 - mse: 2293.9973\n",
      "Epoch 46/100\n",
      "2/2 [==============================] - 0s 3ms/step - loss: 40.6955 - mse: 2255.2114\n",
      "Epoch 47/100\n",
      "2/2 [==============================] - 0s 4ms/step - loss: 40.7098 - mse: 2249.5227\n",
      "Epoch 48/100\n",
      "2/2 [==============================] - 0s 3ms/step - loss: 40.6644 - mse: 2233.0640\n",
      "Epoch 49/100\n",
      "2/2 [==============================] - 0s 3ms/step - loss: 40.6572 - mse: 2244.7075\n",
      "Epoch 50/100\n",
      "2/2 [==============================] - 0s 3ms/step - loss: 40.5673 - mse: 2221.6255\n",
      "Epoch 51/100\n",
      "2/2 [==============================] - 0s 3ms/step - loss: 40.6699 - mse: 2241.7771\n",
      "Epoch 52/100\n",
      "2/2 [==============================] - 0s 4ms/step - loss: 40.5822 - mse: 2240.5044\n",
      "Epoch 53/100\n",
      "2/2 [==============================] - 0s 3ms/step - loss: 40.3865 - mse: 2247.5923\n",
      "Epoch 54/100\n",
      "2/2 [==============================] - 0s 4ms/step - loss: 43.5232 - mse: 2714.7065\n",
      "Epoch 55/100\n",
      "2/2 [==============================] - 0s 3ms/step - loss: 43.4480 - mse: 2705.3640\n",
      "Epoch 56/100\n",
      "2/2 [==============================] - 0s 3ms/step - loss: 40.8883 - mse: 2300.7617\n",
      "Epoch 57/100\n",
      "2/2 [==============================] - 0s 4ms/step - loss: 40.4272 - mse: 2231.3923\n",
      "Epoch 58/100\n",
      "2/2 [==============================] - 0s 3ms/step - loss: 40.6532 - mse: 2241.4932\n",
      "Epoch 59/100\n",
      "2/2 [==============================] - 0s 3ms/step - loss: 40.7632 - mse: 2239.7124\n",
      "Epoch 60/100\n",
      "2/2 [==============================] - 0s 4ms/step - loss: 40.7042 - mse: 2246.1799\n",
      "Epoch 61/100\n",
      "2/2 [==============================] - 0s 3ms/step - loss: 40.6980 - mse: 2245.9524\n",
      "Epoch 62/100\n",
      "2/2 [==============================] - 0s 4ms/step - loss: 40.7224 - mse: 2245.1421\n",
      "Epoch 63/100\n",
      "2/2 [==============================] - 0s 3ms/step - loss: 40.6335 - mse: 2231.2485\n",
      "Epoch 64/100\n",
      "2/2 [==============================] - 0s 5ms/step - loss: 40.7639 - mse: 2256.3755\n",
      "Epoch 65/100\n",
      "2/2 [==============================] - 0s 3ms/step - loss: 40.6802 - mse: 2235.9346\n",
      "Epoch 66/100\n",
      "2/2 [==============================] - 0s 4ms/step - loss: 40.7968 - mse: 2257.1938\n",
      "Epoch 67/100\n",
      "2/2 [==============================] - 0s 3ms/step - loss: 40.7233 - mse: 2250.0996\n",
      "Epoch 68/100\n",
      "2/2 [==============================] - 0s 3ms/step - loss: 40.6626 - mse: 2230.8271\n",
      "Epoch 69/100\n",
      "2/2 [==============================] - 0s 4ms/step - loss: 40.7225 - mse: 2246.5996\n",
      "Epoch 70/100\n",
      "2/2 [==============================] - 0s 3ms/step - loss: 40.6319 - mse: 2240.2827\n",
      "Epoch 71/100\n",
      "2/2 [==============================] - 0s 4ms/step - loss: 40.6599 - mse: 2239.4062\n",
      "Epoch 72/100\n",
      "2/2 [==============================] - 0s 3ms/step - loss: 40.6974 - mse: 2244.3794\n",
      "Epoch 73/100\n",
      "2/2 [==============================] - 0s 3ms/step - loss: 40.6909 - mse: 2247.1848\n",
      "Epoch 74/100\n",
      "2/2 [==============================] - 0s 4ms/step - loss: 40.6965 - mse: 2240.7532\n",
      "Epoch 75/100\n",
      "2/2 [==============================] - 0s 3ms/step - loss: 40.7167 - mse: 2244.4888\n",
      "Epoch 76/100\n",
      "2/2 [==============================] - 0s 4ms/step - loss: 40.6556 - mse: 2242.3582\n",
      "Epoch 77/100\n",
      "2/2 [==============================] - 0s 3ms/step - loss: 40.7142 - mse: 2246.4080\n",
      "Epoch 78/100\n",
      "2/2 [==============================] - 0s 4ms/step - loss: 40.4446 - mse: 2214.8926\n",
      "Epoch 79/100\n",
      "2/2 [==============================] - 0s 3ms/step - loss: 40.5172 - mse: 2234.0469\n",
      "Epoch 80/100\n",
      "2/2 [==============================] - 0s 3ms/step - loss: 41.1904 - mse: 2317.2976\n",
      "Epoch 81/100\n",
      "2/2 [==============================] - 0s 3ms/step - loss: 39.9415 - mse: 2217.7922\n",
      "Epoch 82/100\n",
      "2/2 [==============================] - 0s 3ms/step - loss: 40.6446 - mse: 2245.7427\n",
      "Epoch 83/100\n",
      "2/2 [==============================] - 0s 5ms/step - loss: 40.6576 - mse: 2243.4119\n",
      "Epoch 84/100\n",
      "2/2 [==============================] - 0s 3ms/step - loss: 40.6839 - mse: 2245.1675\n",
      "Epoch 85/100\n",
      "2/2 [==============================] - 0s 4ms/step - loss: 40.7081 - mse: 2243.2441\n",
      "Epoch 86/100\n",
      "2/2 [==============================] - 0s 3ms/step - loss: 40.7199 - mse: 2225.1301\n",
      "Epoch 87/100\n",
      "2/2 [==============================] - 0s 3ms/step - loss: 40.6859 - mse: 2242.4976\n",
      "Epoch 88/100\n",
      "2/2 [==============================] - 0s 4ms/step - loss: 40.7090 - mse: 2243.7144\n",
      "Epoch 89/100\n",
      "2/2 [==============================] - 0s 3ms/step - loss: 40.7062 - mse: 2240.1921\n",
      "Epoch 90/100\n",
      "2/2 [==============================] - 0s 4ms/step - loss: 40.6908 - mse: 2244.4543\n",
      "Epoch 91/100\n",
      "2/2 [==============================] - 0s 3ms/step - loss: 40.6698 - mse: 2243.3855\n",
      "Epoch 92/100\n",
      "2/2 [==============================] - 0s 3ms/step - loss: 40.6883 - mse: 2243.3618\n",
      "Epoch 93/100\n",
      "2/2 [==============================] - 0s 3ms/step - loss: 40.6405 - mse: 2241.6958\n",
      "Epoch 94/100\n",
      "2/2 [==============================] - 0s 3ms/step - loss: 40.6903 - mse: 2243.6687\n",
      "Epoch 95/100\n",
      "2/2 [==============================] - 0s 8ms/step - loss: 40.7439 - mse: 2245.1797\n",
      "Epoch 96/100\n",
      "2/2 [==============================] - 0s 6ms/step - loss: 40.5823 - mse: 2243.6389\n",
      "Epoch 97/100\n",
      "2/2 [==============================] - 0s 9ms/step - loss: 40.7019 - mse: 2237.9380\n",
      "Epoch 98/100\n",
      "2/2 [==============================] - 0s 6ms/step - loss: 40.6611 - mse: 2240.8044\n",
      "Epoch 99/100\n",
      "2/2 [==============================] - 0s 5ms/step - loss: 40.6664 - mse: 2241.2285\n",
      "Epoch 100/100\n",
      "2/2 [==============================] - 0s 5ms/step - loss: 40.7129 - mse: 2245.4990\n"
     ]
    },
    {
     "data": {
      "text/plain": [
       "<keras.src.callbacks.History at 0x7f976c1d3e50>"
      ]
     },
     "execution_count": 387,
     "metadata": {},
     "output_type": "execute_result"
    }
   ],
   "source": [
    "X_train = tf.expand_dims(X_train, axis=-1)\n",
    "tf.random.set_seed(42)\n",
    "\n",
    "# 1. Create the model\n",
    "initialize_wandb(project_name=\"regression_fundamentals\", run_name=\"Dense20_1,mae,SGD\")\n",
    "model_2 = tf.keras.Sequential([\n",
    "    tf.keras.layers.Dense(20),\n",
    "    tf.keras.layers.Dense(1)\n",
    "])\n",
    "\n",
    "# 2. Compile the model\n",
    "model_2.compile(loss=tf.keras.losses.mae,\n",
    "               optimizer=tf.keras.optimizers.SGD(),\n",
    "               metrics=[\"mse\"])\n",
    "\n",
    "# 3. Fit the model\n",
    "model_2.fit(X_train, y_train, epochs=100, callbacks=[WandbCallback()])"
   ]
  },
  {
   "cell_type": "code",
   "execution_count": 309,
   "id": "d02b2634",
   "metadata": {
    "colab": {
     "base_uri": "https://localhost:8080/",
     "height": 469
    },
    "id": "d02b2634",
    "outputId": "b4e54fc4-9f8d-4659-bec0-a4bfa72b0117"
   },
   "outputs": [
    {
     "name": "stdout",
     "output_type": "stream",
     "text": [
      "1/1 [==============================] - 0s 35ms/step\n"
     ]
    },
    {
     "data": {
      "image/png": "[encoded data removed]",
      "text/plain": [
       "<Figure size 1000x700 with 1 Axes>"
      ]
     },
     "metadata": {},
     "output_type": "display_data"
    }
   ],
   "source": [
    "y_preds_2 = model_2.predict(X_test)\n",
    "plot_predictions(predictions=y_preds_2)"
   ]
  },
  {
   "cell_type": "code",
   "execution_count": 310,
   "id": "5a462d47",
   "metadata": {
    "colab": {
     "base_uri": "https://localhost:8080/"
    },
    "id": "5a462d47",
    "outputId": "bca77a1f-3cb0-4974-c04a-bf86854eb535"
   },
   "outputs": [
    {
     "data": {
      "text/plain": [
       "(<tf.Tensor: shape=(), dtype=float32, numpy=10.02835>,\n",
       " <tf.Tensor: shape=(), dtype=float32, numpy=107.83352>)"
      ]
     },
     "execution_count": 310,
     "metadata": {},
     "output_type": "execute_result"
    }
   ],
   "source": [
    "mae_2 = mae(y_test, y_preds_2)\n",
    "mse_2 = mse(y_test, y_preds_2)\n",
    "mae_2, mse_2"
   ]
  },
  {
   "cell_type": "code",
   "execution_count": 386,
   "id": "7400fac3",
   "metadata": {
    "colab": {
     "base_uri": "https://localhost:8080/"
    },
    "id": "7400fac3",
    "outputId": "919ee91b-750c-4436-f1ee-a7452264e831"
   },
   "outputs": [
    {
     "data": {
      "text/html": [
       "Finishing last run (ID:meve3gmp) before initializing another..."
      ],
      "text/plain": [
       "<IPython.core.display.HTML object>"
      ]
     },
     "metadata": {},
     "output_type": "display_data"
    },
    {
     "data": {
      "application/vnd.jupyter.widget-view+json": {
       "model_id": "",
       "version_major": 2,
       "version_minor": 0
      },
      "text/plain": [
       "VBox(children=(Label(value='0.012 MB of 0.048 MB uploaded (0.007 MB deduped)\\r'), FloatProgress(value=0.247042…"
      ]
     },
     "metadata": {},
     "output_type": "display_data"
    },
    {
     "data": {
      "text/html": [
       "W&B sync reduced upload amount by 15.4%             "
      ],
      "text/plain": [
       "<IPython.core.display.HTML object>"
      ]
     },
     "metadata": {},
     "output_type": "display_data"
    },
    {
     "data": {
      "text/html": [
       "<style>\n",
       "    table.wandb td:nth-child(1) { padding: 0 10px; text-align: left ; width: auto;} td:nth-child(2) {text-align: left ; width: 100%}\n",
       "    .wandb-row { display: flex; flex-direction: row; flex-wrap: wrap; justify-content: flex-start; width: 100% }\n",
       "    .wandb-col { display: flex; flex-direction: column; flex-basis: 100%; flex: 1; padding: 10px; }\n",
       "    </style>\n",
       "<div class=\"wandb-row\"><div class=\"wandb-col\"><h3>Run history:</h3><br/><table class=\"wandb\"><tr><td>epoch</td><td>▁▁▁▁▂▂▂▂▂▃▃▃▃▃▃▄▄▄▄▄▅▅▅▅▅▅▆▆▆▆▆▇▇▇▇▇▇███</td></tr><tr><td>loss</td><td>▁▆▁▁▁▁▁▁▁▁▂▂█▁▂▁▁▁▁▁▁▂▁▁▁▁▁▁▁▁▁▁▁▁▁▁▁▁▁▁</td></tr><tr><td>mse</td><td>▁▆▁▁▁▁▁▁▁▁▂▂█▁▂▁▁▁▁▁▁▂▁▁▁▁▁▁▁▁▁▁▁▁▁▁▁▁▁▁</td></tr></table><br/></div><div class=\"wandb-col\"><h3>Run summary:</h3><br/><table class=\"wandb\"><tr><td>epoch</td><td>99</td></tr><tr><td>loss</td><td>40.72149</td></tr><tr><td>mse</td><td>2247.11377</td></tr></table><br/></div></div>"
      ],
      "text/plain": [
       "<IPython.core.display.HTML object>"
      ]
     },
     "metadata": {},
     "output_type": "display_data"
    },
    {
     "data": {
      "text/html": [
       " View run <strong style=\"color:#cdcd00\">Dense20_1,mae,SGD</strong> at: <a href='https://wandb.ai/frackowiak_kajetan/regression_2/runs/meve3gmp' target=\"_blank\">https://wandb.ai/frackowiak_kajetan/regression_2/runs/meve3gmp</a><br/> View job at <a href='https://wandb.ai/frackowiak_kajetan/regression_2/jobs/QXJ0aWZhY3RDb2xsZWN0aW9uOjEyMzk1ODk3NQ==/version_details/v1' target=\"_blank\">https://wandb.ai/frackowiak_kajetan/regression_2/jobs/QXJ0aWZhY3RDb2xsZWN0aW9uOjEyMzk1ODk3NQ==/version_details/v1</a><br/>Synced 6 W&B file(s), 1 media file(s), 2 artifact file(s) and 0 other file(s)"
      ],
      "text/plain": [
       "<IPython.core.display.HTML object>"
      ]
     },
     "metadata": {},
     "output_type": "display_data"
    },
    {
     "data": {
      "text/html": [
       "Find logs at: <code>./wandb/run-20231216_102838-meve3gmp/logs</code>"
      ],
      "text/plain": [
       "<IPython.core.display.HTML object>"
      ]
     },
     "metadata": {},
     "output_type": "display_data"
    },
    {
     "data": {
      "text/html": [
       "Successfully finished last run (ID:meve3gmp). Initializing new run:<br/>"
      ],
      "text/plain": [
       "<IPython.core.display.HTML object>"
      ]
     },
     "metadata": {},
     "output_type": "display_data"
    },
    {
     "data": {
      "application/vnd.jupyter.widget-view+json": {
       "model_id": "322ed159e35f495388c271b4aaefad86",
       "version_major": 2,
       "version_minor": 0
      },
      "text/plain": [
       "VBox(children=(Label(value='Waiting for wandb.init()...\\r'), FloatProgress(value=0.011112330077796488, max=1.0…"
      ]
     },
     "metadata": {},
     "output_type": "display_data"
    },
    {
     "data": {
      "text/html": [
       "wandb version 0.16.1 is available!  To upgrade, please run:\n",
       " $ pip install wandb --upgrade"
      ],
      "text/plain": [
       "<IPython.core.display.HTML object>"
      ]
     },
     "metadata": {},
     "output_type": "display_data"
    },
    {
     "data": {
      "text/html": [
       "Tracking run with wandb version 0.16.0"
      ],
      "text/plain": [
       "<IPython.core.display.HTML object>"
      ]
     },
     "metadata": {},
     "output_type": "display_data"
    },
    {
     "data": {
      "text/html": [
       "Run data is saved locally in <code>/home/kajetan/tensorflow_fundamentals/wandb/run-20231216_103355-fg07bdnx</code>"
      ],
      "text/plain": [
       "<IPython.core.display.HTML object>"
      ]
     },
     "metadata": {},
     "output_type": "display_data"
    },
    {
     "data": {
      "text/html": [
       "Syncing run <strong><a href='https://wandb.ai/frackowiak_kajetan/regression_fundamentals/runs/fg07bdnx' target=\"_blank\">Dense:10,10,1.SGD.E500</a></strong> to <a href='https://wandb.ai/frackowiak_kajetan/regression_fundamentals' target=\"_blank\">Weights & Biases</a> (<a href='https://wandb.me/run' target=\"_blank\">docs</a>)<br/>"
      ],
      "text/plain": [
       "<IPython.core.display.HTML object>"
      ]
     },
     "metadata": {},
     "output_type": "display_data"
    },
    {
     "data": {
      "text/html": [
       " View project at <a href='https://wandb.ai/frackowiak_kajetan/regression_fundamentals' target=\"_blank\">https://wandb.ai/frackowiak_kajetan/regression_fundamentals</a>"
      ],
      "text/plain": [
       "<IPython.core.display.HTML object>"
      ]
     },
     "metadata": {},
     "output_type": "display_data"
    },
    {
     "data": {
      "text/html": [
       " View run at <a href='https://wandb.ai/frackowiak_kajetan/regression_fundamentals/runs/fg07bdnx' target=\"_blank\">https://wandb.ai/frackowiak_kajetan/regression_fundamentals/runs/fg07bdnx</a>"
      ],
      "text/plain": [
       "<IPython.core.display.HTML object>"
      ]
     },
     "metadata": {},
     "output_type": "display_data"
    },
    {
     "name": "stdout",
     "output_type": "stream",
     "text": [
      "Epoch 1/500\n",
      "2/2 [==============================] - 0s 7ms/step - loss: 42.2245 - mae: 42.2245\n",
      "Epoch 2/500\n",
      "2/2 [==============================] - 0s 4ms/step - loss: 44.5340 - mae: 44.5340\n",
      "Epoch 3/500\n",
      "2/2 [==============================] - 0s 3ms/step - loss: 56.0214 - mae: 56.0214\n",
      "Epoch 4/500\n",
      "2/2 [==============================] - 0s 4ms/step - loss: 41.2025 - mae: 41.2025\n",
      "Epoch 5/500\n",
      "2/2 [==============================] - 0s 5ms/step - loss: 40.5714 - mae: 40.5714\n",
      "Epoch 6/500\n",
      "2/2 [==============================] - 0s 4ms/step - loss: 40.7421 - mae: 40.7421\n",
      "Epoch 7/500\n",
      "2/2 [==============================] - 0s 4ms/step - loss: 40.7504 - mae: 40.7504\n",
      "Epoch 8/500\n",
      "2/2 [==============================] - 0s 4ms/step - loss: 40.4915 - mae: 40.4915\n",
      "Epoch 9/500\n",
      "2/2 [==============================] - 0s 3ms/step - loss: 41.2171 - mae: 41.2171\n",
      "Epoch 10/500\n",
      "2/2 [==============================] - 0s 3ms/step - loss: 40.2499 - mae: 40.2499\n",
      "Epoch 11/500\n",
      "2/2 [==============================] - 0s 3ms/step - loss: 40.7470 - mae: 40.7470\n",
      "Epoch 12/500\n",
      "2/2 [==============================] - 0s 3ms/step - loss: 44.5808 - mae: 44.5808\n",
      "Epoch 13/500\n",
      "2/2 [==============================] - 0s 4ms/step - loss: 40.8942 - mae: 40.8942\n",
      "Epoch 14/500\n",
      "2/2 [==============================] - 0s 4ms/step - loss: 41.1013 - mae: 41.1013\n",
      "Epoch 15/500\n",
      "2/2 [==============================] - 0s 3ms/step - loss: 40.6715 - mae: 40.6715\n",
      "Epoch 16/500\n",
      "2/2 [==============================] - 0s 3ms/step - loss: 40.7192 - mae: 40.7192\n",
      "Epoch 17/500\n",
      "2/2 [==============================] - 0s 3ms/step - loss: 40.3756 - mae: 40.3756\n",
      "Epoch 18/500\n",
      "2/2 [==============================] - 0s 3ms/step - loss: 40.4775 - mae: 40.4775\n",
      "Epoch 19/500\n",
      "2/2 [==============================] - 0s 4ms/step - loss: 41.1831 - mae: 41.1831\n",
      "Epoch 20/500\n",
      "2/2 [==============================] - 0s 4ms/step - loss: 41.0112 - mae: 41.0112\n",
      "Epoch 21/500\n",
      "2/2 [==============================] - 0s 4ms/step - loss: 40.8395 - mae: 40.8395\n",
      "Epoch 22/500\n",
      "2/2 [==============================] - 0s 3ms/step - loss: 40.5222 - mae: 40.5222\n",
      "Epoch 23/500\n",
      "2/2 [==============================] - 0s 3ms/step - loss: 40.5935 - mae: 40.5935\n",
      "Epoch 24/500\n",
      "2/2 [==============================] - 0s 5ms/step - loss: 40.7904 - mae: 40.7904\n",
      "Epoch 25/500\n",
      "2/2 [==============================] - 0s 3ms/step - loss: 40.6734 - mae: 40.6734\n",
      "Epoch 26/500\n",
      "2/2 [==============================] - 0s 3ms/step - loss: 40.8769 - mae: 40.8769\n",
      "Epoch 27/500\n",
      "2/2 [==============================] - 0s 3ms/step - loss: 40.6222 - mae: 40.6222\n",
      "Epoch 28/500\n",
      "2/2 [==============================] - 0s 4ms/step - loss: 40.9071 - mae: 40.9071\n",
      "Epoch 29/500\n",
      "2/2 [==============================] - 0s 3ms/step - loss: 40.1568 - mae: 40.1568\n",
      "Epoch 30/500\n",
      "2/2 [==============================] - 0s 3ms/step - loss: 41.2294 - mae: 41.2294\n",
      "Epoch 31/500\n",
      "2/2 [==============================] - 0s 4ms/step - loss: 48.6386 - mae: 48.6386\n",
      "Epoch 32/500\n",
      "2/2 [==============================] - 0s 3ms/step - loss: 40.8514 - mae: 40.8514\n",
      "Epoch 33/500\n",
      "2/2 [==============================] - 0s 4ms/step - loss: 41.1176 - mae: 41.1176\n",
      "Epoch 34/500\n",
      "2/2 [==============================] - 0s 4ms/step - loss: 40.8695 - mae: 40.8695\n",
      "Epoch 35/500\n",
      "2/2 [==============================] - 0s 4ms/step - loss: 40.4244 - mae: 40.4244\n",
      "Epoch 36/500\n",
      "2/2 [==============================] - 0s 3ms/step - loss: 41.0180 - mae: 41.0180\n",
      "Epoch 37/500\n",
      "2/2 [==============================] - 0s 5ms/step - loss: 40.8542 - mae: 40.8542\n",
      "Epoch 38/500\n",
      "2/2 [==============================] - 0s 3ms/step - loss: 40.6758 - mae: 40.6758\n",
      "Epoch 39/500\n",
      "2/2 [==============================] - 0s 3ms/step - loss: 40.7299 - mae: 40.7299\n",
      "Epoch 40/500\n",
      "2/2 [==============================] - 0s 4ms/step - loss: 40.8420 - mae: 40.8420\n",
      "Epoch 41/500\n",
      "2/2 [==============================] - 0s 3ms/step - loss: 40.3664 - mae: 40.3664\n",
      "Epoch 42/500\n",
      "2/2 [==============================] - 0s 4ms/step - loss: 40.7443 - mae: 40.7443\n",
      "Epoch 43/500\n",
      "2/2 [==============================] - 0s 3ms/step - loss: 40.4656 - mae: 40.4656\n",
      "Epoch 44/500\n",
      "2/2 [==============================] - 0s 4ms/step - loss: 40.7854 - mae: 40.7854\n",
      "Epoch 45/500\n",
      "2/2 [==============================] - 0s 3ms/step - loss: 40.9497 - mae: 40.9497\n",
      "Epoch 46/500\n",
      "2/2 [==============================] - 0s 3ms/step - loss: 40.7071 - mae: 40.7071\n",
      "Epoch 47/500\n",
      "2/2 [==============================] - 0s 4ms/step - loss: 40.7372 - mae: 40.7372\n",
      "Epoch 48/500\n",
      "2/2 [==============================] - 0s 3ms/step - loss: 40.6490 - mae: 40.6490\n",
      "Epoch 49/500\n",
      "2/2 [==============================] - 0s 4ms/step - loss: 40.6650 - mae: 40.6650\n",
      "Epoch 50/500\n",
      "2/2 [==============================] - 0s 4ms/step - loss: 40.5669 - mae: 40.5669\n",
      "Epoch 51/500\n",
      "2/2 [==============================] - 0s 5ms/step - loss: 40.6562 - mae: 40.6562\n",
      "Epoch 52/500\n",
      "2/2 [==============================] - 0s 3ms/step - loss: 40.4530 - mae: 40.4530\n",
      "Epoch 53/500\n",
      "2/2 [==============================] - 0s 4ms/step - loss: 40.0592 - mae: 40.0592\n",
      "Epoch 54/500\n",
      "2/2 [==============================] - 0s 3ms/step - loss: 41.8814 - mae: 41.8814\n",
      "Epoch 55/500\n",
      "2/2 [==============================] - 0s 4ms/step - loss: 42.9834 - mae: 42.9834\n",
      "Epoch 56/500\n",
      "2/2 [==============================] - 0s 3ms/step - loss: 40.7673 - mae: 40.7673\n",
      "Epoch 57/500\n",
      "2/2 [==============================] - 0s 3ms/step - loss: 40.4258 - mae: 40.4258\n",
      "Epoch 58/500\n",
      "2/2 [==============================] - 0s 4ms/step - loss: 40.6616 - mae: 40.6616\n",
      "Epoch 59/500\n",
      "2/2 [==============================] - 0s 3ms/step - loss: 40.7719 - mae: 40.7719\n",
      "Epoch 60/500\n",
      "2/2 [==============================] - 0s 4ms/step - loss: 40.7126 - mae: 40.7126\n",
      "Epoch 61/500\n",
      "2/2 [==============================] - 0s 3ms/step - loss: 40.7125 - mae: 40.7125\n",
      "Epoch 62/500\n",
      "2/2 [==============================] - 0s 4ms/step - loss: 40.7349 - mae: 40.7349\n",
      "Epoch 63/500\n",
      "2/2 [==============================] - 0s 3ms/step - loss: 40.6294 - mae: 40.6294\n",
      "Epoch 64/500\n",
      "2/2 [==============================] - 0s 3ms/step - loss: 40.7477 - mae: 40.7477\n",
      "Epoch 65/500\n",
      "2/2 [==============================] - 0s 4ms/step - loss: 40.6694 - mae: 40.6694\n",
      "Epoch 66/500\n",
      "2/2 [==============================] - 0s 3ms/step - loss: 40.7752 - mae: 40.7752\n",
      "Epoch 67/500\n",
      "2/2 [==============================] - 0s 4ms/step - loss: 40.7233 - mae: 40.7233\n",
      "Epoch 68/500\n",
      "2/2 [==============================] - 0s 3ms/step - loss: 40.6673 - mae: 40.6673\n",
      "Epoch 69/500\n",
      "2/2 [==============================] - 0s 3ms/step - loss: 40.7296 - mae: 40.7296\n",
      "Epoch 70/500\n",
      "2/2 [==============================] - 0s 3ms/step - loss: 40.6335 - mae: 40.6335\n",
      "Epoch 71/500\n",
      "2/2 [==============================] - 0s 3ms/step - loss: 40.6538 - mae: 40.6538\n",
      "Epoch 72/500\n",
      "2/2 [==============================] - 0s 4ms/step - loss: 40.6983 - mae: 40.6983\n",
      "Epoch 73/500\n",
      "2/2 [==============================] - 0s 3ms/step - loss: 40.6660 - mae: 40.6660\n",
      "Epoch 74/500\n",
      "2/2 [==============================] - 0s 4ms/step - loss: 40.6898 - mae: 40.6898\n",
      "Epoch 75/500\n",
      "2/2 [==============================] - 0s 3ms/step - loss: 40.7072 - mae: 40.7072\n",
      "Epoch 76/500\n",
      "2/2 [==============================] - 0s 3ms/step - loss: 40.6455 - mae: 40.6455\n",
      "Epoch 77/500\n",
      "2/2 [==============================] - 0s 3ms/step - loss: 40.7153 - mae: 40.7153\n",
      "Epoch 78/500\n",
      "2/2 [==============================] - 0s 3ms/step - loss: 40.3954 - mae: 40.3954\n",
      "Epoch 79/500\n",
      "2/2 [==============================] - 0s 3ms/step - loss: 40.4598 - mae: 40.4598\n",
      "Epoch 80/500\n",
      "2/2 [==============================] - 0s 3ms/step - loss: 40.8370 - mae: 40.8370\n",
      "Epoch 81/500\n",
      "2/2 [==============================] - 0s 5ms/step - loss: 40.0270 - mae: 40.0270\n",
      "Epoch 82/500\n",
      "2/2 [==============================] - 0s 3ms/step - loss: 40.6223 - mae: 40.6223\n",
      "Epoch 83/500\n",
      "2/2 [==============================] - 0s 4ms/step - loss: 40.6619 - mae: 40.6619\n",
      "Epoch 84/500\n",
      "2/2 [==============================] - 0s 3ms/step - loss: 40.6898 - mae: 40.6898\n",
      "Epoch 85/500\n",
      "2/2 [==============================] - 0s 4ms/step - loss: 40.7168 - mae: 40.7168\n",
      "Epoch 86/500\n",
      "2/2 [==============================] - 0s 3ms/step - loss: 40.7253 - mae: 40.7253\n",
      "Epoch 87/500\n",
      "2/2 [==============================] - 0s 3ms/step - loss: 40.6905 - mae: 40.6905\n",
      "Epoch 88/500\n",
      "2/2 [==============================] - 0s 4ms/step - loss: 40.7076 - mae: 40.7076\n",
      "Epoch 89/500\n",
      "2/2 [==============================] - 0s 3ms/step - loss: 40.7041 - mae: 40.7041\n",
      "Epoch 90/500\n",
      "2/2 [==============================] - 0s 4ms/step - loss: 40.6878 - mae: 40.6878\n",
      "Epoch 91/500\n",
      "2/2 [==============================] - 0s 3ms/step - loss: 40.6624 - mae: 40.6624\n",
      "Epoch 92/500\n",
      "2/2 [==============================] - 0s 4ms/step - loss: 40.6890 - mae: 40.6890\n",
      "Epoch 93/500\n",
      "2/2 [==============================] - 0s 3ms/step - loss: 40.6367 - mae: 40.6367\n",
      "Epoch 94/500\n",
      "2/2 [==============================] - 0s 4ms/step - loss: 40.6896 - mae: 40.6896\n",
      "Epoch 95/500\n",
      "2/2 [==============================] - 0s 3ms/step - loss: 40.7309 - mae: 40.7309\n",
      "Epoch 96/500\n",
      "2/2 [==============================] - 0s 3ms/step - loss: 40.5849 - mae: 40.5849\n",
      "Epoch 97/500\n",
      "2/2 [==============================] - 0s 4ms/step - loss: 40.7055 - mae: 40.7055\n",
      "Epoch 98/500\n",
      "2/2 [==============================] - 0s 3ms/step - loss: 40.6652 - mae: 40.6652\n",
      "Epoch 99/500\n",
      "2/2 [==============================] - 0s 4ms/step - loss: 40.6676 - mae: 40.6676\n",
      "Epoch 100/500\n",
      "2/2 [==============================] - 0s 3ms/step - loss: 40.7138 - mae: 40.7138\n",
      "Epoch 101/500\n",
      "2/2 [==============================] - 0s 4ms/step - loss: 40.6939 - mae: 40.6939\n",
      "Epoch 102/500\n",
      "2/2 [==============================] - 0s 3ms/step - loss: 40.4834 - mae: 40.4834\n",
      "Epoch 103/500\n",
      "2/2 [==============================] - 0s 3ms/step - loss: 40.5803 - mae: 40.5803\n",
      "Epoch 104/500\n",
      "2/2 [==============================] - 0s 4ms/step - loss: 40.6961 - mae: 40.6961\n",
      "Epoch 105/500\n",
      "2/2 [==============================] - 0s 3ms/step - loss: 40.6531 - mae: 40.6531\n",
      "Epoch 106/500\n",
      "2/2 [==============================] - 0s 4ms/step - loss: 40.6357 - mae: 40.6357\n",
      "Epoch 107/500\n",
      "2/2 [==============================] - 0s 3ms/step - loss: 40.6738 - mae: 40.6738\n",
      "Epoch 108/500\n",
      "2/2 [==============================] - 0s 3ms/step - loss: 40.6956 - mae: 40.6956\n",
      "Epoch 109/500\n",
      "2/2 [==============================] - 0s 4ms/step - loss: 40.6217 - mae: 40.6217\n",
      "Epoch 110/500\n",
      "2/2 [==============================] - 0s 3ms/step - loss: 40.6824 - mae: 40.6824\n",
      "Epoch 111/500\n",
      "2/2 [==============================] - 0s 4ms/step - loss: 40.6191 - mae: 40.6191\n",
      "Epoch 112/500\n",
      "2/2 [==============================] - 0s 3ms/step - loss: 40.4319 - mae: 40.4319\n",
      "Epoch 113/500\n",
      "2/2 [==============================] - 0s 4ms/step - loss: 40.4253 - mae: 40.4253\n",
      "Epoch 114/500\n",
      "2/2 [==============================] - 0s 3ms/step - loss: 40.9876 - mae: 40.9876\n",
      "Epoch 115/500\n",
      "2/2 [==============================] - 0s 3ms/step - loss: 40.8964 - mae: 40.8964\n",
      "Epoch 116/500\n",
      "2/2 [==============================] - 0s 4ms/step - loss: 40.6547 - mae: 40.6547\n",
      "Epoch 117/500\n",
      "2/2 [==============================] - 0s 3ms/step - loss: 40.5841 - mae: 40.5841\n",
      "Epoch 118/500\n",
      "2/2 [==============================] - 0s 4ms/step - loss: 40.5618 - mae: 40.5618\n",
      "Epoch 119/500\n",
      "2/2 [==============================] - 0s 3ms/step - loss: 39.9649 - mae: 39.9649\n",
      "Epoch 120/500\n",
      "2/2 [==============================] - 0s 3ms/step - loss: 41.1307 - mae: 41.1307\n",
      "Epoch 121/500\n",
      "2/2 [==============================] - 0s 3ms/step - loss: 39.9378 - mae: 39.9378\n",
      "Epoch 122/500\n",
      "2/2 [==============================] - 0s 3ms/step - loss: 41.0294 - mae: 41.0294\n",
      "Epoch 123/500\n",
      "2/2 [==============================] - 0s 4ms/step - loss: 41.8864 - mae: 41.8864\n",
      "Epoch 124/500\n",
      "2/2 [==============================] - 0s 3ms/step - loss: 41.2495 - mae: 41.2495\n",
      "Epoch 125/500\n",
      "2/2 [==============================] - 0s 3ms/step - loss: 40.6061 - mae: 40.6061\n",
      "Epoch 126/500\n",
      "2/2 [==============================] - 0s 3ms/step - loss: 40.8008 - mae: 40.8008\n",
      "Epoch 127/500\n",
      "2/2 [==============================] - 0s 3ms/step - loss: 40.2694 - mae: 40.2694\n",
      "Epoch 128/500\n",
      "2/2 [==============================] - 0s 3ms/step - loss: 41.2254 - mae: 41.2254\n",
      "Epoch 129/500\n",
      "2/2 [==============================] - 0s 4ms/step - loss: 40.3589 - mae: 40.3589\n",
      "Epoch 130/500\n",
      "2/2 [==============================] - 0s 4ms/step - loss: 41.2206 - mae: 41.2206\n",
      "Epoch 131/500\n",
      "2/2 [==============================] - 0s 3ms/step - loss: 40.7954 - mae: 40.7954\n",
      "Epoch 132/500\n",
      "2/2 [==============================] - 0s 4ms/step - loss: 40.8270 - mae: 40.8270\n",
      "Epoch 133/500\n",
      "2/2 [==============================] - 0s 3ms/step - loss: 40.5176 - mae: 40.5176\n",
      "Epoch 134/500\n",
      "2/2 [==============================] - 0s 4ms/step - loss: 41.0183 - mae: 41.0183\n",
      "Epoch 135/500\n",
      "2/2 [==============================] - 0s 3ms/step - loss: 40.7334 - mae: 40.7334\n",
      "Epoch 136/500\n",
      "2/2 [==============================] - 0s 4ms/step - loss: 40.7066 - mae: 40.7066\n",
      "Epoch 137/500\n",
      "2/2 [==============================] - 0s 3ms/step - loss: 40.0209 - mae: 40.0209\n",
      "Epoch 138/500\n",
      "2/2 [==============================] - 0s 4ms/step - loss: 40.4260 - mae: 40.4260\n",
      "Epoch 139/500\n",
      "2/2 [==============================] - 0s 3ms/step - loss: 40.8201 - mae: 40.8201\n",
      "Epoch 140/500\n",
      "2/2 [==============================] - 0s 3ms/step - loss: 40.7290 - mae: 40.7290\n",
      "Epoch 141/500\n",
      "2/2 [==============================] - 0s 4ms/step - loss: 40.1657 - mae: 40.1657\n",
      "Epoch 142/500\n",
      "2/2 [==============================] - 0s 3ms/step - loss: 40.6787 - mae: 40.6787\n",
      "Epoch 143/500\n",
      "2/2 [==============================] - 0s 4ms/step - loss: 40.4905 - mae: 40.4905\n",
      "Epoch 144/500\n",
      "2/2 [==============================] - 0s 3ms/step - loss: 40.5917 - mae: 40.5917\n",
      "Epoch 145/500\n",
      "2/2 [==============================] - 0s 4ms/step - loss: 41.3916 - mae: 41.3916\n",
      "Epoch 146/500\n",
      "2/2 [==============================] - 0s 3ms/step - loss: 39.9718 - mae: 39.9718\n",
      "Epoch 147/500\n",
      "2/2 [==============================] - 0s 11ms/step - loss: 40.2590 - mae: 40.2590\n",
      "Epoch 148/500\n",
      "2/2 [==============================] - 0s 5ms/step - loss: 40.5983 - mae: 40.5983\n",
      "Epoch 149/500\n",
      "2/2 [==============================] - 0s 4ms/step - loss: 40.7027 - mae: 40.7027\n",
      "Epoch 150/500\n",
      "2/2 [==============================] - 0s 7ms/step - loss: 40.0030 - mae: 40.0030\n",
      "Epoch 151/500\n",
      "2/2 [==============================] - 0s 5ms/step - loss: 40.9912 - mae: 40.9912\n",
      "Epoch 152/500\n",
      "2/2 [==============================] - 0s 3ms/step - loss: 40.8140 - mae: 40.8140\n",
      "Epoch 153/500\n",
      "2/2 [==============================] - 0s 4ms/step - loss: 40.3753 - mae: 40.3753\n",
      "Epoch 154/500\n",
      "2/2 [==============================] - 0s 3ms/step - loss: 40.8240 - mae: 40.8240\n",
      "Epoch 155/500\n",
      "2/2 [==============================] - 0s 3ms/step - loss: 40.6845 - mae: 40.6845\n",
      "Epoch 156/500\n",
      "2/2 [==============================] - 0s 4ms/step - loss: 40.4320 - mae: 40.4320\n",
      "Epoch 157/500\n",
      "2/2 [==============================] - 0s 4ms/step - loss: 40.7065 - mae: 40.7065\n",
      "Epoch 158/500\n",
      "2/2 [==============================] - 0s 3ms/step - loss: 40.4177 - mae: 40.4177\n",
      "Epoch 159/500\n",
      "2/2 [==============================] - 0s 3ms/step - loss: 40.6188 - mae: 40.6188\n",
      "Epoch 160/500\n",
      "2/2 [==============================] - 0s 3ms/step - loss: 40.7234 - mae: 40.7234\n",
      "Epoch 161/500\n",
      "2/2 [==============================] - 0s 5ms/step - loss: 40.6965 - mae: 40.6965\n",
      "Epoch 162/500\n",
      "2/2 [==============================] - 0s 3ms/step - loss: 40.6251 - mae: 40.6251\n",
      "Epoch 163/500\n",
      "2/2 [==============================] - 0s 5ms/step - loss: 40.7265 - mae: 40.7265\n",
      "Epoch 164/500\n",
      "2/2 [==============================] - 0s 3ms/step - loss: 40.4728 - mae: 40.4728\n",
      "Epoch 165/500\n",
      "2/2 [==============================] - 0s 3ms/step - loss: 40.6445 - mae: 40.6445\n",
      "Epoch 166/500\n",
      "2/2 [==============================] - 0s 3ms/step - loss: 40.5808 - mae: 40.5808\n",
      "Epoch 167/500\n",
      "2/2 [==============================] - 0s 4ms/step - loss: 40.7157 - mae: 40.7157\n",
      "Epoch 168/500\n",
      "2/2 [==============================] - 0s 4ms/step - loss: 40.6879 - mae: 40.6879\n",
      "Epoch 169/500\n",
      "2/2 [==============================] - 0s 3ms/step - loss: 40.6646 - mae: 40.6646\n",
      "Epoch 170/500\n",
      "2/2 [==============================] - 0s 3ms/step - loss: 40.6561 - mae: 40.6561\n",
      "Epoch 171/500\n",
      "2/2 [==============================] - 0s 3ms/step - loss: 40.6354 - mae: 40.6354\n",
      "Epoch 172/500\n"
     ]
    },
    {
     "name": "stdout",
     "output_type": "stream",
     "text": [
      "2/2 [==============================] - 0s 3ms/step - loss: 40.4978 - mae: 40.4978\n",
      "Epoch 173/500\n",
      "2/2 [==============================] - 0s 3ms/step - loss: 40.6924 - mae: 40.6924\n",
      "Epoch 174/500\n",
      "2/2 [==============================] - 0s 3ms/step - loss: 40.5875 - mae: 40.5875\n",
      "Epoch 175/500\n",
      "2/2 [==============================] - 0s 4ms/step - loss: 40.5379 - mae: 40.5379\n",
      "Epoch 176/500\n",
      "2/2 [==============================] - 0s 3ms/step - loss: 40.7935 - mae: 40.7935\n",
      "Epoch 177/500\n",
      "2/2 [==============================] - 0s 4ms/step - loss: 40.7568 - mae: 40.7568\n",
      "Epoch 178/500\n",
      "2/2 [==============================] - 0s 3ms/step - loss: 40.6118 - mae: 40.6118\n",
      "Epoch 179/500\n",
      "2/2 [==============================] - 0s 3ms/step - loss: 40.0376 - mae: 40.0376\n",
      "Epoch 180/500\n",
      "2/2 [==============================] - 0s 3ms/step - loss: 40.6687 - mae: 40.6687\n",
      "Epoch 181/500\n",
      "2/2 [==============================] - 0s 3ms/step - loss: 40.7214 - mae: 40.7214\n",
      "Epoch 182/500\n",
      "2/2 [==============================] - 0s 4ms/step - loss: 40.5095 - mae: 40.5095\n",
      "Epoch 183/500\n",
      "2/2 [==============================] - 0s 3ms/step - loss: 39.8254 - mae: 39.8254\n",
      "Epoch 184/500\n",
      "2/2 [==============================] - 0s 5ms/step - loss: 41.4021 - mae: 41.4021\n",
      "Epoch 185/500\n",
      "2/2 [==============================] - 0s 3ms/step - loss: 40.7444 - mae: 40.7444\n",
      "Epoch 186/500\n",
      "2/2 [==============================] - 0s 4ms/step - loss: 40.4546 - mae: 40.4546\n",
      "Epoch 187/500\n",
      "2/2 [==============================] - 0s 3ms/step - loss: 40.6626 - mae: 40.6626\n",
      "Epoch 188/500\n",
      "2/2 [==============================] - 0s 3ms/step - loss: 40.2863 - mae: 40.2863\n",
      "Epoch 189/500\n",
      "2/2 [==============================] - 0s 4ms/step - loss: 40.7753 - mae: 40.7753\n",
      "Epoch 190/500\n",
      "2/2 [==============================] - 0s 3ms/step - loss: 40.6953 - mae: 40.6953\n",
      "Epoch 191/500\n",
      "2/2 [==============================] - 0s 4ms/step - loss: 40.5917 - mae: 40.5917\n",
      "Epoch 192/500\n",
      "2/2 [==============================] - 0s 3ms/step - loss: 40.3009 - mae: 40.3009\n",
      "Epoch 193/500\n",
      "2/2 [==============================] - 0s 3ms/step - loss: 40.5597 - mae: 40.5597\n",
      "Epoch 194/500\n",
      "2/2 [==============================] - 0s 3ms/step - loss: 40.6419 - mae: 40.6419\n",
      "Epoch 195/500\n",
      "2/2 [==============================] - 0s 4ms/step - loss: 40.5925 - mae: 40.5925\n",
      "Epoch 196/500\n",
      "2/2 [==============================] - 0s 4ms/step - loss: 39.4355 - mae: 39.4355\n",
      "Epoch 197/500\n",
      "2/2 [==============================] - 0s 3ms/step - loss: 40.9143 - mae: 40.9143\n",
      "Epoch 198/500\n",
      "2/2 [==============================] - 0s 4ms/step - loss: 40.4773 - mae: 40.4773\n",
      "Epoch 199/500\n",
      "2/2 [==============================] - 0s 3ms/step - loss: 40.9414 - mae: 40.9414\n",
      "Epoch 200/500\n",
      "2/2 [==============================] - 0s 3ms/step - loss: 40.8617 - mae: 40.8617\n",
      "Epoch 201/500\n",
      "2/2 [==============================] - 0s 4ms/step - loss: 40.1600 - mae: 40.1600\n",
      "Epoch 202/500\n",
      "2/2 [==============================] - 0s 3ms/step - loss: 41.0637 - mae: 41.0637\n",
      "Epoch 203/500\n",
      "2/2 [==============================] - 0s 4ms/step - loss: 40.7368 - mae: 40.7368\n",
      "Epoch 204/500\n",
      "2/2 [==============================] - 0s 3ms/step - loss: 40.7862 - mae: 40.7862\n",
      "Epoch 205/500\n",
      "2/2 [==============================] - 0s 3ms/step - loss: 40.6178 - mae: 40.6178\n",
      "Epoch 206/500\n",
      "2/2 [==============================] - 0s 3ms/step - loss: 40.6953 - mae: 40.6953\n",
      "Epoch 207/500\n",
      "2/2 [==============================] - 0s 3ms/step - loss: 40.4734 - mae: 40.4734\n",
      "Epoch 208/500\n",
      "2/2 [==============================] - 0s 4ms/step - loss: 40.6570 - mae: 40.6570\n",
      "Epoch 209/500\n",
      "2/2 [==============================] - 0s 3ms/step - loss: 40.0500 - mae: 40.0500\n",
      "Epoch 210/500\n",
      "2/2 [==============================] - 0s 4ms/step - loss: 41.0277 - mae: 41.0277\n",
      "Epoch 211/500\n",
      "2/2 [==============================] - 0s 3ms/step - loss: 40.8783 - mae: 40.8783\n",
      "Epoch 212/500\n",
      "2/2 [==============================] - 0s 3ms/step - loss: 40.6515 - mae: 40.6515\n",
      "Epoch 213/500\n",
      "2/2 [==============================] - 0s 3ms/step - loss: 40.6822 - mae: 40.6822\n",
      "Epoch 214/500\n",
      "2/2 [==============================] - 0s 3ms/step - loss: 40.6614 - mae: 40.6614\n",
      "Epoch 215/500\n",
      "2/2 [==============================] - 0s 4ms/step - loss: 40.6779 - mae: 40.6779\n",
      "Epoch 216/500\n",
      "2/2 [==============================] - 0s 3ms/step - loss: 40.5535 - mae: 40.5535\n",
      "Epoch 217/500\n",
      "2/2 [==============================] - 0s 4ms/step - loss: 39.8709 - mae: 39.8709\n",
      "Epoch 218/500\n",
      "2/2 [==============================] - 0s 3ms/step - loss: 40.3873 - mae: 40.3873\n",
      "Epoch 219/500\n",
      "2/2 [==============================] - 0s 3ms/step - loss: 40.7146 - mae: 40.7146\n",
      "Epoch 220/500\n",
      "2/2 [==============================] - 0s 4ms/step - loss: 39.9523 - mae: 39.9523\n",
      "Epoch 221/500\n",
      "2/2 [==============================] - 0s 3ms/step - loss: 40.9790 - mae: 40.9790\n",
      "Epoch 222/500\n",
      "2/2 [==============================] - 0s 4ms/step - loss: 40.7562 - mae: 40.7562\n",
      "Epoch 223/500\n",
      "2/2 [==============================] - 0s 3ms/step - loss: 40.0445 - mae: 40.0445\n",
      "Epoch 224/500\n",
      "2/2 [==============================] - 0s 3ms/step - loss: 40.7307 - mae: 40.7307\n",
      "Epoch 225/500\n",
      "2/2 [==============================] - 0s 3ms/step - loss: 40.6527 - mae: 40.6527\n",
      "Epoch 226/500\n",
      "2/2 [==============================] - 0s 3ms/step - loss: 40.8387 - mae: 40.8387\n",
      "Epoch 227/500\n",
      "2/2 [==============================] - 0s 4ms/step - loss: 40.7517 - mae: 40.7517\n",
      "Epoch 228/500\n",
      "2/2 [==============================] - 0s 3ms/step - loss: 40.4130 - mae: 40.4130\n",
      "Epoch 229/500\n",
      "2/2 [==============================] - 0s 4ms/step - loss: 40.6793 - mae: 40.6793\n",
      "Epoch 230/500\n",
      "2/2 [==============================] - 0s 3ms/step - loss: 40.3896 - mae: 40.3896\n",
      "Epoch 231/500\n",
      "2/2 [==============================] - 0s 3ms/step - loss: 40.7859 - mae: 40.7859\n",
      "Epoch 232/500\n",
      "2/2 [==============================] - 0s 4ms/step - loss: 40.7252 - mae: 40.7252\n",
      "Epoch 233/500\n",
      "2/2 [==============================] - 0s 3ms/step - loss: 40.7112 - mae: 40.7112\n",
      "Epoch 234/500\n",
      "2/2 [==============================] - 0s 4ms/step - loss: 40.4188 - mae: 40.4188\n",
      "Epoch 235/500\n",
      "2/2 [==============================] - 0s 3ms/step - loss: 40.6537 - mae: 40.6537\n",
      "Epoch 236/500\n",
      "2/2 [==============================] - 0s 3ms/step - loss: 40.6168 - mae: 40.6168\n",
      "Epoch 237/500\n",
      "2/2 [==============================] - 0s 3ms/step - loss: 40.3988 - mae: 40.3988\n",
      "Epoch 238/500\n",
      "2/2 [==============================] - 0s 3ms/step - loss: 40.6637 - mae: 40.6637\n",
      "Epoch 239/500\n",
      "2/2 [==============================] - 0s 4ms/step - loss: 40.6571 - mae: 40.6571\n",
      "Epoch 240/500\n",
      "2/2 [==============================] - 0s 3ms/step - loss: 40.6139 - mae: 40.6139\n",
      "Epoch 241/500\n",
      "2/2 [==============================] - 0s 4ms/step - loss: 40.6389 - mae: 40.6389\n",
      "Epoch 242/500\n",
      "2/2 [==============================] - 0s 3ms/step - loss: 40.6087 - mae: 40.6087\n",
      "Epoch 243/500\n",
      "2/2 [==============================] - 0s 3ms/step - loss: 40.4194 - mae: 40.4194\n",
      "Epoch 244/500\n",
      "2/2 [==============================] - 0s 3ms/step - loss: 40.6459 - mae: 40.6459\n",
      "Epoch 245/500\n",
      "2/2 [==============================] - 0s 3ms/step - loss: 40.6322 - mae: 40.6322\n",
      "Epoch 246/500\n",
      "2/2 [==============================] - 0s 4ms/step - loss: 40.5862 - mae: 40.5862\n",
      "Epoch 247/500\n",
      "2/2 [==============================] - 0s 3ms/step - loss: 40.6364 - mae: 40.6364\n",
      "Epoch 248/500\n",
      "2/2 [==============================] - 0s 4ms/step - loss: 40.6570 - mae: 40.6570\n",
      "Epoch 249/500\n",
      "2/2 [==============================] - 0s 3ms/step - loss: 40.5408 - mae: 40.5408\n",
      "Epoch 250/500\n",
      "2/2 [==============================] - 0s 4ms/step - loss: 40.6004 - mae: 40.6004\n",
      "Epoch 251/500\n",
      "2/2 [==============================] - 0s 4ms/step - loss: 40.2190 - mae: 40.2190\n",
      "Epoch 252/500\n",
      "2/2 [==============================] - 0s 3ms/step - loss: 40.9164 - mae: 40.9164\n",
      "Epoch 253/500\n",
      "2/2 [==============================] - 0s 4ms/step - loss: 40.7941 - mae: 40.7941\n",
      "Epoch 254/500\n",
      "2/2 [==============================] - 0s 3ms/step - loss: 40.5197 - mae: 40.5197\n",
      "Epoch 255/500\n",
      "2/2 [==============================] - 0s 4ms/step - loss: 40.8914 - mae: 40.8914\n",
      "Epoch 256/500\n",
      "2/2 [==============================] - 0s 3ms/step - loss: 40.4931 - mae: 40.4931\n",
      "Epoch 257/500\n",
      "2/2 [==============================] - 0s 3ms/step - loss: 40.7244 - mae: 40.7244\n",
      "Epoch 258/500\n",
      "2/2 [==============================] - 0s 3ms/step - loss: 40.6311 - mae: 40.6311\n",
      "Epoch 259/500\n",
      "2/2 [==============================] - 0s 3ms/step - loss: 40.3975 - mae: 40.3975\n",
      "Epoch 260/500\n",
      "2/2 [==============================] - 0s 4ms/step - loss: 40.8402 - mae: 40.8402\n",
      "Epoch 261/500\n",
      "2/2 [==============================] - 0s 3ms/step - loss: 40.1055 - mae: 40.1055\n",
      "Epoch 262/500\n",
      "2/2 [==============================] - 0s 4ms/step - loss: 40.1555 - mae: 40.1555\n",
      "Epoch 263/500\n",
      "2/2 [==============================] - 0s 3ms/step - loss: 40.8658 - mae: 40.8658\n",
      "Epoch 264/500\n",
      "2/2 [==============================] - 0s 3ms/step - loss: 39.9857 - mae: 39.9857\n",
      "Epoch 265/500\n",
      "2/2 [==============================] - 0s 3ms/step - loss: 40.4128 - mae: 40.4128\n",
      "Epoch 266/500\n",
      "2/2 [==============================] - 0s 3ms/step - loss: 40.6138 - mae: 40.6138\n",
      "Epoch 267/500\n",
      "2/2 [==============================] - 0s 4ms/step - loss: 40.6396 - mae: 40.6396\n",
      "Epoch 268/500\n",
      "2/2 [==============================] - 0s 3ms/step - loss: 40.4070 - mae: 40.4070\n",
      "Epoch 269/500\n",
      "2/2 [==============================] - 0s 4ms/step - loss: 40.7733 - mae: 40.7733\n",
      "Epoch 270/500\n",
      "2/2 [==============================] - 0s 3ms/step - loss: 40.0005 - mae: 40.0005\n",
      "Epoch 271/500\n",
      "2/2 [==============================] - 0s 4ms/step - loss: 40.4123 - mae: 40.4123\n",
      "Epoch 272/500\n",
      "2/2 [==============================] - 0s 3ms/step - loss: 40.7157 - mae: 40.7157\n",
      "Epoch 273/500\n",
      "2/2 [==============================] - 0s 3ms/step - loss: 40.5788 - mae: 40.5788\n",
      "Epoch 274/500\n",
      "2/2 [==============================] - 0s 4ms/step - loss: 39.8745 - mae: 39.8745\n",
      "Epoch 275/500\n",
      "2/2 [==============================] - 0s 4ms/step - loss: 41.1060 - mae: 41.1060\n",
      "Epoch 276/500\n",
      "2/2 [==============================] - 0s 4ms/step - loss: 40.9234 - mae: 40.9234\n",
      "Epoch 277/500\n",
      "2/2 [==============================] - 0s 4ms/step - loss: 40.2215 - mae: 40.2215\n",
      "Epoch 278/500\n",
      "2/2 [==============================] - 0s 4ms/step - loss: 40.7783 - mae: 40.7783\n",
      "Epoch 279/500\n",
      "2/2 [==============================] - 0s 3ms/step - loss: 40.6542 - mae: 40.6542\n",
      "Epoch 280/500\n",
      "2/2 [==============================] - 0s 3ms/step - loss: 40.8375 - mae: 40.8375\n",
      "Epoch 281/500\n",
      "2/2 [==============================] - 0s 3ms/step - loss: 40.6987 - mae: 40.6987\n",
      "Epoch 282/500\n",
      "2/2 [==============================] - 0s 3ms/step - loss: 40.6866 - mae: 40.6866\n",
      "Epoch 283/500\n",
      "2/2 [==============================] - 0s 4ms/step - loss: 40.5480 - mae: 40.5480\n",
      "Epoch 284/500\n",
      "2/2 [==============================] - 0s 3ms/step - loss: 40.5984 - mae: 40.5984\n",
      "Epoch 285/500\n",
      "2/2 [==============================] - 0s 4ms/step - loss: 40.5158 - mae: 40.5158\n",
      "Epoch 286/500\n",
      "2/2 [==============================] - 0s 3ms/step - loss: 40.4758 - mae: 40.4758\n",
      "Epoch 287/500\n",
      "2/2 [==============================] - 0s 3ms/step - loss: 40.8532 - mae: 40.8532\n",
      "Epoch 288/500\n",
      "2/2 [==============================] - 0s 3ms/step - loss: 40.6676 - mae: 40.6676\n",
      "Epoch 289/500\n",
      "2/2 [==============================] - 0s 3ms/step - loss: 40.6896 - mae: 40.6896\n",
      "Epoch 290/500\n",
      "2/2 [==============================] - 0s 4ms/step - loss: 40.6441 - mae: 40.6441\n",
      "Epoch 291/500\n",
      "2/2 [==============================] - 0s 3ms/step - loss: 40.5770 - mae: 40.5770\n",
      "Epoch 292/500\n",
      "2/2 [==============================] - 0s 3ms/step - loss: 40.3828 - mae: 40.3828\n",
      "Epoch 293/500\n",
      "2/2 [==============================] - 0s 3ms/step - loss: 40.4426 - mae: 40.4426\n",
      "Epoch 294/500\n",
      "2/2 [==============================] - 0s 3ms/step - loss: 40.7872 - mae: 40.7872\n",
      "Epoch 295/500\n",
      "2/2 [==============================] - 0s 3ms/step - loss: 40.7094 - mae: 40.7094\n",
      "Epoch 296/500\n",
      "2/2 [==============================] - 0s 3ms/step - loss: 40.5229 - mae: 40.5229\n",
      "Epoch 297/500\n",
      "2/2 [==============================] - 0s 4ms/step - loss: 40.6417 - mae: 40.6417\n",
      "Epoch 298/500\n",
      "2/2 [==============================] - 0s 3ms/step - loss: 40.6655 - mae: 40.6655\n",
      "Epoch 299/500\n",
      "2/2 [==============================] - 0s 4ms/step - loss: 40.3949 - mae: 40.3949\n",
      "Epoch 300/500\n",
      "2/2 [==============================] - 0s 3ms/step - loss: 40.4699 - mae: 40.4699\n",
      "Epoch 301/500\n",
      "2/2 [==============================] - 0s 3ms/step - loss: 40.5162 - mae: 40.5162\n",
      "Epoch 302/500\n",
      "2/2 [==============================] - 0s 4ms/step - loss: 40.8228 - mae: 40.8228\n",
      "Epoch 303/500\n",
      "2/2 [==============================] - 0s 3ms/step - loss: 40.9339 - mae: 40.9339\n",
      "Epoch 304/500\n",
      "2/2 [==============================] - 0s 4ms/step - loss: 39.9258 - mae: 39.9258\n",
      "Epoch 305/500\n",
      "2/2 [==============================] - 0s 3ms/step - loss: 40.8575 - mae: 40.8575\n",
      "Epoch 306/500\n",
      "2/2 [==============================] - 0s 4ms/step - loss: 40.7576 - mae: 40.7576\n",
      "Epoch 307/500\n",
      "2/2 [==============================] - 0s 3ms/step - loss: 40.6589 - mae: 40.6589\n",
      "Epoch 308/500\n",
      "2/2 [==============================] - 0s 3ms/step - loss: 40.7034 - mae: 40.7034\n",
      "Epoch 309/500\n",
      "2/2 [==============================] - 0s 3ms/step - loss: 40.6748 - mae: 40.6748\n",
      "Epoch 310/500\n",
      "2/2 [==============================] - 0s 3ms/step - loss: 40.5788 - mae: 40.5788\n",
      "Epoch 311/500\n",
      "2/2 [==============================] - 0s 4ms/step - loss: 40.0772 - mae: 40.0772\n",
      "Epoch 312/500\n",
      "2/2 [==============================] - 0s 3ms/step - loss: 40.7928 - mae: 40.7928\n",
      "Epoch 313/500\n",
      "2/2 [==============================] - 0s 3ms/step - loss: 39.7163 - mae: 39.7163\n",
      "Epoch 314/500\n",
      "2/2 [==============================] - 0s 3ms/step - loss: 40.8364 - mae: 40.8364\n",
      "Epoch 315/500\n",
      "2/2 [==============================] - 0s 3ms/step - loss: 40.7616 - mae: 40.7616\n",
      "Epoch 316/500\n",
      "2/2 [==============================] - 0s 4ms/step - loss: 40.0449 - mae: 40.0449\n",
      "Epoch 317/500\n",
      "2/2 [==============================] - 0s 3ms/step - loss: 40.8518 - mae: 40.8518\n",
      "Epoch 318/500\n",
      "2/2 [==============================] - 0s 4ms/step - loss: 40.9153 - mae: 40.9153\n",
      "Epoch 319/500\n",
      "2/2 [==============================] - 0s 3ms/step - loss: 40.8463 - mae: 40.8463\n",
      "Epoch 320/500\n",
      "2/2 [==============================] - 0s 4ms/step - loss: 40.7000 - mae: 40.7000\n",
      "Epoch 321/500\n",
      "2/2 [==============================] - 0s 3ms/step - loss: 40.2021 - mae: 40.2021\n",
      "Epoch 322/500\n",
      "2/2 [==============================] - 0s 3ms/step - loss: 40.6533 - mae: 40.6533\n",
      "Epoch 323/500\n",
      "2/2 [==============================] - 0s 5ms/step - loss: 40.6538 - mae: 40.6538\n",
      "Epoch 324/500\n",
      "2/2 [==============================] - 0s 3ms/step - loss: 40.5638 - mae: 40.5638\n",
      "Epoch 325/500\n",
      "2/2 [==============================] - 0s 4ms/step - loss: 40.6019 - mae: 40.6019\n",
      "Epoch 326/500\n",
      "2/2 [==============================] - 0s 3ms/step - loss: 40.5993 - mae: 40.5993\n",
      "Epoch 327/500\n",
      "2/2 [==============================] - 0s 3ms/step - loss: 40.3080 - mae: 40.3080\n",
      "Epoch 328/500\n",
      "2/2 [==============================] - 0s 4ms/step - loss: 40.5783 - mae: 40.5783\n",
      "Epoch 329/500\n",
      "2/2 [==============================] - 0s 3ms/step - loss: 40.5348 - mae: 40.5348\n",
      "Epoch 330/500\n",
      "2/2 [==============================] - 0s 4ms/step - loss: 40.5714 - mae: 40.5714\n",
      "Epoch 331/500\n",
      "2/2 [==============================] - 0s 3ms/step - loss: 40.3531 - mae: 40.3531\n",
      "Epoch 332/500\n",
      "2/2 [==============================] - 0s 3ms/step - loss: 40.6472 - mae: 40.6472\n",
      "Epoch 333/500\n",
      "2/2 [==============================] - 0s 3ms/step - loss: 40.6492 - mae: 40.6492\n",
      "Epoch 334/500\n",
      "2/2 [==============================] - 0s 4ms/step - loss: 40.4687 - mae: 40.4687\n",
      "Epoch 335/500\n",
      "2/2 [==============================] - 0s 4ms/step - loss: 39.9955 - mae: 39.9955\n",
      "Epoch 336/500\n",
      "2/2 [==============================] - 0s 3ms/step - loss: 40.7859 - mae: 40.7859\n",
      "Epoch 337/500\n",
      "2/2 [==============================] - 0s 4ms/step - loss: 40.2975 - mae: 40.2975\n",
      "Epoch 338/500\n",
      "2/2 [==============================] - 0s 4ms/step - loss: 40.4575 - mae: 40.4575\n",
      "Epoch 339/500\n",
      "2/2 [==============================] - 0s 4ms/step - loss: 40.4771 - mae: 40.4771\n",
      "Epoch 340/500\n",
      "2/2 [==============================] - 0s 4ms/step - loss: 40.7032 - mae: 40.7032\n",
      "Epoch 341/500\n",
      "2/2 [==============================] - 0s 3ms/step - loss: 40.4437 - mae: 40.4437\n",
      "Epoch 342/500\n"
     ]
    },
    {
     "name": "stdout",
     "output_type": "stream",
     "text": [
      "2/2 [==============================] - 0s 3ms/step - loss: 40.1108 - mae: 40.1108\n",
      "Epoch 343/500\n",
      "2/2 [==============================] - 0s 3ms/step - loss: 40.1467 - mae: 40.1467\n",
      "Epoch 344/500\n",
      "2/2 [==============================] - 0s 3ms/step - loss: 39.5489 - mae: 39.5489\n",
      "Epoch 345/500\n",
      "2/2 [==============================] - 0s 3ms/step - loss: 41.3172 - mae: 41.3172\n",
      "Epoch 346/500\n",
      "2/2 [==============================] - 0s 3ms/step - loss: 40.8628 - mae: 40.8628\n",
      "Epoch 347/500\n",
      "2/2 [==============================] - 0s 3ms/step - loss: 40.9648 - mae: 40.9648\n",
      "Epoch 348/500\n",
      "2/2 [==============================] - 0s 3ms/step - loss: 40.6569 - mae: 40.6569\n",
      "Epoch 349/500\n",
      "2/2 [==============================] - 0s 3ms/step - loss: 40.6890 - mae: 40.6890\n",
      "Epoch 350/500\n",
      "2/2 [==============================] - 0s 3ms/step - loss: 39.7454 - mae: 39.7454\n",
      "Epoch 351/500\n",
      "2/2 [==============================] - 0s 3ms/step - loss: 40.8792 - mae: 40.8792\n",
      "Epoch 352/500\n",
      "2/2 [==============================] - 0s 3ms/step - loss: 40.9786 - mae: 40.9786\n",
      "Epoch 353/500\n",
      "2/2 [==============================] - 0s 3ms/step - loss: 40.7602 - mae: 40.7602\n",
      "Epoch 354/500\n",
      "2/2 [==============================] - 0s 3ms/step - loss: 40.6322 - mae: 40.6322\n",
      "Epoch 355/500\n",
      "2/2 [==============================] - 0s 3ms/step - loss: 40.5515 - mae: 40.5515\n",
      "Epoch 356/500\n",
      "2/2 [==============================] - 0s 3ms/step - loss: 40.2911 - mae: 40.2911\n",
      "Epoch 357/500\n",
      "2/2 [==============================] - 0s 3ms/step - loss: 40.2346 - mae: 40.2346\n",
      "Epoch 358/500\n",
      "2/2 [==============================] - 0s 3ms/step - loss: 40.9457 - mae: 40.9457\n",
      "Epoch 359/500\n",
      "2/2 [==============================] - 0s 4ms/step - loss: 40.3910 - mae: 40.3910\n",
      "Epoch 360/500\n",
      "2/2 [==============================] - 0s 4ms/step - loss: 40.7450 - mae: 40.7450\n",
      "Epoch 361/500\n",
      "2/2 [==============================] - 0s 3ms/step - loss: 40.6388 - mae: 40.6388\n",
      "Epoch 362/500\n",
      "2/2 [==============================] - 0s 3ms/step - loss: 40.6012 - mae: 40.6012\n",
      "Epoch 363/500\n",
      "2/2 [==============================] - 0s 3ms/step - loss: 40.3042 - mae: 40.3042\n",
      "Epoch 364/500\n",
      "2/2 [==============================] - 0s 4ms/step - loss: 40.9448 - mae: 40.9448\n",
      "Epoch 365/500\n",
      "2/2 [==============================] - 0s 3ms/step - loss: 40.4039 - mae: 40.4039\n",
      "Epoch 366/500\n",
      "2/2 [==============================] - 0s 4ms/step - loss: 40.0022 - mae: 40.0022\n",
      "Epoch 367/500\n",
      "2/2 [==============================] - 0s 3ms/step - loss: 41.0173 - mae: 41.0173\n",
      "Epoch 368/500\n",
      "2/2 [==============================] - 0s 4ms/step - loss: 40.7225 - mae: 40.7225\n",
      "Epoch 369/500\n",
      "2/2 [==============================] - 0s 3ms/step - loss: 40.7241 - mae: 40.7241\n",
      "Epoch 370/500\n",
      "2/2 [==============================] - 0s 3ms/step - loss: 40.6694 - mae: 40.6694\n",
      "Epoch 371/500\n",
      "2/2 [==============================] - 0s 3ms/step - loss: 40.4943 - mae: 40.4943\n",
      "Epoch 372/500\n",
      "2/2 [==============================] - 0s 5ms/step - loss: 40.5392 - mae: 40.5392\n",
      "Epoch 373/500\n",
      "2/2 [==============================] - 0s 4ms/step - loss: 40.6623 - mae: 40.6623\n",
      "Epoch 374/500\n",
      "2/2 [==============================] - 0s 7ms/step - loss: 40.5568 - mae: 40.5568\n",
      "Epoch 375/500\n",
      "2/2 [==============================] - 0s 5ms/step - loss: 40.5018 - mae: 40.5018\n",
      "Epoch 376/500\n",
      "2/2 [==============================] - 0s 3ms/step - loss: 40.2051 - mae: 40.2051\n",
      "Epoch 377/500\n",
      "2/2 [==============================] - 0s 3ms/step - loss: 40.4417 - mae: 40.4417\n",
      "Epoch 378/500\n",
      "2/2 [==============================] - 0s 4ms/step - loss: 40.5224 - mae: 40.5224\n",
      "Epoch 379/500\n",
      "2/2 [==============================] - 0s 3ms/step - loss: 40.5189 - mae: 40.5189\n",
      "Epoch 380/500\n",
      "2/2 [==============================] - 0s 3ms/step - loss: 40.6725 - mae: 40.6725\n",
      "Epoch 381/500\n",
      "2/2 [==============================] - 0s 3ms/step - loss: 40.5884 - mae: 40.5884\n",
      "Epoch 382/500\n",
      "2/2 [==============================] - 0s 3ms/step - loss: 40.5294 - mae: 40.5294\n",
      "Epoch 383/500\n",
      "2/2 [==============================] - 0s 4ms/step - loss: 40.4222 - mae: 40.4222\n",
      "Epoch 384/500\n",
      "2/2 [==============================] - 0s 3ms/step - loss: 40.0912 - mae: 40.0912\n",
      "Epoch 385/500\n",
      "2/2 [==============================] - 0s 3ms/step - loss: 40.6275 - mae: 40.6275\n",
      "Epoch 386/500\n",
      "2/2 [==============================] - 0s 3ms/step - loss: 40.6084 - mae: 40.6084\n",
      "Epoch 387/500\n",
      "2/2 [==============================] - 0s 3ms/step - loss: 40.5919 - mae: 40.5919\n",
      "Epoch 388/500\n",
      "2/2 [==============================] - 0s 4ms/step - loss: 40.6491 - mae: 40.6491\n",
      "Epoch 389/500\n",
      "2/2 [==============================] - 0s 3ms/step - loss: 40.2830 - mae: 40.2830\n",
      "Epoch 390/500\n",
      "2/2 [==============================] - 0s 3ms/step - loss: 40.7597 - mae: 40.7597\n",
      "Epoch 391/500\n",
      "2/2 [==============================] - 0s 3ms/step - loss: 40.7279 - mae: 40.7279\n",
      "Epoch 392/500\n",
      "2/2 [==============================] - 0s 3ms/step - loss: 40.4516 - mae: 40.4516\n",
      "Epoch 393/500\n",
      "2/2 [==============================] - 0s 4ms/step - loss: 40.6294 - mae: 40.6294\n",
      "Epoch 394/500\n",
      "2/2 [==============================] - 0s 3ms/step - loss: 40.4605 - mae: 40.4605\n",
      "Epoch 395/500\n",
      "2/2 [==============================] - 0s 4ms/step - loss: 40.6532 - mae: 40.6532\n",
      "Epoch 396/500\n",
      "2/2 [==============================] - 0s 3ms/step - loss: 40.4226 - mae: 40.4226\n",
      "Epoch 397/500\n",
      "2/2 [==============================] - 0s 3ms/step - loss: 40.5729 - mae: 40.5729\n",
      "Epoch 398/500\n",
      "2/2 [==============================] - 0s 3ms/step - loss: 40.6378 - mae: 40.6378\n",
      "Epoch 399/500\n",
      "2/2 [==============================] - 0s 3ms/step - loss: 40.4757 - mae: 40.4757\n",
      "Epoch 400/500\n",
      "2/2 [==============================] - 0s 4ms/step - loss: 40.7098 - mae: 40.7098\n",
      "Epoch 401/500\n",
      "2/2 [==============================] - 0s 3ms/step - loss: 39.9102 - mae: 39.9102\n",
      "Epoch 402/500\n",
      "2/2 [==============================] - 0s 3ms/step - loss: 40.4160 - mae: 40.4160\n",
      "Epoch 403/500\n",
      "2/2 [==============================] - 0s 3ms/step - loss: 40.1317 - mae: 40.1317\n",
      "Epoch 404/500\n",
      "2/2 [==============================] - 0s 3ms/step - loss: 41.2831 - mae: 41.2831\n",
      "Epoch 405/500\n",
      "2/2 [==============================] - 0s 4ms/step - loss: 40.7372 - mae: 40.7372\n",
      "Epoch 406/500\n",
      "2/2 [==============================] - 0s 3ms/step - loss: 40.7470 - mae: 40.7470\n",
      "Epoch 407/500\n",
      "2/2 [==============================] - 0s 4ms/step - loss: 40.6501 - mae: 40.6501\n",
      "Epoch 408/500\n",
      "2/2 [==============================] - 0s 3ms/step - loss: 40.0919 - mae: 40.0919\n",
      "Epoch 409/500\n",
      "2/2 [==============================] - 0s 3ms/step - loss: 40.7849 - mae: 40.7849\n",
      "Epoch 410/500\n",
      "2/2 [==============================] - 0s 3ms/step - loss: 40.8398 - mae: 40.8398\n",
      "Epoch 411/500\n",
      "2/2 [==============================] - 0s 3ms/step - loss: 40.6442 - mae: 40.6442\n",
      "Epoch 412/500\n",
      "2/2 [==============================] - 0s 4ms/step - loss: 40.7470 - mae: 40.7470\n",
      "Epoch 413/500\n",
      "2/2 [==============================] - 0s 3ms/step - loss: 40.8118 - mae: 40.8118\n",
      "Epoch 414/500\n",
      "2/2 [==============================] - 0s 4ms/step - loss: 40.6812 - mae: 40.6812\n",
      "Epoch 415/500\n",
      "2/2 [==============================] - 0s 4ms/step - loss: 40.6299 - mae: 40.6299\n",
      "Epoch 416/500\n",
      "2/2 [==============================] - 0s 3ms/step - loss: 40.6251 - mae: 40.6251\n",
      "Epoch 417/500\n",
      "2/2 [==============================] - 0s 4ms/step - loss: 40.6035 - mae: 40.6035\n",
      "Epoch 418/500\n",
      "2/2 [==============================] - 0s 3ms/step - loss: 40.6098 - mae: 40.6098\n",
      "Epoch 419/500\n",
      "2/2 [==============================] - 0s 4ms/step - loss: 40.3486 - mae: 40.3486\n",
      "Epoch 420/500\n",
      "2/2 [==============================] - 0s 3ms/step - loss: 40.6080 - mae: 40.6080\n",
      "Epoch 421/500\n",
      "2/2 [==============================] - 0s 3ms/step - loss: 40.5639 - mae: 40.5639\n",
      "Epoch 422/500\n",
      "2/2 [==============================] - 0s 4ms/step - loss: 40.4741 - mae: 40.4741\n",
      "Epoch 423/500\n",
      "2/2 [==============================] - 0s 3ms/step - loss: 40.6516 - mae: 40.6516\n",
      "Epoch 424/500\n",
      "2/2 [==============================] - 0s 4ms/step - loss: 40.5131 - mae: 40.5131\n",
      "Epoch 425/500\n",
      "2/2 [==============================] - 0s 3ms/step - loss: 40.6369 - mae: 40.6369\n",
      "Epoch 426/500\n",
      "2/2 [==============================] - 0s 3ms/step - loss: 40.3753 - mae: 40.3753\n",
      "Epoch 427/500\n",
      "2/2 [==============================] - 0s 3ms/step - loss: 40.6428 - mae: 40.6428\n",
      "Epoch 428/500\n",
      "2/2 [==============================] - 0s 3ms/step - loss: 40.4296 - mae: 40.4296\n",
      "Epoch 429/500\n",
      "2/2 [==============================] - 0s 4ms/step - loss: 40.2084 - mae: 40.2084\n",
      "Epoch 430/500\n",
      "2/2 [==============================] - 0s 3ms/step - loss: 40.7475 - mae: 40.7475\n",
      "Epoch 431/500\n",
      "2/2 [==============================] - 0s 5ms/step - loss: 40.5887 - mae: 40.5887\n",
      "Epoch 432/500\n",
      "2/2 [==============================] - 0s 3ms/step - loss: 40.7024 - mae: 40.7024\n",
      "Epoch 433/500\n",
      "2/2 [==============================] - 0s 4ms/step - loss: 40.1504 - mae: 40.1504\n",
      "Epoch 434/500\n",
      "2/2 [==============================] - 0s 3ms/step - loss: 40.9702 - mae: 40.9702\n",
      "Epoch 435/500\n",
      "2/2 [==============================] - 0s 3ms/step - loss: 39.7863 - mae: 39.7863\n",
      "Epoch 436/500\n",
      "2/2 [==============================] - 0s 4ms/step - loss: 41.3041 - mae: 41.3041\n",
      "Epoch 437/500\n",
      "2/2 [==============================] - 0s 3ms/step - loss: 41.1492 - mae: 41.1492\n",
      "Epoch 438/500\n",
      "2/2 [==============================] - 0s 4ms/step - loss: 39.6666 - mae: 39.6666\n",
      "Epoch 439/500\n",
      "2/2 [==============================] - 0s 3ms/step - loss: 41.0891 - mae: 41.0891\n",
      "Epoch 440/500\n",
      "2/2 [==============================] - 0s 4ms/step - loss: 41.0710 - mae: 41.0710\n",
      "Epoch 441/500\n",
      "2/2 [==============================] - 0s 3ms/step - loss: 41.1347 - mae: 41.1347\n",
      "Epoch 442/500\n",
      "2/2 [==============================] - 0s 4ms/step - loss: 41.1654 - mae: 41.1654\n",
      "Epoch 443/500\n",
      "2/2 [==============================] - 0s 3ms/step - loss: 40.9015 - mae: 40.9015\n",
      "Epoch 444/500\n",
      "2/2 [==============================] - 0s 3ms/step - loss: 40.2187 - mae: 40.2187\n",
      "Epoch 445/500\n",
      "2/2 [==============================] - 0s 4ms/step - loss: 40.7240 - mae: 40.7240\n",
      "Epoch 446/500\n",
      "2/2 [==============================] - 0s 3ms/step - loss: 40.3289 - mae: 40.3289\n",
      "Epoch 447/500\n",
      "2/2 [==============================] - 0s 4ms/step - loss: 40.2943 - mae: 40.2943\n",
      "Epoch 448/500\n",
      "2/2 [==============================] - 0s 3ms/step - loss: 40.6473 - mae: 40.6473\n",
      "Epoch 449/500\n",
      "2/2 [==============================] - 0s 3ms/step - loss: 40.6106 - mae: 40.6106\n",
      "Epoch 450/500\n",
      "2/2 [==============================] - 0s 3ms/step - loss: 40.5958 - mae: 40.5958\n",
      "Epoch 451/500\n",
      "2/2 [==============================] - 0s 3ms/step - loss: 39.9278 - mae: 39.9278\n",
      "Epoch 452/500\n",
      "2/2 [==============================] - 0s 4ms/step - loss: 40.7569 - mae: 40.7569\n",
      "Epoch 453/500\n",
      "2/2 [==============================] - 0s 3ms/step - loss: 40.8385 - mae: 40.8385\n",
      "Epoch 454/500\n",
      "2/2 [==============================] - 0s 4ms/step - loss: 40.8983 - mae: 40.8983\n",
      "Epoch 455/500\n",
      "2/2 [==============================] - 0s 3ms/step - loss: 40.7117 - mae: 40.7117\n",
      "Epoch 456/500\n",
      "2/2 [==============================] - 0s 3ms/step - loss: 40.6422 - mae: 40.6422\n",
      "Epoch 457/500\n",
      "2/2 [==============================] - 0s 4ms/step - loss: 40.5738 - mae: 40.5738\n",
      "Epoch 458/500\n",
      "2/2 [==============================] - 0s 3ms/step - loss: 40.1575 - mae: 40.1575\n",
      "Epoch 459/500\n",
      "2/2 [==============================] - 0s 4ms/step - loss: 40.7394 - mae: 40.7394\n",
      "Epoch 460/500\n",
      "2/2 [==============================] - 0s 3ms/step - loss: 40.7376 - mae: 40.7376\n",
      "Epoch 461/500\n",
      "2/2 [==============================] - 0s 3ms/step - loss: 40.6402 - mae: 40.6402\n",
      "Epoch 462/500\n",
      "2/2 [==============================] - 0s 5ms/step - loss: 40.6472 - mae: 40.6472\n",
      "Epoch 463/500\n",
      "2/2 [==============================] - 0s 3ms/step - loss: 40.5805 - mae: 40.5805\n",
      "Epoch 464/500\n",
      "2/2 [==============================] - 0s 3ms/step - loss: 40.4094 - mae: 40.4094\n",
      "Epoch 465/500\n",
      "2/2 [==============================] - 0s 3ms/step - loss: 40.3927 - mae: 40.3927\n",
      "Epoch 466/500\n",
      "2/2 [==============================] - 0s 3ms/step - loss: 40.5563 - mae: 40.5563\n",
      "Epoch 467/500\n",
      "2/2 [==============================] - 0s 4ms/step - loss: 40.6354 - mae: 40.6354\n",
      "Epoch 468/500\n",
      "2/2 [==============================] - 0s 3ms/step - loss: 40.5206 - mae: 40.5206\n",
      "Epoch 469/500\n",
      "2/2 [==============================] - 0s 3ms/step - loss: 40.6202 - mae: 40.6202\n",
      "Epoch 470/500\n",
      "2/2 [==============================] - 0s 3ms/step - loss: 40.6184 - mae: 40.6184\n",
      "Epoch 471/500\n",
      "2/2 [==============================] - 0s 3ms/step - loss: 40.5203 - mae: 40.5203\n",
      "Epoch 472/500\n",
      "2/2 [==============================] - 0s 3ms/step - loss: 40.5902 - mae: 40.5902\n",
      "Epoch 473/500\n",
      "2/2 [==============================] - 0s 3ms/step - loss: 40.4458 - mae: 40.4458\n",
      "Epoch 474/500\n",
      "2/2 [==============================] - 0s 4ms/step - loss: 40.5468 - mae: 40.5468\n",
      "Epoch 475/500\n",
      "2/2 [==============================] - 0s 3ms/step - loss: 40.2181 - mae: 40.2181\n",
      "Epoch 476/500\n",
      "2/2 [==============================] - 0s 4ms/step - loss: 40.4340 - mae: 40.4340\n",
      "Epoch 477/500\n",
      "2/2 [==============================] - 0s 3ms/step - loss: 40.6277 - mae: 40.6277\n",
      "Epoch 478/500\n",
      "2/2 [==============================] - 0s 4ms/step - loss: 40.2604 - mae: 40.2604\n",
      "Epoch 479/500\n",
      "2/2 [==============================] - 0s 3ms/step - loss: 40.6316 - mae: 40.6316\n",
      "Epoch 480/500\n",
      "2/2 [==============================] - 0s 3ms/step - loss: 40.6643 - mae: 40.6643\n",
      "Epoch 481/500\n",
      "2/2 [==============================] - 0s 4ms/step - loss: 40.5771 - mae: 40.5771\n",
      "Epoch 482/500\n",
      "2/2 [==============================] - 0s 3ms/step - loss: 40.6042 - mae: 40.6042\n",
      "Epoch 483/500\n",
      "2/2 [==============================] - 0s 3ms/step - loss: 40.3265 - mae: 40.3265\n",
      "Epoch 484/500\n",
      "2/2 [==============================] - 0s 3ms/step - loss: 39.9233 - mae: 39.9233\n",
      "Epoch 485/500\n",
      "2/2 [==============================] - 0s 3ms/step - loss: 40.6569 - mae: 40.6569\n",
      "Epoch 486/500\n",
      "2/2 [==============================] - 0s 3ms/step - loss: 39.9044 - mae: 39.9044\n",
      "Epoch 487/500\n",
      "2/2 [==============================] - 0s 3ms/step - loss: 40.5870 - mae: 40.5870\n",
      "Epoch 488/500\n",
      "2/2 [==============================] - 0s 4ms/step - loss: 39.8256 - mae: 39.8256\n",
      "Epoch 489/500\n",
      "2/2 [==============================] - 0s 3ms/step - loss: 40.4641 - mae: 40.4641\n",
      "Epoch 490/500\n",
      "2/2 [==============================] - 0s 3ms/step - loss: 40.6424 - mae: 40.6424\n",
      "Epoch 491/500\n",
      "2/2 [==============================] - 0s 3ms/step - loss: 40.6303 - mae: 40.6303\n",
      "Epoch 492/500\n",
      "2/2 [==============================] - 0s 3ms/step - loss: 40.6106 - mae: 40.6106\n",
      "Epoch 493/500\n",
      "2/2 [==============================] - 0s 5ms/step - loss: 40.5121 - mae: 40.5121\n",
      "Epoch 494/500\n",
      "2/2 [==============================] - 0s 4ms/step - loss: 40.1549 - mae: 40.1549\n",
      "Epoch 495/500\n",
      "2/2 [==============================] - 0s 4ms/step - loss: 40.5305 - mae: 40.5305\n",
      "Epoch 496/500\n",
      "2/2 [==============================] - 0s 3ms/step - loss: 40.5620 - mae: 40.5620\n",
      "Epoch 497/500\n",
      "2/2 [==============================] - 0s 3ms/step - loss: 40.2171 - mae: 40.2171\n",
      "Epoch 498/500\n",
      "2/2 [==============================] - 0s 3ms/step - loss: 40.8120 - mae: 40.8120\n",
      "Epoch 499/500\n",
      "2/2 [==============================] - 0s 3ms/step - loss: 40.5765 - mae: 40.5765\n",
      "Epoch 500/500\n",
      "2/2 [==============================] - 0s 4ms/step - loss: 39.7200 - mae: 39.7200\n"
     ]
    },
    {
     "data": {
      "text/plain": [
       "<keras.src.callbacks.History at 0x7f97b2689e50>"
      ]
     },
     "execution_count": 386,
     "metadata": {},
     "output_type": "execute_result"
    }
   ],
   "source": [
    "tf.random.set_seed(42)\n",
    "\n",
    "initialize_wandb(project_name=\"regression_fundamentals\", run_name=\"Dense:10,10,1.SGD.E500\")\n",
    "model_3 = tf.keras.Sequential([\n",
    "    tf.keras.layers.Dense(10),\n",
    "    tf.keras.layers.Dense(10),\n",
    "    tf.keras.layers.Dense(1)\n",
    "])\n",
    "\n",
    "model_3.compile(loss=tf.keras.losses.mae,\n",
    "                optimizer=tf.keras.optimizers.SGD(),\n",
    "                metrics=[\"mae\"])\n",
    "\n",
    "model_3.fit(X_train, y_train, epochs=500, callbacks=[WandbCallback()])"
   ]
  },
  {
   "cell_type": "code",
   "execution_count": 312,
   "id": "GgFidMc9leGD",
   "metadata": {
    "colab": {
     "base_uri": "https://localhost:8080/",
     "height": 473
    },
    "id": "GgFidMc9leGD",
    "outputId": "79ac3afe-b718-4b52-d198-c1ecdb46e3fc"
   },
   "outputs": [
    {
     "name": "stdout",
     "output_type": "stream",
     "text": [
      "1/1 [==============================] - 0s 41ms/step\n"
     ]
    },
    {
     "data": {
      "image/png": "[encoded data removed]",
      "text/plain": [
       "<Figure size 1000x700 with 1 Axes>"
      ]
     },
     "metadata": {},
     "output_type": "display_data"
    }
   ],
   "source": [
    "y_preds_3 =  model_3.predict(X_test)\n",
    "plot_predictions(predictions=y_preds_3)"
   ]
  },
  {
   "cell_type": "code",
   "execution_count": 313,
   "id": "giaoociXl-T7",
   "metadata": {
    "colab": {
     "base_uri": "https://localhost:8080/"
    },
    "id": "giaoociXl-T7",
    "outputId": "421f0f82-9fdd-4275-c58c-5a4a3f666c43"
   },
   "outputs": [
    {
     "data": {
      "text/plain": [
       "(<tf.Tensor: shape=(), dtype=float32, numpy=79.5864>,\n",
       " <tf.Tensor: shape=(), dtype=float32, numpy=6446.7144>)"
      ]
     },
     "execution_count": 313,
     "metadata": {},
     "output_type": "execute_result"
    }
   ],
   "source": [
    "mae_3 = mae(y_test, y_preds_3)\n",
    "mse_3 = mse(y_test, y_preds_3)\n",
    "mae_3, mse_3"
   ]
  },
  {
   "cell_type": "markdown",
   "id": "sibBLu7-nkW8",
   "metadata": {
    "id": "sibBLu7-nkW8"
   },
   "source": [
    "## Comparing the results of our experiments\n",
    "\n"
   ]
  },
  {
   "cell_type": "code",
   "execution_count": 314,
   "id": "zCNDIK_mmetN",
   "metadata": {
    "colab": {
     "base_uri": "https://localhost:8080/",
     "height": 1021
    },
    "id": "zCNDIK_mmetN",
    "outputId": "e046f211-11fe-43e6-801a-368ac566a50e"
   },
   "outputs": [
    {
     "data": {
      "text/html": [
       "<div>\n",
       "<style scoped>\n",
       "    .dataframe tbody tr th:only-of-type {\n",
       "        vertical-align: middle;\n",
       "    }\n",
       "\n",
       "    .dataframe tbody tr th {\n",
       "        vertical-align: top;\n",
       "    }\n",
       "\n",
       "    .dataframe thead th {\n",
       "        text-align: right;\n",
       "    }\n",
       "</style>\n",
       "<table border=\"1\" class=\"dataframe\">\n",
       "  <thead>\n",
       "    <tr style=\"text-align: right;\">\n",
       "      <th></th>\n",
       "      <th>model</th>\n",
       "      <th>mae</th>\n",
       "      <th>mse</th>\n",
       "    </tr>\n",
       "  </thead>\n",
       "  <tbody>\n",
       "    <tr>\n",
       "      <th>0</th>\n",
       "      <td>model_1</td>\n",
       "      <td>30.375061</td>\n",
       "      <td>932.863281</td>\n",
       "    </tr>\n",
       "    <tr>\n",
       "      <th>1</th>\n",
       "      <td>model_2</td>\n",
       "      <td>10.028350</td>\n",
       "      <td>107.833519</td>\n",
       "    </tr>\n",
       "    <tr>\n",
       "      <th>2</th>\n",
       "      <td>model_3</td>\n",
       "      <td>79.586403</td>\n",
       "      <td>6446.714355</td>\n",
       "    </tr>\n",
       "  </tbody>\n",
       "</table>\n",
       "</div>"
      ],
      "text/plain": [
       "     model        mae          mse\n",
       "0  model_1  30.375061   932.863281\n",
       "1  model_2  10.028350   107.833519\n",
       "2  model_3  79.586403  6446.714355"
      ]
     },
     "execution_count": 314,
     "metadata": {},
     "output_type": "execute_result"
    }
   ],
   "source": [
    "# Let's compare our model's results using a pandas DataFrame\n",
    "import pandas as pd\n",
    "\n",
    "model_results = [[\"model_1\", mae_1.numpy(), mse_1.numpy()],\n",
    "                 [\"model_2\", mae_2.numpy(), mse_2.numpy()],\n",
    "                 [\"model_3\", mae_3.numpy(), mse_3.numpy()]]\n",
    "\n",
    "all_results = pd.DataFrame(model_results, columns=[\"model\", \"mae\", \"mse\"])\n",
    "all_results"
   ]
  },
  {
   "cell_type": "code",
   "execution_count": 391,
   "id": "eaCeWv8FmzYz",
   "metadata": {
    "colab": {
     "base_uri": "https://localhost:8080/"
    },
    "id": "eaCeWv8FmzYz",
    "outputId": "66a8ce15-eba9-440b-98ed-38fe6d872e89"
   },
   "outputs": [
    {
     "data": {
      "text/html": [
       "Finishing last run (ID:9a7o67s4) before initializing another..."
      ],
      "text/plain": [
       "<IPython.core.display.HTML object>"
      ]
     },
     "metadata": {},
     "output_type": "display_data"
    },
    {
     "data": {
      "application/vnd.jupyter.widget-view+json": {
       "model_id": "",
       "version_major": 2,
       "version_minor": 0
      },
      "text/plain": [
       "VBox(children=(Label(value='0.010 MB of 0.018 MB uploaded (0.007 MB deduped)\\r'), FloatProgress(value=0.564235…"
      ]
     },
     "metadata": {},
     "output_type": "display_data"
    },
    {
     "data": {
      "text/html": [
       "W&B sync reduced upload amount by 20.1%             "
      ],
      "text/plain": [
       "<IPython.core.display.HTML object>"
      ]
     },
     "metadata": {},
     "output_type": "display_data"
    },
    {
     "data": {
      "text/html": [
       " View run <strong style=\"color:#cdcd00\">Dense10,1_mae_SGD</strong> at: <a href='https://wandb.ai/frackowiak_kajetan/regression_fundamentals/runs/9a7o67s4' target=\"_blank\">https://wandb.ai/frackowiak_kajetan/regression_fundamentals/runs/9a7o67s4</a><br/> View job at <a href='https://wandb.ai/frackowiak_kajetan/regression_fundamentals/jobs/QXJ0aWZhY3RDb2xsZWN0aW9uOjEyMzk2MDE5NQ==/version_details/v2' target=\"_blank\">https://wandb.ai/frackowiak_kajetan/regression_fundamentals/jobs/QXJ0aWZhY3RDb2xsZWN0aW9uOjEyMzk2MDE5NQ==/version_details/v2</a><br/>Synced 5 W&B file(s), 0 media file(s), 2 artifact file(s) and 0 other file(s)"
      ],
      "text/plain": [
       "<IPython.core.display.HTML object>"
      ]
     },
     "metadata": {},
     "output_type": "display_data"
    },
    {
     "data": {
      "text/html": [
       "Find logs at: <code>./wandb/run-20231216_103634-9a7o67s4/logs</code>"
      ],
      "text/plain": [
       "<IPython.core.display.HTML object>"
      ]
     },
     "metadata": {},
     "output_type": "display_data"
    },
    {
     "data": {
      "text/html": [
       "Successfully finished last run (ID:9a7o67s4). Initializing new run:<br/>"
      ],
      "text/plain": [
       "<IPython.core.display.HTML object>"
      ]
     },
     "metadata": {},
     "output_type": "display_data"
    },
    {
     "data": {
      "application/vnd.jupyter.widget-view+json": {
       "model_id": "9a83e1735e584590a4cabdf31a76f035",
       "version_major": 2,
       "version_minor": 0
      },
      "text/plain": [
       "VBox(children=(Label(value='Waiting for wandb.init()...\\r'), FloatProgress(value=0.011112453166667062, max=1.0…"
      ]
     },
     "metadata": {},
     "output_type": "display_data"
    },
    {
     "data": {
      "text/html": [
       "wandb version 0.16.1 is available!  To upgrade, please run:\n",
       " $ pip install wandb --upgrade"
      ],
      "text/plain": [
       "<IPython.core.display.HTML object>"
      ]
     },
     "metadata": {},
     "output_type": "display_data"
    },
    {
     "data": {
      "text/html": [
       "Tracking run with wandb version 0.16.0"
      ],
      "text/plain": [
       "<IPython.core.display.HTML object>"
      ]
     },
     "metadata": {},
     "output_type": "display_data"
    },
    {
     "data": {
      "text/html": [
       "Run data is saved locally in <code>/home/kajetan/tensorflow_fundamentals/wandb/run-20231216_103923-nkxiezyz</code>"
      ],
      "text/plain": [
       "<IPython.core.display.HTML object>"
      ]
     },
     "metadata": {},
     "output_type": "display_data"
    },
    {
     "data": {
      "text/html": [
       "Syncing run <strong><a href='https://wandb.ai/frackowiak_kajetan/regression_fundamentals/runs/nkxiezyz' target=\"_blank\">Dense:10,20,20,1.SGD.E:150</a></strong> to <a href='https://wandb.ai/frackowiak_kajetan/regression_fundamentals' target=\"_blank\">Weights & Biases</a> (<a href='https://wandb.me/run' target=\"_blank\">docs</a>)<br/>"
      ],
      "text/plain": [
       "<IPython.core.display.HTML object>"
      ]
     },
     "metadata": {},
     "output_type": "display_data"
    },
    {
     "data": {
      "text/html": [
       " View project at <a href='https://wandb.ai/frackowiak_kajetan/regression_fundamentals' target=\"_blank\">https://wandb.ai/frackowiak_kajetan/regression_fundamentals</a>"
      ],
      "text/plain": [
       "<IPython.core.display.HTML object>"
      ]
     },
     "metadata": {},
     "output_type": "display_data"
    },
    {
     "data": {
      "text/html": [
       " View run at <a href='https://wandb.ai/frackowiak_kajetan/regression_fundamentals/runs/nkxiezyz' target=\"_blank\">https://wandb.ai/frackowiak_kajetan/regression_fundamentals/runs/nkxiezyz</a>"
      ],
      "text/plain": [
       "<IPython.core.display.HTML object>"
      ]
     },
     "metadata": {},
     "output_type": "display_data"
    },
    {
     "name": "stdout",
     "output_type": "stream",
     "text": [
      "Epoch 1/150\n",
      "2/2 [==============================] - 1s 7ms/step - loss: 40.7305 - mae: 40.7305\n",
      "Epoch 2/150\n",
      "2/2 [==============================] - 0s 4ms/step - loss: 42.6553 - mae: 42.6553\n",
      "Epoch 3/150\n",
      "2/2 [==============================] - 0s 3ms/step - loss: 136.0347 - mae: 136.0347\n",
      "Epoch 4/150\n",
      "2/2 [==============================] - 0s 5ms/step - loss: 41.0769 - mae: 41.0769\n",
      "Epoch 5/150\n",
      "2/2 [==============================] - 0s 3ms/step - loss: 40.6373 - mae: 40.6373\n",
      "Epoch 6/150\n",
      "2/2 [==============================] - 0s 5ms/step - loss: 40.7851 - mae: 40.7851\n",
      "Epoch 7/150\n",
      "2/2 [==============================] - 0s 3ms/step - loss: 40.7534 - mae: 40.7534\n",
      "Epoch 8/150\n",
      "2/2 [==============================] - 0s 5ms/step - loss: 40.5509 - mae: 40.5509\n",
      "Epoch 9/150\n",
      "2/2 [==============================] - 0s 4ms/step - loss: 41.9822 - mae: 41.9822\n",
      "Epoch 10/150\n",
      "2/2 [==============================] - 0s 5ms/step - loss: 40.2495 - mae: 40.2495\n",
      "Epoch 11/150\n",
      "2/2 [==============================] - 0s 3ms/step - loss: 40.7192 - mae: 40.7192\n",
      "Epoch 12/150\n",
      "2/2 [==============================] - 0s 6ms/step - loss: 43.8464 - mae: 43.8464\n",
      "Epoch 13/150\n",
      "2/2 [==============================] - 0s 5ms/step - loss: 40.8341 - mae: 40.8341\n",
      "Epoch 14/150\n",
      "2/2 [==============================] - 0s 4ms/step - loss: 41.0427 - mae: 41.0427\n",
      "Epoch 15/150\n",
      "2/2 [==============================] - 0s 5ms/step - loss: 40.6952 - mae: 40.6952\n",
      "Epoch 16/150\n",
      "2/2 [==============================] - 0s 4ms/step - loss: 40.7149 - mae: 40.7149\n",
      "Epoch 17/150\n",
      "2/2 [==============================] - 0s 4ms/step - loss: 40.3491 - mae: 40.3491\n",
      "Epoch 18/150\n",
      "2/2 [==============================] - 0s 5ms/step - loss: 40.3952 - mae: 40.3952\n",
      "Epoch 19/150\n",
      "2/2 [==============================] - 0s 4ms/step - loss: 40.8559 - mae: 40.8559\n",
      "Epoch 20/150\n",
      "2/2 [==============================] - 0s 4ms/step - loss: 41.0018 - mae: 41.0018\n",
      "Epoch 21/150\n",
      "2/2 [==============================] - 0s 4ms/step - loss: 40.8354 - mae: 40.8354\n",
      "Epoch 22/150\n",
      "2/2 [==============================] - 0s 4ms/step - loss: 40.5116 - mae: 40.5116\n",
      "Epoch 23/150\n",
      "2/2 [==============================] - 0s 5ms/step - loss: 40.5918 - mae: 40.5918\n",
      "Epoch 24/150\n",
      "2/2 [==============================] - 0s 4ms/step - loss: 40.7934 - mae: 40.7934\n",
      "Epoch 25/150\n",
      "2/2 [==============================] - 0s 5ms/step - loss: 40.5827 - mae: 40.5827\n",
      "Epoch 26/150\n",
      "2/2 [==============================] - 0s 6ms/step - loss: 40.7980 - mae: 40.7980\n",
      "Epoch 27/150\n",
      "2/2 [==============================] - 0s 4ms/step - loss: 40.5840 - mae: 40.5840\n",
      "Epoch 28/150\n",
      "2/2 [==============================] - 0s 5ms/step - loss: 40.7882 - mae: 40.7882\n",
      "Epoch 29/150\n",
      "2/2 [==============================] - 0s 4ms/step - loss: 40.0528 - mae: 40.0528\n",
      "Epoch 30/150\n",
      "2/2 [==============================] - 0s 5ms/step - loss: 41.0425 - mae: 41.0425\n",
      "Epoch 31/150\n",
      "2/2 [==============================] - 0s 5ms/step - loss: 48.1102 - mae: 48.1102\n",
      "Epoch 32/150\n",
      "2/2 [==============================] - 0s 4ms/step - loss: 40.5909 - mae: 40.5909\n",
      "Epoch 33/150\n",
      "2/2 [==============================] - 0s 5ms/step - loss: 40.9255 - mae: 40.9255\n",
      "Epoch 34/150\n",
      "2/2 [==============================] - 0s 3ms/step - loss: 40.7905 - mae: 40.7905\n",
      "Epoch 35/150\n",
      "2/2 [==============================] - 0s 5ms/step - loss: 40.3916 - mae: 40.3916\n",
      "Epoch 36/150\n",
      "2/2 [==============================] - 0s 3ms/step - loss: 40.8383 - mae: 40.8383\n",
      "Epoch 37/150\n",
      "2/2 [==============================] - 0s 5ms/step - loss: 40.8128 - mae: 40.8128\n",
      "Epoch 38/150\n",
      "2/2 [==============================] - 0s 3ms/step - loss: 40.6587 - mae: 40.6587\n",
      "Epoch 39/150\n",
      "2/2 [==============================] - 0s 5ms/step - loss: 40.7096 - mae: 40.7096\n",
      "Epoch 40/150\n",
      "2/2 [==============================] - 0s 4ms/step - loss: 40.8289 - mae: 40.8289\n",
      "Epoch 41/150\n",
      "2/2 [==============================] - 0s 4ms/step - loss: 40.3645 - mae: 40.3645\n",
      "Epoch 42/150\n",
      "2/2 [==============================] - 0s 3ms/step - loss: 40.7374 - mae: 40.7374\n",
      "Epoch 43/150\n",
      "2/2 [==============================] - 0s 6ms/step - loss: 40.4568 - mae: 40.4568\n",
      "Epoch 44/150\n",
      "2/2 [==============================] - 0s 3ms/step - loss: 40.7671 - mae: 40.7671\n",
      "Epoch 45/150\n",
      "2/2 [==============================] - 0s 4ms/step - loss: 40.9181 - mae: 40.9181\n",
      "Epoch 46/150\n",
      "2/2 [==============================] - 0s 3ms/step - loss: 40.6966 - mae: 40.6966\n",
      "Epoch 47/150\n",
      "2/2 [==============================] - 0s 4ms/step - loss: 40.7268 - mae: 40.7268\n",
      "Epoch 48/150\n",
      "2/2 [==============================] - 0s 3ms/step - loss: 40.6454 - mae: 40.6454\n",
      "Epoch 49/150\n",
      "2/2 [==============================] - 0s 3ms/step - loss: 40.6590 - mae: 40.6590\n",
      "Epoch 50/150\n",
      "2/2 [==============================] - 0s 3ms/step - loss: 40.5606 - mae: 40.5606\n",
      "Epoch 51/150\n",
      "2/2 [==============================] - 0s 3ms/step - loss: 40.6503 - mae: 40.6503\n",
      "Epoch 52/150\n",
      "2/2 [==============================] - 0s 13ms/step - loss: 40.4411 - mae: 40.4411\n",
      "Epoch 53/150\n",
      "2/2 [==============================] - 0s 4ms/step - loss: 40.0711 - mae: 40.0711\n",
      "Epoch 54/150\n",
      "2/2 [==============================] - 0s 6ms/step - loss: 42.0448 - mae: 42.0448\n",
      "Epoch 55/150\n",
      "2/2 [==============================] - 0s 4ms/step - loss: 42.8603 - mae: 42.8603\n",
      "Epoch 56/150\n",
      "2/2 [==============================] - 0s 4ms/step - loss: 40.7416 - mae: 40.7416\n",
      "Epoch 57/150\n",
      "2/2 [==============================] - 0s 4ms/step - loss: 40.4203 - mae: 40.4203\n",
      "Epoch 58/150\n",
      "2/2 [==============================] - 0s 3ms/step - loss: 40.6533 - mae: 40.6533\n",
      "Epoch 59/150\n",
      "2/2 [==============================] - 0s 4ms/step - loss: 40.7637 - mae: 40.7637\n",
      "Epoch 60/150\n",
      "2/2 [==============================] - 0s 3ms/step - loss: 40.7045 - mae: 40.7045\n",
      "Epoch 61/150\n",
      "2/2 [==============================] - 0s 4ms/step - loss: 40.7037 - mae: 40.7037\n",
      "Epoch 62/150\n",
      "2/2 [==============================] - 0s 3ms/step - loss: 40.7264 - mae: 40.7264\n",
      "Epoch 63/150\n",
      "2/2 [==============================] - 0s 3ms/step - loss: 40.6229 - mae: 40.6229\n",
      "Epoch 64/150\n",
      "2/2 [==============================] - 0s 4ms/step - loss: 40.7366 - mae: 40.7366\n",
      "Epoch 65/150\n",
      "2/2 [==============================] - 0s 3ms/step - loss: 40.6601 - mae: 40.6601\n",
      "Epoch 66/150\n",
      "2/2 [==============================] - 0s 3ms/step - loss: 40.7631 - mae: 40.7631\n",
      "Epoch 67/150\n",
      "2/2 [==============================] - 0s 3ms/step - loss: 40.7138 - mae: 40.7138\n",
      "Epoch 68/150\n",
      "2/2 [==============================] - 0s 3ms/step - loss: 40.6578 - mae: 40.6578\n",
      "Epoch 69/150\n",
      "2/2 [==============================] - 0s 3ms/step - loss: 40.7196 - mae: 40.7196\n",
      "Epoch 70/150\n",
      "2/2 [==============================] - 0s 4ms/step - loss: 40.6254 - mae: 40.6254\n",
      "Epoch 71/150\n",
      "2/2 [==============================] - 0s 4ms/step - loss: 40.6478 - mae: 40.6478\n",
      "Epoch 72/150\n",
      "2/2 [==============================] - 0s 3ms/step - loss: 40.6916 - mae: 40.6916\n",
      "Epoch 73/150\n",
      "2/2 [==============================] - 0s 3ms/step - loss: 40.6594 - mae: 40.6594\n",
      "Epoch 74/150\n",
      "2/2 [==============================] - 0s 3ms/step - loss: 40.6833 - mae: 40.6833\n",
      "Epoch 75/150\n",
      "2/2 [==============================] - 0s 3ms/step - loss: 40.7005 - mae: 40.7005\n",
      "Epoch 76/150\n",
      "2/2 [==============================] - 0s 5ms/step - loss: 40.6371 - mae: 40.6371\n",
      "Epoch 77/150\n",
      "2/2 [==============================] - 0s 4ms/step - loss: 40.7089 - mae: 40.7089\n",
      "Epoch 78/150\n",
      "2/2 [==============================] - 0s 4ms/step - loss: 40.3827 - mae: 40.3827\n",
      "Epoch 79/150\n",
      "2/2 [==============================] - 0s 3ms/step - loss: 40.4559 - mae: 40.4559\n",
      "Epoch 80/150\n",
      "2/2 [==============================] - 0s 4ms/step - loss: 40.8127 - mae: 40.8127\n",
      "Epoch 81/150\n",
      "2/2 [==============================] - 0s 3ms/step - loss: 40.0125 - mae: 40.0125\n",
      "Epoch 82/150\n",
      "2/2 [==============================] - 0s 3ms/step - loss: 40.6144 - mae: 40.6144\n",
      "Epoch 83/150\n",
      "2/2 [==============================] - 0s 3ms/step - loss: 40.6537 - mae: 40.6537\n",
      "Epoch 84/150\n",
      "2/2 [==============================] - 0s 4ms/step - loss: 40.6824 - mae: 40.6824\n",
      "Epoch 85/150\n",
      "2/2 [==============================] - 0s 3ms/step - loss: 40.7095 - mae: 40.7095\n",
      "Epoch 86/150\n",
      "2/2 [==============================] - 0s 4ms/step - loss: 40.7185 - mae: 40.7185\n",
      "Epoch 87/150\n",
      "2/2 [==============================] - 0s 3ms/step - loss: 40.6826 - mae: 40.6826\n",
      "Epoch 88/150\n",
      "2/2 [==============================] - 0s 3ms/step - loss: 40.6995 - mae: 40.6995\n",
      "Epoch 89/150\n",
      "2/2 [==============================] - 0s 4ms/step - loss: 40.6956 - mae: 40.6956\n",
      "Epoch 90/150\n",
      "2/2 [==============================] - 0s 3ms/step - loss: 40.6792 - mae: 40.6792\n",
      "Epoch 91/150\n",
      "2/2 [==============================] - 0s 4ms/step - loss: 40.6540 - mae: 40.6540\n",
      "Epoch 92/150\n",
      "2/2 [==============================] - 0s 3ms/step - loss: 40.6808 - mae: 40.6808\n",
      "Epoch 93/150\n",
      "2/2 [==============================] - 0s 4ms/step - loss: 40.6283 - mae: 40.6283\n",
      "Epoch 94/150\n",
      "2/2 [==============================] - 0s 3ms/step - loss: 40.6812 - mae: 40.6812\n",
      "Epoch 95/150\n",
      "2/2 [==============================] - 0s 4ms/step - loss: 40.7217 - mae: 40.7217\n",
      "Epoch 96/150\n",
      "2/2 [==============================] - 0s 3ms/step - loss: 40.5770 - mae: 40.5770\n",
      "Epoch 97/150\n",
      "2/2 [==============================] - 0s 3ms/step - loss: 40.6978 - mae: 40.6978\n",
      "Epoch 98/150\n",
      "2/2 [==============================] - 0s 4ms/step - loss: 40.6571 - mae: 40.6571\n",
      "Epoch 99/150\n",
      "2/2 [==============================] - 0s 3ms/step - loss: 40.6586 - mae: 40.6586\n",
      "Epoch 100/150\n",
      "2/2 [==============================] - 0s 4ms/step - loss: 40.7047 - mae: 40.7047\n",
      "Epoch 101/150\n",
      "2/2 [==============================] - 0s 4ms/step - loss: 40.6846 - mae: 40.6846\n",
      "Epoch 102/150\n",
      "2/2 [==============================] - 0s 4ms/step - loss: 40.4736 - mae: 40.4736\n",
      "Epoch 103/150\n",
      "2/2 [==============================] - 0s 4ms/step - loss: 40.5705 - mae: 40.5705\n",
      "Epoch 104/150\n",
      "2/2 [==============================] - 0s 3ms/step - loss: 40.6866 - mae: 40.6866\n",
      "Epoch 105/150\n",
      "2/2 [==============================] - 0s 4ms/step - loss: 40.6437 - mae: 40.6437\n",
      "Epoch 106/150\n",
      "2/2 [==============================] - 0s 3ms/step - loss: 40.6249 - mae: 40.6249\n",
      "Epoch 107/150\n",
      "2/2 [==============================] - 0s 4ms/step - loss: 40.6677 - mae: 40.6677\n",
      "Epoch 108/150\n",
      "2/2 [==============================] - 0s 3ms/step - loss: 40.6923 - mae: 40.6923\n",
      "Epoch 109/150\n",
      "2/2 [==============================] - 0s 4ms/step - loss: 40.6166 - mae: 40.6166\n",
      "Epoch 110/150\n",
      "2/2 [==============================] - 0s 3ms/step - loss: 40.6757 - mae: 40.6757\n",
      "Epoch 111/150\n",
      "2/2 [==============================] - 0s 4ms/step - loss: 40.6110 - mae: 40.6110\n",
      "Epoch 112/150\n",
      "2/2 [==============================] - 0s 3ms/step - loss: 40.4208 - mae: 40.4208\n",
      "Epoch 113/150\n",
      "2/2 [==============================] - 0s 4ms/step - loss: 40.4209 - mae: 40.4209\n",
      "Epoch 114/150\n",
      "2/2 [==============================] - 0s 4ms/step - loss: 41.0109 - mae: 41.0109\n",
      "Epoch 115/150\n",
      "2/2 [==============================] - 0s 3ms/step - loss: 40.8916 - mae: 40.8916\n",
      "Epoch 116/150\n",
      "2/2 [==============================] - 0s 4ms/step - loss: 40.6414 - mae: 40.6414\n",
      "Epoch 117/150\n",
      "2/2 [==============================] - 0s 3ms/step - loss: 40.5722 - mae: 40.5722\n",
      "Epoch 118/150\n",
      "2/2 [==============================] - 0s 4ms/step - loss: 40.5503 - mae: 40.5503\n",
      "Epoch 119/150\n",
      "2/2 [==============================] - 0s 3ms/step - loss: 39.9611 - mae: 39.9611\n",
      "Epoch 120/150\n",
      "2/2 [==============================] - 0s 4ms/step - loss: 41.1147 - mae: 41.1147\n",
      "Epoch 121/150\n",
      "2/2 [==============================] - 0s 3ms/step - loss: 39.9499 - mae: 39.9499\n",
      "Epoch 122/150\n",
      "2/2 [==============================] - 0s 3ms/step - loss: 41.0732 - mae: 41.0732\n",
      "Epoch 123/150\n",
      "2/2 [==============================] - 0s 4ms/step - loss: 41.8626 - mae: 41.8626\n",
      "Epoch 124/150\n",
      "2/2 [==============================] - 0s 4ms/step - loss: 41.1461 - mae: 41.1461\n",
      "Epoch 125/150\n",
      "2/2 [==============================] - 0s 4ms/step - loss: 40.5637 - mae: 40.5637\n",
      "Epoch 126/150\n",
      "2/2 [==============================] - 0s 4ms/step - loss: 40.7536 - mae: 40.7536\n",
      "Epoch 127/150\n",
      "2/2 [==============================] - 0s 4ms/step - loss: 40.2726 - mae: 40.2726\n",
      "Epoch 128/150\n",
      "2/2 [==============================] - 0s 3ms/step - loss: 41.1549 - mae: 41.1549\n",
      "Epoch 129/150\n",
      "2/2 [==============================] - 0s 3ms/step - loss: 40.3668 - mae: 40.3668\n",
      "Epoch 130/150\n",
      "2/2 [==============================] - 0s 3ms/step - loss: 41.2334 - mae: 41.2334\n",
      "Epoch 131/150\n",
      "2/2 [==============================] - 0s 3ms/step - loss: 40.7704 - mae: 40.7704\n",
      "Epoch 132/150\n",
      "2/2 [==============================] - 0s 3ms/step - loss: 40.8007 - mae: 40.8007\n",
      "Epoch 133/150\n",
      "2/2 [==============================] - 0s 3ms/step - loss: 40.5061 - mae: 40.5061\n",
      "Epoch 134/150\n",
      "2/2 [==============================] - 0s 4ms/step - loss: 41.0004 - mae: 41.0004\n",
      "Epoch 135/150\n",
      "2/2 [==============================] - 0s 4ms/step - loss: 40.7090 - mae: 40.7090\n",
      "Epoch 136/150\n",
      "2/2 [==============================] - 0s 3ms/step - loss: 40.6855 - mae: 40.6855\n",
      "Epoch 137/150\n",
      "2/2 [==============================] - 0s 4ms/step - loss: 40.0162 - mae: 40.0162\n",
      "Epoch 138/150\n",
      "2/2 [==============================] - 0s 4ms/step - loss: 40.4096 - mae: 40.4096\n",
      "Epoch 139/150\n",
      "2/2 [==============================] - 0s 3ms/step - loss: 40.7991 - mae: 40.7991\n",
      "Epoch 140/150\n",
      "2/2 [==============================] - 0s 4ms/step - loss: 40.7083 - mae: 40.7083\n",
      "Epoch 141/150\n",
      "2/2 [==============================] - 0s 3ms/step - loss: 40.1612 - mae: 40.1612\n",
      "Epoch 142/150\n",
      "2/2 [==============================] - 0s 4ms/step - loss: 40.6759 - mae: 40.6759\n",
      "Epoch 143/150\n",
      "2/2 [==============================] - 0s 3ms/step - loss: 40.4918 - mae: 40.4918\n",
      "Epoch 144/150\n",
      "2/2 [==============================] - 0s 4ms/step - loss: 40.5832 - mae: 40.5832\n",
      "Epoch 145/150\n",
      "2/2 [==============================] - 0s 3ms/step - loss: 41.3568 - mae: 41.3568\n",
      "Epoch 146/150\n",
      "2/2 [==============================] - 0s 5ms/step - loss: 39.9822 - mae: 39.9822\n",
      "Epoch 147/150\n",
      "2/2 [==============================] - 0s 4ms/step - loss: 40.2469 - mae: 40.2469\n",
      "Epoch 148/150\n",
      "2/2 [==============================] - 0s 4ms/step - loss: 40.5794 - mae: 40.5794\n",
      "Epoch 149/150\n",
      "2/2 [==============================] - 0s 4ms/step - loss: 40.6771 - mae: 40.6771\n",
      "Epoch 150/150\n",
      "2/2 [==============================] - 0s 4ms/step - loss: 39.9957 - mae: 39.9957\n"
     ]
    },
    {
     "data": {
      "text/plain": [
       "<keras.src.callbacks.History at 0x7f97c3068650>"
      ]
     },
     "execution_count": 391,
     "metadata": {},
     "output_type": "execute_result"
    }
   ],
   "source": [
    "tf.random.set_seed(42)\n",
    "\n",
    "initialize_wandb(project_name=\"regression_fundamentals\", run_name=\"Dense:10,20,20,1.SGD.E:150\")\n",
    "model_4 = tf.keras.Sequential([\n",
    "    tf.keras.layers.Dense(10),\n",
    "    tf.keras.layers.Dense(20),\n",
    "    tf.keras.layers.Dense(20),\n",
    "    tf.keras.layers.Dense(1)\n",
    "])\n",
    "\n",
    "model_4.compile(loss=tf.keras.losses.mae,\n",
    "                optimizer=tf.keras.optimizers.SGD(),\n",
    "                metrics=[\"mae\"])\n",
    "\n",
    "model_4.fit(X_train, y_train, epochs=150, callbacks=[WandbCallback()])\n"
   ]
  },
  {
   "cell_type": "code",
   "execution_count": 316,
   "id": "a2222b92",
   "metadata": {},
   "outputs": [
    {
     "name": "stdout",
     "output_type": "stream",
     "text": [
      "1/1 [==============================] - 0s 43ms/step\n"
     ]
    },
    {
     "data": {
      "image/png": "[encoded data removed]",
      "text/plain": [
       "<Figure size 1000x700 with 1 Axes>"
      ]
     },
     "metadata": {},
     "output_type": "display_data"
    }
   ],
   "source": [
    "y_preds_4 = model_4.predict(X_test)\n",
    "plot_predictions(predictions=y_preds_3)"
   ]
  },
  {
   "cell_type": "code",
   "execution_count": 317,
   "id": "c1256197",
   "metadata": {},
   "outputs": [
    {
     "data": {
      "text/plain": [
       "(<tf.Tensor: shape=(), dtype=float32, numpy=83.91062>,\n",
       " <tf.Tensor: shape=(), dtype=float32, numpy=7160.85>)"
      ]
     },
     "execution_count": 317,
     "metadata": {},
     "output_type": "execute_result"
    }
   ],
   "source": [
    "mae_4 = mae(y_test, y_preds_4)\n",
    "mse_4 = mse(y_test, y_preds_4)\n",
    "mae_4, mse_4"
   ]
  },
  {
   "cell_type": "code",
   "execution_count": 393,
   "id": "D81zxfuyqOk3",
   "metadata": {
    "colab": {
     "base_uri": "https://localhost:8080/"
    },
    "id": "D81zxfuyqOk3",
    "outputId": "4576ebe0-396a-475f-8f9e-a5062148cb25"
   },
   "outputs": [
    {
     "data": {
      "text/html": [
       "Finishing last run (ID:lsf4o9l4) before initializing another..."
      ],
      "text/plain": [
       "<IPython.core.display.HTML object>"
      ]
     },
     "metadata": {},
     "output_type": "display_data"
    },
    {
     "data": {
      "application/vnd.jupyter.widget-view+json": {
       "model_id": "",
       "version_major": 2,
       "version_minor": 0
      },
      "text/plain": [
       "VBox(children=(Label(value='0.002 MB of 0.028 MB uploaded\\r'), FloatProgress(value=0.07154357013483598, max=1.…"
      ]
     },
     "metadata": {},
     "output_type": "display_data"
    },
    {
     "data": {
      "text/html": [
       " View run <strong style=\"color:#cdcd00\">Dense:10,20,20,1.Adam.E:150</strong> at: <a href='https://wandb.ai/frackowiak_kajetan/regression_fundamentals/runs/lsf4o9l4' target=\"_blank\">https://wandb.ai/frackowiak_kajetan/regression_fundamentals/runs/lsf4o9l4</a><br/> View job at <a href='https://wandb.ai/frackowiak_kajetan/regression_fundamentals/jobs/QXJ0aWZhY3RDb2xsZWN0aW9uOjEyMzk2MDE5NQ==/version_details/v2' target=\"_blank\">https://wandb.ai/frackowiak_kajetan/regression_fundamentals/jobs/QXJ0aWZhY3RDb2xsZWN0aW9uOjEyMzk2MDE5NQ==/version_details/v2</a><br/>Synced 5 W&B file(s), 0 media file(s), 0 artifact file(s) and 0 other file(s)"
      ],
      "text/plain": [
       "<IPython.core.display.HTML object>"
      ]
     },
     "metadata": {},
     "output_type": "display_data"
    },
    {
     "data": {
      "text/html": [
       "Find logs at: <code>./wandb/run-20231216_104111-lsf4o9l4/logs</code>"
      ],
      "text/plain": [
       "<IPython.core.display.HTML object>"
      ]
     },
     "metadata": {},
     "output_type": "display_data"
    },
    {
     "data": {
      "text/html": [
       "Successfully finished last run (ID:lsf4o9l4). Initializing new run:<br/>"
      ],
      "text/plain": [
       "<IPython.core.display.HTML object>"
      ]
     },
     "metadata": {},
     "output_type": "display_data"
    },
    {
     "data": {
      "application/vnd.jupyter.widget-view+json": {
       "model_id": "de398aee25494db89b2ec94d80ee0eb9",
       "version_major": 2,
       "version_minor": 0
      },
      "text/plain": [
       "VBox(children=(Label(value='Waiting for wandb.init()...\\r'), FloatProgress(value=0.011112376700030938, max=1.0…"
      ]
     },
     "metadata": {},
     "output_type": "display_data"
    },
    {
     "data": {
      "text/html": [
       "wandb version 0.16.1 is available!  To upgrade, please run:\n",
       " $ pip install wandb --upgrade"
      ],
      "text/plain": [
       "<IPython.core.display.HTML object>"
      ]
     },
     "metadata": {},
     "output_type": "display_data"
    },
    {
     "data": {
      "text/html": [
       "Tracking run with wandb version 0.16.0"
      ],
      "text/plain": [
       "<IPython.core.display.HTML object>"
      ]
     },
     "metadata": {},
     "output_type": "display_data"
    },
    {
     "data": {
      "text/html": [
       "Run data is saved locally in <code>/home/kajetan/tensorflow_fundamentals/wandb/run-20231216_104211-cvata0v2</code>"
      ],
      "text/plain": [
       "<IPython.core.display.HTML object>"
      ]
     },
     "metadata": {},
     "output_type": "display_data"
    },
    {
     "data": {
      "text/html": [
       "Syncing run <strong><a href='https://wandb.ai/frackowiak_kajetan/regression_fundamentals/runs/cvata0v2' target=\"_blank\">Dense:10,20,20,1.Adam.E:150</a></strong> to <a href='https://wandb.ai/frackowiak_kajetan/regression_fundamentals' target=\"_blank\">Weights & Biases</a> (<a href='https://wandb.me/run' target=\"_blank\">docs</a>)<br/>"
      ],
      "text/plain": [
       "<IPython.core.display.HTML object>"
      ]
     },
     "metadata": {},
     "output_type": "display_data"
    },
    {
     "data": {
      "text/html": [
       " View project at <a href='https://wandb.ai/frackowiak_kajetan/regression_fundamentals' target=\"_blank\">https://wandb.ai/frackowiak_kajetan/regression_fundamentals</a>"
      ],
      "text/plain": [
       "<IPython.core.display.HTML object>"
      ]
     },
     "metadata": {},
     "output_type": "display_data"
    },
    {
     "data": {
      "text/html": [
       " View run at <a href='https://wandb.ai/frackowiak_kajetan/regression_fundamentals/runs/cvata0v2' target=\"_blank\">https://wandb.ai/frackowiak_kajetan/regression_fundamentals/runs/cvata0v2</a>"
      ],
      "text/plain": [
       "<IPython.core.display.HTML object>"
      ]
     },
     "metadata": {},
     "output_type": "display_data"
    },
    {
     "name": "stdout",
     "output_type": "stream",
     "text": [
      "Epoch 1/150\n",
      "2/2 [==============================] - 1s 8ms/step - loss: 41.1993 - mae: 41.1993\n",
      "Epoch 2/150\n",
      "2/2 [==============================] - 0s 5ms/step - loss: 40.8075 - mae: 40.8075\n",
      "Epoch 3/150\n",
      "2/2 [==============================] - 0s 5ms/step - loss: 40.7769 - mae: 40.7769\n",
      "Epoch 4/150\n",
      "2/2 [==============================] - 0s 4ms/step - loss: 40.6738 - mae: 40.6738\n",
      "Epoch 5/150\n",
      "2/2 [==============================] - 0s 4ms/step - loss: 40.4461 - mae: 40.4461\n",
      "Epoch 6/150\n",
      "2/2 [==============================] - 0s 5ms/step - loss: 40.7243 - mae: 40.7243\n",
      "Epoch 7/150\n",
      "2/2 [==============================] - 0s 4ms/step - loss: 40.7736 - mae: 40.7736\n",
      "Epoch 8/150\n",
      "2/2 [==============================] - 0s 4ms/step - loss: 40.3483 - mae: 40.3483\n",
      "Epoch 9/150\n",
      "2/2 [==============================] - 0s 5ms/step - loss: 40.4688 - mae: 40.4688\n",
      "Epoch 10/150\n",
      "2/2 [==============================] - 0s 4ms/step - loss: 40.2102 - mae: 40.2102\n",
      "Epoch 11/150\n",
      "2/2 [==============================] - 0s 5ms/step - loss: 40.0362 - mae: 40.0362\n",
      "Epoch 12/150\n",
      "2/2 [==============================] - 0s 5ms/step - loss: 40.9382 - mae: 40.9382\n",
      "Epoch 13/150\n",
      "2/2 [==============================] - 0s 4ms/step - loss: 40.7641 - mae: 40.7641\n",
      "Epoch 14/150\n",
      "2/2 [==============================] - 0s 4ms/step - loss: 41.0729 - mae: 41.0729\n",
      "Epoch 15/150\n",
      "2/2 [==============================] - 0s 4ms/step - loss: 40.9647 - mae: 40.9647\n",
      "Epoch 16/150\n",
      "2/2 [==============================] - 0s 12ms/step - loss: 41.0359 - mae: 41.0359\n",
      "Epoch 17/150\n",
      "2/2 [==============================] - 0s 4ms/step - loss: 40.3503 - mae: 40.3503\n",
      "Epoch 18/150\n",
      "2/2 [==============================] - 0s 5ms/step - loss: 40.2804 - mae: 40.2804\n",
      "Epoch 19/150\n",
      "2/2 [==============================] - 0s 9ms/step - loss: 40.6913 - mae: 40.6913\n",
      "Epoch 20/150\n",
      "2/2 [==============================] - 0s 6ms/step - loss: 40.9834 - mae: 40.9834\n",
      "Epoch 21/150\n",
      "2/2 [==============================] - 0s 5ms/step - loss: 40.9930 - mae: 40.9930\n",
      "Epoch 22/150\n",
      "2/2 [==============================] - 0s 3ms/step - loss: 40.5406 - mae: 40.5406\n",
      "Epoch 23/150\n",
      "2/2 [==============================] - 0s 4ms/step - loss: 40.6865 - mae: 40.6865\n",
      "Epoch 24/150\n",
      "2/2 [==============================] - 0s 4ms/step - loss: 40.8686 - mae: 40.8686\n",
      "Epoch 25/150\n",
      "2/2 [==============================] - 0s 5ms/step - loss: 40.5120 - mae: 40.5120\n",
      "Epoch 26/150\n",
      "2/2 [==============================] - 0s 5ms/step - loss: 40.7656 - mae: 40.7656\n",
      "Epoch 27/150\n",
      "2/2 [==============================] - 0s 5ms/step - loss: 40.5277 - mae: 40.5277\n",
      "Epoch 28/150\n",
      "2/2 [==============================] - 0s 6ms/step - loss: 40.6709 - mae: 40.6709\n",
      "Epoch 29/150\n",
      "2/2 [==============================] - 0s 3ms/step - loss: 39.8142 - mae: 39.8142\n",
      "Epoch 30/150\n",
      "2/2 [==============================] - 0s 5ms/step - loss: 39.4800 - mae: 39.4800\n",
      "Epoch 31/150\n",
      "2/2 [==============================] - 0s 4ms/step - loss: 40.8185 - mae: 40.8185\n",
      "Epoch 32/150\n",
      "2/2 [==============================] - 0s 4ms/step - loss: 40.6562 - mae: 40.6562\n",
      "Epoch 33/150\n",
      "2/2 [==============================] - 0s 5ms/step - loss: 41.2283 - mae: 41.2283\n",
      "Epoch 34/150\n",
      "2/2 [==============================] - 0s 4ms/step - loss: 41.2391 - mae: 41.2391\n",
      "Epoch 35/150\n",
      "2/2 [==============================] - 0s 5ms/step - loss: 40.2657 - mae: 40.2657\n",
      "Epoch 36/150\n",
      "2/2 [==============================] - 0s 4ms/step - loss: 41.0904 - mae: 41.0904\n",
      "Epoch 37/150\n",
      "2/2 [==============================] - 0s 6ms/step - loss: 41.4686 - mae: 41.4686\n",
      "Epoch 38/150\n",
      "2/2 [==============================] - 0s 4ms/step - loss: 41.2424 - mae: 41.2424\n",
      "Epoch 39/150\n",
      "2/2 [==============================] - 0s 5ms/step - loss: 41.1230 - mae: 41.1230\n",
      "Epoch 40/150\n",
      "2/2 [==============================] - 0s 4ms/step - loss: 41.1614 - mae: 41.1614\n",
      "Epoch 41/150\n",
      "2/2 [==============================] - 0s 5ms/step - loss: 40.3904 - mae: 40.3904\n",
      "Epoch 42/150\n",
      "2/2 [==============================] - 0s 4ms/step - loss: 40.9005 - mae: 40.9005\n",
      "Epoch 43/150\n",
      "2/2 [==============================] - 0s 6ms/step - loss: 40.3669 - mae: 40.3669\n",
      "Epoch 44/150\n",
      "2/2 [==============================] - 0s 4ms/step - loss: 40.6650 - mae: 40.6650\n",
      "Epoch 45/150\n",
      "2/2 [==============================] - 0s 5ms/step - loss: 40.7772 - mae: 40.7772\n",
      "Epoch 46/150\n",
      "2/2 [==============================] - 0s 4ms/step - loss: 40.6377 - mae: 40.6377\n",
      "Epoch 47/150\n",
      "2/2 [==============================] - 0s 4ms/step - loss: 40.6834 - mae: 40.6834\n",
      "Epoch 48/150\n",
      "2/2 [==============================] - 0s 4ms/step - loss: 40.5911 - mae: 40.5911\n",
      "Epoch 49/150\n",
      "2/2 [==============================] - 0s 4ms/step - loss: 40.6180 - mae: 40.6180\n",
      "Epoch 50/150\n",
      "2/2 [==============================] - 0s 4ms/step - loss: 40.4838 - mae: 40.4838\n",
      "Epoch 51/150\n",
      "2/2 [==============================] - 0s 3ms/step - loss: 40.5888 - mae: 40.5888\n",
      "Epoch 52/150\n",
      "2/2 [==============================] - 0s 3ms/step - loss: 40.3308 - mae: 40.3308\n",
      "Epoch 53/150\n",
      "2/2 [==============================] - 0s 5ms/step - loss: 39.9464 - mae: 39.9464\n",
      "Epoch 54/150\n",
      "2/2 [==============================] - 0s 3ms/step - loss: 40.2447 - mae: 40.2447\n",
      "Epoch 55/150\n",
      "2/2 [==============================] - 0s 4ms/step - loss: 40.7615 - mae: 40.7615\n",
      "Epoch 56/150\n",
      "2/2 [==============================] - 0s 3ms/step - loss: 40.6608 - mae: 40.6608\n",
      "Epoch 57/150\n",
      "2/2 [==============================] - 0s 5ms/step - loss: 40.4681 - mae: 40.4681\n",
      "Epoch 58/150\n",
      "2/2 [==============================] - 0s 3ms/step - loss: 40.8879 - mae: 40.8879\n",
      "Epoch 59/150\n",
      "2/2 [==============================] - 0s 5ms/step - loss: 41.0306 - mae: 41.0306\n",
      "Epoch 60/150\n",
      "2/2 [==============================] - 0s 4ms/step - loss: 40.9536 - mae: 40.9536\n",
      "Epoch 61/150\n",
      "2/2 [==============================] - 0s 4ms/step - loss: 40.9217 - mae: 40.9217\n",
      "Epoch 62/150\n",
      "2/2 [==============================] - 0s 4ms/step - loss: 40.8704 - mae: 40.8704\n",
      "Epoch 63/150\n",
      "2/2 [==============================] - 0s 4ms/step - loss: 40.6474 - mae: 40.6474\n",
      "Epoch 64/150\n",
      "2/2 [==============================] - 0s 3ms/step - loss: 40.7431 - mae: 40.7431\n",
      "Epoch 65/150\n",
      "2/2 [==============================] - 0s 4ms/step - loss: 40.6225 - mae: 40.6225\n",
      "Epoch 66/150\n",
      "2/2 [==============================] - 0s 4ms/step - loss: 40.7034 - mae: 40.7034\n",
      "Epoch 67/150\n",
      "2/2 [==============================] - 0s 4ms/step - loss: 40.6622 - mae: 40.6622\n",
      "Epoch 68/150\n",
      "2/2 [==============================] - 0s 3ms/step - loss: 40.6018 - mae: 40.6018\n",
      "Epoch 69/150\n",
      "2/2 [==============================] - 0s 3ms/step - loss: 40.6522 - mae: 40.6522\n",
      "Epoch 70/150\n",
      "2/2 [==============================] - 0s 4ms/step - loss: 40.5395 - mae: 40.5395\n",
      "Epoch 71/150\n",
      "2/2 [==============================] - 0s 4ms/step - loss: 40.5751 - mae: 40.5751\n",
      "Epoch 72/150\n",
      "2/2 [==============================] - 0s 5ms/step - loss: 40.6043 - mae: 40.6043\n",
      "Epoch 73/150\n",
      "2/2 [==============================] - 0s 3ms/step - loss: 40.5681 - mae: 40.5681\n",
      "Epoch 74/150\n",
      "2/2 [==============================] - 0s 4ms/step - loss: 40.5911 - mae: 40.5911\n",
      "Epoch 75/150\n",
      "2/2 [==============================] - 0s 3ms/step - loss: 40.6093 - mae: 40.6093\n",
      "Epoch 76/150\n",
      "2/2 [==============================] - 0s 4ms/step - loss: 40.5399 - mae: 40.5399\n",
      "Epoch 77/150\n",
      "2/2 [==============================] - 0s 3ms/step - loss: 40.6230 - mae: 40.6230\n",
      "Epoch 78/150\n",
      "2/2 [==============================] - 0s 4ms/step - loss: 40.3931 - mae: 40.3931\n",
      "Epoch 79/150\n",
      "2/2 [==============================] - 0s 3ms/step - loss: 40.4422 - mae: 40.4422\n",
      "Epoch 80/150\n",
      "2/2 [==============================] - 0s 3ms/step - loss: 40.6078 - mae: 40.6078\n",
      "Epoch 81/150\n",
      "2/2 [==============================] - 0s 4ms/step - loss: 40.0982 - mae: 40.0982\n",
      "Epoch 82/150\n",
      "2/2 [==============================] - 0s 4ms/step - loss: 40.5249 - mae: 40.5249\n",
      "Epoch 83/150\n",
      "2/2 [==============================] - 0s 4ms/step - loss: 40.5597 - mae: 40.5597\n",
      "Epoch 84/150\n",
      "2/2 [==============================] - 0s 3ms/step - loss: 40.6090 - mae: 40.6090\n",
      "Epoch 85/150\n",
      "2/2 [==============================] - 0s 4ms/step - loss: 40.6573 - mae: 40.6573\n",
      "Epoch 86/150\n",
      "2/2 [==============================] - 0s 3ms/step - loss: 40.6638 - mae: 40.6638\n",
      "Epoch 87/150\n",
      "2/2 [==============================] - 0s 4ms/step - loss: 40.6167 - mae: 40.6167\n",
      "Epoch 88/150\n",
      "2/2 [==============================] - 0s 3ms/step - loss: 40.6282 - mae: 40.6282\n",
      "Epoch 89/150\n",
      "2/2 [==============================] - 0s 4ms/step - loss: 40.6213 - mae: 40.6213\n",
      "Epoch 90/150\n",
      "2/2 [==============================] - 0s 3ms/step - loss: 40.6058 - mae: 40.6058\n",
      "Epoch 91/150\n",
      "2/2 [==============================] - 0s 4ms/step - loss: 40.5569 - mae: 40.5569\n",
      "Epoch 92/150\n",
      "2/2 [==============================] - 0s 3ms/step - loss: 40.5892 - mae: 40.5892\n",
      "Epoch 93/150\n",
      "2/2 [==============================] - 0s 4ms/step - loss: 40.5317 - mae: 40.5317\n",
      "Epoch 94/150\n",
      "2/2 [==============================] - 0s 3ms/step - loss: 40.5726 - mae: 40.5726\n",
      "Epoch 95/150\n",
      "2/2 [==============================] - 0s 3ms/step - loss: 40.5976 - mae: 40.5976\n",
      "Epoch 96/150\n",
      "2/2 [==============================] - 0s 3ms/step - loss: 40.4851 - mae: 40.4851\n",
      "Epoch 97/150\n",
      "2/2 [==============================] - 0s 3ms/step - loss: 40.5827 - mae: 40.5827\n",
      "Epoch 98/150\n",
      "2/2 [==============================] - 0s 4ms/step - loss: 40.5529 - mae: 40.5529\n",
      "Epoch 99/150\n",
      "2/2 [==============================] - 0s 3ms/step - loss: 40.5424 - mae: 40.5424\n",
      "Epoch 100/150\n",
      "2/2 [==============================] - 0s 4ms/step - loss: 40.5815 - mae: 40.5815\n",
      "Epoch 101/150\n",
      "2/2 [==============================] - 0s 3ms/step - loss: 40.5676 - mae: 40.5676\n",
      "Epoch 102/150\n",
      "2/2 [==============================] - 0s 4ms/step - loss: 40.3556 - mae: 40.3556\n",
      "Epoch 103/150\n",
      "2/2 [==============================] - 0s 4ms/step - loss: 40.4572 - mae: 40.4572\n",
      "Epoch 104/150\n",
      "2/2 [==============================] - 0s 5ms/step - loss: 40.5659 - mae: 40.5659\n",
      "Epoch 105/150\n",
      "2/2 [==============================] - 0s 3ms/step - loss: 40.5298 - mae: 40.5298\n",
      "Epoch 106/150\n",
      "2/2 [==============================] - 0s 4ms/step - loss: 40.5001 - mae: 40.5001\n",
      "Epoch 107/150\n",
      "2/2 [==============================] - 0s 3ms/step - loss: 40.5347 - mae: 40.5347\n",
      "Epoch 108/150\n",
      "2/2 [==============================] - 0s 3ms/step - loss: 40.5273 - mae: 40.5273\n",
      "Epoch 109/150\n",
      "2/2 [==============================] - 0s 4ms/step - loss: 40.4857 - mae: 40.4857\n",
      "Epoch 110/150\n",
      "2/2 [==============================] - 0s 4ms/step - loss: 40.5534 - mae: 40.5534\n",
      "Epoch 111/150\n",
      "2/2 [==============================] - 0s 4ms/step - loss: 40.5021 - mae: 40.5021\n",
      "Epoch 112/150\n",
      "2/2 [==============================] - 0s 4ms/step - loss: 40.2749 - mae: 40.2749\n",
      "Epoch 113/150\n",
      "2/2 [==============================] - 0s 4ms/step - loss: 40.2146 - mae: 40.2146\n",
      "Epoch 114/150\n",
      "2/2 [==============================] - 0s 4ms/step - loss: 40.6166 - mae: 40.6166\n",
      "Epoch 115/150\n",
      "2/2 [==============================] - 0s 4ms/step - loss: 40.6770 - mae: 40.6770\n",
      "Epoch 116/150\n",
      "2/2 [==============================] - 0s 4ms/step - loss: 40.5605 - mae: 40.5605\n",
      "Epoch 117/150\n",
      "2/2 [==============================] - 0s 4ms/step - loss: 40.5435 - mae: 40.5435\n",
      "Epoch 118/150\n",
      "2/2 [==============================] - 0s 5ms/step - loss: 40.5217 - mae: 40.5217\n",
      "Epoch 119/150\n",
      "2/2 [==============================] - 0s 5ms/step - loss: 39.4932 - mae: 39.4932\n",
      "Epoch 120/150\n",
      "2/2 [==============================] - 0s 3ms/step - loss: 40.7185 - mae: 40.7185\n",
      "Epoch 121/150\n",
      "2/2 [==============================] - 0s 4ms/step - loss: 39.4836 - mae: 39.4836\n",
      "Epoch 122/150\n",
      "2/2 [==============================] - 0s 3ms/step - loss: 40.1072 - mae: 40.1072\n",
      "Epoch 123/150\n",
      "2/2 [==============================] - 0s 4ms/step - loss: 40.9838 - mae: 40.9838\n",
      "Epoch 124/150\n",
      "2/2 [==============================] - 0s 3ms/step - loss: 41.2120 - mae: 41.2120\n",
      "Epoch 125/150\n",
      "2/2 [==============================] - 0s 5ms/step - loss: 40.8484 - mae: 40.8484\n",
      "Epoch 126/150\n",
      "2/2 [==============================] - 0s 4ms/step - loss: 41.3005 - mae: 41.3005\n",
      "Epoch 127/150\n",
      "2/2 [==============================] - 0s 5ms/step - loss: 40.1243 - mae: 40.1243\n",
      "Epoch 128/150\n",
      "2/2 [==============================] - 0s 3ms/step - loss: 41.1624 - mae: 41.1624\n",
      "Epoch 129/150\n",
      "2/2 [==============================] - 0s 4ms/step - loss: 40.3188 - mae: 40.3188\n",
      "Epoch 130/150\n",
      "2/2 [==============================] - 0s 4ms/step - loss: 41.0431 - mae: 41.0431\n",
      "Epoch 131/150\n",
      "2/2 [==============================] - 0s 4ms/step - loss: 40.8357 - mae: 40.8357\n",
      "Epoch 132/150\n",
      "2/2 [==============================] - 0s 3ms/step - loss: 40.9026 - mae: 40.9026\n",
      "Epoch 133/150\n",
      "2/2 [==============================] - 0s 4ms/step - loss: 40.4094 - mae: 40.4094\n",
      "Epoch 134/150\n",
      "2/2 [==============================] - 0s 4ms/step - loss: 40.8296 - mae: 40.8296\n",
      "Epoch 135/150\n",
      "2/2 [==============================] - 0s 4ms/step - loss: 40.7113 - mae: 40.7113\n",
      "Epoch 136/150\n",
      "2/2 [==============================] - 0s 4ms/step - loss: 40.6125 - mae: 40.6125\n",
      "Epoch 137/150\n",
      "2/2 [==============================] - 0s 4ms/step - loss: 39.9242 - mae: 39.9242\n",
      "Epoch 138/150\n",
      "2/2 [==============================] - 0s 3ms/step - loss: 40.2759 - mae: 40.2759\n",
      "Epoch 139/150\n",
      "2/2 [==============================] - 0s 3ms/step - loss: 40.6113 - mae: 40.6113\n",
      "Epoch 140/150\n",
      "2/2 [==============================] - 0s 3ms/step - loss: 40.5515 - mae: 40.5515\n",
      "Epoch 141/150\n",
      "2/2 [==============================] - 0s 3ms/step - loss: 40.0142 - mae: 40.0142\n",
      "Epoch 142/150\n",
      "2/2 [==============================] - 0s 4ms/step - loss: 40.3158 - mae: 40.3158\n",
      "Epoch 143/150\n",
      "2/2 [==============================] - 0s 3ms/step - loss: 40.1094 - mae: 40.1094\n",
      "Epoch 144/150\n",
      "2/2 [==============================] - 0s 4ms/step - loss: 40.1163 - mae: 40.1163\n",
      "Epoch 145/150\n",
      "2/2 [==============================] - 0s 5ms/step - loss: 40.7162 - mae: 40.7162\n",
      "Epoch 146/150\n",
      "2/2 [==============================] - 0s 4ms/step - loss: 39.7980 - mae: 39.7980\n",
      "Epoch 147/150\n",
      "2/2 [==============================] - 0s 6ms/step - loss: 40.1222 - mae: 40.1222\n",
      "Epoch 148/150\n",
      "2/2 [==============================] - 0s 4ms/step - loss: 40.4498 - mae: 40.4498\n",
      "Epoch 149/150\n",
      "2/2 [==============================] - 0s 4ms/step - loss: 40.6899 - mae: 40.6899\n",
      "Epoch 150/150\n",
      "2/2 [==============================] - 0s 4ms/step - loss: 39.8635 - mae: 39.8635\n"
     ]
    },
    {
     "data": {
      "text/plain": [
       "<keras.src.callbacks.History at 0x7f97c2dfe610>"
      ]
     },
     "execution_count": 393,
     "metadata": {},
     "output_type": "execute_result"
    }
   ],
   "source": [
    "tf.random.set_seed(42)\n",
    "\n",
    "initialize_wandb(project_name=\"regression_fundamentals\", run_name=\"Dense:10,20,20,1.Adam.E:150\")\n",
    "model_5 = tf.keras.Sequential([\n",
    "    tf.keras.layers.Dense(10),\n",
    "    tf.keras.layers.Dense(20),\n",
    "    tf.keras.layers.Dense(20),\n",
    "    tf.keras.layers.Dense(1)\n",
    "])\n",
    "\n",
    "model_5.compile(loss=tf.keras.losses.mae,\n",
    "                optimizer=tf.keras.optimizers.Adam(),\n",
    "                metrics=[\"mae\"])\n",
    "\n",
    "model_5.fit(X_train, y_train, epochs=150, callbacks=[WandbCallback()])\n"
   ]
  },
  {
   "cell_type": "code",
   "execution_count": 319,
   "id": "WIeNjrTGqWZ6",
   "metadata": {
    "colab": {
     "base_uri": "https://localhost:8080/",
     "height": 473
    },
    "id": "WIeNjrTGqWZ6",
    "outputId": "dc533757-302e-4296-9140-827fe568cfae"
   },
   "outputs": [
    {
     "name": "stdout",
     "output_type": "stream",
     "text": [
      "1/1 [==============================] - 0s 78ms/step\n"
     ]
    },
    {
     "data": {
      "image/png": "[encoded data removed]",
      "text/plain": [
       "<Figure size 1000x700 with 1 Axes>"
      ]
     },
     "metadata": {},
     "output_type": "display_data"
    }
   ],
   "source": [
    "y_preds_5 = model_5.predict(X_test)\n",
    "plot_predictions(predictions=y_preds_5)"
   ]
  },
  {
   "cell_type": "code",
   "execution_count": 320,
   "id": "68722225",
   "metadata": {},
   "outputs": [
    {
     "data": {
      "text/plain": [
       "(<tf.Tensor: shape=(), dtype=float32, numpy=55.025055>,\n",
       " <tf.Tensor: shape=(), dtype=float32, numpy=55.025055>)"
      ]
     },
     "execution_count": 320,
     "metadata": {},
     "output_type": "execute_result"
    }
   ],
   "source": [
    "mae_5 = mae(y_test, y_preds_5)\n",
    "mse_5 = mse(y_test, y_preds_5)\n",
    "mse_5, mse_5"
   ]
  },
  {
   "cell_type": "code",
   "execution_count": 394,
   "id": "Zmq26NkHql0a",
   "metadata": {
    "colab": {
     "base_uri": "https://localhost:8080/"
    },
    "id": "Zmq26NkHql0a",
    "outputId": "51e693d6-4aa6-4dd3-ebd9-27e0d691872b"
   },
   "outputs": [
    {
     "data": {
      "text/html": [
       "Finishing last run (ID:cvata0v2) before initializing another..."
      ],
      "text/plain": [
       "<IPython.core.display.HTML object>"
      ]
     },
     "metadata": {},
     "output_type": "display_data"
    },
    {
     "data": {
      "application/vnd.jupyter.widget-view+json": {
       "model_id": "",
       "version_major": 2,
       "version_minor": 0
      },
      "text/plain": [
       "VBox(children=(Label(value='0.003 MB of 0.003 MB uploaded\\r'), FloatProgress(value=1.0, max=1.0)))"
      ]
     },
     "metadata": {},
     "output_type": "display_data"
    },
    {
     "data": {
      "text/html": [
       "<style>\n",
       "    table.wandb td:nth-child(1) { padding: 0 10px; text-align: left ; width: auto;} td:nth-child(2) {text-align: left ; width: 100%}\n",
       "    .wandb-row { display: flex; flex-direction: row; flex-wrap: wrap; justify-content: flex-start; width: 100% }\n",
       "    .wandb-col { display: flex; flex-direction: column; flex-basis: 100%; flex: 1; padding: 10px; }\n",
       "    </style>\n",
       "<div class=\"wandb-row\"><div class=\"wandb-col\"><h3>Run history:</h3><br/><table class=\"wandb\"><tr><td>epoch</td><td>▁▁▁▁▂▂▂▂▂▃▃▃▃▃▃▄▄▄▄▄▅▅▅▅▅▅▆▆▆▆▆▆▇▇▇▇▇███</td></tr><tr><td>loss</td><td>▆▅▄▆▇▇▆▅▅▇█▆▅▄▃▆▆▅▄▅▄▅▅▅▅▄▅▅▄▃▅▄▂█▇▆▃▃▁▁</td></tr><tr><td>mae</td><td>▆▅▄▆▇▇▆▅▅▇█▆▅▄▃▆▆▅▄▅▄▅▅▅▅▄▅▅▄▃▅▄▂█▇▆▃▃▁▁</td></tr></table><br/></div><div class=\"wandb-col\"><h3>Run summary:</h3><br/><table class=\"wandb\"><tr><td>epoch</td><td>149</td></tr><tr><td>loss</td><td>39.86346</td></tr><tr><td>mae</td><td>39.86346</td></tr></table><br/></div></div>"
      ],
      "text/plain": [
       "<IPython.core.display.HTML object>"
      ]
     },
     "metadata": {},
     "output_type": "display_data"
    },
    {
     "data": {
      "text/html": [
       " View run <strong style=\"color:#cdcd00\">Dense:10,20,20,1.Adam.E:150</strong> at: <a href='https://wandb.ai/frackowiak_kajetan/regression_fundamentals/runs/cvata0v2' target=\"_blank\">https://wandb.ai/frackowiak_kajetan/regression_fundamentals/runs/cvata0v2</a><br/> View job at <a href='https://wandb.ai/frackowiak_kajetan/regression_fundamentals/jobs/QXJ0aWZhY3RDb2xsZWN0aW9uOjEyMzk2MDE5NQ==/version_details/v3' target=\"_blank\">https://wandb.ai/frackowiak_kajetan/regression_fundamentals/jobs/QXJ0aWZhY3RDb2xsZWN0aW9uOjEyMzk2MDE5NQ==/version_details/v3</a><br/>Synced 6 W&B file(s), 1 media file(s), 0 artifact file(s) and 0 other file(s)"
      ],
      "text/plain": [
       "<IPython.core.display.HTML object>"
      ]
     },
     "metadata": {},
     "output_type": "display_data"
    },
    {
     "data": {
      "text/html": [
       "Find logs at: <code>./wandb/run-20231216_104211-cvata0v2/logs</code>"
      ],
      "text/plain": [
       "<IPython.core.display.HTML object>"
      ]
     },
     "metadata": {},
     "output_type": "display_data"
    },
    {
     "data": {
      "text/html": [
       "Successfully finished last run (ID:cvata0v2). Initializing new run:<br/>"
      ],
      "text/plain": [
       "<IPython.core.display.HTML object>"
      ]
     },
     "metadata": {},
     "output_type": "display_data"
    },
    {
     "data": {
      "application/vnd.jupyter.widget-view+json": {
       "model_id": "70465d26840e4b45bbe27928619ce543",
       "version_major": 2,
       "version_minor": 0
      },
      "text/plain": [
       "VBox(children=(Label(value='Waiting for wandb.init()...\\r'), FloatProgress(value=0.011112352488877757, max=1.0…"
      ]
     },
     "metadata": {},
     "output_type": "display_data"
    },
    {
     "data": {
      "text/html": [
       "wandb version 0.16.1 is available!  To upgrade, please run:\n",
       " $ pip install wandb --upgrade"
      ],
      "text/plain": [
       "<IPython.core.display.HTML object>"
      ]
     },
     "metadata": {},
     "output_type": "display_data"
    },
    {
     "data": {
      "text/html": [
       "Tracking run with wandb version 0.16.0"
      ],
      "text/plain": [
       "<IPython.core.display.HTML object>"
      ]
     },
     "metadata": {},
     "output_type": "display_data"
    },
    {
     "data": {
      "text/html": [
       "Run data is saved locally in <code>/home/kajetan/tensorflow_fundamentals/wandb/run-20231216_104323-aa1wtq0i</code>"
      ],
      "text/plain": [
       "<IPython.core.display.HTML object>"
      ]
     },
     "metadata": {},
     "output_type": "display_data"
    },
    {
     "data": {
      "text/html": [
       "Syncing run <strong><a href='https://wandb.ai/frackowiak_kajetan/regression_fundamentals/runs/aa1wtq0i' target=\"_blank\">Dense:1.Adam.E:100</a></strong> to <a href='https://wandb.ai/frackowiak_kajetan/regression_fundamentals' target=\"_blank\">Weights & Biases</a> (<a href='https://wandb.me/run' target=\"_blank\">docs</a>)<br/>"
      ],
      "text/plain": [
       "<IPython.core.display.HTML object>"
      ]
     },
     "metadata": {},
     "output_type": "display_data"
    },
    {
     "data": {
      "text/html": [
       " View project at <a href='https://wandb.ai/frackowiak_kajetan/regression_fundamentals' target=\"_blank\">https://wandb.ai/frackowiak_kajetan/regression_fundamentals</a>"
      ],
      "text/plain": [
       "<IPython.core.display.HTML object>"
      ]
     },
     "metadata": {},
     "output_type": "display_data"
    },
    {
     "data": {
      "text/html": [
       " View run at <a href='https://wandb.ai/frackowiak_kajetan/regression_fundamentals/runs/aa1wtq0i' target=\"_blank\">https://wandb.ai/frackowiak_kajetan/regression_fundamentals/runs/aa1wtq0i</a>"
      ],
      "text/plain": [
       "<IPython.core.display.HTML object>"
      ]
     },
     "metadata": {},
     "output_type": "display_data"
    },
    {
     "name": "stdout",
     "output_type": "stream",
     "text": [
      "Epoch 1/100\n",
      "2/2 [==============================] - 0s 6ms/step - loss: 58.3798 - mae: 58.3798\n",
      "Epoch 2/100\n",
      "2/2 [==============================] - 0s 4ms/step - loss: 56.9092 - mae: 56.9092\n",
      "Epoch 3/100\n",
      "2/2 [==============================] - 0s 4ms/step - loss: 58.2242 - mae: 58.2242\n",
      "Epoch 4/100\n",
      "2/2 [==============================] - 0s 3ms/step - loss: 57.0200 - mae: 57.0200\n",
      "Epoch 5/100\n",
      "2/2 [==============================] - 0s 4ms/step - loss: 55.8449 - mae: 55.8449\n",
      "Epoch 6/100\n",
      "2/2 [==============================] - 0s 4ms/step - loss: 57.8419 - mae: 57.8419\n",
      "Epoch 7/100\n",
      "2/2 [==============================] - 0s 4ms/step - loss: 57.8395 - mae: 57.8395\n",
      "Epoch 8/100\n",
      "2/2 [==============================] - 0s 4ms/step - loss: 54.8413 - mae: 54.8413\n",
      "Epoch 9/100\n",
      "2/2 [==============================] - 0s 4ms/step - loss: 55.8850 - mae: 55.8850\n",
      "Epoch 10/100\n",
      "2/2 [==============================] - 0s 4ms/step - loss: 55.0043 - mae: 55.0043\n",
      "Epoch 11/100\n",
      "2/2 [==============================] - 0s 4ms/step - loss: 54.9837 - mae: 54.9837\n",
      "Epoch 12/100\n",
      "2/2 [==============================] - 0s 5ms/step - loss: 57.5975 - mae: 57.5975\n",
      "Epoch 13/100\n",
      "2/2 [==============================] - 0s 5ms/step - loss: 56.2068 - mae: 56.2068\n",
      "Epoch 14/100\n",
      "2/2 [==============================] - 0s 4ms/step - loss: 57.3201 - mae: 57.3201\n",
      "Epoch 15/100\n",
      "2/2 [==============================] - 0s 3ms/step - loss: 57.2451 - mae: 57.2451\n",
      "Epoch 16/100\n",
      "2/2 [==============================] - 0s 3ms/step - loss: 56.9946 - mae: 56.9946\n",
      "Epoch 17/100\n",
      "2/2 [==============================] - 0s 3ms/step - loss: 53.9506 - mae: 53.9506\n",
      "Epoch 18/100\n",
      "2/2 [==============================] - 0s 4ms/step - loss: 54.7999 - mae: 54.7999\n",
      "Epoch 19/100\n",
      "2/2 [==============================] - 0s 3ms/step - loss: 55.8622 - mae: 55.8622\n",
      "Epoch 20/100\n",
      "2/2 [==============================] - 0s 3ms/step - loss: 57.1456 - mae: 57.1456\n",
      "Epoch 21/100\n",
      "2/2 [==============================] - 0s 3ms/step - loss: 57.0069 - mae: 57.0069\n",
      "Epoch 22/100\n",
      "2/2 [==============================] - 0s 4ms/step - loss: 55.2020 - mae: 55.2020\n",
      "Epoch 23/100\n",
      "2/2 [==============================] - 0s 4ms/step - loss: 55.7507 - mae: 55.7507\n",
      "Epoch 24/100\n",
      "2/2 [==============================] - 0s 3ms/step - loss: 56.7206 - mae: 56.7206\n",
      "Epoch 25/100\n",
      "2/2 [==============================] - 0s 3ms/step - loss: 55.6412 - mae: 55.6412\n",
      "Epoch 26/100\n",
      "2/2 [==============================] - 0s 4ms/step - loss: 56.7174 - mae: 56.7174\n",
      "Epoch 27/100\n",
      "2/2 [==============================] - 0s 4ms/step - loss: 55.7538 - mae: 55.7538\n",
      "Epoch 28/100\n",
      "2/2 [==============================] - 0s 6ms/step - loss: 56.3985 - mae: 56.3985\n",
      "Epoch 29/100\n",
      "2/2 [==============================] - 0s 5ms/step - loss: 51.6999 - mae: 51.6999\n",
      "Epoch 30/100\n",
      "2/2 [==============================] - 0s 5ms/step - loss: 49.2373 - mae: 49.2373\n",
      "Epoch 31/100\n",
      "2/2 [==============================] - 0s 4ms/step - loss: 56.2171 - mae: 56.2171\n",
      "Epoch 32/100\n",
      "2/2 [==============================] - 0s 5ms/step - loss: 55.4990 - mae: 55.4990\n",
      "Epoch 33/100\n",
      "2/2 [==============================] - 0s 3ms/step - loss: 56.1510 - mae: 56.1510\n",
      "Epoch 34/100\n",
      "2/2 [==============================] - 0s 4ms/step - loss: 55.7904 - mae: 55.7904\n",
      "Epoch 35/100\n",
      "2/2 [==============================] - 0s 3ms/step - loss: 53.3409 - mae: 53.3409\n",
      "Epoch 36/100\n",
      "2/2 [==============================] - 0s 3ms/step - loss: 55.4011 - mae: 55.4011\n",
      "Epoch 37/100\n",
      "2/2 [==============================] - 0s 4ms/step - loss: 56.0873 - mae: 56.0873\n",
      "Epoch 38/100\n",
      "2/2 [==============================] - 0s 3ms/step - loss: 55.5971 - mae: 55.5971\n",
      "Epoch 39/100\n",
      "2/2 [==============================] - 0s 5ms/step - loss: 55.4337 - mae: 55.4337\n",
      "Epoch 40/100\n",
      "2/2 [==============================] - 0s 3ms/step - loss: 55.7943 - mae: 55.7943\n",
      "Epoch 41/100\n",
      "2/2 [==============================] - 0s 3ms/step - loss: 53.5233 - mae: 53.5233\n",
      "Epoch 42/100\n",
      "2/2 [==============================] - 0s 3ms/step - loss: 55.2966 - mae: 55.2966\n",
      "Epoch 43/100\n",
      "2/2 [==============================] - 0s 3ms/step - loss: 53.6267 - mae: 53.6267\n",
      "Epoch 44/100\n",
      "2/2 [==============================] - 0s 3ms/step - loss: 55.2612 - mae: 55.2612\n",
      "Epoch 45/100\n",
      "2/2 [==============================] - 0s 3ms/step - loss: 55.6631 - mae: 55.6631\n",
      "Epoch 46/100\n",
      "2/2 [==============================] - 0s 3ms/step - loss: 54.1424 - mae: 54.1424\n",
      "Epoch 47/100\n",
      "2/2 [==============================] - 0s 3ms/step - loss: 55.4234 - mae: 55.4234\n",
      "Epoch 48/100\n",
      "2/2 [==============================] - 0s 3ms/step - loss: 54.3585 - mae: 54.3585\n",
      "Epoch 49/100\n",
      "2/2 [==============================] - 0s 4ms/step - loss: 54.8331 - mae: 54.8331\n",
      "Epoch 50/100\n",
      "2/2 [==============================] - 0s 3ms/step - loss: 53.9707 - mae: 53.9707\n",
      "Epoch 51/100\n",
      "2/2 [==============================] - 0s 4ms/step - loss: 54.2215 - mae: 54.2215\n",
      "Epoch 52/100\n",
      "2/2 [==============================] - 0s 3ms/step - loss: 53.0120 - mae: 53.0120\n",
      "Epoch 53/100\n",
      "2/2 [==============================] - 0s 4ms/step - loss: 50.0977 - mae: 50.0977\n",
      "Epoch 54/100\n",
      "2/2 [==============================] - 0s 4ms/step - loss: 52.7911 - mae: 52.7911\n",
      "Epoch 55/100\n",
      "2/2 [==============================] - 0s 3ms/step - loss: 55.1162 - mae: 55.1162\n",
      "Epoch 56/100\n",
      "2/2 [==============================] - 0s 4ms/step - loss: 54.1246 - mae: 54.1246\n",
      "Epoch 57/100\n",
      "2/2 [==============================] - 0s 3ms/step - loss: 53.4988 - mae: 53.4988\n",
      "Epoch 58/100\n",
      "2/2 [==============================] - 0s 4ms/step - loss: 54.3816 - mae: 54.3816\n",
      "Epoch 59/100\n",
      "2/2 [==============================] - 0s 4ms/step - loss: 54.1350 - mae: 54.1350\n",
      "Epoch 60/100\n",
      "2/2 [==============================] - 0s 4ms/step - loss: 54.7415 - mae: 54.7415\n",
      "Epoch 61/100\n",
      "2/2 [==============================] - 0s 3ms/step - loss: 54.6671 - mae: 54.6671\n",
      "Epoch 62/100\n",
      "2/2 [==============================] - 0s 4ms/step - loss: 54.6021 - mae: 54.6021\n",
      "Epoch 63/100\n",
      "2/2 [==============================] - 0s 4ms/step - loss: 53.0229 - mae: 53.0229\n",
      "Epoch 64/100\n",
      "2/2 [==============================] - 0s 5ms/step - loss: 54.5379 - mae: 54.5379\n",
      "Epoch 65/100\n",
      "2/2 [==============================] - 0s 4ms/step - loss: 53.7902 - mae: 53.7902\n",
      "Epoch 66/100\n",
      "2/2 [==============================] - 0s 4ms/step - loss: 54.4259 - mae: 54.4259\n",
      "Epoch 67/100\n",
      "2/2 [==============================] - 0s 4ms/step - loss: 54.3649 - mae: 54.3649\n",
      "Epoch 68/100\n",
      "2/2 [==============================] - 0s 4ms/step - loss: 53.2243 - mae: 53.2243\n",
      "Epoch 69/100\n",
      "2/2 [==============================] - 0s 4ms/step - loss: 53.9992 - mae: 53.9992\n",
      "Epoch 70/100\n",
      "2/2 [==============================] - 0s 4ms/step - loss: 53.4321 - mae: 53.4321\n",
      "Epoch 71/100\n",
      "2/2 [==============================] - 0s 5ms/step - loss: 53.6573 - mae: 53.6573\n",
      "Epoch 72/100\n",
      "2/2 [==============================] - 0s 4ms/step - loss: 54.0222 - mae: 54.0222\n",
      "Epoch 73/100\n",
      "2/2 [==============================] - 0s 4ms/step - loss: 52.8078 - mae: 52.8078\n",
      "Epoch 74/100\n",
      "2/2 [==============================] - 0s 3ms/step - loss: 53.3973 - mae: 53.3973\n",
      "Epoch 75/100\n",
      "2/2 [==============================] - 0s 4ms/step - loss: 53.6795 - mae: 53.6795\n",
      "Epoch 76/100\n",
      "2/2 [==============================] - 0s 3ms/step - loss: 53.4143 - mae: 53.4143\n",
      "Epoch 77/100\n",
      "2/2 [==============================] - 0s 3ms/step - loss: 53.1428 - mae: 53.1428\n",
      "Epoch 78/100\n",
      "2/2 [==============================] - 0s 3ms/step - loss: 50.5545 - mae: 50.5545\n",
      "Epoch 79/100\n",
      "2/2 [==============================] - 0s 4ms/step - loss: 51.9150 - mae: 51.9150\n",
      "Epoch 80/100\n",
      "2/2 [==============================] - 0s 4ms/step - loss: 53.4417 - mae: 53.4417\n",
      "Epoch 81/100\n",
      "2/2 [==============================] - 0s 4ms/step - loss: 50.3210 - mae: 50.3210\n",
      "Epoch 82/100\n",
      "2/2 [==============================] - 0s 3ms/step - loss: 52.8670 - mae: 52.8670\n",
      "Epoch 83/100\n",
      "2/2 [==============================] - 0s 3ms/step - loss: 52.5519 - mae: 52.5519\n",
      "Epoch 84/100\n",
      "2/2 [==============================] - 0s 3ms/step - loss: 52.8247 - mae: 52.8247\n",
      "Epoch 85/100\n",
      "2/2 [==============================] - 0s 3ms/step - loss: 53.0537 - mae: 53.0537\n",
      "Epoch 86/100\n",
      "2/2 [==============================] - 0s 4ms/step - loss: 51.7843 - mae: 51.7843\n",
      "Epoch 87/100\n",
      "2/2 [==============================] - 0s 3ms/step - loss: 52.6481 - mae: 52.6481\n",
      "Epoch 88/100\n",
      "2/2 [==============================] - 0s 4ms/step - loss: 53.0330 - mae: 53.0330\n",
      "Epoch 89/100\n",
      "2/2 [==============================] - 0s 4ms/step - loss: 52.7738 - mae: 52.7738\n",
      "Epoch 90/100\n",
      "2/2 [==============================] - 0s 4ms/step - loss: 53.0590 - mae: 53.0590\n",
      "Epoch 91/100\n",
      "2/2 [==============================] - 0s 4ms/step - loss: 52.5232 - mae: 52.5232\n",
      "Epoch 92/100\n",
      "2/2 [==============================] - 0s 3ms/step - loss: 52.7563 - mae: 52.7563\n",
      "Epoch 93/100\n",
      "2/2 [==============================] - 0s 4ms/step - loss: 52.6077 - mae: 52.6077\n",
      "Epoch 94/100\n",
      "2/2 [==============================] - 0s 3ms/step - loss: 52.7754 - mae: 52.7754\n",
      "Epoch 95/100\n",
      "2/2 [==============================] - 0s 4ms/step - loss: 52.5657 - mae: 52.5657\n",
      "Epoch 96/100\n",
      "2/2 [==============================] - 0s 3ms/step - loss: 51.7629 - mae: 51.7629\n",
      "Epoch 97/100\n",
      "2/2 [==============================] - 0s 4ms/step - loss: 52.3389 - mae: 52.3389\n",
      "Epoch 98/100\n",
      "2/2 [==============================] - 0s 3ms/step - loss: 52.4075 - mae: 52.4075\n",
      "Epoch 99/100\n",
      "2/2 [==============================] - 0s 5ms/step - loss: 51.9601 - mae: 51.9601\n",
      "Epoch 100/100\n",
      "2/2 [==============================] - 0s 4ms/step - loss: 52.5027 - mae: 52.5027\n"
     ]
    },
    {
     "data": {
      "text/plain": [
       "<keras.src.callbacks.History at 0x7f97c309d210>"
      ]
     },
     "execution_count": 394,
     "metadata": {},
     "output_type": "execute_result"
    }
   ],
   "source": [
    "# Set random seed\n",
    "tf.random.set_seed(42)\n",
    "\n",
    "# 1. Create the model\n",
    "\n",
    "model_6 = tf.keras.Sequential([\n",
    "    tf.keras.layers.Dense(1)\n",
    "])\n",
    "initialize_wandb(project_name=\"regression_fundamentals\", run_name=\"Dense:1.Adam.E:100\")\n",
    "# 2. Compile the model\n",
    "model_6.compile(loss=tf.keras.losses.mae,\n",
    "               optimizer=tf.keras.optimizers.Adam(),\n",
    "               metrics=[\"mae\"])\n",
    "\n",
    "# 3. Fit the model\n",
    "model_6.fit(X_train, y_train, epochs=100, callbacks=[WandbCallback()])"
   ]
  },
  {
   "cell_type": "code",
   "execution_count": 322,
   "id": "QirGiKuerZAo",
   "metadata": {
    "colab": {
     "base_uri": "https://localhost:8080/",
     "height": 473
    },
    "id": "QirGiKuerZAo",
    "outputId": "b310c3d0-079d-4163-80e3-14b6705e5471"
   },
   "outputs": [
    {
     "name": "stdout",
     "output_type": "stream",
     "text": [
      "1/1 [==============================] - 0s 47ms/step\n"
     ]
    },
    {
     "data": {
      "image/png": "[encoded data removed]",
      "text/plain": [
       "<Figure size 1000x700 with 1 Axes>"
      ]
     },
     "metadata": {},
     "output_type": "display_data"
    }
   ],
   "source": [
    "y_preds_6 = model_6.predict(X_test)\n",
    "plot_predictions(predictions=y_preds_6)"
   ]
  },
  {
   "cell_type": "code",
   "execution_count": 323,
   "id": "3934c199",
   "metadata": {},
   "outputs": [
    {
     "data": {
      "text/plain": [
       "(<tf.Tensor: shape=(), dtype=float32, numpy=2.3231125>,\n",
       " <tf.Tensor: shape=(), dtype=float32, numpy=8.014697>)"
      ]
     },
     "execution_count": 323,
     "metadata": {},
     "output_type": "execute_result"
    }
   ],
   "source": [
    "mae_6 = mae(y_test, y_preds_6)\n",
    "mse_6 = mse(y_test, y_preds_6)\n",
    "mae_6, mse_6"
   ]
  },
  {
   "cell_type": "markdown",
   "id": "CJIKsNLIr128",
   "metadata": {
    "id": "CJIKsNLIr128"
   },
   "source": [
    "One reallt good habin in machine learning modelling is to track the results of you experiments.\n",
    "And when doing so, it cna be tedious if you're running lots of experiments.\n",
    "Luckily, there are tools to help us!\n",
    "\n",
    "**Resource**: As you build more models, you'll want to look into using\n",
    "* TensorBoard - a component of the TensorFlow library to help track modelling experiments (we'll see this one later).\n",
    "* Weights & Biases - a tool for tracking all of kinds of machine learning experiments (plug sttaight into TensorBoard)."
   ]
  },
  {
   "cell_type": "markdown",
   "id": "7f12c29a",
   "metadata": {
    "id": "_9wRTvOGsqFy"
   },
   "source": [
    "# Saving our models\n",
    "Saving our models allows us to use them outside of Google Colab (or wherever they were trained) such as in a web application or a mobile app.\n",
    "\n",
    "There are two main formats we can save our mode's too:\n",
    "\n",
    "1. The SavedModel\n",
    "2. THe HDF5 format"
   ]
  },
  {
   "cell_type": "code",
   "execution_count": 395,
   "id": "e997cb9d",
   "metadata": {},
   "outputs": [
    {
     "name": "stdout",
     "output_type": "stream",
     "text": [
      "INFO:tensorflow:Assets written to: best_model_SavedModel_format/assets\n"
     ]
    },
    {
     "name": "stderr",
     "output_type": "stream",
     "text": [
      "INFO:tensorflow:Assets written to: best_model_SavedModel_format/assets\n"
     ]
    }
   ],
   "source": [
    "# Save model\n",
    "model_2.save(\"best_model_SavedModel_format\")"
   ]
  },
  {
   "cell_type": "code",
   "execution_count": 396,
   "id": "2aae323b",
   "metadata": {},
   "outputs": [
    {
     "name": "stderr",
     "output_type": "stream",
     "text": [
      "/home/kajetan/anaconda3/lib/python3.11/site-packages/keras/src/engine/training.py:3103: UserWarning: You are saving your model as an HDF5 file via `model.save()`. This file format is considered legacy. We recommend using instead the native Keras format, e.g. `model.save('my_model.keras')`.\n",
      "  saving_api.save_model(\n"
     ]
    }
   ],
   "source": [
    "# Save model using the HDF5 format\n",
    "model_2.save(\"best_model_HDF5_format.h5\")"
   ]
  },
  {
   "cell_type": "markdown",
   "id": "faffdc88",
   "metadata": {},
   "source": [
    "# Loading in sa saved model"
   ]
  },
  {
   "cell_type": "code",
   "execution_count": 397,
   "id": "b7824c38",
   "metadata": {},
   "outputs": [
    {
     "name": "stdout",
     "output_type": "stream",
     "text": [
      "Model: \"sequential_20\"\n",
      "_________________________________________________________________\n",
      " Layer (type)                Output Shape              Param #   \n",
      "=================================================================\n",
      " dense_37 (Dense)            (None, 1, 1, 1, 20)       40        \n",
      "                                                                 \n",
      " dense_38 (Dense)            (None, 1, 1, 1, 1)        21        \n",
      "                                                                 \n",
      "=================================================================\n",
      "Total params: 61 (244.00 Byte)\n",
      "Trainable params: 61 (244.00 Byte)\n",
      "Non-trainable params: 0 (0.00 Byte)\n",
      "_________________________________________________________________\n"
     ]
    }
   ],
   "source": [
    "loaded_SavedModel_format = tf.keras.models.load_model(\"best_model_SavedModel_format\")\n",
    "loaded_SavedModel_format.summary()"
   ]
  },
  {
   "cell_type": "code",
   "execution_count": 402,
   "id": "d8191491",
   "metadata": {},
   "outputs": [
    {
     "data": {
      "text/plain": [
       "<tf.Tensor: shape=(10, 1), dtype=int32, numpy=\n",
       "array([[60],\n",
       "       [64],\n",
       "       [68],\n",
       "       [72],\n",
       "       [76],\n",
       "       [80],\n",
       "       [84],\n",
       "       [88],\n",
       "       [92],\n",
       "       [96]], dtype=int32)>"
      ]
     },
     "execution_count": 402,
     "metadata": {},
     "output_type": "execute_result"
    }
   ],
   "source": [
    "X_test = tf.expand_dims(X_test, axis=-1)\n",
    "X_test"
   ]
  },
  {
   "cell_type": "code",
   "execution_count": 411,
   "id": "fb9d934d",
   "metadata": {},
   "outputs": [
    {
     "name": "stdout",
     "output_type": "stream",
     "text": [
      "1/1 [==============================] - 0s 16ms/step\n",
      "1/1 [==============================] - 0s 14ms/step\n"
     ]
    },
    {
     "data": {
      "text/plain": [
       "array([[ True],\n",
       "       [ True],\n",
       "       [ True],\n",
       "       [ True],\n",
       "       [ True],\n",
       "       [ True],\n",
       "       [ True],\n",
       "       [ True],\n",
       "       [ True],\n",
       "       [ True]])"
      ]
     },
     "execution_count": 411,
     "metadata": {},
     "output_type": "execute_result"
    }
   ],
   "source": [
    "# Compare model_2 predictions with SavedModel format model predictions\n",
    "model_2_preds = model_2.predict(X_test)\n",
    "loaded_SavedModel_format_preds = loaded_SavedModel_format.predict(X_test)\n",
    "model_2_preds == loaded_SavedModel_format_preds"
   ]
  },
  {
   "cell_type": "code",
   "execution_count": 417,
   "id": "454e9fc1",
   "metadata": {},
   "outputs": [
    {
     "name": "stdout",
     "output_type": "stream",
     "text": [
      "Model: \"sequential_20\"\n",
      "_________________________________________________________________\n",
      " Layer (type)                Output Shape              Param #   \n",
      "=================================================================\n",
      " dense_37 (Dense)            (None, 1, 1, 1, 20)       40        \n",
      "                                                                 \n",
      " dense_38 (Dense)            (None, 1, 1, 1, 1)        21        \n",
      "                                                                 \n",
      "=================================================================\n",
      "Total params: 61 (244.00 Byte)\n",
      "Trainable params: 61 (244.00 Byte)\n",
      "Non-trainable params: 0 (0.00 Byte)\n",
      "_________________________________________________________________\n"
     ]
    }
   ],
   "source": [
    "# Load in a model using the .h5 format\n",
    "loaded_h5_model = tf.keras.models.load_model(\"best_model_HDF5_format.h5\")\n",
    "loaded_h5_model.summary()"
   ]
  },
  {
   "cell_type": "code",
   "execution_count": 420,
   "id": "d6b74444",
   "metadata": {},
   "outputs": [
    {
     "name": "stdout",
     "output_type": "stream",
     "text": [
      "1/1 [==============================] - 0s 16ms/step\n",
      "1/1 [==============================] - 0s 31ms/step\n"
     ]
    },
    {
     "data": {
      "text/plain": [
       "array([[ True],\n",
       "       [ True],\n",
       "       [ True],\n",
       "       [ True],\n",
       "       [ True],\n",
       "       [ True],\n",
       "       [ True],\n",
       "       [ True],\n",
       "       [ True],\n",
       "       [ True]])"
      ]
     },
     "execution_count": 420,
     "metadata": {},
     "output_type": "execute_result"
    }
   ],
   "source": [
    "# Check to see if loaded .h5 model predictions match model_2\n",
    "model_2_preds = model_2.predict(X_test)\n",
    "loaded_h5_model_preds = loaded_h5_model.predict(X_test)\n",
    "model_2_preds == loaded_h5_model_preds"
   ]
  },
  {
   "cell_type": "code",
   "execution_count": 421,
   "id": "6d2ea430",
   "metadata": {},
   "outputs": [
    {
     "data": {
      "text/plain": [
       "array([[ True],\n",
       "       [ True],\n",
       "       [ True],\n",
       "       [ True],\n",
       "       [ True],\n",
       "       [ True],\n",
       "       [ True],\n",
       "       [ True],\n",
       "       [ True],\n",
       "       [ True]])"
      ]
     },
     "execution_count": 421,
     "metadata": {},
     "output_type": "execute_result"
    }
   ],
   "source": [
    "loaded_SavedModel_format_preds == loaded_h5_model_preds"
   ]
  },
  {
   "cell_type": "markdown",
   "id": "bcf98ca9",
   "metadata": {},
   "source": [
    "# Download a model (or any other file) from Google Colab\n",
    "\n",
    "If you want to download your files from Google Colab:\n",
    "\n",
    "1. You can go to the \"files\" tab.."
   ]
  },
  {
   "cell_type": "code",
   "execution_count": 422,
   "id": "52fe441f",
   "metadata": {},
   "outputs": [],
   "source": [
    "# # Downloaded a file from Google Colab\n",
    "# from google.colab import files\n",
    "# files.downloaded(\"best_model_HDF5_format.h5\")"
   ]
  },
  {
   "cell_type": "code",
   "execution_count": 423,
   "id": "484e2e31",
   "metadata": {},
   "outputs": [],
   "source": [
    "# Save a file from Google Colab to a Google Drive\n",
    "# !cp /content/best_model_HDF5_format.h5"
   ]
  },
  {
   "cell_type": "markdown",
   "id": "565074c5",
   "metadata": {},
   "source": [
    "# A larger example"
   ]
  },
  {
   "cell_type": "code",
   "execution_count": 429,
   "id": "1d48c408",
   "metadata": {},
   "outputs": [],
   "source": [
    "import tensorflow as tf\n",
    "import pandas as pd\n",
    "from wandb.keras import WandbCallback\n",
    "import matplotlib.pyplot as plt"
   ]
  },
  {
   "cell_type": "code",
   "execution_count": 433,
   "id": "7a92db58",
   "metadata": {},
   "outputs": [
    {
     "data": {
      "text/html": [
       "<div>\n",
       "<style scoped>\n",
       "    .dataframe tbody tr th:only-of-type {\n",
       "        vertical-align: middle;\n",
       "    }\n",
       "\n",
       "    .dataframe tbody tr th {\n",
       "        vertical-align: top;\n",
       "    }\n",
       "\n",
       "    .dataframe thead th {\n",
       "        text-align: right;\n",
       "    }\n",
       "</style>\n",
       "<table border=\"1\" class=\"dataframe\">\n",
       "  <thead>\n",
       "    <tr style=\"text-align: right;\">\n",
       "      <th></th>\n",
       "      <th>age</th>\n",
       "      <th>sex</th>\n",
       "      <th>bmi</th>\n",
       "      <th>children</th>\n",
       "      <th>smoker</th>\n",
       "      <th>region</th>\n",
       "      <th>charges</th>\n",
       "    </tr>\n",
       "  </thead>\n",
       "  <tbody>\n",
       "    <tr>\n",
       "      <th>0</th>\n",
       "      <td>19</td>\n",
       "      <td>female</td>\n",
       "      <td>27.900</td>\n",
       "      <td>0</td>\n",
       "      <td>yes</td>\n",
       "      <td>southwest</td>\n",
       "      <td>16884.92400</td>\n",
       "    </tr>\n",
       "    <tr>\n",
       "      <th>1</th>\n",
       "      <td>18</td>\n",
       "      <td>male</td>\n",
       "      <td>33.770</td>\n",
       "      <td>1</td>\n",
       "      <td>no</td>\n",
       "      <td>southeast</td>\n",
       "      <td>1725.55230</td>\n",
       "    </tr>\n",
       "    <tr>\n",
       "      <th>2</th>\n",
       "      <td>28</td>\n",
       "      <td>male</td>\n",
       "      <td>33.000</td>\n",
       "      <td>3</td>\n",
       "      <td>no</td>\n",
       "      <td>southeast</td>\n",
       "      <td>4449.46200</td>\n",
       "    </tr>\n",
       "    <tr>\n",
       "      <th>3</th>\n",
       "      <td>33</td>\n",
       "      <td>male</td>\n",
       "      <td>22.705</td>\n",
       "      <td>0</td>\n",
       "      <td>no</td>\n",
       "      <td>northwest</td>\n",
       "      <td>21984.47061</td>\n",
       "    </tr>\n",
       "    <tr>\n",
       "      <th>4</th>\n",
       "      <td>32</td>\n",
       "      <td>male</td>\n",
       "      <td>28.880</td>\n",
       "      <td>0</td>\n",
       "      <td>no</td>\n",
       "      <td>northwest</td>\n",
       "      <td>3866.85520</td>\n",
       "    </tr>\n",
       "    <tr>\n",
       "      <th>...</th>\n",
       "      <td>...</td>\n",
       "      <td>...</td>\n",
       "      <td>...</td>\n",
       "      <td>...</td>\n",
       "      <td>...</td>\n",
       "      <td>...</td>\n",
       "      <td>...</td>\n",
       "    </tr>\n",
       "    <tr>\n",
       "      <th>1333</th>\n",
       "      <td>50</td>\n",
       "      <td>male</td>\n",
       "      <td>30.970</td>\n",
       "      <td>3</td>\n",
       "      <td>no</td>\n",
       "      <td>northwest</td>\n",
       "      <td>10600.54830</td>\n",
       "    </tr>\n",
       "    <tr>\n",
       "      <th>1334</th>\n",
       "      <td>18</td>\n",
       "      <td>female</td>\n",
       "      <td>31.920</td>\n",
       "      <td>0</td>\n",
       "      <td>no</td>\n",
       "      <td>northeast</td>\n",
       "      <td>2205.98080</td>\n",
       "    </tr>\n",
       "    <tr>\n",
       "      <th>1335</th>\n",
       "      <td>18</td>\n",
       "      <td>female</td>\n",
       "      <td>36.850</td>\n",
       "      <td>0</td>\n",
       "      <td>no</td>\n",
       "      <td>southeast</td>\n",
       "      <td>1629.83350</td>\n",
       "    </tr>\n",
       "    <tr>\n",
       "      <th>1336</th>\n",
       "      <td>21</td>\n",
       "      <td>female</td>\n",
       "      <td>25.800</td>\n",
       "      <td>0</td>\n",
       "      <td>no</td>\n",
       "      <td>southwest</td>\n",
       "      <td>2007.94500</td>\n",
       "    </tr>\n",
       "    <tr>\n",
       "      <th>1337</th>\n",
       "      <td>61</td>\n",
       "      <td>female</td>\n",
       "      <td>29.070</td>\n",
       "      <td>0</td>\n",
       "      <td>yes</td>\n",
       "      <td>northwest</td>\n",
       "      <td>29141.36030</td>\n",
       "    </tr>\n",
       "  </tbody>\n",
       "</table>\n",
       "<p>1338 rows × 7 columns</p>\n",
       "</div>"
      ],
      "text/plain": [
       "      age     sex     bmi  children smoker     region      charges\n",
       "0      19  female  27.900         0    yes  southwest  16884.92400\n",
       "1      18    male  33.770         1     no  southeast   1725.55230\n",
       "2      28    male  33.000         3     no  southeast   4449.46200\n",
       "3      33    male  22.705         0     no  northwest  21984.47061\n",
       "4      32    male  28.880         0     no  northwest   3866.85520\n",
       "...   ...     ...     ...       ...    ...        ...          ...\n",
       "1333   50    male  30.970         3     no  northwest  10600.54830\n",
       "1334   18  female  31.920         0     no  northeast   2205.98080\n",
       "1335   18  female  36.850         0     no  southeast   1629.83350\n",
       "1336   21  female  25.800         0     no  southwest   2007.94500\n",
       "1337   61  female  29.070         0    yes  northwest  29141.36030\n",
       "\n",
       "[1338 rows x 7 columns]"
      ]
     },
     "execution_count": 433,
     "metadata": {},
     "output_type": "execute_result"
    }
   ],
   "source": [
    "insurance = pd.read_csv(\"insurance.csv\")\n",
    "insurance"
   ]
  },
  {
   "cell_type": "code",
   "execution_count": 434,
   "id": "b37552ab",
   "metadata": {},
   "outputs": [
    {
     "data": {
      "text/plain": [
       "0       female\n",
       "1         male\n",
       "2         male\n",
       "3         male\n",
       "4         male\n",
       "         ...  \n",
       "1333      male\n",
       "1334    female\n",
       "1335    female\n",
       "1336    female\n",
       "1337    female\n",
       "Name: sex, Length: 1338, dtype: object"
      ]
     },
     "execution_count": 434,
     "metadata": {},
     "output_type": "execute_result"
    }
   ],
   "source": [
    "insurance[\"sex\"]"
   ]
  },
  {
   "cell_type": "code",
   "execution_count": 436,
   "id": "94eb8ff7",
   "metadata": {},
   "outputs": [
    {
     "data": {
      "text/html": [
       "<div>\n",
       "<style scoped>\n",
       "    .dataframe tbody tr th:only-of-type {\n",
       "        vertical-align: middle;\n",
       "    }\n",
       "\n",
       "    .dataframe tbody tr th {\n",
       "        vertical-align: top;\n",
       "    }\n",
       "\n",
       "    .dataframe thead th {\n",
       "        text-align: right;\n",
       "    }\n",
       "</style>\n",
       "<table border=\"1\" class=\"dataframe\">\n",
       "  <thead>\n",
       "    <tr style=\"text-align: right;\">\n",
       "      <th></th>\n",
       "      <th>age</th>\n",
       "      <th>bmi</th>\n",
       "      <th>children</th>\n",
       "      <th>charges</th>\n",
       "      <th>sex_female</th>\n",
       "      <th>sex_male</th>\n",
       "      <th>smoker_no</th>\n",
       "      <th>smoker_yes</th>\n",
       "      <th>region_northeast</th>\n",
       "      <th>region_northwest</th>\n",
       "      <th>region_southeast</th>\n",
       "      <th>region_southwest</th>\n",
       "    </tr>\n",
       "  </thead>\n",
       "  <tbody>\n",
       "    <tr>\n",
       "      <th>0</th>\n",
       "      <td>19</td>\n",
       "      <td>27.900</td>\n",
       "      <td>0</td>\n",
       "      <td>16884.92400</td>\n",
       "      <td>True</td>\n",
       "      <td>False</td>\n",
       "      <td>False</td>\n",
       "      <td>True</td>\n",
       "      <td>False</td>\n",
       "      <td>False</td>\n",
       "      <td>False</td>\n",
       "      <td>True</td>\n",
       "    </tr>\n",
       "    <tr>\n",
       "      <th>1</th>\n",
       "      <td>18</td>\n",
       "      <td>33.770</td>\n",
       "      <td>1</td>\n",
       "      <td>1725.55230</td>\n",
       "      <td>False</td>\n",
       "      <td>True</td>\n",
       "      <td>True</td>\n",
       "      <td>False</td>\n",
       "      <td>False</td>\n",
       "      <td>False</td>\n",
       "      <td>True</td>\n",
       "      <td>False</td>\n",
       "    </tr>\n",
       "    <tr>\n",
       "      <th>2</th>\n",
       "      <td>28</td>\n",
       "      <td>33.000</td>\n",
       "      <td>3</td>\n",
       "      <td>4449.46200</td>\n",
       "      <td>False</td>\n",
       "      <td>True</td>\n",
       "      <td>True</td>\n",
       "      <td>False</td>\n",
       "      <td>False</td>\n",
       "      <td>False</td>\n",
       "      <td>True</td>\n",
       "      <td>False</td>\n",
       "    </tr>\n",
       "    <tr>\n",
       "      <th>3</th>\n",
       "      <td>33</td>\n",
       "      <td>22.705</td>\n",
       "      <td>0</td>\n",
       "      <td>21984.47061</td>\n",
       "      <td>False</td>\n",
       "      <td>True</td>\n",
       "      <td>True</td>\n",
       "      <td>False</td>\n",
       "      <td>False</td>\n",
       "      <td>True</td>\n",
       "      <td>False</td>\n",
       "      <td>False</td>\n",
       "    </tr>\n",
       "    <tr>\n",
       "      <th>4</th>\n",
       "      <td>32</td>\n",
       "      <td>28.880</td>\n",
       "      <td>0</td>\n",
       "      <td>3866.85520</td>\n",
       "      <td>False</td>\n",
       "      <td>True</td>\n",
       "      <td>True</td>\n",
       "      <td>False</td>\n",
       "      <td>False</td>\n",
       "      <td>True</td>\n",
       "      <td>False</td>\n",
       "      <td>False</td>\n",
       "    </tr>\n",
       "  </tbody>\n",
       "</table>\n",
       "</div>"
      ],
      "text/plain": [
       "   age     bmi  children      charges  sex_female  sex_male  smoker_no  \\\n",
       "0   19  27.900         0  16884.92400        True     False      False   \n",
       "1   18  33.770         1   1725.55230       False      True       True   \n",
       "2   28  33.000         3   4449.46200       False      True       True   \n",
       "3   33  22.705         0  21984.47061       False      True       True   \n",
       "4   32  28.880         0   3866.85520       False      True       True   \n",
       "\n",
       "   smoker_yes  region_northeast  region_northwest  region_southeast  \\\n",
       "0        True             False             False             False   \n",
       "1       False             False             False              True   \n",
       "2       False             False             False              True   \n",
       "3       False             False              True             False   \n",
       "4       False             False              True             False   \n",
       "\n",
       "   region_southwest  \n",
       "0              True  \n",
       "1             False  \n",
       "2             False  \n",
       "3             False  \n",
       "4             False  "
      ]
     },
     "execution_count": 436,
     "metadata": {},
     "output_type": "execute_result"
    }
   ],
   "source": [
    "# Let's try one-hot encode our DataFrame so it's all numbers\n",
    "insurance_one_hot = pd.get_dummies(insurance)\n",
    "insurance_one_hot.head()"
   ]
  },
  {
   "cell_type": "code",
   "execution_count": 438,
   "id": "7a878d96",
   "metadata": {},
   "outputs": [],
   "source": [
    "# Create X & y values (features and labels)\n",
    "X = insurance_one_hot.drop(\"charges\", axis=1)\n",
    "y = insurance_one_hot[\"charges\"]"
   ]
  },
  {
   "cell_type": "code",
   "execution_count": 439,
   "id": "df802782",
   "metadata": {},
   "outputs": [
    {
     "data": {
      "text/html": [
       "<div>\n",
       "<style scoped>\n",
       "    .dataframe tbody tr th:only-of-type {\n",
       "        vertical-align: middle;\n",
       "    }\n",
       "\n",
       "    .dataframe tbody tr th {\n",
       "        vertical-align: top;\n",
       "    }\n",
       "\n",
       "    .dataframe thead th {\n",
       "        text-align: right;\n",
       "    }\n",
       "</style>\n",
       "<table border=\"1\" class=\"dataframe\">\n",
       "  <thead>\n",
       "    <tr style=\"text-align: right;\">\n",
       "      <th></th>\n",
       "      <th>age</th>\n",
       "      <th>bmi</th>\n",
       "      <th>children</th>\n",
       "      <th>sex_female</th>\n",
       "      <th>sex_male</th>\n",
       "      <th>smoker_no</th>\n",
       "      <th>smoker_yes</th>\n",
       "      <th>region_northeast</th>\n",
       "      <th>region_northwest</th>\n",
       "      <th>region_southeast</th>\n",
       "      <th>region_southwest</th>\n",
       "    </tr>\n",
       "  </thead>\n",
       "  <tbody>\n",
       "    <tr>\n",
       "      <th>0</th>\n",
       "      <td>19</td>\n",
       "      <td>27.900</td>\n",
       "      <td>0</td>\n",
       "      <td>True</td>\n",
       "      <td>False</td>\n",
       "      <td>False</td>\n",
       "      <td>True</td>\n",
       "      <td>False</td>\n",
       "      <td>False</td>\n",
       "      <td>False</td>\n",
       "      <td>True</td>\n",
       "    </tr>\n",
       "    <tr>\n",
       "      <th>1</th>\n",
       "      <td>18</td>\n",
       "      <td>33.770</td>\n",
       "      <td>1</td>\n",
       "      <td>False</td>\n",
       "      <td>True</td>\n",
       "      <td>True</td>\n",
       "      <td>False</td>\n",
       "      <td>False</td>\n",
       "      <td>False</td>\n",
       "      <td>True</td>\n",
       "      <td>False</td>\n",
       "    </tr>\n",
       "    <tr>\n",
       "      <th>2</th>\n",
       "      <td>28</td>\n",
       "      <td>33.000</td>\n",
       "      <td>3</td>\n",
       "      <td>False</td>\n",
       "      <td>True</td>\n",
       "      <td>True</td>\n",
       "      <td>False</td>\n",
       "      <td>False</td>\n",
       "      <td>False</td>\n",
       "      <td>True</td>\n",
       "      <td>False</td>\n",
       "    </tr>\n",
       "    <tr>\n",
       "      <th>3</th>\n",
       "      <td>33</td>\n",
       "      <td>22.705</td>\n",
       "      <td>0</td>\n",
       "      <td>False</td>\n",
       "      <td>True</td>\n",
       "      <td>True</td>\n",
       "      <td>False</td>\n",
       "      <td>False</td>\n",
       "      <td>True</td>\n",
       "      <td>False</td>\n",
       "      <td>False</td>\n",
       "    </tr>\n",
       "    <tr>\n",
       "      <th>4</th>\n",
       "      <td>32</td>\n",
       "      <td>28.880</td>\n",
       "      <td>0</td>\n",
       "      <td>False</td>\n",
       "      <td>True</td>\n",
       "      <td>True</td>\n",
       "      <td>False</td>\n",
       "      <td>False</td>\n",
       "      <td>True</td>\n",
       "      <td>False</td>\n",
       "      <td>False</td>\n",
       "    </tr>\n",
       "  </tbody>\n",
       "</table>\n",
       "</div>"
      ],
      "text/plain": [
       "   age     bmi  children  sex_female  sex_male  smoker_no  smoker_yes  \\\n",
       "0   19  27.900         0        True     False      False        True   \n",
       "1   18  33.770         1       False      True       True       False   \n",
       "2   28  33.000         3       False      True       True       False   \n",
       "3   33  22.705         0       False      True       True       False   \n",
       "4   32  28.880         0       False      True       True       False   \n",
       "\n",
       "   region_northeast  region_northwest  region_southeast  region_southwest  \n",
       "0             False             False             False              True  \n",
       "1             False             False              True             False  \n",
       "2             False             False              True             False  \n",
       "3             False              True             False             False  \n",
       "4             False              True             False             False  "
      ]
     },
     "execution_count": 439,
     "metadata": {},
     "output_type": "execute_result"
    }
   ],
   "source": [
    "X.head()"
   ]
  },
  {
   "cell_type": "code",
   "execution_count": 440,
   "id": "cf472cd1",
   "metadata": {},
   "outputs": [
    {
     "data": {
      "text/plain": [
       "0    16884.92400\n",
       "1     1725.55230\n",
       "2     4449.46200\n",
       "3    21984.47061\n",
       "4     3866.85520\n",
       "Name: charges, dtype: float64"
      ]
     },
     "execution_count": 440,
     "metadata": {},
     "output_type": "execute_result"
    }
   ],
   "source": [
    "y.head()"
   ]
  },
  {
   "cell_type": "code",
   "execution_count": 442,
   "id": "5d89224a",
   "metadata": {},
   "outputs": [
    {
     "data": {
      "text/plain": [
       "True"
      ]
     },
     "execution_count": 442,
     "metadata": {},
     "output_type": "execute_result"
    }
   ],
   "source": [
    "# Create training and test sets\n",
    "from sklearn.model_selection import train_test_split\n",
    "\n",
    "X_train, X_test, y_train, y_test = train_test_split(X, y, test_size=0.2, random_state=42)\n",
    "len(X) == len(X_train) + len(X_test)"
   ]
  },
  {
   "cell_type": "code",
   "execution_count": 451,
   "id": "509598a8",
   "metadata": {},
   "outputs": [],
   "source": [
    "X_train = tf.convert_to_tensor(X_train, dtype=tf.float32)\n",
    "X_test = tf.convert_to_tensor(X_test, dtype=tf.float32)\n",
    "y_train = tf.convert_to_tensor(y_train, dtype=tf.float32)\n",
    "y_test = tf.convert_to_tensor(y_test, dtype=tf.float32)"
   ]
  },
  {
   "cell_type": "code",
   "execution_count": 483,
   "id": "de7b419c",
   "metadata": {},
   "outputs": [
    {
     "data": {
      "application/vnd.jupyter.widget-view+json": {
       "model_id": "80c40ae4cb69478ea07e0185d4c0e2f0",
       "version_major": 2,
       "version_minor": 0
      },
      "text/plain": [
       "VBox(children=(Label(value='Waiting for wandb.init()...\\r'), FloatProgress(value=0.011112438655497195, max=1.0…"
      ]
     },
     "metadata": {},
     "output_type": "display_data"
    },
    {
     "name": "stdout",
     "output_type": "stream",
     "text": [
      "Problem at: /home/kajetan/anaconda3/lib/python3.11/site-packages/wandb/sdk/wandb_init.py 848 getcaller\n"
     ]
    },
    {
     "ename": "KeyboardInterrupt",
     "evalue": "",
     "output_type": "error",
     "traceback": [
      "\u001b[0;31m---------------------------------------------------------------------------\u001b[0m",
      "\u001b[0;31mKeyboardInterrupt\u001b[0m                         Traceback (most recent call last)",
      "Cell \u001b[0;32mIn[483], line 6\u001b[0m\n\u001b[1;32m      3\u001b[0m tf\u001b[38;5;241m.\u001b[39mrandom\u001b[38;5;241m.\u001b[39mset_seed(\u001b[38;5;241m42\u001b[39m)\n\u001b[1;32m      5\u001b[0m \u001b[38;5;66;03m# 1. Create a model\u001b[39;00m\n\u001b[0;32m----> 6\u001b[0m wandb\u001b[38;5;241m.\u001b[39minit(project\u001b[38;5;241m=\u001b[39m\u001b[38;5;124m\"\u001b[39m\u001b[38;5;124minsurance_regression\u001b[39m\u001b[38;5;124m\"\u001b[39m, name\u001b[38;5;241m=\u001b[39m\u001b[38;5;124m\"\u001b[39m\u001b[38;5;124mDense:10,1.SGD.E:100\u001b[39m\u001b[38;5;124m\"\u001b[39m)\n\u001b[1;32m      7\u001b[0m insurance_model \u001b[38;5;241m=\u001b[39m tf\u001b[38;5;241m.\u001b[39mkeras\u001b[38;5;241m.\u001b[39mSequential([\n\u001b[1;32m      8\u001b[0m     tf\u001b[38;5;241m.\u001b[39mkeras\u001b[38;5;241m.\u001b[39mlayers\u001b[38;5;241m.\u001b[39mDense(\u001b[38;5;241m10\u001b[39m),\n\u001b[1;32m      9\u001b[0m     tf\u001b[38;5;241m.\u001b[39mkeras\u001b[38;5;241m.\u001b[39mlayers\u001b[38;5;241m.\u001b[39mDense(\u001b[38;5;241m1\u001b[39m)\n\u001b[1;32m     10\u001b[0m ])\n\u001b[1;32m     12\u001b[0m \u001b[38;5;66;03m# 2. Compile model\u001b[39;00m\n",
      "File \u001b[0;32m~/anaconda3/lib/python3.11/site-packages/wandb/sdk/wandb_init.py:1189\u001b[0m, in \u001b[0;36minit\u001b[0;34m(job_type, dir, config, project, entity, reinit, tags, group, name, notes, magic, config_exclude_keys, config_include_keys, anonymous, mode, allow_val_change, resume, force, tensorboard, sync_tensorboard, monitor_gym, save_code, id, settings)\u001b[0m\n\u001b[1;32m   1187\u001b[0m     \u001b[38;5;28;01mif\u001b[39;00m logger \u001b[38;5;129;01mis\u001b[39;00m \u001b[38;5;129;01mnot\u001b[39;00m \u001b[38;5;28;01mNone\u001b[39;00m:\n\u001b[1;32m   1188\u001b[0m         logger\u001b[38;5;241m.\u001b[39mexception(\u001b[38;5;28mstr\u001b[39m(e))\n\u001b[0;32m-> 1189\u001b[0m     \u001b[38;5;28;01mraise\u001b[39;00m e\n\u001b[1;32m   1190\u001b[0m \u001b[38;5;28;01mexcept\u001b[39;00m \u001b[38;5;167;01mKeyboardInterrupt\u001b[39;00m \u001b[38;5;28;01mas\u001b[39;00m e:\n\u001b[1;32m   1191\u001b[0m     \u001b[38;5;28;01massert\u001b[39;00m logger\n",
      "File \u001b[0;32m~/anaconda3/lib/python3.11/site-packages/wandb/sdk/wandb_init.py:1166\u001b[0m, in \u001b[0;36minit\u001b[0;34m(job_type, dir, config, project, entity, reinit, tags, group, name, notes, magic, config_exclude_keys, config_include_keys, anonymous, mode, allow_val_change, resume, force, tensorboard, sync_tensorboard, monitor_gym, save_code, id, settings)\u001b[0m\n\u001b[1;32m   1164\u001b[0m \u001b[38;5;28;01mtry\u001b[39;00m:\n\u001b[1;32m   1165\u001b[0m     wi \u001b[38;5;241m=\u001b[39m _WandbInit()\n\u001b[0;32m-> 1166\u001b[0m     wi\u001b[38;5;241m.\u001b[39msetup(kwargs)\n\u001b[1;32m   1167\u001b[0m     \u001b[38;5;28;01massert\u001b[39;00m wi\u001b[38;5;241m.\u001b[39msettings\n\u001b[1;32m   1168\u001b[0m     except_exit \u001b[38;5;241m=\u001b[39m wi\u001b[38;5;241m.\u001b[39msettings\u001b[38;5;241m.\u001b[39m_except_exit\n",
      "File \u001b[0;32m~/anaconda3/lib/python3.11/site-packages/wandb/sdk/wandb_init.py:752\u001b[0m, in \u001b[0;36m_WandbInit.init\u001b[0;34m(self)\u001b[0m\n\u001b[1;32m    749\u001b[0m logger\u001b[38;5;241m.\u001b[39minfo(\u001b[38;5;124mf\u001b[39m\u001b[38;5;124m\"\u001b[39m\u001b[38;5;124mcommunicating run to backend with \u001b[39m\u001b[38;5;132;01m{\u001b[39;00mtimeout\u001b[38;5;132;01m}\u001b[39;00m\u001b[38;5;124m second timeout\u001b[39m\u001b[38;5;124m\"\u001b[39m)\n\u001b[1;32m    751\u001b[0m run_init_handle \u001b[38;5;241m=\u001b[39m backend\u001b[38;5;241m.\u001b[39minterface\u001b[38;5;241m.\u001b[39mdeliver_run(run)\n\u001b[0;32m--> 752\u001b[0m result \u001b[38;5;241m=\u001b[39m run_init_handle\u001b[38;5;241m.\u001b[39mwait(\n\u001b[1;32m    753\u001b[0m     timeout\u001b[38;5;241m=\u001b[39mtimeout,\n\u001b[1;32m    754\u001b[0m     on_progress\u001b[38;5;241m=\u001b[39m\u001b[38;5;28mself\u001b[39m\u001b[38;5;241m.\u001b[39m_on_progress_init,\n\u001b[1;32m    755\u001b[0m     cancel\u001b[38;5;241m=\u001b[39m\u001b[38;5;28;01mTrue\u001b[39;00m,\n\u001b[1;32m    756\u001b[0m )\n\u001b[1;32m    757\u001b[0m \u001b[38;5;28;01mif\u001b[39;00m result:\n\u001b[1;32m    758\u001b[0m     run_result \u001b[38;5;241m=\u001b[39m result\u001b[38;5;241m.\u001b[39mrun_result\n",
      "File \u001b[0;32m~/anaconda3/lib/python3.11/site-packages/wandb/sdk/lib/mailbox.py:283\u001b[0m, in \u001b[0;36mMailboxHandle.wait\u001b[0;34m(self, timeout, on_probe, on_progress, release, cancel)\u001b[0m\n\u001b[1;32m    280\u001b[0m     \u001b[38;5;28;01mif\u001b[39;00m \u001b[38;5;28mself\u001b[39m\u001b[38;5;241m.\u001b[39m_interface\u001b[38;5;241m.\u001b[39m_transport_keepalive_failed():\n\u001b[1;32m    281\u001b[0m         \u001b[38;5;28;01mraise\u001b[39;00m MailboxError(\u001b[38;5;124m\"\u001b[39m\u001b[38;5;124mtransport failed\u001b[39m\u001b[38;5;124m\"\u001b[39m)\n\u001b[0;32m--> 283\u001b[0m found, abandoned \u001b[38;5;241m=\u001b[39m \u001b[38;5;28mself\u001b[39m\u001b[38;5;241m.\u001b[39m_slot\u001b[38;5;241m.\u001b[39m_get_and_clear(timeout\u001b[38;5;241m=\u001b[39mwait_timeout)\n\u001b[1;32m    284\u001b[0m \u001b[38;5;28;01mif\u001b[39;00m found:\n\u001b[1;32m    285\u001b[0m     \u001b[38;5;66;03m# Always update progress to 100% when done\u001b[39;00m\n\u001b[1;32m    286\u001b[0m     \u001b[38;5;28;01mif\u001b[39;00m on_progress \u001b[38;5;129;01mand\u001b[39;00m progress_handle \u001b[38;5;129;01mand\u001b[39;00m progress_sent:\n",
      "File \u001b[0;32m~/anaconda3/lib/python3.11/site-packages/wandb/sdk/lib/mailbox.py:130\u001b[0m, in \u001b[0;36m_MailboxSlot._get_and_clear\u001b[0;34m(self, timeout)\u001b[0m\n\u001b[1;32m    128\u001b[0m \u001b[38;5;28;01mdef\u001b[39;00m \u001b[38;5;21m_get_and_clear\u001b[39m(\u001b[38;5;28mself\u001b[39m, timeout: \u001b[38;5;28mfloat\u001b[39m) \u001b[38;5;241m-\u001b[39m\u001b[38;5;241m>\u001b[39m Tuple[Optional[pb\u001b[38;5;241m.\u001b[39mResult], \u001b[38;5;28mbool\u001b[39m]:\n\u001b[1;32m    129\u001b[0m     found \u001b[38;5;241m=\u001b[39m \u001b[38;5;28;01mNone\u001b[39;00m\n\u001b[0;32m--> 130\u001b[0m     \u001b[38;5;28;01mif\u001b[39;00m \u001b[38;5;28mself\u001b[39m\u001b[38;5;241m.\u001b[39m_wait(timeout\u001b[38;5;241m=\u001b[39mtimeout):\n\u001b[1;32m    131\u001b[0m         \u001b[38;5;28;01mwith\u001b[39;00m \u001b[38;5;28mself\u001b[39m\u001b[38;5;241m.\u001b[39m_lock:\n\u001b[1;32m    132\u001b[0m             found \u001b[38;5;241m=\u001b[39m \u001b[38;5;28mself\u001b[39m\u001b[38;5;241m.\u001b[39m_result\n",
      "File \u001b[0;32m~/anaconda3/lib/python3.11/site-packages/wandb/sdk/lib/mailbox.py:126\u001b[0m, in \u001b[0;36m_MailboxSlot._wait\u001b[0;34m(self, timeout)\u001b[0m\n\u001b[1;32m    125\u001b[0m \u001b[38;5;28;01mdef\u001b[39;00m \u001b[38;5;21m_wait\u001b[39m(\u001b[38;5;28mself\u001b[39m, timeout: \u001b[38;5;28mfloat\u001b[39m) \u001b[38;5;241m-\u001b[39m\u001b[38;5;241m>\u001b[39m \u001b[38;5;28mbool\u001b[39m:\n\u001b[0;32m--> 126\u001b[0m     \u001b[38;5;28;01mreturn\u001b[39;00m \u001b[38;5;28mself\u001b[39m\u001b[38;5;241m.\u001b[39m_event\u001b[38;5;241m.\u001b[39mwait(timeout\u001b[38;5;241m=\u001b[39mtimeout)\n",
      "File \u001b[0;32m~/anaconda3/lib/python3.11/threading.py:622\u001b[0m, in \u001b[0;36mEvent.wait\u001b[0;34m(self, timeout)\u001b[0m\n\u001b[1;32m    620\u001b[0m signaled \u001b[38;5;241m=\u001b[39m \u001b[38;5;28mself\u001b[39m\u001b[38;5;241m.\u001b[39m_flag\n\u001b[1;32m    621\u001b[0m \u001b[38;5;28;01mif\u001b[39;00m \u001b[38;5;129;01mnot\u001b[39;00m signaled:\n\u001b[0;32m--> 622\u001b[0m     signaled \u001b[38;5;241m=\u001b[39m \u001b[38;5;28mself\u001b[39m\u001b[38;5;241m.\u001b[39m_cond\u001b[38;5;241m.\u001b[39mwait(timeout)\n\u001b[1;32m    623\u001b[0m \u001b[38;5;28;01mreturn\u001b[39;00m signaled\n",
      "File \u001b[0;32m~/anaconda3/lib/python3.11/threading.py:324\u001b[0m, in \u001b[0;36mCondition.wait\u001b[0;34m(self, timeout)\u001b[0m\n\u001b[1;32m    322\u001b[0m \u001b[38;5;28;01melse\u001b[39;00m:\n\u001b[1;32m    323\u001b[0m     \u001b[38;5;28;01mif\u001b[39;00m timeout \u001b[38;5;241m>\u001b[39m \u001b[38;5;241m0\u001b[39m:\n\u001b[0;32m--> 324\u001b[0m         gotit \u001b[38;5;241m=\u001b[39m waiter\u001b[38;5;241m.\u001b[39macquire(\u001b[38;5;28;01mTrue\u001b[39;00m, timeout)\n\u001b[1;32m    325\u001b[0m     \u001b[38;5;28;01melse\u001b[39;00m:\n\u001b[1;32m    326\u001b[0m         gotit \u001b[38;5;241m=\u001b[39m waiter\u001b[38;5;241m.\u001b[39macquire(\u001b[38;5;28;01mFalse\u001b[39;00m)\n",
      "\u001b[0;31mKeyboardInterrupt\u001b[0m: "
     ]
    }
   ],
   "source": [
    "# Build a neural network (sort of like model_2 above)\n",
    "\n",
    "tf.random.set_seed(42)\n",
    "\n",
    "# 1. Create a model\n",
    "wandb.init(project=\"insurance_regression\", name=\"Dense:10,1.SGD.E:100\")\n",
    "insurance_model = tf.keras.Sequential([\n",
    "    tf.keras.layers.Dense(10),\n",
    "    tf.keras.layers.Dense(1)\n",
    "])\n",
    "\n",
    "# 2. Compile model\n",
    "insurance_model.compile(loss=tf.keras.losses.mae,\n",
    "                       optimizer=tf.keras.optimizers.SGD(),\n",
    "                       metrics=[\"mae\"])\n",
    "\n",
    "# 3. Fit model\n",
    "insurance_model.fit(X_train, y_train, epochs=100, callbacks=[WandbCallback()])"
   ]
  },
  {
   "cell_type": "code",
   "execution_count": 484,
   "id": "978895ce",
   "metadata": {},
   "outputs": [
    {
     "name": "stdout",
     "output_type": "stream",
     "text": [
      "9/9 [==============================] - 0s 1ms/step - loss: 7384.5352 - mae: 7384.5352\n"
     ]
    },
    {
     "data": {
      "text/plain": [
       "[7384.53515625, 7384.53515625]"
      ]
     },
     "execution_count": 484,
     "metadata": {},
     "output_type": "execute_result"
    }
   ],
   "source": [
    "# Check the results of the insurance model on the test data\n",
    "insurance_model.evaluate(X_test, y_test)"
   ]
  },
  {
   "cell_type": "code",
   "execution_count": 485,
   "id": "b0b6508e",
   "metadata": {},
   "outputs": [
    {
     "name": "stdout",
     "output_type": "stream",
     "text": [
      "Requirement already satisfied: tensorflow_probability in /home/kajetan/anaconda3/lib/python3.11/site-packages (0.23.0)\n",
      "Requirement already satisfied: absl-py in /home/kajetan/anaconda3/lib/python3.11/site-packages (from tensorflow_probability) (1.4.0)\n",
      "Requirement already satisfied: six>=1.10.0 in /home/kajetan/anaconda3/lib/python3.11/site-packages (from tensorflow_probability) (1.16.0)\n",
      "Requirement already satisfied: numpy>=1.13.3 in /home/kajetan/anaconda3/lib/python3.11/site-packages (from tensorflow_probability) (1.26.2)\n",
      "Requirement already satisfied: decorator in /home/kajetan/anaconda3/lib/python3.11/site-packages (from tensorflow_probability) (5.1.1)\n",
      "Requirement already satisfied: cloudpickle>=1.3 in /home/kajetan/anaconda3/lib/python3.11/site-packages (from tensorflow_probability) (2.2.1)\n",
      "Requirement already satisfied: gast>=0.3.2 in /home/kajetan/anaconda3/lib/python3.11/site-packages (from tensorflow_probability) (0.4.0)\n",
      "Requirement already satisfied: dm-tree in /home/kajetan/anaconda3/lib/python3.11/site-packages (from tensorflow_probability) (0.1.8)\n",
      "50th Percentile (Median): 9575.442\n"
     ]
    }
   ],
   "source": [
    "!pip install tensorflow_probability\n",
    "\n",
    "import tensorflow_probability as tfp\n",
    "\n",
    "# Assuming y_train is your tensor\n",
    "percentile_value = tfp.stats.percentile(y_train, 50.0, interpolation='midpoint')\n",
    "\n",
    "print(\"50th Percentile (Median):\", percentile_value.numpy())"
   ]
  },
  {
   "cell_type": "code",
   "execution_count": 486,
   "id": "b68c08ea",
   "metadata": {},
   "outputs": [
    {
     "data": {
      "text/plain": [
       "<tf.Tensor: shape=(), dtype=float32, numpy=13346.09>"
      ]
     },
     "execution_count": 486,
     "metadata": {},
     "output_type": "execute_result"
    }
   ],
   "source": [
    "tf.reduce_mean(y_train)"
   ]
  },
  {
   "cell_type": "code",
   "execution_count": 487,
   "id": "140e44ef",
   "metadata": {},
   "outputs": [
    {
     "data": {
      "text/plain": [
       "<tf.Tensor: shape=(268, 11), dtype=float32, numpy=\n",
       "array([[45.   , 25.175,  2.   , ...,  0.   ,  0.   ,  0.   ],\n",
       "       [36.   , 30.02 ,  0.   , ...,  1.   ,  0.   ,  0.   ],\n",
       "       [64.   , 26.885,  0.   , ...,  1.   ,  0.   ,  0.   ],\n",
       "       ...,\n",
       "       [38.   , 28.025,  1.   , ...,  0.   ,  0.   ,  0.   ],\n",
       "       [54.   , 47.41 ,  0.   , ...,  0.   ,  1.   ,  0.   ],\n",
       "       [51.   , 34.2  ,  1.   , ...,  0.   ,  0.   ,  1.   ]],\n",
       "      dtype=float32)>"
      ]
     },
     "execution_count": 487,
     "metadata": {},
     "output_type": "execute_result"
    }
   ],
   "source": [
    "X_test"
   ]
  },
  {
   "cell_type": "markdown",
   "id": "d637d384",
   "metadata": {},
   "source": [
    "Right now it looks like our model isn't performing too well, let's try to improve it"
   ]
  },
  {
   "cell_type": "code",
   "execution_count": 488,
   "id": "a5c49a0b",
   "metadata": {},
   "outputs": [
    {
     "data": {
      "image/png": "[encoded data removed]",
      "text/plain": [
       "<IPython.core.display.Image object>"
      ]
     },
     "execution_count": 488,
     "metadata": {},
     "output_type": "execute_result"
    }
   ],
   "source": [
    "from tensorflow.keras.utils import plot_model\n",
    "plot_model(model=insurance_model, show_shapes=True)"
   ]
  },
  {
   "cell_type": "code",
   "execution_count": 489,
   "id": "12b51a34",
   "metadata": {},
   "outputs": [
    {
     "name": "stdout",
     "output_type": "stream",
     "text": [
      "Requirement already satisfied: wandb in /home/kajetan/anaconda3/lib/python3.11/site-packages (0.16.1)\n",
      "Requirement already satisfied: Click!=8.0.0,>=7.1 in /home/kajetan/anaconda3/lib/python3.11/site-packages (from wandb) (8.1.7)\n",
      "Requirement already satisfied: GitPython!=3.1.29,>=1.0.0 in /home/kajetan/anaconda3/lib/python3.11/site-packages (from wandb) (3.1.40)\n",
      "Requirement already satisfied: requests<3,>=2.0.0 in /home/kajetan/anaconda3/lib/python3.11/site-packages (from wandb) (2.31.0)\n",
      "Requirement already satisfied: psutil>=5.0.0 in /home/kajetan/anaconda3/lib/python3.11/site-packages (from wandb) (5.9.0)\n",
      "Requirement already satisfied: sentry-sdk>=1.0.0 in /home/kajetan/anaconda3/lib/python3.11/site-packages (from wandb) (1.34.0)\n",
      "Requirement already satisfied: docker-pycreds>=0.4.0 in /home/kajetan/anaconda3/lib/python3.11/site-packages (from wandb) (0.4.0)\n",
      "Requirement already satisfied: PyYAML in /home/kajetan/anaconda3/lib/python3.11/site-packages (from wandb) (6.0.1)\n",
      "Requirement already satisfied: setproctitle in /home/kajetan/anaconda3/lib/python3.11/site-packages (from wandb) (1.3.3)\n",
      "Requirement already satisfied: setuptools in /home/kajetan/anaconda3/lib/python3.11/site-packages (from wandb) (67.8.0)\n",
      "Requirement already satisfied: appdirs>=1.4.3 in /home/kajetan/anaconda3/lib/python3.11/site-packages (from wandb) (1.4.4)\n",
      "Requirement already satisfied: protobuf!=4.21.0,<5,>=3.19.0 in /home/kajetan/anaconda3/lib/python3.11/site-packages (from wandb) (4.23.4)\n",
      "Requirement already satisfied: six>=1.4.0 in /home/kajetan/anaconda3/lib/python3.11/site-packages (from docker-pycreds>=0.4.0->wandb) (1.16.0)\n",
      "Requirement already satisfied: gitdb<5,>=4.0.1 in /home/kajetan/anaconda3/lib/python3.11/site-packages (from GitPython!=3.1.29,>=1.0.0->wandb) (4.0.11)\n",
      "Requirement already satisfied: charset-normalizer<4,>=2 in /home/kajetan/anaconda3/lib/python3.11/site-packages (from requests<3,>=2.0.0->wandb) (2.0.4)\n",
      "Requirement already satisfied: idna<4,>=2.5 in /home/kajetan/anaconda3/lib/python3.11/site-packages (from requests<3,>=2.0.0->wandb) (3.4)\n",
      "Requirement already satisfied: urllib3<3,>=1.21.1 in /home/kajetan/anaconda3/lib/python3.11/site-packages (from requests<3,>=2.0.0->wandb) (1.26.18)\n",
      "Requirement already satisfied: certifi>=2017.4.17 in /home/kajetan/anaconda3/lib/python3.11/site-packages (from requests<3,>=2.0.0->wandb) (2023.11.17)\n",
      "Requirement already satisfied: smmap<6,>=3.0.1 in /home/kajetan/anaconda3/lib/python3.11/site-packages (from gitdb<5,>=4.0.1->GitPython!=3.1.29,>=1.0.0->wandb) (5.0.1)\n"
     ]
    }
   ],
   "source": [
    "!pip install --upgrade wandb"
   ]
  },
  {
   "cell_type": "code",
   "execution_count": 491,
   "id": "97b3de7d",
   "metadata": {},
   "outputs": [
    {
     "data": {
      "application/vnd.jupyter.widget-view+json": {
       "model_id": "a5eb9a1cf7de4d32a62a80bc4136e4dd",
       "version_major": 2,
       "version_minor": 0
      },
      "text/plain": [
       "VBox(children=(Label(value='Waiting for wandb.init()...\\r'), FloatProgress(value=0.011112697222253902, max=1.0…"
      ]
     },
     "metadata": {},
     "output_type": "display_data"
    },
    {
     "name": "stdout",
     "output_type": "stream",
     "text": [
      "Problem at: /home/kajetan/anaconda3/lib/python3.11/site-packages/wandb/sdk/wandb_init.py 848 getcaller\n"
     ]
    },
    {
     "ename": "KeyboardInterrupt",
     "evalue": "",
     "output_type": "error",
     "traceback": [
      "\u001b[0;31m---------------------------------------------------------------------------\u001b[0m",
      "\u001b[0;31mKeyboardInterrupt\u001b[0m                         Traceback (most recent call last)",
      "Cell \u001b[0;32mIn[491], line 6\u001b[0m\n\u001b[1;32m      3\u001b[0m tf\u001b[38;5;241m.\u001b[39mrandom\u001b[38;5;241m.\u001b[39mset_seed(\u001b[38;5;241m42\u001b[39m)\n\u001b[1;32m      5\u001b[0m \u001b[38;5;66;03m# 1. Create a model\u001b[39;00m\n\u001b[0;32m----> 6\u001b[0m wandb\u001b[38;5;241m.\u001b[39minit(project\u001b[38;5;241m=\u001b[39m\u001b[38;5;124m\"\u001b[39m\u001b[38;5;124minsurance_regression\u001b[39m\u001b[38;5;124m\"\u001b[39m, name\u001b[38;5;241m=\u001b[39m\u001b[38;5;124m\"\u001b[39m\u001b[38;5;124mDense:10,10,1.SGD.E:100\u001b[39m\u001b[38;5;124m\"\u001b[39m)\n\u001b[1;32m      7\u001b[0m insurance_model_1 \u001b[38;5;241m=\u001b[39m tf\u001b[38;5;241m.\u001b[39mkeras\u001b[38;5;241m.\u001b[39mSequential([\n\u001b[1;32m      8\u001b[0m     tf\u001b[38;5;241m.\u001b[39mkeras\u001b[38;5;241m.\u001b[39mlayers\u001b[38;5;241m.\u001b[39mDense(\u001b[38;5;241m10\u001b[39m),\n\u001b[1;32m      9\u001b[0m     tf\u001b[38;5;241m.\u001b[39mkeras\u001b[38;5;241m.\u001b[39mlayers\u001b[38;5;241m.\u001b[39mDense(\u001b[38;5;241m10\u001b[39m),\n\u001b[1;32m     10\u001b[0m     tf\u001b[38;5;241m.\u001b[39mkeras\u001b[38;5;241m.\u001b[39mlayers\u001b[38;5;241m.\u001b[39mDense(\u001b[38;5;241m1\u001b[39m)\n\u001b[1;32m     11\u001b[0m ])\n\u001b[1;32m     13\u001b[0m \u001b[38;5;66;03m# 2. Compile model\u001b[39;00m\n",
      "File \u001b[0;32m~/anaconda3/lib/python3.11/site-packages/wandb/sdk/wandb_init.py:1189\u001b[0m, in \u001b[0;36minit\u001b[0;34m(job_type, dir, config, project, entity, reinit, tags, group, name, notes, magic, config_exclude_keys, config_include_keys, anonymous, mode, allow_val_change, resume, force, tensorboard, sync_tensorboard, monitor_gym, save_code, id, settings)\u001b[0m\n\u001b[1;32m   1187\u001b[0m     \u001b[38;5;28;01mif\u001b[39;00m logger \u001b[38;5;129;01mis\u001b[39;00m \u001b[38;5;129;01mnot\u001b[39;00m \u001b[38;5;28;01mNone\u001b[39;00m:\n\u001b[1;32m   1188\u001b[0m         logger\u001b[38;5;241m.\u001b[39mexception(\u001b[38;5;28mstr\u001b[39m(e))\n\u001b[0;32m-> 1189\u001b[0m     \u001b[38;5;28;01mraise\u001b[39;00m e\n\u001b[1;32m   1190\u001b[0m \u001b[38;5;28;01mexcept\u001b[39;00m \u001b[38;5;167;01mKeyboardInterrupt\u001b[39;00m \u001b[38;5;28;01mas\u001b[39;00m e:\n\u001b[1;32m   1191\u001b[0m     \u001b[38;5;28;01massert\u001b[39;00m logger\n",
      "File \u001b[0;32m~/anaconda3/lib/python3.11/site-packages/wandb/sdk/wandb_init.py:1166\u001b[0m, in \u001b[0;36minit\u001b[0;34m(job_type, dir, config, project, entity, reinit, tags, group, name, notes, magic, config_exclude_keys, config_include_keys, anonymous, mode, allow_val_change, resume, force, tensorboard, sync_tensorboard, monitor_gym, save_code, id, settings)\u001b[0m\n\u001b[1;32m   1164\u001b[0m \u001b[38;5;28;01mtry\u001b[39;00m:\n\u001b[1;32m   1165\u001b[0m     wi \u001b[38;5;241m=\u001b[39m _WandbInit()\n\u001b[0;32m-> 1166\u001b[0m     wi\u001b[38;5;241m.\u001b[39msetup(kwargs)\n\u001b[1;32m   1167\u001b[0m     \u001b[38;5;28;01massert\u001b[39;00m wi\u001b[38;5;241m.\u001b[39msettings\n\u001b[1;32m   1168\u001b[0m     except_exit \u001b[38;5;241m=\u001b[39m wi\u001b[38;5;241m.\u001b[39msettings\u001b[38;5;241m.\u001b[39m_except_exit\n",
      "File \u001b[0;32m~/anaconda3/lib/python3.11/site-packages/wandb/sdk/wandb_init.py:752\u001b[0m, in \u001b[0;36m_WandbInit.init\u001b[0;34m(self)\u001b[0m\n\u001b[1;32m    749\u001b[0m logger\u001b[38;5;241m.\u001b[39minfo(\u001b[38;5;124mf\u001b[39m\u001b[38;5;124m\"\u001b[39m\u001b[38;5;124mcommunicating run to backend with \u001b[39m\u001b[38;5;132;01m{\u001b[39;00mtimeout\u001b[38;5;132;01m}\u001b[39;00m\u001b[38;5;124m second timeout\u001b[39m\u001b[38;5;124m\"\u001b[39m)\n\u001b[1;32m    751\u001b[0m run_init_handle \u001b[38;5;241m=\u001b[39m backend\u001b[38;5;241m.\u001b[39minterface\u001b[38;5;241m.\u001b[39mdeliver_run(run)\n\u001b[0;32m--> 752\u001b[0m result \u001b[38;5;241m=\u001b[39m run_init_handle\u001b[38;5;241m.\u001b[39mwait(\n\u001b[1;32m    753\u001b[0m     timeout\u001b[38;5;241m=\u001b[39mtimeout,\n\u001b[1;32m    754\u001b[0m     on_progress\u001b[38;5;241m=\u001b[39m\u001b[38;5;28mself\u001b[39m\u001b[38;5;241m.\u001b[39m_on_progress_init,\n\u001b[1;32m    755\u001b[0m     cancel\u001b[38;5;241m=\u001b[39m\u001b[38;5;28;01mTrue\u001b[39;00m,\n\u001b[1;32m    756\u001b[0m )\n\u001b[1;32m    757\u001b[0m \u001b[38;5;28;01mif\u001b[39;00m result:\n\u001b[1;32m    758\u001b[0m     run_result \u001b[38;5;241m=\u001b[39m result\u001b[38;5;241m.\u001b[39mrun_result\n",
      "File \u001b[0;32m~/anaconda3/lib/python3.11/site-packages/wandb/sdk/lib/mailbox.py:283\u001b[0m, in \u001b[0;36mMailboxHandle.wait\u001b[0;34m(self, timeout, on_probe, on_progress, release, cancel)\u001b[0m\n\u001b[1;32m    280\u001b[0m     \u001b[38;5;28;01mif\u001b[39;00m \u001b[38;5;28mself\u001b[39m\u001b[38;5;241m.\u001b[39m_interface\u001b[38;5;241m.\u001b[39m_transport_keepalive_failed():\n\u001b[1;32m    281\u001b[0m         \u001b[38;5;28;01mraise\u001b[39;00m MailboxError(\u001b[38;5;124m\"\u001b[39m\u001b[38;5;124mtransport failed\u001b[39m\u001b[38;5;124m\"\u001b[39m)\n\u001b[0;32m--> 283\u001b[0m found, abandoned \u001b[38;5;241m=\u001b[39m \u001b[38;5;28mself\u001b[39m\u001b[38;5;241m.\u001b[39m_slot\u001b[38;5;241m.\u001b[39m_get_and_clear(timeout\u001b[38;5;241m=\u001b[39mwait_timeout)\n\u001b[1;32m    284\u001b[0m \u001b[38;5;28;01mif\u001b[39;00m found:\n\u001b[1;32m    285\u001b[0m     \u001b[38;5;66;03m# Always update progress to 100% when done\u001b[39;00m\n\u001b[1;32m    286\u001b[0m     \u001b[38;5;28;01mif\u001b[39;00m on_progress \u001b[38;5;129;01mand\u001b[39;00m progress_handle \u001b[38;5;129;01mand\u001b[39;00m progress_sent:\n",
      "File \u001b[0;32m~/anaconda3/lib/python3.11/site-packages/wandb/sdk/lib/mailbox.py:130\u001b[0m, in \u001b[0;36m_MailboxSlot._get_and_clear\u001b[0;34m(self, timeout)\u001b[0m\n\u001b[1;32m    128\u001b[0m \u001b[38;5;28;01mdef\u001b[39;00m \u001b[38;5;21m_get_and_clear\u001b[39m(\u001b[38;5;28mself\u001b[39m, timeout: \u001b[38;5;28mfloat\u001b[39m) \u001b[38;5;241m-\u001b[39m\u001b[38;5;241m>\u001b[39m Tuple[Optional[pb\u001b[38;5;241m.\u001b[39mResult], \u001b[38;5;28mbool\u001b[39m]:\n\u001b[1;32m    129\u001b[0m     found \u001b[38;5;241m=\u001b[39m \u001b[38;5;28;01mNone\u001b[39;00m\n\u001b[0;32m--> 130\u001b[0m     \u001b[38;5;28;01mif\u001b[39;00m \u001b[38;5;28mself\u001b[39m\u001b[38;5;241m.\u001b[39m_wait(timeout\u001b[38;5;241m=\u001b[39mtimeout):\n\u001b[1;32m    131\u001b[0m         \u001b[38;5;28;01mwith\u001b[39;00m \u001b[38;5;28mself\u001b[39m\u001b[38;5;241m.\u001b[39m_lock:\n\u001b[1;32m    132\u001b[0m             found \u001b[38;5;241m=\u001b[39m \u001b[38;5;28mself\u001b[39m\u001b[38;5;241m.\u001b[39m_result\n",
      "File \u001b[0;32m~/anaconda3/lib/python3.11/site-packages/wandb/sdk/lib/mailbox.py:126\u001b[0m, in \u001b[0;36m_MailboxSlot._wait\u001b[0;34m(self, timeout)\u001b[0m\n\u001b[1;32m    125\u001b[0m \u001b[38;5;28;01mdef\u001b[39;00m \u001b[38;5;21m_wait\u001b[39m(\u001b[38;5;28mself\u001b[39m, timeout: \u001b[38;5;28mfloat\u001b[39m) \u001b[38;5;241m-\u001b[39m\u001b[38;5;241m>\u001b[39m \u001b[38;5;28mbool\u001b[39m:\n\u001b[0;32m--> 126\u001b[0m     \u001b[38;5;28;01mreturn\u001b[39;00m \u001b[38;5;28mself\u001b[39m\u001b[38;5;241m.\u001b[39m_event\u001b[38;5;241m.\u001b[39mwait(timeout\u001b[38;5;241m=\u001b[39mtimeout)\n",
      "File \u001b[0;32m~/anaconda3/lib/python3.11/threading.py:622\u001b[0m, in \u001b[0;36mEvent.wait\u001b[0;34m(self, timeout)\u001b[0m\n\u001b[1;32m    620\u001b[0m signaled \u001b[38;5;241m=\u001b[39m \u001b[38;5;28mself\u001b[39m\u001b[38;5;241m.\u001b[39m_flag\n\u001b[1;32m    621\u001b[0m \u001b[38;5;28;01mif\u001b[39;00m \u001b[38;5;129;01mnot\u001b[39;00m signaled:\n\u001b[0;32m--> 622\u001b[0m     signaled \u001b[38;5;241m=\u001b[39m \u001b[38;5;28mself\u001b[39m\u001b[38;5;241m.\u001b[39m_cond\u001b[38;5;241m.\u001b[39mwait(timeout)\n\u001b[1;32m    623\u001b[0m \u001b[38;5;28;01mreturn\u001b[39;00m signaled\n",
      "File \u001b[0;32m~/anaconda3/lib/python3.11/threading.py:324\u001b[0m, in \u001b[0;36mCondition.wait\u001b[0;34m(self, timeout)\u001b[0m\n\u001b[1;32m    322\u001b[0m \u001b[38;5;28;01melse\u001b[39;00m:\n\u001b[1;32m    323\u001b[0m     \u001b[38;5;28;01mif\u001b[39;00m timeout \u001b[38;5;241m>\u001b[39m \u001b[38;5;241m0\u001b[39m:\n\u001b[0;32m--> 324\u001b[0m         gotit \u001b[38;5;241m=\u001b[39m waiter\u001b[38;5;241m.\u001b[39macquire(\u001b[38;5;28;01mTrue\u001b[39;00m, timeout)\n\u001b[1;32m    325\u001b[0m     \u001b[38;5;28;01melse\u001b[39;00m:\n\u001b[1;32m    326\u001b[0m         gotit \u001b[38;5;241m=\u001b[39m waiter\u001b[38;5;241m.\u001b[39macquire(\u001b[38;5;28;01mFalse\u001b[39;00m)\n",
      "\u001b[0;31mKeyboardInterrupt\u001b[0m: "
     ]
    }
   ],
   "source": [
    "# Build a neural network (sort of like model_2 above)\n",
    "\n",
    "tf.random.set_seed(42)\n",
    "\n",
    "# 1. Create a model\n",
    "wandb.init(project=\"insurance_regression\", name=\"Dense:10,10,1.SGD.E:100\")\n",
    "insurance_model_1 = tf.keras.Sequential([\n",
    "    tf.keras.layers.Dense(10),\n",
    "    tf.keras.layers.Dense(10),\n",
    "    tf.keras.layers.Dense(1)\n",
    "])\n",
    "\n",
    "# 2. Compile model\n",
    "insurance_model_1.compile(loss=tf.keras.losses.mae,\n",
    "                       optimizer=tf.keras.optimizers.SGD(),\n",
    "                       metrics=[\"mae\"])\n",
    "\n",
    "# 3. Fit model\n",
    "insurance_model_1.fit(X_train, y_train, epochs=100, callbacks=[WandbCallback()])"
   ]
  },
  {
   "cell_type": "code",
   "execution_count": null,
   "id": "48e306c2",
   "metadata": {},
   "outputs": [],
   "source": []
  }
 ],
 "metadata": {
  "colab": {
   "include_colab_link": true,
   "provenance": [],
   "toc_visible": true
  },
  "kernelspec": {
   "display_name": "Python 3 (ipykernel)",
   "language": "python",
   "name": "python3"
  },
  "language_info": {
   "codemirror_mode": {
    "name": "ipython",
    "version": 3
   },
   "file_extension": ".py",
   "mimetype": "text/x-python",
   "name": "python",
   "nbconvert_exporter": "python",
   "pygments_lexer": "ipython3",
   "version": "3.11.5"
  }
 },
 "nbformat": 4,
 "nbformat_minor": 5
}
