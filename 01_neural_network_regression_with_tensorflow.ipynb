{
 "cells": [
  {
   "cell_type": "markdown",
   "id": "4eb72331",
   "metadata": {},
   "source": [
    "# Introduction to Regression with Neural Networks in TensorFlow"
   ]
  },
  {
   "cell_type": "code",
   "execution_count": 1,
   "id": "6bed05ea",
   "metadata": {},
   "outputs": [
    {
     "name": "stderr",
     "output_type": "stream",
     "text": [
      "2023-12-15 17:52:40.142760: E external/local_xla/xla/stream_executor/cuda/cuda_dnn.cc:9261] Unable to register cuDNN factory: Attempting to register factory for plugin cuDNN when one has already been registered\n",
      "2023-12-15 17:52:40.142801: E external/local_xla/xla/stream_executor/cuda/cuda_fft.cc:607] Unable to register cuFFT factory: Attempting to register factory for plugin cuFFT when one has already been registered\n",
      "2023-12-15 17:52:40.144183: E external/local_xla/xla/stream_executor/cuda/cuda_blas.cc:1515] Unable to register cuBLAS factory: Attempting to register factory for plugin cuBLAS when one has already been registered\n",
      "2023-12-15 17:52:40.151058: I tensorflow/core/platform/cpu_feature_guard.cc:182] This TensorFlow binary is optimized to use available CPU instructions in performance-critical operations.\n",
      "To enable the following instructions: AVX2 FMA, in other operations, rebuild TensorFlow with the appropriate compiler flags.\n",
      "2023-12-15 17:52:40.925735: W tensorflow/compiler/tf2tensorrt/utils/py_utils.cc:38] TF-TRT Warning: Could not find TensorRT\n"
     ]
    },
    {
     "name": "stdout",
     "output_type": "stream",
     "text": [
      "2.15.0\n"
     ]
    }
   ],
   "source": [
    "import tensorflow as tf\n",
    "print(tf.__version__)"
   ]
  },
  {
   "cell_type": "code",
   "execution_count": 2,
   "id": "d1ca512c",
   "metadata": {},
   "outputs": [
    {
     "data": {
      "image/png": "[encoded data removed]",
      "text/plain": [
       "<Figure size 640x480 with 1 Axes>"
      ]
     },
     "metadata": {},
     "output_type": "display_data"
    }
   ],
   "source": [
    "import numpy as np\n",
    "import matplotlib.pyplot as plt\n",
    "\n",
    "# Create features\n",
    "X = np.array([-7.0, -4.0, -1.0, 2.0, 5.0, 8.0, 11.0, 14.0])\n",
    "\n",
    "# Create labels\n",
    "y = np.array([3.0, 6.0, 9.0, 12.0, 15.0, 18.0, 21.0, 24.0])\n",
    "\n",
    "# Visualize it\n",
    "plt.scatter(X, y);"
   ]
  },
  {
   "cell_type": "code",
   "execution_count": 3,
   "id": "7a2f5345",
   "metadata": {},
   "outputs": [
    {
     "data": {
      "text/plain": [
       "array([ True,  True,  True,  True,  True,  True,  True,  True])"
      ]
     },
     "execution_count": 3,
     "metadata": {},
     "output_type": "execute_result"
    }
   ],
   "source": [
    "y == X + 10"
   ]
  },
  {
   "cell_type": "markdown",
   "id": "7e74915b",
   "metadata": {},
   "source": [
    "# Input and output shape"
   ]
  },
  {
   "cell_type": "code",
   "execution_count": 4,
   "id": "6e8f18bc",
   "metadata": {},
   "outputs": [
    {
     "name": "stderr",
     "output_type": "stream",
     "text": [
      "2023-12-15 17:52:42.445333: I external/local_xla/xla/stream_executor/cuda/cuda_executor.cc:901] successful NUMA node read from SysFS had negative value (-1), but there must be at least one NUMA node, so returning NUMA node zero. See more at https://github.com/torvalds/linux/blob/v6.0/Documentation/ABI/testing/sysfs-bus-pci#L344-L355\n",
      "2023-12-15 17:52:42.480474: W tensorflow/core/common_runtime/gpu/gpu_device.cc:2256] Cannot dlopen some GPU libraries. Please make sure the missing libraries mentioned above are installed properly if you would like to use GPU. Follow the guide at https://www.tensorflow.org/install/gpu for how to download and setup the required libraries for your platform.\n",
      "Skipping registering GPU devices...\n"
     ]
    },
    {
     "data": {
      "text/plain": [
       "(<tf.Tensor: shape=(3,), dtype=string, numpy=array([b'bedroom', b'bathroom', b'garage'], dtype=object)>,\n",
       " <tf.Tensor: shape=(1,), dtype=int32, numpy=array([939700], dtype=int32)>)"
      ]
     },
     "execution_count": 4,
     "metadata": {},
     "output_type": "execute_result"
    }
   ],
   "source": [
    "# Create a demo tensor for our housing price prediciton problem\n",
    "house_info = tf.constant([\"bedroom\", \"bathroom\", \"garage\"])\n",
    "house_price = tf.constant([939700])\n",
    "house_info, house_price"
   ]
  },
  {
   "cell_type": "code",
   "execution_count": 5,
   "id": "cf54c038",
   "metadata": {},
   "outputs": [
    {
     "data": {
      "text/plain": [
       "((), ())"
      ]
     },
     "execution_count": 5,
     "metadata": {},
     "output_type": "execute_result"
    }
   ],
   "source": [
    "input_shape = X[0].shape\n",
    "output_shape = y[0].shape\n",
    "input_shape, output_shape"
   ]
  },
  {
   "cell_type": "code",
   "execution_count": 6,
   "id": "07b1b411",
   "metadata": {},
   "outputs": [
    {
     "data": {
      "text/plain": [
       "0"
      ]
     },
     "execution_count": 6,
     "metadata": {},
     "output_type": "execute_result"
    }
   ],
   "source": [
    "X[0].ndim"
   ]
  },
  {
   "cell_type": "code",
   "execution_count": 7,
   "id": "7673b6c5",
   "metadata": {},
   "outputs": [
    {
     "data": {
      "text/plain": [
       "(-7.0, 3.0)"
      ]
     },
     "execution_count": 7,
     "metadata": {},
     "output_type": "execute_result"
    }
   ],
   "source": [
    "X[0], y[0]"
   ]
  },
  {
   "cell_type": "code",
   "execution_count": 8,
   "id": "16668a1c",
   "metadata": {},
   "outputs": [
    {
     "data": {
      "text/plain": [
       "(<tf.Tensor: shape=(8,), dtype=float32, numpy=array([-7., -4., -1.,  2.,  5.,  8., 11., 14.], dtype=float32)>,\n",
       " <tf.Tensor: shape=(8,), dtype=float32, numpy=array([ 3.,  6.,  9., 12., 15., 18., 21., 24.], dtype=float32)>)"
      ]
     },
     "execution_count": 8,
     "metadata": {},
     "output_type": "execute_result"
    }
   ],
   "source": [
    "# Turn our NumPy arrays into tensors\n",
    "X = tf.cast(tf.constant(X), dtype=tf.float32)\n",
    "y = tf.cast(tf.constant(y), dtype=tf.float32)\n",
    "X, y"
   ]
  },
  {
   "cell_type": "code",
   "execution_count": 9,
   "id": "b4b16637",
   "metadata": {},
   "outputs": [
    {
     "data": {
      "text/plain": [
       "(TensorShape([]), TensorShape([]))"
      ]
     },
     "execution_count": 9,
     "metadata": {},
     "output_type": "execute_result"
    }
   ],
   "source": [
    "input_shape = X[0].shape\n",
    "output_shape = y[0].shape\n",
    "input_shape, output_shape"
   ]
  },
  {
   "cell_type": "code",
   "execution_count": 10,
   "id": "fce8df22",
   "metadata": {},
   "outputs": [
    {
     "data": {
      "text/plain": [
       "<matplotlib.collections.PathCollection at 0x7f9744c74cd0>"
      ]
     },
     "execution_count": 10,
     "metadata": {},
     "output_type": "execute_result"
    },
    {
     "data": {
      "image/png": "[encoded data removed]",
      "text/plain": [
       "<Figure size 640x480 with 1 Axes>"
      ]
     },
     "metadata": {},
     "output_type": "display_data"
    }
   ],
   "source": [
    "plt.scatter(X, y)"
   ]
  },
  {
   "cell_type": "markdown",
   "id": "f8cbe686",
   "metadata": {},
   "source": [
    "# Modelling with TensorFlow\n",
    "\n",
    "**1. Creating a model**\n",
    "\n",
    "**2. Compiling a model**\n",
    "\n",
    "**3. Fitting a model**"
   ]
  },
  {
   "cell_type": "code",
   "execution_count": 11,
   "id": "9a32f9ab",
   "metadata": {},
   "outputs": [
    {
     "name": "stdout",
     "output_type": "stream",
     "text": [
      "Epoch 1/5\n",
      "1/1 [==============================] - 0s 201ms/step - loss: 12.8839 - mae: 12.8839\n",
      "Epoch 2/5\n",
      "1/1 [==============================] - 0s 4ms/step - loss: 12.7514 - mae: 12.7514\n",
      "Epoch 3/5\n",
      "1/1 [==============================] - 0s 5ms/step - loss: 12.6189 - mae: 12.6189\n",
      "Epoch 4/5\n",
      "1/1 [==============================] - 0s 3ms/step - loss: 12.4864 - mae: 12.4864\n",
      "Epoch 5/5\n",
      "1/1 [==============================] - 0s 3ms/step - loss: 12.3539 - mae: 12.3539\n"
     ]
    },
    {
     "data": {
      "text/plain": [
       "<keras.src.callbacks.History at 0x7f9744dea050>"
      ]
     },
     "execution_count": 11,
     "metadata": {},
     "output_type": "execute_result"
    }
   ],
   "source": [
    "tf.random.set_seed(42)\n",
    "\n",
    "# 1. Create a model\n",
    "model = tf.keras.Sequential([\n",
    "    tf.keras.layers.Dense(1, input_shape=(1,))  # Specify input_shape for the first layer\n",
    "])\n",
    "\n",
    "# 2. Compile the model\n",
    "model.compile(loss=tf.keras.losses.mae,\n",
    "              optimizer=tf.keras.optimizers.SGD(),\n",
    "              metrics=[\"mae\"])\n",
    "\n",
    "# 3. Fit the model\n",
    "model.fit(X, y, epochs=5)"
   ]
  },
  {
   "cell_type": "code",
   "execution_count": 12,
   "id": "1b6c1258",
   "metadata": {},
   "outputs": [
    {
     "name": "stdout",
     "output_type": "stream",
     "text": [
      "1/1 [==============================] - 0s 53ms/step\n"
     ]
    },
    {
     "data": {
      "text/plain": [
       "array([[6.0174885]], dtype=float32)"
      ]
     },
     "execution_count": 12,
     "metadata": {},
     "output_type": "execute_result"
    }
   ],
   "source": [
    "y_pred = model.predict([17.0])\n",
    "y_pred"
   ]
  },
  {
   "cell_type": "code",
   "execution_count": 13,
   "id": "5cc64216",
   "metadata": {},
   "outputs": [
    {
     "data": {
      "text/plain": [
       "array([[17.017488]], dtype=float32)"
      ]
     },
     "execution_count": 13,
     "metadata": {},
     "output_type": "execute_result"
    }
   ],
   "source": [
    "y_pred + 11"
   ]
  },
  {
   "cell_type": "markdown",
   "id": "e53b4119",
   "metadata": {},
   "source": [
    "# Improving our model\n",
    "We can improve our model. by altering the steps we took to create a model.\n",
    "\n",
    "**1. Creating a model**\n",
    "\n",
    "**2. Compiling a model**\n",
    "\n",
    "**3. Fitting a model**"
   ]
  },
  {
   "cell_type": "code",
   "execution_count": 14,
   "id": "7b25c4e2",
   "metadata": {},
   "outputs": [
    {
     "name": "stdout",
     "output_type": "stream",
     "text": [
      "Epoch 1/100\n",
      "1/1 [==============================] - 0s 251ms/step - loss: 16.7652 - mae: 16.7652\n",
      "Epoch 2/100\n",
      "1/1 [==============================] - 0s 4ms/step - loss: 16.7592 - mae: 16.7592\n",
      "Epoch 3/100\n",
      "1/1 [==============================] - 0s 5ms/step - loss: 16.7532 - mae: 16.7532\n",
      "Epoch 4/100\n",
      "1/1 [==============================] - 0s 3ms/step - loss: 16.7472 - mae: 16.7472\n",
      "Epoch 5/100\n",
      "1/1 [==============================] - 0s 4ms/step - loss: 16.7412 - mae: 16.7412\n",
      "Epoch 6/100\n",
      "1/1 [==============================] - 0s 3ms/step - loss: 16.7352 - mae: 16.7352\n",
      "Epoch 7/100\n",
      "1/1 [==============================] - 0s 4ms/step - loss: 16.7292 - mae: 16.7292\n",
      "Epoch 8/100\n",
      "1/1 [==============================] - 0s 4ms/step - loss: 16.7232 - mae: 16.7232\n",
      "Epoch 9/100\n",
      "1/1 [==============================] - 0s 3ms/step - loss: 16.7172 - mae: 16.7172\n",
      "Epoch 10/100\n",
      "1/1 [==============================] - 0s 4ms/step - loss: 16.7112 - mae: 16.7112\n",
      "Epoch 11/100\n",
      "1/1 [==============================] - 0s 4ms/step - loss: 16.7052 - mae: 16.7052\n",
      "Epoch 12/100\n",
      "1/1 [==============================] - 0s 3ms/step - loss: 16.6992 - mae: 16.6992\n",
      "Epoch 13/100\n",
      "1/1 [==============================] - 0s 3ms/step - loss: 16.6932 - mae: 16.6932\n",
      "Epoch 14/100\n",
      "1/1 [==============================] - 0s 5ms/step - loss: 16.6872 - mae: 16.6872\n",
      "Epoch 15/100\n",
      "1/1 [==============================] - 0s 3ms/step - loss: 16.6812 - mae: 16.6812\n",
      "Epoch 16/100\n",
      "1/1 [==============================] - 0s 3ms/step - loss: 16.6752 - mae: 16.6752\n",
      "Epoch 17/100\n",
      "1/1 [==============================] - 0s 5ms/step - loss: 16.6692 - mae: 16.6692\n",
      "Epoch 18/100\n",
      "1/1 [==============================] - 0s 4ms/step - loss: 16.6632 - mae: 16.6632\n",
      "Epoch 19/100\n",
      "1/1 [==============================] - 0s 4ms/step - loss: 16.6572 - mae: 16.6572\n",
      "Epoch 20/100\n",
      "1/1 [==============================] - 0s 5ms/step - loss: 16.6512 - mae: 16.6512\n",
      "Epoch 21/100\n",
      "1/1 [==============================] - 0s 4ms/step - loss: 16.6452 - mae: 16.6452\n",
      "Epoch 22/100\n",
      "1/1 [==============================] - 0s 4ms/step - loss: 16.6392 - mae: 16.6392\n",
      "Epoch 23/100\n",
      "1/1 [==============================] - 0s 5ms/step - loss: 16.6332 - mae: 16.6332\n",
      "Epoch 24/100\n",
      "1/1 [==============================] - 0s 4ms/step - loss: 16.6272 - mae: 16.6272\n",
      "Epoch 25/100\n",
      "1/1 [==============================] - 0s 4ms/step - loss: 16.6212 - mae: 16.6212\n",
      "Epoch 26/100\n",
      "1/1 [==============================] - 0s 4ms/step - loss: 16.6152 - mae: 16.6152\n",
      "Epoch 27/100\n",
      "1/1 [==============================] - 0s 3ms/step - loss: 16.6092 - mae: 16.6092\n",
      "Epoch 28/100\n",
      "1/1 [==============================] - 0s 3ms/step - loss: 16.6032 - mae: 16.6032\n",
      "Epoch 29/100\n",
      "1/1 [==============================] - 0s 5ms/step - loss: 16.5972 - mae: 16.5972\n",
      "Epoch 30/100\n",
      "1/1 [==============================] - 0s 4ms/step - loss: 16.5912 - mae: 16.5912\n",
      "Epoch 31/100\n",
      "1/1 [==============================] - 0s 4ms/step - loss: 16.5852 - mae: 16.5852\n",
      "Epoch 32/100\n",
      "1/1 [==============================] - 0s 5ms/step - loss: 16.5792 - mae: 16.5792\n",
      "Epoch 33/100\n",
      "1/1 [==============================] - 0s 4ms/step - loss: 16.5732 - mae: 16.5732\n",
      "Epoch 34/100\n",
      "1/1 [==============================] - 0s 4ms/step - loss: 16.5672 - mae: 16.5672\n",
      "Epoch 35/100\n",
      "1/1 [==============================] - 0s 3ms/step - loss: 16.5612 - mae: 16.5612\n",
      "Epoch 36/100\n",
      "1/1 [==============================] - 0s 3ms/step - loss: 16.5552 - mae: 16.5552\n",
      "Epoch 37/100\n",
      "1/1 [==============================] - 0s 3ms/step - loss: 16.5492 - mae: 16.5492\n",
      "Epoch 38/100\n",
      "1/1 [==============================] - 0s 4ms/step - loss: 16.5432 - mae: 16.5432\n",
      "Epoch 39/100\n",
      "1/1 [==============================] - 0s 3ms/step - loss: 16.5372 - mae: 16.5372\n",
      "Epoch 40/100\n",
      "1/1 [==============================] - 0s 3ms/step - loss: 16.5312 - mae: 16.5312\n",
      "Epoch 41/100\n",
      "1/1 [==============================] - 0s 3ms/step - loss: 16.5252 - mae: 16.5252\n",
      "Epoch 42/100\n",
      "1/1 [==============================] - 0s 5ms/step - loss: 16.5192 - mae: 16.5192\n",
      "Epoch 43/100\n",
      "1/1 [==============================] - 0s 5ms/step - loss: 16.5132 - mae: 16.5132\n",
      "Epoch 44/100\n",
      "1/1 [==============================] - 0s 4ms/step - loss: 16.5072 - mae: 16.5072\n",
      "Epoch 45/100\n",
      "1/1 [==============================] - 0s 5ms/step - loss: 16.5012 - mae: 16.5012\n",
      "Epoch 46/100\n",
      "1/1 [==============================] - 0s 3ms/step - loss: 16.4952 - mae: 16.4952\n",
      "Epoch 47/100\n",
      "1/1 [==============================] - 0s 4ms/step - loss: 16.4892 - mae: 16.4892\n",
      "Epoch 48/100\n",
      "1/1 [==============================] - 0s 4ms/step - loss: 16.4832 - mae: 16.4832\n",
      "Epoch 49/100\n",
      "1/1 [==============================] - 0s 4ms/step - loss: 16.4772 - mae: 16.4772\n",
      "Epoch 50/100\n",
      "1/1 [==============================] - 0s 4ms/step - loss: 16.4712 - mae: 16.4712\n",
      "Epoch 51/100\n",
      "1/1 [==============================] - 0s 3ms/step - loss: 16.4652 - mae: 16.4652\n",
      "Epoch 52/100\n",
      "1/1 [==============================] - 0s 4ms/step - loss: 16.4592 - mae: 16.4592\n",
      "Epoch 53/100\n",
      "1/1 [==============================] - 0s 4ms/step - loss: 16.4532 - mae: 16.4532\n",
      "Epoch 54/100\n",
      "1/1 [==============================] - 0s 4ms/step - loss: 16.4472 - mae: 16.4472\n",
      "Epoch 55/100\n",
      "1/1 [==============================] - 0s 4ms/step - loss: 16.4412 - mae: 16.4412\n",
      "Epoch 56/100\n",
      "1/1 [==============================] - 0s 3ms/step - loss: 16.4352 - mae: 16.4352\n",
      "Epoch 57/100\n",
      "1/1 [==============================] - 0s 4ms/step - loss: 16.4292 - mae: 16.4292\n",
      "Epoch 58/100\n",
      "1/1 [==============================] - 0s 4ms/step - loss: 16.4232 - mae: 16.4232\n",
      "Epoch 59/100\n",
      "1/1 [==============================] - 0s 3ms/step - loss: 16.4172 - mae: 16.4172\n",
      "Epoch 60/100\n",
      "1/1 [==============================] - 0s 3ms/step - loss: 16.4112 - mae: 16.4112\n",
      "Epoch 61/100\n",
      "1/1 [==============================] - 0s 3ms/step - loss: 16.4052 - mae: 16.4052\n",
      "Epoch 62/100\n",
      "1/1 [==============================] - 0s 3ms/step - loss: 16.3992 - mae: 16.3992\n",
      "Epoch 63/100\n",
      "1/1 [==============================] - 0s 3ms/step - loss: 16.3932 - mae: 16.3932\n",
      "Epoch 64/100\n",
      "1/1 [==============================] - 0s 3ms/step - loss: 16.3872 - mae: 16.3872\n",
      "Epoch 65/100\n",
      "1/1 [==============================] - 0s 3ms/step - loss: 16.3812 - mae: 16.3812\n",
      "Epoch 66/100\n",
      "1/1 [==============================] - 0s 3ms/step - loss: 16.3752 - mae: 16.3752\n",
      "Epoch 67/100\n",
      "1/1 [==============================] - 0s 3ms/step - loss: 16.3692 - mae: 16.3692\n",
      "Epoch 68/100\n",
      "1/1 [==============================] - 0s 3ms/step - loss: 16.3632 - mae: 16.3632\n",
      "Epoch 69/100\n",
      "1/1 [==============================] - 0s 3ms/step - loss: 16.3572 - mae: 16.3572\n",
      "Epoch 70/100\n",
      "1/1 [==============================] - 0s 3ms/step - loss: 16.3512 - mae: 16.3512\n",
      "Epoch 71/100\n",
      "1/1 [==============================] - 0s 3ms/step - loss: 16.3452 - mae: 16.3452\n",
      "Epoch 72/100\n",
      "1/1 [==============================] - 0s 16ms/step - loss: 16.3392 - mae: 16.3392\n",
      "Epoch 73/100\n",
      "1/1 [==============================] - 0s 5ms/step - loss: 16.3332 - mae: 16.3332\n",
      "Epoch 74/100\n",
      "1/1 [==============================] - 0s 4ms/step - loss: 16.3272 - mae: 16.3272\n",
      "Epoch 75/100\n",
      "1/1 [==============================] - 0s 3ms/step - loss: 16.3212 - mae: 16.3212\n",
      "Epoch 76/100\n",
      "1/1 [==============================] - 0s 3ms/step - loss: 16.3152 - mae: 16.3152\n",
      "Epoch 77/100\n",
      "1/1 [==============================] - 0s 4ms/step - loss: 16.3092 - mae: 16.3092\n",
      "Epoch 78/100\n",
      "1/1 [==============================] - 0s 3ms/step - loss: 16.3032 - mae: 16.3032\n",
      "Epoch 79/100\n",
      "1/1 [==============================] - 0s 3ms/step - loss: 16.2972 - mae: 16.2972\n",
      "Epoch 80/100\n",
      "1/1 [==============================] - 0s 4ms/step - loss: 16.2912 - mae: 16.2912\n",
      "Epoch 81/100\n",
      "1/1 [==============================] - 0s 3ms/step - loss: 16.2852 - mae: 16.2852\n",
      "Epoch 82/100\n",
      "1/1 [==============================] - 0s 3ms/step - loss: 16.2792 - mae: 16.2792\n",
      "Epoch 83/100\n",
      "1/1 [==============================] - 0s 3ms/step - loss: 16.2732 - mae: 16.2732\n",
      "Epoch 84/100\n",
      "1/1 [==============================] - 0s 4ms/step - loss: 16.2672 - mae: 16.2672\n",
      "Epoch 85/100\n",
      "1/1 [==============================] - 0s 3ms/step - loss: 16.2612 - mae: 16.2612\n",
      "Epoch 86/100\n",
      "1/1 [==============================] - 0s 3ms/step - loss: 16.2552 - mae: 16.2552\n",
      "Epoch 87/100\n"
     ]
    },
    {
     "name": "stdout",
     "output_type": "stream",
     "text": [
      "1/1 [==============================] - 0s 4ms/step - loss: 16.2492 - mae: 16.2492\n",
      "Epoch 88/100\n",
      "1/1 [==============================] - 0s 4ms/step - loss: 16.2432 - mae: 16.2432\n",
      "Epoch 89/100\n",
      "1/1 [==============================] - 0s 3ms/step - loss: 16.2372 - mae: 16.2372\n",
      "Epoch 90/100\n",
      "1/1 [==============================] - 0s 4ms/step - loss: 16.2312 - mae: 16.2312\n",
      "Epoch 91/100\n",
      "1/1 [==============================] - 0s 4ms/step - loss: 16.2252 - mae: 16.2252\n",
      "Epoch 92/100\n",
      "1/1 [==============================] - 0s 4ms/step - loss: 16.2192 - mae: 16.2192\n",
      "Epoch 93/100\n",
      "1/1 [==============================] - 0s 4ms/step - loss: 16.2132 - mae: 16.2132\n",
      "Epoch 94/100\n",
      "1/1 [==============================] - 0s 4ms/step - loss: 16.2072 - mae: 16.2072\n",
      "Epoch 95/100\n",
      "1/1 [==============================] - 0s 3ms/step - loss: 16.2012 - mae: 16.2012\n",
      "Epoch 96/100\n",
      "1/1 [==============================] - 0s 3ms/step - loss: 16.1952 - mae: 16.1952\n",
      "Epoch 97/100\n",
      "1/1 [==============================] - 0s 3ms/step - loss: 16.1892 - mae: 16.1892\n",
      "Epoch 98/100\n",
      "1/1 [==============================] - 0s 3ms/step - loss: 16.1832 - mae: 16.1832\n",
      "Epoch 99/100\n",
      "1/1 [==============================] - 0s 3ms/step - loss: 16.1772 - mae: 16.1772\n",
      "Epoch 100/100\n",
      "1/1 [==============================] - 0s 3ms/step - loss: 16.1712 - mae: 16.1712\n"
     ]
    },
    {
     "data": {
      "text/plain": [
       "<keras.src.callbacks.History at 0x7f973825a6d0>"
      ]
     },
     "execution_count": 14,
     "metadata": {},
     "output_type": "execute_result"
    }
   ],
   "source": [
    "\n",
    "# Set random seed\n",
    "tf.random.set_seed(42)\n",
    "\n",
    "# Create a model (same as above)\n",
    "model = tf.keras.Sequential([\n",
    "  tf.keras.layers.Dense(1)\n",
    "])\n",
    "\n",
    "# Compile model (same as above)\n",
    "model.compile(loss=tf.keras.losses.mae,\n",
    "              optimizer=tf.keras.optimizers.Adam(),\n",
    "              metrics=[\"mae\"])\n",
    "\n",
    "# Fit model (this time we'll train for longer)\n",
    "model.fit(tf.expand_dims(X, axis=-1), y, epochs=100) "
   ]
  },
  {
   "cell_type": "code",
   "execution_count": 15,
   "id": "d5d774f6",
   "metadata": {},
   "outputs": [
    {
     "data": {
      "text/plain": [
       "(<tf.Tensor: shape=(8,), dtype=float32, numpy=array([-7., -4., -1.,  2.,  5.,  8., 11., 14.], dtype=float32)>,\n",
       " <tf.Tensor: shape=(8,), dtype=float32, numpy=array([ 3.,  6.,  9., 12., 15., 18., 21., 24.], dtype=float32)>)"
      ]
     },
     "execution_count": 15,
     "metadata": {},
     "output_type": "execute_result"
    }
   ],
   "source": [
    "# Remind ourselves of the data\n",
    "X, y"
   ]
  },
  {
   "cell_type": "code",
   "execution_count": 16,
   "id": "8a2163d3",
   "metadata": {},
   "outputs": [
    {
     "name": "stdout",
     "output_type": "stream",
     "text": [
      "1/1 [==============================] - 0s 42ms/step\n"
     ]
    },
    {
     "data": {
      "text/plain": [
       "array([[-11.201494]], dtype=float32)"
      ]
     },
     "execution_count": 16,
     "metadata": {},
     "output_type": "execute_result"
    }
   ],
   "source": [
    "# Let's see if our model's prediction has improved...\n",
    "model.predict([17.0])"
   ]
  },
  {
   "cell_type": "code",
   "execution_count": 17,
   "id": "8cbed0f4",
   "metadata": {},
   "outputs": [
    {
     "name": "stdout",
     "output_type": "stream",
     "text": [
      "Epoch 1/50\n",
      "1/1 [==============================] - 0s 345ms/step - loss: 13.6064 - mae: 13.6064\n",
      "Epoch 2/50\n",
      "1/1 [==============================] - 0s 4ms/step - loss: 12.6146 - mae: 12.6146\n",
      "Epoch 3/50\n",
      "1/1 [==============================] - 0s 5ms/step - loss: 11.6234 - mae: 11.6234\n",
      "Epoch 4/50\n",
      "1/1 [==============================] - 0s 4ms/step - loss: 10.6265 - mae: 10.6265\n",
      "Epoch 5/50\n",
      "1/1 [==============================] - 0s 4ms/step - loss: 9.6168 - mae: 9.6168\n",
      "Epoch 6/50\n",
      "1/1 [==============================] - 0s 3ms/step - loss: 8.5863 - mae: 8.5863\n",
      "Epoch 7/50\n",
      "1/1 [==============================] - 0s 5ms/step - loss: 7.5274 - mae: 7.5274\n",
      "Epoch 8/50\n",
      "1/1 [==============================] - 0s 4ms/step - loss: 6.7712 - mae: 6.7712\n",
      "Epoch 9/50\n",
      "1/1 [==============================] - 0s 4ms/step - loss: 7.1408 - mae: 7.1408\n",
      "Epoch 10/50\n",
      "1/1 [==============================] - 0s 5ms/step - loss: 7.6265 - mae: 7.6265\n",
      "Epoch 11/50\n",
      "1/1 [==============================] - 0s 3ms/step - loss: 7.8598 - mae: 7.8598\n",
      "Epoch 12/50\n",
      "1/1 [==============================] - 0s 5ms/step - loss: 7.7546 - mae: 7.7546\n",
      "Epoch 13/50\n",
      "1/1 [==============================] - 0s 6ms/step - loss: 7.4128 - mae: 7.4128\n",
      "Epoch 14/50\n",
      "1/1 [==============================] - 0s 4ms/step - loss: 6.9404 - mae: 6.9404\n",
      "Epoch 15/50\n",
      "1/1 [==============================] - 0s 5ms/step - loss: 6.5889 - mae: 6.5889\n",
      "Epoch 16/50\n",
      "1/1 [==============================] - 0s 4ms/step - loss: 6.2174 - mae: 6.2174\n",
      "Epoch 17/50\n",
      "1/1 [==============================] - 0s 4ms/step - loss: 6.0532 - mae: 6.0532\n",
      "Epoch 18/50\n",
      "1/1 [==============================] - 0s 4ms/step - loss: 6.0960 - mae: 6.0960\n",
      "Epoch 19/50\n",
      "1/1 [==============================] - 0s 4ms/step - loss: 6.2269 - mae: 6.2269\n",
      "Epoch 20/50\n",
      "1/1 [==============================] - 0s 4ms/step - loss: 6.2079 - mae: 6.2079\n",
      "Epoch 21/50\n",
      "1/1 [==============================] - 0s 4ms/step - loss: 6.0605 - mae: 6.0605\n",
      "Epoch 22/50\n",
      "1/1 [==============================] - 0s 4ms/step - loss: 5.7993 - mae: 5.7993\n",
      "Epoch 23/50\n",
      "1/1 [==============================] - 0s 4ms/step - loss: 5.4695 - mae: 5.4695\n",
      "Epoch 24/50\n",
      "1/1 [==============================] - 0s 4ms/step - loss: 5.3282 - mae: 5.3282\n",
      "Epoch 25/50\n",
      "1/1 [==============================] - 0s 5ms/step - loss: 5.1866 - mae: 5.1866\n",
      "Epoch 26/50\n",
      "1/1 [==============================] - 0s 4ms/step - loss: 5.1596 - mae: 5.1596\n",
      "Epoch 27/50\n",
      "1/1 [==============================] - 0s 4ms/step - loss: 5.0744 - mae: 5.0744\n",
      "Epoch 28/50\n",
      "1/1 [==============================] - 0s 5ms/step - loss: 4.9355 - mae: 4.9355\n",
      "Epoch 29/50\n",
      "1/1 [==============================] - 0s 5ms/step - loss: 4.7472 - mae: 4.7472\n",
      "Epoch 30/50\n",
      "1/1 [==============================] - 0s 4ms/step - loss: 4.5151 - mae: 4.5151\n",
      "Epoch 31/50\n",
      "1/1 [==============================] - 0s 5ms/step - loss: 4.3782 - mae: 4.3782\n",
      "Epoch 32/50\n",
      "1/1 [==============================] - 0s 4ms/step - loss: 4.2293 - mae: 4.2293\n",
      "Epoch 33/50\n",
      "1/1 [==============================] - 0s 3ms/step - loss: 4.0679 - mae: 4.0679\n",
      "Epoch 34/50\n",
      "1/1 [==============================] - 0s 4ms/step - loss: 3.8936 - mae: 3.8936\n",
      "Epoch 35/50\n",
      "1/1 [==============================] - 0s 4ms/step - loss: 3.7057 - mae: 3.7057\n",
      "Epoch 36/50\n",
      "1/1 [==============================] - 0s 4ms/step - loss: 3.5036 - mae: 3.5036\n",
      "Epoch 37/50\n",
      "1/1 [==============================] - 0s 5ms/step - loss: 3.2868 - mae: 3.2868\n",
      "Epoch 38/50\n",
      "1/1 [==============================] - 0s 4ms/step - loss: 3.0546 - mae: 3.0546\n",
      "Epoch 39/50\n",
      "1/1 [==============================] - 0s 4ms/step - loss: 2.8062 - mae: 2.8062\n",
      "Epoch 40/50\n",
      "1/1 [==============================] - 0s 5ms/step - loss: 2.5411 - mae: 2.5411\n",
      "Epoch 41/50\n",
      "1/1 [==============================] - 0s 4ms/step - loss: 2.2584 - mae: 2.2584\n",
      "Epoch 42/50\n",
      "1/1 [==============================] - 0s 4ms/step - loss: 1.9989 - mae: 1.9989\n",
      "Epoch 43/50\n",
      "1/1 [==============================] - 0s 4ms/step - loss: 1.6778 - mae: 1.6778\n",
      "Epoch 44/50\n",
      "1/1 [==============================] - 0s 3ms/step - loss: 1.3532 - mae: 1.3532\n",
      "Epoch 45/50\n",
      "1/1 [==============================] - 0s 4ms/step - loss: 1.1697 - mae: 1.1697\n",
      "Epoch 46/50\n",
      "1/1 [==============================] - 0s 3ms/step - loss: 0.7211 - mae: 0.7211\n",
      "Epoch 47/50\n",
      "1/1 [==============================] - 0s 4ms/step - loss: 0.5462 - mae: 0.5462\n",
      "Epoch 48/50\n",
      "1/1 [==============================] - 0s 4ms/step - loss: 0.3383 - mae: 0.3383\n",
      "Epoch 49/50\n",
      "1/1 [==============================] - 0s 4ms/step - loss: 0.5375 - mae: 0.5375\n",
      "Epoch 50/50\n",
      "1/1 [==============================] - 0s 4ms/step - loss: 0.8549 - mae: 0.8549\n"
     ]
    },
    {
     "data": {
      "text/plain": [
       "<keras.src.callbacks.History at 0x7f9733fb0f90>"
      ]
     },
     "execution_count": 17,
     "metadata": {},
     "output_type": "execute_result"
    }
   ],
   "source": [
    "model = tf.keras.Sequential([\n",
    "    tf.keras.layers.Dense(100, activation=None),\n",
    "    \n",
    "    tf.keras.layers.Dense(1)\n",
    "])\n",
    "\n",
    "# 2. Compile the model\n",
    "model.compile(loss=\"mae\",\n",
    "             optimizer=tf.keras.optimizers.Adam(learning_rate=0.01),\n",
    "             metrics=[\"mae\"])\n",
    "\n",
    "# 3. \n",
    "model.fit(tf.expand_dims(X, axis=-1), y, epochs=50) "
   ]
  },
  {
   "cell_type": "code",
   "execution_count": 18,
   "id": "029f7af3",
   "metadata": {},
   "outputs": [
    {
     "data": {
      "text/plain": [
       "(<tf.Tensor: shape=(8,), dtype=float32, numpy=array([-7., -4., -1.,  2.,  5.,  8., 11., 14.], dtype=float32)>,\n",
       " <tf.Tensor: shape=(8,), dtype=float32, numpy=array([ 3.,  6.,  9., 12., 15., 18., 21., 24.], dtype=float32)>)"
      ]
     },
     "execution_count": 18,
     "metadata": {},
     "output_type": "execute_result"
    }
   ],
   "source": [
    "# Let's remind ourselves of the data\n",
    "X, y"
   ]
  },
  {
   "cell_type": "code",
   "execution_count": 19,
   "id": "b5b5fff5",
   "metadata": {},
   "outputs": [
    {
     "data": {
      "text/plain": [
       "(1, 1)"
      ]
     },
     "execution_count": 19,
     "metadata": {},
     "output_type": "execute_result"
    }
   ],
   "source": [
    "X.ndim, y.ndim"
   ]
  },
  {
   "cell_type": "code",
   "execution_count": 20,
   "id": "83df6c50",
   "metadata": {},
   "outputs": [
    {
     "name": "stdout",
     "output_type": "stream",
     "text": [
      "1/1 [==============================] - 0s 43ms/step\n"
     ]
    },
    {
     "data": {
      "text/plain": [
       "array([[26.178616]], dtype=float32)"
      ]
     },
     "execution_count": 20,
     "metadata": {},
     "output_type": "execute_result"
    }
   ],
   "source": [
    "model.predict([17.0])"
   ]
  },
  {
   "cell_type": "code",
   "execution_count": 21,
   "id": "1ed6f1d1",
   "metadata": {},
   "outputs": [],
   "source": [
    "# Common ways to improve a deep model:\n",
    "# Adding layers\n",
    "# Increase the number of hidden units\n",
    "# Change the activation functions\n",
    "# Change the optimization function\n",
    "# Change the learning rate\n",
    "# Fitting on more data\n",
    "# Fitting for longer (more epochs)"
   ]
  },
  {
   "cell_type": "markdown",
   "id": "b32d03e2",
   "metadata": {},
   "source": [
    "# Evaluting a model\n",
    "\n",
    "**In practice, a typical workflow you'll go through when building neural netwroks:**\n",
    "\n",
    "**Build a model -> fit it -> evaluate it -> tweak a model->\n",
    "fit it -> evaluate it -> tweak a model -> \n",
    "fit it -> evaluate it ...**"
   ]
  },
  {
   "cell_type": "markdown",
   "id": "ad938106",
   "metadata": {},
   "source": [
    "When it comes to evaluation.. there are 3 words you should memorize:\n",
    "\n",
    "**Visualize, visualize, visualize**\n",
    "\n",
    "**It's good idea to visualize:**\n",
    "\n",
    "**The data**\n",
    "\n",
    "**The model itself**\n",
    "\n",
    "**The training of a model - how does a model perform while it learns?**\n",
    "\n",
    "**The predictions of the modle**"
   ]
  },
  {
   "cell_type": "code",
   "execution_count": 22,
   "id": "a1626f6a",
   "metadata": {},
   "outputs": [
    {
     "data": {
      "text/plain": [
       "<tf.Tensor: shape=(50,), dtype=int32, numpy=\n",
       "array([-100,  -96,  -92,  -88,  -84,  -80,  -76,  -72,  -68,  -64,  -60,\n",
       "        -56,  -52,  -48,  -44,  -40,  -36,  -32,  -28,  -24,  -20,  -16,\n",
       "        -12,   -8,   -4,    0,    4,    8,   12,   16,   20,   24,   28,\n",
       "         32,   36,   40,   44,   48,   52,   56,   60,   64,   68,   72,\n",
       "         76,   80,   84,   88,   92,   96], dtype=int32)>"
      ]
     },
     "execution_count": 22,
     "metadata": {},
     "output_type": "execute_result"
    }
   ],
   "source": [
    "# Make a bigger dataset\n",
    "X = tf.range(-100, 100, 4)\n",
    "X"
   ]
  },
  {
   "cell_type": "code",
   "execution_count": 23,
   "id": "03ab6f6e",
   "metadata": {},
   "outputs": [
    {
     "data": {
      "text/plain": [
       "<tf.Tensor: shape=(50,), dtype=int32, numpy=\n",
       "array([-90, -86, -82, -78, -74, -70, -66, -62, -58, -54, -50, -46, -42,\n",
       "       -38, -34, -30, -26, -22, -18, -14, -10,  -6,  -2,   2,   6,  10,\n",
       "        14,  18,  22,  26,  30,  34,  38,  42,  46,  50,  54,  58,  62,\n",
       "        66,  70,  74,  78,  82,  86,  90,  94,  98, 102, 106], dtype=int32)>"
      ]
     },
     "execution_count": 23,
     "metadata": {},
     "output_type": "execute_result"
    }
   ],
   "source": [
    "# Make labels for the dataset\n",
    "y = X + 10\n",
    "y"
   ]
  },
  {
   "cell_type": "code",
   "execution_count": 24,
   "id": "c4781120",
   "metadata": {},
   "outputs": [
    {
     "data": {
      "text/plain": [
       "<matplotlib.collections.PathCollection at 0x7f97381af290>"
      ]
     },
     "execution_count": 24,
     "metadata": {},
     "output_type": "execute_result"
    },
    {
     "data": {
      "image/png": "[encoded data removed]",
      "text/plain": [
       "<Figure size 640x480 with 1 Axes>"
      ]
     },
     "metadata": {},
     "output_type": "display_data"
    }
   ],
   "source": [
    "# Visualize the data\n",
    "import matplotlib.pyplot as plt\n",
    "\n",
    "plt.scatter(X, y)"
   ]
  },
  {
   "cell_type": "markdown",
   "id": "b9a47140",
   "metadata": {},
   "source": [
    "# The 3 sets...\n",
    "* **Training set** - the model learns from this data, which is typically 70-80% of the total data you have available.\n",
    "* **Validation set** - the model gets tuned on this data, which is typically 10-15% of the data available.\n",
    "* **Test set** - the model gets evaluated on this data to test what is has learned, this set is typically 10-15% of the total data availale."
   ]
  },
  {
   "cell_type": "markdown",
   "id": "7467526e",
   "metadata": {},
   "source": [
    "**Generalization** = The ability for a machine learning model to perform well on data it hasn't seen before"
   ]
  },
  {
   "cell_type": "code",
   "execution_count": 25,
   "id": "6898740d",
   "metadata": {},
   "outputs": [
    {
     "data": {
      "text/plain": [
       "50"
      ]
     },
     "execution_count": 25,
     "metadata": {},
     "output_type": "execute_result"
    }
   ],
   "source": [
    "# Check the length of how many samples we have\n",
    "len(X)"
   ]
  },
  {
   "cell_type": "code",
   "execution_count": 26,
   "id": "4f74ab91",
   "metadata": {},
   "outputs": [
    {
     "data": {
      "text/plain": [
       "(40, 40, 10, 10)"
      ]
     },
     "execution_count": 26,
     "metadata": {},
     "output_type": "execute_result"
    }
   ],
   "source": [
    "# Split the data into train and test sets\n",
    "X_train = X[:40]  # first 40 are training samples (80%) \n",
    "y_train = y[:40]\n",
    "\n",
    "X_test = X[40:]  # last 10 are testing samples (20%)\n",
    "y_test = y[40:]\n",
    "\n",
    "len(X_train), len(y_train), len(X_test), len(y_test)"
   ]
  },
  {
   "cell_type": "markdown",
   "id": "b9d488ad",
   "metadata": {},
   "source": [
    "### Visualizing the data\n",
    "Now we've got our data in training and test sets... let's visualize it again!"
   ]
  },
  {
   "cell_type": "code",
   "execution_count": 27,
   "id": "a7058c93",
   "metadata": {},
   "outputs": [
    {
     "data": {
      "image/png": "[encoded data removed]",
      "text/plain": [
       "<Figure size 1000x700 with 1 Axes>"
      ]
     },
     "metadata": {},
     "output_type": "display_data"
    }
   ],
   "source": [
    "plt.figure(figsize=(10, 7))\n",
    "# Plot training data in blue\n",
    "plt.scatter(X_train, y_train, c='b', label='Training data')\n",
    "# Plot test data in green\n",
    "plt.scatter(X_test, y_test, c='g', label='Testing data')\n",
    "# Show the legend\n",
    "plt.legend();"
   ]
  },
  {
   "cell_type": "code",
   "execution_count": 28,
   "id": "6750c43a",
   "metadata": {},
   "outputs": [],
   "source": [
    "# # Let's have a look at how to build a neural network for our data\n",
    "\n",
    "# # 1. Create a model\n",
    "# model = tf.keras.Sequential([\n",
    "#     tf.keras.layers.Dense(1, input_shape)\n",
    "# ])\n",
    "\n",
    "# # 2.Compile the model\n",
    "# model.compile(loss=tf.keras.losses.mae,\n",
    "#              optimizer=tf.keras.optimizers.SGD(),\n",
    "#              metrics=\"mae\")\n",
    "\n",
    "# # 3. Fit the model\n",
    "# model.fit(X_train, y_train, epochs=100)"
   ]
  },
  {
   "cell_type": "code",
   "execution_count": 29,
   "id": "c67d5f2b",
   "metadata": {},
   "outputs": [],
   "source": [
    "def reset_model():\n",
    "    # Clear the prevous session\n",
    "    tf.keras.backend.clear_session()"
   ]
  },
  {
   "cell_type": "markdown",
   "id": "47613636",
   "metadata": {},
   "source": [
    "# Visualizing"
   ]
  },
  {
   "cell_type": "code",
   "execution_count": 49,
   "id": "ccd8f92d",
   "metadata": {},
   "outputs": [],
   "source": [
    "reset_model()"
   ]
  },
  {
   "cell_type": "code",
   "execution_count": 59,
   "id": "456e8448",
   "metadata": {},
   "outputs": [],
   "source": [
    "# Let's create a model which builds automatically by defining the input_shape arguent in the first layer\n",
    "tf.random.set_seed(42)\n",
    "\n",
    "# 1. Create a model (same as above)\n",
    "model = tf.keras.Sequential([\n",
    "    tf.keras.layers.Dense(10, input_shape=[1], name=\"input_layer\"),\n",
    "    tf.keras.layers.Dense(1, name=\"output_layer\")\n",
    "], name=\"model_1\")\n",
    "\n",
    "# 2.Compile the model\n",
    "model.compile(loss=tf.keras.losses.mae,\n",
    "             optimizer=tf.keras.optimizers.SGD(),\n",
    "             metrics=[\"mae\"])"
   ]
  },
  {
   "cell_type": "code",
   "execution_count": 60,
   "id": "09cd5cba",
   "metadata": {},
   "outputs": [
    {
     "name": "stdout",
     "output_type": "stream",
     "text": [
      "Model: \"model_1\"\n",
      "_________________________________________________________________\n",
      " Layer (type)                Output Shape              Param #   \n",
      "=================================================================\n",
      " input_layer (Dense)         (None, 10)                20        \n",
      "                                                                 \n",
      " output_layer (Dense)        (None, 1)                 11        \n",
      "                                                                 \n",
      "=================================================================\n",
      "Total params: 31 (124.00 Byte)\n",
      "Trainable params: 31 (124.00 Byte)\n",
      "Non-trainable params: 0 (0.00 Byte)\n",
      "_________________________________________________________________\n"
     ]
    }
   ],
   "source": [
    "model.summary()"
   ]
  },
  {
   "cell_type": "markdown",
   "id": "de8f61ff",
   "metadata": {},
   "source": [
    "* Total params - total number of parameters in the model.\n",
    "* Trainable parameters - these are the parameters (patterns) the model can update as it trains.\n",
    "* Non-trainable params - these parameters aren't updated during training (this is typical when you bring in already learn patterns or parameters from other models during **transfer learning**).\n",
    "\n",
    "**Resource:** For a more in-depth overview of the trainable parameters whithin a layer, check out MIT's introduction to deep learning video.\n",
    "\n",
    "**Exercise:** Try playing around with the number ofidden units in the dense layer, see how that effects the number of parameters (total and trainable) by calling model.summar()."
   ]
  },
  {
   "cell_type": "markdown",
   "id": "8d22ac38",
   "metadata": {},
   "source": [
    " ### Let's fit our model to the training data"
   ]
  },
  {
   "cell_type": "code",
   "execution_count": 61,
   "id": "4ca671f3",
   "metadata": {},
   "outputs": [
    {
     "name": "stdout",
     "output_type": "stream",
     "text": [
      "Epoch 1/100\n",
      "2/2 [==============================] - 0s 6ms/step - loss: 46.2844 - mae: 46.2844\n",
      "Epoch 2/100\n",
      "2/2 [==============================] - 0s 3ms/step - loss: 25.6029 - mae: 25.6029\n",
      "Epoch 3/100\n",
      "2/2 [==============================] - 0s 5ms/step - loss: 29.4430 - mae: 29.4430\n",
      "Epoch 4/100\n",
      "2/2 [==============================] - 0s 4ms/step - loss: 16.3039 - mae: 16.3039\n",
      "Epoch 5/100\n",
      "2/2 [==============================] - 0s 6ms/step - loss: 22.6413 - mae: 22.6413\n",
      "Epoch 6/100\n",
      "2/2 [==============================] - 0s 4ms/step - loss: 10.7531 - mae: 10.7531\n",
      "Epoch 7/100\n",
      "2/2 [==============================] - 0s 5ms/step - loss: 11.7671 - mae: 11.7671\n",
      "Epoch 8/100\n",
      "2/2 [==============================] - 0s 3ms/step - loss: 12.1443 - mae: 12.1443\n",
      "Epoch 9/100\n",
      "2/2 [==============================] - 0s 8ms/step - loss: 38.1781 - mae: 38.1781\n",
      "Epoch 10/100\n",
      "2/2 [==============================] - 0s 2ms/step - loss: 25.7380 - mae: 25.7380\n",
      "Epoch 11/100\n",
      "2/2 [==============================] - 0s 3ms/step - loss: 10.2596 - mae: 10.2596\n",
      "Epoch 12/100\n",
      "2/2 [==============================] - 0s 3ms/step - loss: 25.2689 - mae: 25.2689\n",
      "Epoch 13/100\n",
      "2/2 [==============================] - 0s 3ms/step - loss: 17.0999 - mae: 17.0999\n",
      "Epoch 14/100\n",
      "2/2 [==============================] - 0s 3ms/step - loss: 26.1162 - mae: 26.1162\n",
      "Epoch 15/100\n",
      "2/2 [==============================] - 0s 3ms/step - loss: 18.1542 - mae: 18.1542\n",
      "Epoch 16/100\n",
      "2/2 [==============================] - 0s 4ms/step - loss: 7.8669 - mae: 7.8669\n",
      "Epoch 17/100\n",
      "2/2 [==============================] - 0s 2ms/step - loss: 22.2652 - mae: 22.2652\n",
      "Epoch 18/100\n",
      "2/2 [==============================] - 0s 3ms/step - loss: 10.8461 - mae: 10.8461\n",
      "Epoch 19/100\n",
      "2/2 [==============================] - 0s 3ms/step - loss: 10.7339 - mae: 10.7339\n",
      "Epoch 20/100\n",
      "2/2 [==============================] - 0s 3ms/step - loss: 12.0547 - mae: 12.0547\n",
      "Epoch 21/100\n",
      "2/2 [==============================] - 0s 6ms/step - loss: 20.1715 - mae: 20.1715\n",
      "Epoch 22/100\n",
      "2/2 [==============================] - 0s 3ms/step - loss: 13.8043 - mae: 13.8043\n",
      "Epoch 23/100\n",
      "2/2 [==============================] - 0s 7ms/step - loss: 9.5478 - mae: 9.5478\n",
      "Epoch 24/100\n",
      "2/2 [==============================] - 0s 2ms/step - loss: 11.9045 - mae: 11.9045\n",
      "Epoch 25/100\n",
      "2/2 [==============================] - 0s 3ms/step - loss: 16.2157 - mae: 16.2157\n",
      "Epoch 26/100\n",
      "2/2 [==============================] - 0s 3ms/step - loss: 16.4084 - mae: 16.4084\n",
      "Epoch 27/100\n",
      "2/2 [==============================] - 0s 3ms/step - loss: 11.5939 - mae: 11.5939\n",
      "Epoch 28/100\n",
      "2/2 [==============================] - 0s 3ms/step - loss: 29.9865 - mae: 29.9865\n",
      "Epoch 29/100\n",
      "2/2 [==============================] - 0s 3ms/step - loss: 9.2577 - mae: 9.2577\n",
      "Epoch 30/100\n",
      "2/2 [==============================] - 0s 5ms/step - loss: 30.5300 - mae: 30.5300\n",
      "Epoch 31/100\n",
      "2/2 [==============================] - 0s 5ms/step - loss: 55.4996 - mae: 55.4996\n",
      "Epoch 32/100\n",
      "2/2 [==============================] - 0s 4ms/step - loss: 9.7344 - mae: 9.7344\n",
      "Epoch 33/100\n",
      "2/2 [==============================] - 0s 6ms/step - loss: 12.3525 - mae: 12.3525\n",
      "Epoch 34/100\n",
      "2/2 [==============================] - 0s 5ms/step - loss: 24.6940 - mae: 24.6940\n",
      "Epoch 35/100\n",
      "2/2 [==============================] - 0s 5ms/step - loss: 11.9248 - mae: 11.9248\n",
      "Epoch 36/100\n",
      "2/2 [==============================] - 0s 5ms/step - loss: 22.1075 - mae: 22.1075\n",
      "Epoch 37/100\n",
      "2/2 [==============================] - 0s 6ms/step - loss: 17.5563 - mae: 17.5563\n",
      "Epoch 38/100\n",
      "2/2 [==============================] - 0s 5ms/step - loss: 10.7319 - mae: 10.7319\n",
      "Epoch 39/100\n",
      "2/2 [==============================] - 0s 8ms/step - loss: 11.2482 - mae: 11.2482\n",
      "Epoch 40/100\n",
      "2/2 [==============================] - 0s 5ms/step - loss: 18.2135 - mae: 18.2135\n",
      "Epoch 41/100\n",
      "2/2 [==============================] - 0s 9ms/step - loss: 10.4953 - mae: 10.4953\n",
      "Epoch 42/100\n",
      "2/2 [==============================] - 0s 10ms/step - loss: 7.8468 - mae: 7.8468\n",
      "Epoch 43/100\n",
      "2/2 [==============================] - 0s 4ms/step - loss: 14.2064 - mae: 14.2064\n",
      "Epoch 44/100\n",
      "2/2 [==============================] - 0s 6ms/step - loss: 24.9524 - mae: 24.9524\n",
      "Epoch 45/100\n",
      "2/2 [==============================] - 0s 5ms/step - loss: 10.9562 - mae: 10.9562\n",
      "Epoch 46/100\n",
      "2/2 [==============================] - 0s 3ms/step - loss: 13.0494 - mae: 13.0494\n",
      "Epoch 47/100\n",
      "2/2 [==============================] - 0s 3ms/step - loss: 10.4403 - mae: 10.4403\n",
      "Epoch 48/100\n",
      "2/2 [==============================] - 0s 5ms/step - loss: 17.1588 - mae: 17.1588\n",
      "Epoch 49/100\n",
      "2/2 [==============================] - 0s 3ms/step - loss: 9.6289 - mae: 9.6289\n",
      "Epoch 50/100\n",
      "2/2 [==============================] - 0s 4ms/step - loss: 13.9134 - mae: 13.9134\n",
      "Epoch 51/100\n",
      "2/2 [==============================] - 0s 5ms/step - loss: 11.6352 - mae: 11.6352\n",
      "Epoch 52/100\n",
      "2/2 [==============================] - 0s 4ms/step - loss: 30.7729 - mae: 30.7729\n",
      "Epoch 53/100\n",
      "2/2 [==============================] - 0s 9ms/step - loss: 14.4525 - mae: 14.4525\n",
      "Epoch 54/100\n",
      "2/2 [==============================] - 0s 6ms/step - loss: 24.1407 - mae: 24.1407\n",
      "Epoch 55/100\n",
      "2/2 [==============================] - 0s 5ms/step - loss: 23.3796 - mae: 23.3796\n",
      "Epoch 56/100\n",
      "2/2 [==============================] - 0s 3ms/step - loss: 10.9482 - mae: 10.9482\n",
      "Epoch 57/100\n",
      "2/2 [==============================] - 0s 6ms/step - loss: 12.8294 - mae: 12.8294\n",
      "Epoch 58/100\n",
      "2/2 [==============================] - 0s 3ms/step - loss: 9.6489 - mae: 9.6489\n",
      "Epoch 59/100\n",
      "2/2 [==============================] - 0s 11ms/step - loss: 12.9889 - mae: 12.9889\n",
      "Epoch 60/100\n",
      "2/2 [==============================] - 0s 3ms/step - loss: 10.6842 - mae: 10.6842\n",
      "Epoch 61/100\n",
      "2/2 [==============================] - 0s 4ms/step - loss: 17.4326 - mae: 17.4326\n",
      "Epoch 62/100\n",
      "2/2 [==============================] - 0s 3ms/step - loss: 10.5970 - mae: 10.5970\n",
      "Epoch 63/100\n",
      "2/2 [==============================] - 0s 4ms/step - loss: 10.4853 - mae: 10.4853\n",
      "Epoch 64/100\n",
      "2/2 [==============================] - 0s 3ms/step - loss: 24.8011 - mae: 24.8011\n",
      "Epoch 65/100\n",
      "2/2 [==============================] - 0s 4ms/step - loss: 10.6714 - mae: 10.6714\n",
      "Epoch 66/100\n",
      "2/2 [==============================] - 0s 3ms/step - loss: 21.7412 - mae: 21.7412\n",
      "Epoch 67/100\n",
      "2/2 [==============================] - 0s 3ms/step - loss: 10.7046 - mae: 10.7046\n",
      "Epoch 68/100\n",
      "2/2 [==============================] - 0s 4ms/step - loss: 10.6341 - mae: 10.6341\n",
      "Epoch 69/100\n",
      "2/2 [==============================] - 0s 3ms/step - loss: 22.6386 - mae: 22.6386\n",
      "Epoch 70/100\n",
      "2/2 [==============================] - 0s 12ms/step - loss: 9.3448 - mae: 9.3448\n",
      "Epoch 71/100\n",
      "2/2 [==============================] - 0s 4ms/step - loss: 15.4560 - mae: 15.4560\n",
      "Epoch 72/100\n",
      "2/2 [==============================] - 0s 3ms/step - loss: 7.0210 - mae: 7.0210\n",
      "Epoch 73/100\n",
      "2/2 [==============================] - 0s 6ms/step - loss: 12.2181 - mae: 12.2181\n",
      "Epoch 74/100\n",
      "2/2 [==============================] - 0s 3ms/step - loss: 17.3612 - mae: 17.3612\n",
      "Epoch 75/100\n",
      "2/2 [==============================] - 0s 5ms/step - loss: 7.2233 - mae: 7.2233\n",
      "Epoch 76/100\n",
      "2/2 [==============================] - 0s 4ms/step - loss: 9.4603 - mae: 9.4603\n",
      "Epoch 77/100\n",
      "2/2 [==============================] - 0s 10ms/step - loss: 22.1896 - mae: 22.1896\n",
      "Epoch 78/100\n",
      "2/2 [==============================] - 0s 7ms/step - loss: 17.4485 - mae: 17.4485\n",
      "Epoch 79/100\n",
      "2/2 [==============================] - 0s 3ms/step - loss: 14.6931 - mae: 14.6931\n",
      "Epoch 80/100\n",
      "2/2 [==============================] - 0s 4ms/step - loss: 24.6963 - mae: 24.6963\n",
      "Epoch 81/100\n",
      "2/2 [==============================] - 0s 7ms/step - loss: 11.5402 - mae: 11.5402\n",
      "Epoch 82/100\n",
      "2/2 [==============================] - 0s 3ms/step - loss: 12.3975 - mae: 12.3975\n",
      "Epoch 83/100\n",
      "2/2 [==============================] - 0s 7ms/step - loss: 17.0501 - mae: 17.0501\n",
      "Epoch 84/100\n",
      "2/2 [==============================] - 0s 3ms/step - loss: 7.2478 - mae: 7.2478\n",
      "Epoch 85/100\n",
      "2/2 [==============================] - 0s 4ms/step - loss: 37.3702 - mae: 37.3702\n",
      "Epoch 86/100\n",
      "2/2 [==============================] - 0s 3ms/step - loss: 21.3372 - mae: 21.3372\n",
      "Epoch 87/100\n"
     ]
    },
    {
     "name": "stdout",
     "output_type": "stream",
     "text": [
      "2/2 [==============================] - 0s 3ms/step - loss: 11.0646 - mae: 11.0646\n",
      "Epoch 88/100\n",
      "2/2 [==============================] - 0s 5ms/step - loss: 25.2113 - mae: 25.2113\n",
      "Epoch 89/100\n",
      "2/2 [==============================] - 0s 3ms/step - loss: 9.3917 - mae: 9.3917\n",
      "Epoch 90/100\n",
      "2/2 [==============================] - 0s 10ms/step - loss: 17.4716 - mae: 17.4716\n",
      "Epoch 91/100\n",
      "2/2 [==============================] - 0s 3ms/step - loss: 10.8402 - mae: 10.8402\n",
      "Epoch 92/100\n",
      "2/2 [==============================] - 0s 6ms/step - loss: 19.1613 - mae: 19.1613\n",
      "Epoch 93/100\n",
      "2/2 [==============================] - 0s 3ms/step - loss: 8.3499 - mae: 8.3499\n",
      "Epoch 94/100\n",
      "2/2 [==============================] - 0s 5ms/step - loss: 11.5947 - mae: 11.5947\n",
      "Epoch 95/100\n",
      "2/2 [==============================] - 0s 3ms/step - loss: 26.2082 - mae: 26.2082\n",
      "Epoch 96/100\n",
      "2/2 [==============================] - 0s 4ms/step - loss: 11.2236 - mae: 11.2236\n",
      "Epoch 97/100\n",
      "2/2 [==============================] - 0s 3ms/step - loss: 16.8513 - mae: 16.8513\n",
      "Epoch 98/100\n",
      "2/2 [==============================] - 0s 6ms/step - loss: 6.5994 - mae: 6.5994\n",
      "Epoch 99/100\n",
      "2/2 [==============================] - 0s 4ms/step - loss: 12.5959 - mae: 12.5959\n",
      "Epoch 100/100\n",
      "2/2 [==============================] - 0s 3ms/step - loss: 19.3947 - mae: 19.3947\n"
     ]
    },
    {
     "data": {
      "text/plain": [
       "<keras.src.callbacks.History at 0x7f96e4d14dd0>"
      ]
     },
     "execution_count": 61,
     "metadata": {},
     "output_type": "execute_result"
    }
   ],
   "source": [
    " model.fit(X_train, y_train, epochs=100, verbose=1)"
   ]
  },
  {
   "cell_type": "code",
   "execution_count": 62,
   "id": "5656911d",
   "metadata": {},
   "outputs": [
    {
     "name": "stdout",
     "output_type": "stream",
     "text": [
      "Model: \"model_1\"\n",
      "_________________________________________________________________\n",
      " Layer (type)                Output Shape              Param #   \n",
      "=================================================================\n",
      " input_layer (Dense)         (None, 10)                20        \n",
      "                                                                 \n",
      " output_layer (Dense)        (None, 1)                 11        \n",
      "                                                                 \n",
      "=================================================================\n",
      "Total params: 31 (124.00 Byte)\n",
      "Trainable params: 31 (124.00 Byte)\n",
      "Non-trainable params: 0 (0.00 Byte)\n",
      "_________________________________________________________________\n"
     ]
    }
   ],
   "source": [
    "model.summary()"
   ]
  },
  {
   "cell_type": "code",
   "execution_count": 63,
   "id": "497c80ff",
   "metadata": {},
   "outputs": [
    {
     "data": {
      "image/png": "[encoded data removed]",
      "text/plain": [
       "<IPython.core.display.Image object>"
      ]
     },
     "execution_count": 63,
     "metadata": {},
     "output_type": "execute_result"
    }
   ],
   "source": [
    "from tensorflow.keras.utils import plot_model\n",
    "\n",
    "# Plot the model\n",
    "plot_model(model=model, show_shapes=True)"
   ]
  },
  {
   "cell_type": "code",
   "execution_count": 55,
   "id": "45c2d7cd",
   "metadata": {},
   "outputs": [
    {
     "name": "stdout",
     "output_type": "stream",
     "text": [
      "Model: \"sequential\"\n",
      "_________________________________________________________________\n",
      " Layer (type)                Output Shape              Param #   \n",
      "=================================================================\n",
      " dense (Dense)               (None, 10)                20        \n",
      "                                                                 \n",
      "=================================================================\n",
      "Total params: 20 (80.00 Byte)\n",
      "Trainable params: 20 (80.00 Byte)\n",
      "Non-trainable params: 0 (0.00 Byte)\n",
      "_________________________________________________________________\n"
     ]
    }
   ],
   "source": [
    "model.summary()"
   ]
  },
  {
   "cell_type": "markdown",
   "id": "ccaa5248",
   "metadata": {},
   "source": [
    "### Visualizing our model predictions\n",
    "To visualize predictions, it's a good idea to plot them against the groud truth labels.\n",
    "\n",
    "Often you'll see this in the form of y_test or y_true versus y_pred"
   ]
  },
  {
   "cell_type": "code",
   "execution_count": 64,
   "id": "dceb00cd",
   "metadata": {},
   "outputs": [
    {
     "name": "stdout",
     "output_type": "stream",
     "text": [
      "1/1 [==============================] - 0s 48ms/step\n"
     ]
    },
    {
     "data": {
      "text/plain": [
       "array([[ 78.3415  ],\n",
       "       [ 83.44763 ],\n",
       "       [ 88.55375 ],\n",
       "       [ 93.65987 ],\n",
       "       [ 98.76598 ],\n",
       "       [103.872116],\n",
       "       [108.97824 ],\n",
       "       [114.084366],\n",
       "       [119.19048 ],\n",
       "       [124.29659 ]], dtype=float32)"
      ]
     },
     "execution_count": 64,
     "metadata": {},
     "output_type": "execute_result"
    }
   ],
   "source": [
    "# MAke some predicitons\n",
    "y_pred = model.predict(X_test)\n",
    "y_pred"
   ]
  },
  {
   "cell_type": "code",
   "execution_count": 65,
   "id": "97ffdc90",
   "metadata": {},
   "outputs": [
    {
     "data": {
      "text/plain": [
       "<tf.Tensor: shape=(10,), dtype=int32, numpy=array([ 70,  74,  78,  82,  86,  90,  94,  98, 102, 106], dtype=int32)>"
      ]
     },
     "execution_count": 65,
     "metadata": {},
     "output_type": "execute_result"
    }
   ],
   "source": [
    "y_test"
   ]
  },
  {
   "cell_type": "code",
   "execution_count": 70,
   "id": "6090f679",
   "metadata": {},
   "outputs": [],
   "source": [
    "# Let's create a plotting function\n",
    "def plot_predictions(train_data=X_train,\n",
    "                    train_labels=y_train,\n",
    "                    test_data=X_test,\n",
    "                    test_labels=y_test,\n",
    "                    predictions=y_pred):\n",
    "    \"\"\"\n",
    "    Plots training data, test data and compares predictions to ground truth\n",
    "    \"\"\"\n",
    "    plt.figure(figsize=(10, 7))\n",
    "    # Plot training data in blue\n",
    "    plt.scatter(train_data, train_labels, c=\"b\", label=\"Training data\")\n",
    "    # Plot testing data in green\n",
    "    plt.scatter(test_data, test_labels, c=\"g\", label=\"Testing data\")\n",
    "    # PLot model's predicting in red\n",
    "    plt.scatter(test_data, predictions, c=\"r\", label=\"Predictions\")\n",
    "    # Show the legend\n",
    "    plt.legend();"
   ]
  },
  {
   "cell_type": "code",
   "execution_count": 72,
   "id": "1c4f35f8",
   "metadata": {},
   "outputs": [
    {
     "data": {
      "image/png": "[encoded data removed]",
      "text/plain": [
       "<Figure size 1000x700 with 1 Axes>"
      ]
     },
     "metadata": {},
     "output_type": "display_data"
    }
   ],
   "source": [
    "plot_predictions(train_data=X_train,\n",
    "                train_labels=y_train,\n",
    "                test_data=X_test,\n",
    "                test_labels=y_test,\n",
    "                predictions=y_pred)"
   ]
  },
  {
   "cell_type": "markdown",
   "id": "a7709193",
   "metadata": {},
   "source": [
    "### Evaluting our model's predictions with regression evaluation metrics\n",
    "\n",
    "Depending on the problem you're working on, there will be different evaluation metrics to evaluate your model's performance.\n",
    "\n",
    "Since we're working on a regression, two of the main metrics:\n",
    "* MAE - mean absolute error, \"on average, how rong is each of my model's predictions\"\n",
    "* MSE - mean square, \"square the average errors:"
   ]
  },
  {
   "cell_type": "code",
   "execution_count": null,
   "id": "a54d9650",
   "metadata": {},
   "outputs": [],
   "source": [
    " "
   ]
  }
 ],
 "metadata": {
  "kernelspec": {
   "display_name": "Python 3 (ipykernel)",
   "language": "python",
   "name": "python3"
  },
  "language_info": {
   "codemirror_mode": {
    "name": "ipython",
    "version": 3
   },
   "file_extension": ".py",
   "mimetype": "text/x-python",
   "name": "python",
   "nbconvert_exporter": "python",
   "pygments_lexer": "ipython3",
   "version": "3.11.5"
  }
 },
 "nbformat": 4,
 "nbformat_minor": 5
}
