{
 "cells": [
  {
   "cell_type": "markdown",
   "id": "f1d56c01",
   "metadata": {
    "colab_type": "text",
    "id": "view-in-github"
   },
   "source": [
    "<a href=\"https://colab.research.google.com/github/KajetanFrackowiak/tensorflow_fundamentals/blob/main/Copy_of_08_introduction_to_nlp_in_tensorflow_video.ipynb\" target=\"_parent\"><img src=\"https://colab.research.google.com/assets/colab-badge.svg\" alt=\"Open In Colab\"/></a>"
   ]
  },
  {
   "cell_type": "code",
   "execution_count": null,
   "id": "e4db1252-2cd5-459d-bade-8ab3c306e993",
   "metadata": {
    "colab": {
     "base_uri": "https://localhost:8080/"
    },
    "id": "e4db1252-2cd5-459d-bade-8ab3c306e993",
    "outputId": "6d2645bf-6f42-4196-bf45-5b0500c6309a"
   },
   "outputs": [
    {
     "name": "stdout",
     "output_type": "stream",
     "text": [
      "GPU 0: Tesla T4 (UUID: GPU-8b99a8b8-a54b-d30e-127f-1c2c1d92328e)\n"
     ]
    }
   ],
   "source": [
    "!nvidia-smi -L"
   ]
  },
  {
   "cell_type": "markdown",
   "id": "e9e9e12a-3fa7-4394-9164-0e4104848d18",
   "metadata": {
    "id": "e9e9e12a-3fa7-4394-9164-0e4104848d18"
   },
   "source": [
    "## Get a text dataset"
   ]
  },
  {
   "cell_type": "code",
   "execution_count": null,
   "id": "009ca7fd-df51-4b3a-9e18-a686a2b8c75e",
   "metadata": {
    "id": "009ca7fd-df51-4b3a-9e18-a686a2b8c75e"
   },
   "outputs": [],
   "source": [
    "import zipfile\n",
    "\n",
    "def unzip_data(filename):\n",
    "    zip_ref = zipfile.ZipFile(filename, \"r\")\n",
    "    zip_ref.extractall()\n",
    "    zip_ref.close()"
   ]
  },
  {
   "cell_type": "code",
   "execution_count": null,
   "id": "59048dd6-35dc-4b8f-9ad2-780ab9825b7c",
   "metadata": {
    "colab": {
     "base_uri": "https://localhost:8080/"
    },
    "id": "59048dd6-35dc-4b8f-9ad2-780ab9825b7c",
    "outputId": "bd3b39f3-f71c-45ae-ea7b-60d5dfbc7d29"
   },
   "outputs": [
    {
     "name": "stdout",
     "output_type": "stream",
     "text": [
      "--2024-04-16 09:11:32--  https://storage.googleapis.com/ztm_tf_course/nlp_getting_started.zip\n",
      "Resolving storage.googleapis.com (storage.googleapis.com)... 74.125.200.207, 74.125.130.207, 74.125.68.207, ...\n",
      "Connecting to storage.googleapis.com (storage.googleapis.com)|74.125.200.207|:443... connected.\n",
      "HTTP request sent, awaiting response... 200 OK\n",
      "Length: 607343 (593K) [application/zip]\n",
      "Saving to: ‘nlp_getting_started.zip’\n",
      "\n",
      "nlp_getting_started 100%[===================>] 593.11K   752KB/s    in 0.8s    \n",
      "\n",
      "2024-04-16 09:11:33 (752 KB/s) - ‘nlp_getting_started.zip’ saved [607343/607343]\n",
      "\n"
     ]
    }
   ],
   "source": [
    "!wget https://storage.googleapis.com/ztm_tf_course/nlp_getting_started.zip\n",
    "\n",
    "unzip_data(\"nlp_getting_started.zip\")"
   ]
  },
  {
   "cell_type": "markdown",
   "id": "05f95857-9c25-492a-9c24-67adb7552acc",
   "metadata": {
    "id": "05f95857-9c25-492a-9c24-67adb7552acc"
   },
   "source": [
    "## Visualizing a text dataset"
   ]
  },
  {
   "cell_type": "code",
   "execution_count": null,
   "id": "151a00cf-259a-49d0-a01b-4da9aea2eb16",
   "metadata": {
    "colab": {
     "base_uri": "https://localhost:8080/",
     "height": 206
    },
    "id": "151a00cf-259a-49d0-a01b-4da9aea2eb16",
    "outputId": "2d07610c-82d2-443b-a550-ecb1803c6ad3"
   },
   "outputs": [
    {
     "data": {
      "application/vnd.google.colaboratory.intrinsic+json": {
       "summary": "{\n  \"name\": \"train_df\",\n  \"rows\": 7613,\n  \"fields\": [\n    {\n      \"column\": \"id\",\n      \"properties\": {\n        \"dtype\": \"number\",\n        \"std\": 3137,\n        \"min\": 1,\n        \"max\": 10873,\n        \"num_unique_values\": 7613,\n        \"samples\": [\n          3796,\n          3185,\n          7769\n        ],\n        \"semantic_type\": \"\",\n        \"description\": \"\"\n      }\n    },\n    {\n      \"column\": \"keyword\",\n      \"properties\": {\n        \"dtype\": \"category\",\n        \"num_unique_values\": 221,\n        \"samples\": [\n          \"injury\",\n          \"nuclear%20reactor\",\n          \"engulfed\"\n        ],\n        \"semantic_type\": \"\",\n        \"description\": \"\"\n      }\n    },\n    {\n      \"column\": \"location\",\n      \"properties\": {\n        \"dtype\": \"category\",\n        \"num_unique_values\": 3341,\n        \"samples\": [\n          \"Oklahoma\",\n          \"Starling City\",\n          \"Trinidad and Tobago\"\n        ],\n        \"semantic_type\": \"\",\n        \"description\": \"\"\n      }\n    },\n    {\n      \"column\": \"text\",\n      \"properties\": {\n        \"dtype\": \"string\",\n        \"num_unique_values\": 7503,\n        \"samples\": [\n          \"Three Homes Demolished in Unrecognized Arab Village - International Middle East Media Center http://t.co/ik8m4Yi9T4\",\n          \"Reid Lake fire prompts campground evacuation order http://t.co/jBODKM6rBU\",\n          \"FAAN orders evacuation of abandoned aircraft at MMA http://t.co/dEvYbnVXGQ via @todayng\"\n        ],\n        \"semantic_type\": \"\",\n        \"description\": \"\"\n      }\n    },\n    {\n      \"column\": \"target\",\n      \"properties\": {\n        \"dtype\": \"number\",\n        \"std\": 0,\n        \"min\": 0,\n        \"max\": 1,\n        \"num_unique_values\": 2,\n        \"samples\": [\n          0,\n          1\n        ],\n        \"semantic_type\": \"\",\n        \"description\": \"\"\n      }\n    }\n  ]\n}",
       "type": "dataframe",
       "variable_name": "train_df"
      },
      "text/html": [
       "\n",
       "  <div id=\"df-3f11d5df-2d75-4dd0-b2e3-4e2d21865614\" class=\"colab-df-container\">\n",
       "    <div>\n",
       "<style scoped>\n",
       "    .dataframe tbody tr th:only-of-type {\n",
       "        vertical-align: middle;\n",
       "    }\n",
       "\n",
       "    .dataframe tbody tr th {\n",
       "        vertical-align: top;\n",
       "    }\n",
       "\n",
       "    .dataframe thead th {\n",
       "        text-align: right;\n",
       "    }\n",
       "</style>\n",
       "<table border=\"1\" class=\"dataframe\">\n",
       "  <thead>\n",
       "    <tr style=\"text-align: right;\">\n",
       "      <th></th>\n",
       "      <th>id</th>\n",
       "      <th>keyword</th>\n",
       "      <th>location</th>\n",
       "      <th>text</th>\n",
       "      <th>target</th>\n",
       "    </tr>\n",
       "  </thead>\n",
       "  <tbody>\n",
       "    <tr>\n",
       "      <th>0</th>\n",
       "      <td>1</td>\n",
       "      <td>NaN</td>\n",
       "      <td>NaN</td>\n",
       "      <td>Our Deeds are the Reason of this #earthquake M...</td>\n",
       "      <td>1</td>\n",
       "    </tr>\n",
       "    <tr>\n",
       "      <th>1</th>\n",
       "      <td>4</td>\n",
       "      <td>NaN</td>\n",
       "      <td>NaN</td>\n",
       "      <td>Forest fire near La Ronge Sask. Canada</td>\n",
       "      <td>1</td>\n",
       "    </tr>\n",
       "    <tr>\n",
       "      <th>2</th>\n",
       "      <td>5</td>\n",
       "      <td>NaN</td>\n",
       "      <td>NaN</td>\n",
       "      <td>All residents asked to 'shelter in place' are ...</td>\n",
       "      <td>1</td>\n",
       "    </tr>\n",
       "    <tr>\n",
       "      <th>3</th>\n",
       "      <td>6</td>\n",
       "      <td>NaN</td>\n",
       "      <td>NaN</td>\n",
       "      <td>13,000 people receive #wildfires evacuation or...</td>\n",
       "      <td>1</td>\n",
       "    </tr>\n",
       "    <tr>\n",
       "      <th>4</th>\n",
       "      <td>7</td>\n",
       "      <td>NaN</td>\n",
       "      <td>NaN</td>\n",
       "      <td>Just got sent this photo from Ruby #Alaska as ...</td>\n",
       "      <td>1</td>\n",
       "    </tr>\n",
       "  </tbody>\n",
       "</table>\n",
       "</div>\n",
       "    <div class=\"colab-df-buttons\">\n",
       "\n",
       "  <div class=\"colab-df-container\">\n",
       "    <button class=\"colab-df-convert\" onclick=\"convertToInteractive('df-3f11d5df-2d75-4dd0-b2e3-4e2d21865614')\"\n",
       "            title=\"Convert this dataframe to an interactive table.\"\n",
       "            style=\"display:none;\">\n",
       "\n",
       "  <svg xmlns=\"http://www.w3.org/2000/svg\" height=\"24px\" viewBox=\"0 -960 960 960\">\n",
       "    <path d=\"M120-120v-720h720v720H120Zm60-500h600v-160H180v160Zm220 220h160v-160H400v160Zm0 220h160v-160H400v160ZM180-400h160v-160H180v160Zm440 0h160v-160H620v160ZM180-180h160v-160H180v160Zm440 0h160v-160H620v160Z\"/>\n",
       "  </svg>\n",
       "    </button>\n",
       "\n",
       "  <style>\n",
       "    .colab-df-container {\n",
       "      display:flex;\n",
       "      gap: 12px;\n",
       "    }\n",
       "\n",
       "    .colab-df-convert {\n",
       "      background-color: #E8F0FE;\n",
       "      border: none;\n",
       "      border-radius: 50%;\n",
       "      cursor: pointer;\n",
       "      display: none;\n",
       "      fill: #1967D2;\n",
       "      height: 32px;\n",
       "      padding: 0 0 0 0;\n",
       "      width: 32px;\n",
       "    }\n",
       "\n",
       "    .colab-df-convert:hover {\n",
       "      background-color: #E2EBFA;\n",
       "      box-shadow: 0px 1px 2px rgba(60, 64, 67, 0.3), 0px 1px 3px 1px rgba(60, 64, 67, 0.15);\n",
       "      fill: #174EA6;\n",
       "    }\n",
       "\n",
       "    .colab-df-buttons div {\n",
       "      margin-bottom: 4px;\n",
       "    }\n",
       "\n",
       "    [theme=dark] .colab-df-convert {\n",
       "      background-color: #3B4455;\n",
       "      fill: #D2E3FC;\n",
       "    }\n",
       "\n",
       "    [theme=dark] .colab-df-convert:hover {\n",
       "      background-color: #434B5C;\n",
       "      box-shadow: 0px 1px 3px 1px rgba(0, 0, 0, 0.15);\n",
       "      filter: drop-shadow(0px 1px 2px rgba(0, 0, 0, 0.3));\n",
       "      fill: #FFFFFF;\n",
       "    }\n",
       "  </style>\n",
       "\n",
       "    <script>\n",
       "      const buttonEl =\n",
       "        document.querySelector('#df-3f11d5df-2d75-4dd0-b2e3-4e2d21865614 button.colab-df-convert');\n",
       "      buttonEl.style.display =\n",
       "        google.colab.kernel.accessAllowed ? 'block' : 'none';\n",
       "\n",
       "      async function convertToInteractive(key) {\n",
       "        const element = document.querySelector('#df-3f11d5df-2d75-4dd0-b2e3-4e2d21865614');\n",
       "        const dataTable =\n",
       "          await google.colab.kernel.invokeFunction('convertToInteractive',\n",
       "                                                    [key], {});\n",
       "        if (!dataTable) return;\n",
       "\n",
       "        const docLinkHtml = 'Like what you see? Visit the ' +\n",
       "          '<a target=\"_blank\" href=https://colab.research.google.com/notebooks/data_table.ipynb>data table notebook</a>'\n",
       "          + ' to learn more about interactive tables.';\n",
       "        element.innerHTML = '';\n",
       "        dataTable['output_type'] = 'display_data';\n",
       "        await google.colab.output.renderOutput(dataTable, element);\n",
       "        const docLink = document.createElement('div');\n",
       "        docLink.innerHTML = docLinkHtml;\n",
       "        element.appendChild(docLink);\n",
       "      }\n",
       "    </script>\n",
       "  </div>\n",
       "\n",
       "\n",
       "<div id=\"df-455113d0-d073-42bc-a2fc-2a92f420d89e\">\n",
       "  <button class=\"colab-df-quickchart\" onclick=\"quickchart('df-455113d0-d073-42bc-a2fc-2a92f420d89e')\"\n",
       "            title=\"Suggest charts\"\n",
       "            style=\"display:none;\">\n",
       "\n",
       "<svg xmlns=\"http://www.w3.org/2000/svg\" height=\"24px\"viewBox=\"0 0 24 24\"\n",
       "     width=\"24px\">\n",
       "    <g>\n",
       "        <path d=\"M19 3H5c-1.1 0-2 .9-2 2v14c0 1.1.9 2 2 2h14c1.1 0 2-.9 2-2V5c0-1.1-.9-2-2-2zM9 17H7v-7h2v7zm4 0h-2V7h2v10zm4 0h-2v-4h2v4z\"/>\n",
       "    </g>\n",
       "</svg>\n",
       "  </button>\n",
       "\n",
       "<style>\n",
       "  .colab-df-quickchart {\n",
       "      --bg-color: #E8F0FE;\n",
       "      --fill-color: #1967D2;\n",
       "      --hover-bg-color: #E2EBFA;\n",
       "      --hover-fill-color: #174EA6;\n",
       "      --disabled-fill-color: #AAA;\n",
       "      --disabled-bg-color: #DDD;\n",
       "  }\n",
       "\n",
       "  [theme=dark] .colab-df-quickchart {\n",
       "      --bg-color: #3B4455;\n",
       "      --fill-color: #D2E3FC;\n",
       "      --hover-bg-color: #434B5C;\n",
       "      --hover-fill-color: #FFFFFF;\n",
       "      --disabled-bg-color: #3B4455;\n",
       "      --disabled-fill-color: #666;\n",
       "  }\n",
       "\n",
       "  .colab-df-quickchart {\n",
       "    background-color: var(--bg-color);\n",
       "    border: none;\n",
       "    border-radius: 50%;\n",
       "    cursor: pointer;\n",
       "    display: none;\n",
       "    fill: var(--fill-color);\n",
       "    height: 32px;\n",
       "    padding: 0;\n",
       "    width: 32px;\n",
       "  }\n",
       "\n",
       "  .colab-df-quickchart:hover {\n",
       "    background-color: var(--hover-bg-color);\n",
       "    box-shadow: 0 1px 2px rgba(60, 64, 67, 0.3), 0 1px 3px 1px rgba(60, 64, 67, 0.15);\n",
       "    fill: var(--button-hover-fill-color);\n",
       "  }\n",
       "\n",
       "  .colab-df-quickchart-complete:disabled,\n",
       "  .colab-df-quickchart-complete:disabled:hover {\n",
       "    background-color: var(--disabled-bg-color);\n",
       "    fill: var(--disabled-fill-color);\n",
       "    box-shadow: none;\n",
       "  }\n",
       "\n",
       "  .colab-df-spinner {\n",
       "    border: 2px solid var(--fill-color);\n",
       "    border-color: transparent;\n",
       "    border-bottom-color: var(--fill-color);\n",
       "    animation:\n",
       "      spin 1s steps(1) infinite;\n",
       "  }\n",
       "\n",
       "  @keyframes spin {\n",
       "    0% {\n",
       "      border-color: transparent;\n",
       "      border-bottom-color: var(--fill-color);\n",
       "      border-left-color: var(--fill-color);\n",
       "    }\n",
       "    20% {\n",
       "      border-color: transparent;\n",
       "      border-left-color: var(--fill-color);\n",
       "      border-top-color: var(--fill-color);\n",
       "    }\n",
       "    30% {\n",
       "      border-color: transparent;\n",
       "      border-left-color: var(--fill-color);\n",
       "      border-top-color: var(--fill-color);\n",
       "      border-right-color: var(--fill-color);\n",
       "    }\n",
       "    40% {\n",
       "      border-color: transparent;\n",
       "      border-right-color: var(--fill-color);\n",
       "      border-top-color: var(--fill-color);\n",
       "    }\n",
       "    60% {\n",
       "      border-color: transparent;\n",
       "      border-right-color: var(--fill-color);\n",
       "    }\n",
       "    80% {\n",
       "      border-color: transparent;\n",
       "      border-right-color: var(--fill-color);\n",
       "      border-bottom-color: var(--fill-color);\n",
       "    }\n",
       "    90% {\n",
       "      border-color: transparent;\n",
       "      border-bottom-color: var(--fill-color);\n",
       "    }\n",
       "  }\n",
       "</style>\n",
       "\n",
       "  <script>\n",
       "    async function quickchart(key) {\n",
       "      const quickchartButtonEl =\n",
       "        document.querySelector('#' + key + ' button');\n",
       "      quickchartButtonEl.disabled = true;  // To prevent multiple clicks.\n",
       "      quickchartButtonEl.classList.add('colab-df-spinner');\n",
       "      try {\n",
       "        const charts = await google.colab.kernel.invokeFunction(\n",
       "            'suggestCharts', [key], {});\n",
       "      } catch (error) {\n",
       "        console.error('Error during call to suggestCharts:', error);\n",
       "      }\n",
       "      quickchartButtonEl.classList.remove('colab-df-spinner');\n",
       "      quickchartButtonEl.classList.add('colab-df-quickchart-complete');\n",
       "    }\n",
       "    (() => {\n",
       "      let quickchartButtonEl =\n",
       "        document.querySelector('#df-455113d0-d073-42bc-a2fc-2a92f420d89e button');\n",
       "      quickchartButtonEl.style.display =\n",
       "        google.colab.kernel.accessAllowed ? 'block' : 'none';\n",
       "    })();\n",
       "  </script>\n",
       "</div>\n",
       "    </div>\n",
       "  </div>\n"
      ],
      "text/plain": [
       "   id keyword location                                               text  \\\n",
       "0   1     NaN      NaN  Our Deeds are the Reason of this #earthquake M...   \n",
       "1   4     NaN      NaN             Forest fire near La Ronge Sask. Canada   \n",
       "2   5     NaN      NaN  All residents asked to 'shelter in place' are ...   \n",
       "3   6     NaN      NaN  13,000 people receive #wildfires evacuation or...   \n",
       "4   7     NaN      NaN  Just got sent this photo from Ruby #Alaska as ...   \n",
       "\n",
       "   target  \n",
       "0       1  \n",
       "1       1  \n",
       "2       1  \n",
       "3       1  \n",
       "4       1  "
      ]
     },
     "execution_count": 4,
     "metadata": {},
     "output_type": "execute_result"
    }
   ],
   "source": [
    "import pandas as pd\n",
    "\n",
    "train_df = pd.read_csv(\"train.csv\")\n",
    "test_df = pd.read_csv(\"test.csv\")\n",
    "train_df.head()"
   ]
  },
  {
   "cell_type": "code",
   "execution_count": null,
   "id": "19ad877f-0592-4fa8-bea3-3a21cd7cceac",
   "metadata": {
    "colab": {
     "base_uri": "https://localhost:8080/"
    },
    "id": "19ad877f-0592-4fa8-bea3-3a21cd7cceac",
    "outputId": "dba839aa-18e1-482e-d170-cdfbef18b594"
   },
   "outputs": [
    {
     "data": {
      "text/plain": [
       "0    Our Deeds are the Reason of this #earthquake M...\n",
       "1               Forest fire near La Ronge Sask. Canada\n",
       "2    All residents asked to 'shelter in place' are ...\n",
       "3    13,000 people receive #wildfires evacuation or...\n",
       "4    Just got sent this photo from Ruby #Alaska as ...\n",
       "5    #RockyFire Update => California Hwy. 20 closed...\n",
       "6    #flood #disaster Heavy rain causes flash flood...\n",
       "7    I'm on top of the hill and I can see a fire in...\n",
       "8    There's an emergency evacuation happening now ...\n",
       "9    I'm afraid that the tornado is coming to our a...\n",
       "Name: text, dtype: object"
      ]
     },
     "execution_count": 5,
     "metadata": {},
     "output_type": "execute_result"
    }
   ],
   "source": [
    "train_df[\"text\"][:10]"
   ]
  },
  {
   "cell_type": "code",
   "execution_count": null,
   "id": "403f946d-fa66-45bd-9080-155db8a6d1d1",
   "metadata": {
    "colab": {
     "base_uri": "https://localhost:8080/",
     "height": 206
    },
    "id": "403f946d-fa66-45bd-9080-155db8a6d1d1",
    "outputId": "4d9851d1-ed58-4240-b140-61361770dd72"
   },
   "outputs": [
    {
     "data": {
      "application/vnd.google.colaboratory.intrinsic+json": {
       "summary": "{\n  \"name\": \"train_df_shuffled\",\n  \"rows\": 7613,\n  \"fields\": [\n    {\n      \"column\": \"id\",\n      \"properties\": {\n        \"dtype\": \"number\",\n        \"std\": 3137,\n        \"min\": 1,\n        \"max\": 10873,\n        \"num_unique_values\": 7613,\n        \"samples\": [\n          7061,\n          843,\n          10603\n        ],\n        \"semantic_type\": \"\",\n        \"description\": \"\"\n      }\n    },\n    {\n      \"column\": \"keyword\",\n      \"properties\": {\n        \"dtype\": \"category\",\n        \"num_unique_values\": 221,\n        \"samples\": [\n          \"blazing\",\n          \"emergency\",\n          \"rescue\"\n        ],\n        \"semantic_type\": \"\",\n        \"description\": \"\"\n      }\n    },\n    {\n      \"column\": \"location\",\n      \"properties\": {\n        \"dtype\": \"category\",\n        \"num_unique_values\": 3341,\n        \"samples\": [\n          \"617-BTOWN-BEATDOWN\",\n          \"Newcastle Upon Tyne, England\",\n          \"Federal Capital Territory\"\n        ],\n        \"semantic_type\": \"\",\n        \"description\": \"\"\n      }\n    },\n    {\n      \"column\": \"text\",\n      \"properties\": {\n        \"dtype\": \"string\",\n        \"num_unique_values\": 7503,\n        \"samples\": [\n          \"This week first responders and DART members are participating in a four day intensive Technical Large Animal... http://t.co/tL93AOd3ER\",\n          \"My mom is watching a show about bridges breaking/falling and the people on them drowning in their cars aka one of my biggest fears ????\",\n          \"@NickLee8  i went to school in a bombed out East End of London3 families to one house no bathroom outside loo &amp; poor so whats yr point\"\n        ],\n        \"semantic_type\": \"\",\n        \"description\": \"\"\n      }\n    },\n    {\n      \"column\": \"target\",\n      \"properties\": {\n        \"dtype\": \"number\",\n        \"std\": 0,\n        \"min\": 0,\n        \"max\": 1,\n        \"num_unique_values\": 2,\n        \"samples\": [\n          0,\n          1\n        ],\n        \"semantic_type\": \"\",\n        \"description\": \"\"\n      }\n    }\n  ]\n}",
       "type": "dataframe",
       "variable_name": "train_df_shuffled"
      },
      "text/html": [
       "\n",
       "  <div id=\"df-2379b8a2-fd50-467c-ba61-1c63e69f4985\" class=\"colab-df-container\">\n",
       "    <div>\n",
       "<style scoped>\n",
       "    .dataframe tbody tr th:only-of-type {\n",
       "        vertical-align: middle;\n",
       "    }\n",
       "\n",
       "    .dataframe tbody tr th {\n",
       "        vertical-align: top;\n",
       "    }\n",
       "\n",
       "    .dataframe thead th {\n",
       "        text-align: right;\n",
       "    }\n",
       "</style>\n",
       "<table border=\"1\" class=\"dataframe\">\n",
       "  <thead>\n",
       "    <tr style=\"text-align: right;\">\n",
       "      <th></th>\n",
       "      <th>id</th>\n",
       "      <th>keyword</th>\n",
       "      <th>location</th>\n",
       "      <th>text</th>\n",
       "      <th>target</th>\n",
       "    </tr>\n",
       "  </thead>\n",
       "  <tbody>\n",
       "    <tr>\n",
       "      <th>2644</th>\n",
       "      <td>3796</td>\n",
       "      <td>destruction</td>\n",
       "      <td>NaN</td>\n",
       "      <td>So you have a new weapon that can cause un-ima...</td>\n",
       "      <td>1</td>\n",
       "    </tr>\n",
       "    <tr>\n",
       "      <th>2227</th>\n",
       "      <td>3185</td>\n",
       "      <td>deluge</td>\n",
       "      <td>NaN</td>\n",
       "      <td>The f$&amp;amp;@ing things I do for #GISHWHES Just...</td>\n",
       "      <td>0</td>\n",
       "    </tr>\n",
       "    <tr>\n",
       "      <th>5448</th>\n",
       "      <td>7769</td>\n",
       "      <td>police</td>\n",
       "      <td>UK</td>\n",
       "      <td>DT @georgegalloway: RT @Galloway4Mayor: ÛÏThe...</td>\n",
       "      <td>1</td>\n",
       "    </tr>\n",
       "    <tr>\n",
       "      <th>132</th>\n",
       "      <td>191</td>\n",
       "      <td>aftershock</td>\n",
       "      <td>NaN</td>\n",
       "      <td>Aftershock back to school kick off was great. ...</td>\n",
       "      <td>0</td>\n",
       "    </tr>\n",
       "    <tr>\n",
       "      <th>6845</th>\n",
       "      <td>9810</td>\n",
       "      <td>trauma</td>\n",
       "      <td>Montgomery County, MD</td>\n",
       "      <td>in response to trauma Children of Addicts deve...</td>\n",
       "      <td>0</td>\n",
       "    </tr>\n",
       "  </tbody>\n",
       "</table>\n",
       "</div>\n",
       "    <div class=\"colab-df-buttons\">\n",
       "\n",
       "  <div class=\"colab-df-container\">\n",
       "    <button class=\"colab-df-convert\" onclick=\"convertToInteractive('df-2379b8a2-fd50-467c-ba61-1c63e69f4985')\"\n",
       "            title=\"Convert this dataframe to an interactive table.\"\n",
       "            style=\"display:none;\">\n",
       "\n",
       "  <svg xmlns=\"http://www.w3.org/2000/svg\" height=\"24px\" viewBox=\"0 -960 960 960\">\n",
       "    <path d=\"M120-120v-720h720v720H120Zm60-500h600v-160H180v160Zm220 220h160v-160H400v160Zm0 220h160v-160H400v160ZM180-400h160v-160H180v160Zm440 0h160v-160H620v160ZM180-180h160v-160H180v160Zm440 0h160v-160H620v160Z\"/>\n",
       "  </svg>\n",
       "    </button>\n",
       "\n",
       "  <style>\n",
       "    .colab-df-container {\n",
       "      display:flex;\n",
       "      gap: 12px;\n",
       "    }\n",
       "\n",
       "    .colab-df-convert {\n",
       "      background-color: #E8F0FE;\n",
       "      border: none;\n",
       "      border-radius: 50%;\n",
       "      cursor: pointer;\n",
       "      display: none;\n",
       "      fill: #1967D2;\n",
       "      height: 32px;\n",
       "      padding: 0 0 0 0;\n",
       "      width: 32px;\n",
       "    }\n",
       "\n",
       "    .colab-df-convert:hover {\n",
       "      background-color: #E2EBFA;\n",
       "      box-shadow: 0px 1px 2px rgba(60, 64, 67, 0.3), 0px 1px 3px 1px rgba(60, 64, 67, 0.15);\n",
       "      fill: #174EA6;\n",
       "    }\n",
       "\n",
       "    .colab-df-buttons div {\n",
       "      margin-bottom: 4px;\n",
       "    }\n",
       "\n",
       "    [theme=dark] .colab-df-convert {\n",
       "      background-color: #3B4455;\n",
       "      fill: #D2E3FC;\n",
       "    }\n",
       "\n",
       "    [theme=dark] .colab-df-convert:hover {\n",
       "      background-color: #434B5C;\n",
       "      box-shadow: 0px 1px 3px 1px rgba(0, 0, 0, 0.15);\n",
       "      filter: drop-shadow(0px 1px 2px rgba(0, 0, 0, 0.3));\n",
       "      fill: #FFFFFF;\n",
       "    }\n",
       "  </style>\n",
       "\n",
       "    <script>\n",
       "      const buttonEl =\n",
       "        document.querySelector('#df-2379b8a2-fd50-467c-ba61-1c63e69f4985 button.colab-df-convert');\n",
       "      buttonEl.style.display =\n",
       "        google.colab.kernel.accessAllowed ? 'block' : 'none';\n",
       "\n",
       "      async function convertToInteractive(key) {\n",
       "        const element = document.querySelector('#df-2379b8a2-fd50-467c-ba61-1c63e69f4985');\n",
       "        const dataTable =\n",
       "          await google.colab.kernel.invokeFunction('convertToInteractive',\n",
       "                                                    [key], {});\n",
       "        if (!dataTable) return;\n",
       "\n",
       "        const docLinkHtml = 'Like what you see? Visit the ' +\n",
       "          '<a target=\"_blank\" href=https://colab.research.google.com/notebooks/data_table.ipynb>data table notebook</a>'\n",
       "          + ' to learn more about interactive tables.';\n",
       "        element.innerHTML = '';\n",
       "        dataTable['output_type'] = 'display_data';\n",
       "        await google.colab.output.renderOutput(dataTable, element);\n",
       "        const docLink = document.createElement('div');\n",
       "        docLink.innerHTML = docLinkHtml;\n",
       "        element.appendChild(docLink);\n",
       "      }\n",
       "    </script>\n",
       "  </div>\n",
       "\n",
       "\n",
       "<div id=\"df-b2189141-2bb9-4fa7-b7d9-4ba152c718ec\">\n",
       "  <button class=\"colab-df-quickchart\" onclick=\"quickchart('df-b2189141-2bb9-4fa7-b7d9-4ba152c718ec')\"\n",
       "            title=\"Suggest charts\"\n",
       "            style=\"display:none;\">\n",
       "\n",
       "<svg xmlns=\"http://www.w3.org/2000/svg\" height=\"24px\"viewBox=\"0 0 24 24\"\n",
       "     width=\"24px\">\n",
       "    <g>\n",
       "        <path d=\"M19 3H5c-1.1 0-2 .9-2 2v14c0 1.1.9 2 2 2h14c1.1 0 2-.9 2-2V5c0-1.1-.9-2-2-2zM9 17H7v-7h2v7zm4 0h-2V7h2v10zm4 0h-2v-4h2v4z\"/>\n",
       "    </g>\n",
       "</svg>\n",
       "  </button>\n",
       "\n",
       "<style>\n",
       "  .colab-df-quickchart {\n",
       "      --bg-color: #E8F0FE;\n",
       "      --fill-color: #1967D2;\n",
       "      --hover-bg-color: #E2EBFA;\n",
       "      --hover-fill-color: #174EA6;\n",
       "      --disabled-fill-color: #AAA;\n",
       "      --disabled-bg-color: #DDD;\n",
       "  }\n",
       "\n",
       "  [theme=dark] .colab-df-quickchart {\n",
       "      --bg-color: #3B4455;\n",
       "      --fill-color: #D2E3FC;\n",
       "      --hover-bg-color: #434B5C;\n",
       "      --hover-fill-color: #FFFFFF;\n",
       "      --disabled-bg-color: #3B4455;\n",
       "      --disabled-fill-color: #666;\n",
       "  }\n",
       "\n",
       "  .colab-df-quickchart {\n",
       "    background-color: var(--bg-color);\n",
       "    border: none;\n",
       "    border-radius: 50%;\n",
       "    cursor: pointer;\n",
       "    display: none;\n",
       "    fill: var(--fill-color);\n",
       "    height: 32px;\n",
       "    padding: 0;\n",
       "    width: 32px;\n",
       "  }\n",
       "\n",
       "  .colab-df-quickchart:hover {\n",
       "    background-color: var(--hover-bg-color);\n",
       "    box-shadow: 0 1px 2px rgba(60, 64, 67, 0.3), 0 1px 3px 1px rgba(60, 64, 67, 0.15);\n",
       "    fill: var(--button-hover-fill-color);\n",
       "  }\n",
       "\n",
       "  .colab-df-quickchart-complete:disabled,\n",
       "  .colab-df-quickchart-complete:disabled:hover {\n",
       "    background-color: var(--disabled-bg-color);\n",
       "    fill: var(--disabled-fill-color);\n",
       "    box-shadow: none;\n",
       "  }\n",
       "\n",
       "  .colab-df-spinner {\n",
       "    border: 2px solid var(--fill-color);\n",
       "    border-color: transparent;\n",
       "    border-bottom-color: var(--fill-color);\n",
       "    animation:\n",
       "      spin 1s steps(1) infinite;\n",
       "  }\n",
       "\n",
       "  @keyframes spin {\n",
       "    0% {\n",
       "      border-color: transparent;\n",
       "      border-bottom-color: var(--fill-color);\n",
       "      border-left-color: var(--fill-color);\n",
       "    }\n",
       "    20% {\n",
       "      border-color: transparent;\n",
       "      border-left-color: var(--fill-color);\n",
       "      border-top-color: var(--fill-color);\n",
       "    }\n",
       "    30% {\n",
       "      border-color: transparent;\n",
       "      border-left-color: var(--fill-color);\n",
       "      border-top-color: var(--fill-color);\n",
       "      border-right-color: var(--fill-color);\n",
       "    }\n",
       "    40% {\n",
       "      border-color: transparent;\n",
       "      border-right-color: var(--fill-color);\n",
       "      border-top-color: var(--fill-color);\n",
       "    }\n",
       "    60% {\n",
       "      border-color: transparent;\n",
       "      border-right-color: var(--fill-color);\n",
       "    }\n",
       "    80% {\n",
       "      border-color: transparent;\n",
       "      border-right-color: var(--fill-color);\n",
       "      border-bottom-color: var(--fill-color);\n",
       "    }\n",
       "    90% {\n",
       "      border-color: transparent;\n",
       "      border-bottom-color: var(--fill-color);\n",
       "    }\n",
       "  }\n",
       "</style>\n",
       "\n",
       "  <script>\n",
       "    async function quickchart(key) {\n",
       "      const quickchartButtonEl =\n",
       "        document.querySelector('#' + key + ' button');\n",
       "      quickchartButtonEl.disabled = true;  // To prevent multiple clicks.\n",
       "      quickchartButtonEl.classList.add('colab-df-spinner');\n",
       "      try {\n",
       "        const charts = await google.colab.kernel.invokeFunction(\n",
       "            'suggestCharts', [key], {});\n",
       "      } catch (error) {\n",
       "        console.error('Error during call to suggestCharts:', error);\n",
       "      }\n",
       "      quickchartButtonEl.classList.remove('colab-df-spinner');\n",
       "      quickchartButtonEl.classList.add('colab-df-quickchart-complete');\n",
       "    }\n",
       "    (() => {\n",
       "      let quickchartButtonEl =\n",
       "        document.querySelector('#df-b2189141-2bb9-4fa7-b7d9-4ba152c718ec button');\n",
       "      quickchartButtonEl.style.display =\n",
       "        google.colab.kernel.accessAllowed ? 'block' : 'none';\n",
       "    })();\n",
       "  </script>\n",
       "</div>\n",
       "    </div>\n",
       "  </div>\n"
      ],
      "text/plain": [
       "        id      keyword               location  \\\n",
       "2644  3796  destruction                    NaN   \n",
       "2227  3185       deluge                    NaN   \n",
       "5448  7769       police                     UK   \n",
       "132    191   aftershock                    NaN   \n",
       "6845  9810       trauma  Montgomery County, MD   \n",
       "\n",
       "                                                   text  target  \n",
       "2644  So you have a new weapon that can cause un-ima...       1  \n",
       "2227  The f$&amp;@ing things I do for #GISHWHES Just...       0  \n",
       "5448  DT @georgegalloway: RT @Galloway4Mayor: ÛÏThe...       1  \n",
       "132   Aftershock back to school kick off was great. ...       0  \n",
       "6845  in response to trauma Children of Addicts deve...       0  "
      ]
     },
     "execution_count": 6,
     "metadata": {},
     "output_type": "execute_result"
    }
   ],
   "source": [
    "# Shuffle training dataframe\n",
    "train_df_shuffled = train_df.sample(frac=1, random_state=42)\n",
    "train_df_shuffled.head()"
   ]
  },
  {
   "cell_type": "code",
   "execution_count": null,
   "id": "cfba4940-c0a7-4fd2-a80f-a298e8895a68",
   "metadata": {
    "colab": {
     "base_uri": "https://localhost:8080/",
     "height": 206
    },
    "id": "cfba4940-c0a7-4fd2-a80f-a298e8895a68",
    "outputId": "4a1b9da9-1916-4a53-9870-743633362b97"
   },
   "outputs": [
    {
     "data": {
      "application/vnd.google.colaboratory.intrinsic+json": {
       "summary": "{\n  \"name\": \"test_df\",\n  \"rows\": 3263,\n  \"fields\": [\n    {\n      \"column\": \"id\",\n      \"properties\": {\n        \"dtype\": \"number\",\n        \"std\": 3146,\n        \"min\": 0,\n        \"max\": 10875,\n        \"num_unique_values\": 3263,\n        \"samples\": [\n          8051,\n          425,\n          1330\n        ],\n        \"semantic_type\": \"\",\n        \"description\": \"\"\n      }\n    },\n    {\n      \"column\": \"keyword\",\n      \"properties\": {\n        \"dtype\": \"category\",\n        \"num_unique_values\": 221,\n        \"samples\": [\n          \"injury\",\n          \"nuclear%20reactor\",\n          \"engulfed\"\n        ],\n        \"semantic_type\": \"\",\n        \"description\": \"\"\n      }\n    },\n    {\n      \"column\": \"location\",\n      \"properties\": {\n        \"dtype\": \"category\",\n        \"num_unique_values\": 1602,\n        \"samples\": [\n          \"UAE\",\n          \"Tokio / Tokyo\",\n          \"Texas\"\n        ],\n        \"semantic_type\": \"\",\n        \"description\": \"\"\n      }\n    },\n    {\n      \"column\": \"text\",\n      \"properties\": {\n        \"dtype\": \"string\",\n        \"num_unique_values\": 3243,\n        \"samples\": [\n          \"Latest: USA: Huge sinkhole swallows up Brooklyn intersection http://t.co/vspKHg3nZy\",\n          \"I liked a @YouTube video http://t.co/a5YTAw9Vih S.O.S. Rona Guide - The Red Whirlwind\",\n          \"HitchBot travels Europe and greeted with open arms. Gets destroyed after two weeks in america. There's a lesson to be learned here.\"\n        ],\n        \"semantic_type\": \"\",\n        \"description\": \"\"\n      }\n    }\n  ]\n}",
       "type": "dataframe",
       "variable_name": "test_df"
      },
      "text/html": [
       "\n",
       "  <div id=\"df-448f3f4d-2a60-47a3-ad68-92fce373542e\" class=\"colab-df-container\">\n",
       "    <div>\n",
       "<style scoped>\n",
       "    .dataframe tbody tr th:only-of-type {\n",
       "        vertical-align: middle;\n",
       "    }\n",
       "\n",
       "    .dataframe tbody tr th {\n",
       "        vertical-align: top;\n",
       "    }\n",
       "\n",
       "    .dataframe thead th {\n",
       "        text-align: right;\n",
       "    }\n",
       "</style>\n",
       "<table border=\"1\" class=\"dataframe\">\n",
       "  <thead>\n",
       "    <tr style=\"text-align: right;\">\n",
       "      <th></th>\n",
       "      <th>id</th>\n",
       "      <th>keyword</th>\n",
       "      <th>location</th>\n",
       "      <th>text</th>\n",
       "    </tr>\n",
       "  </thead>\n",
       "  <tbody>\n",
       "    <tr>\n",
       "      <th>0</th>\n",
       "      <td>0</td>\n",
       "      <td>NaN</td>\n",
       "      <td>NaN</td>\n",
       "      <td>Just happened a terrible car crash</td>\n",
       "    </tr>\n",
       "    <tr>\n",
       "      <th>1</th>\n",
       "      <td>2</td>\n",
       "      <td>NaN</td>\n",
       "      <td>NaN</td>\n",
       "      <td>Heard about #earthquake is different cities, s...</td>\n",
       "    </tr>\n",
       "    <tr>\n",
       "      <th>2</th>\n",
       "      <td>3</td>\n",
       "      <td>NaN</td>\n",
       "      <td>NaN</td>\n",
       "      <td>there is a forest fire at spot pond, geese are...</td>\n",
       "    </tr>\n",
       "    <tr>\n",
       "      <th>3</th>\n",
       "      <td>9</td>\n",
       "      <td>NaN</td>\n",
       "      <td>NaN</td>\n",
       "      <td>Apocalypse lighting. #Spokane #wildfires</td>\n",
       "    </tr>\n",
       "    <tr>\n",
       "      <th>4</th>\n",
       "      <td>11</td>\n",
       "      <td>NaN</td>\n",
       "      <td>NaN</td>\n",
       "      <td>Typhoon Soudelor kills 28 in China and Taiwan</td>\n",
       "    </tr>\n",
       "  </tbody>\n",
       "</table>\n",
       "</div>\n",
       "    <div class=\"colab-df-buttons\">\n",
       "\n",
       "  <div class=\"colab-df-container\">\n",
       "    <button class=\"colab-df-convert\" onclick=\"convertToInteractive('df-448f3f4d-2a60-47a3-ad68-92fce373542e')\"\n",
       "            title=\"Convert this dataframe to an interactive table.\"\n",
       "            style=\"display:none;\">\n",
       "\n",
       "  <svg xmlns=\"http://www.w3.org/2000/svg\" height=\"24px\" viewBox=\"0 -960 960 960\">\n",
       "    <path d=\"M120-120v-720h720v720H120Zm60-500h600v-160H180v160Zm220 220h160v-160H400v160Zm0 220h160v-160H400v160ZM180-400h160v-160H180v160Zm440 0h160v-160H620v160ZM180-180h160v-160H180v160Zm440 0h160v-160H620v160Z\"/>\n",
       "  </svg>\n",
       "    </button>\n",
       "\n",
       "  <style>\n",
       "    .colab-df-container {\n",
       "      display:flex;\n",
       "      gap: 12px;\n",
       "    }\n",
       "\n",
       "    .colab-df-convert {\n",
       "      background-color: #E8F0FE;\n",
       "      border: none;\n",
       "      border-radius: 50%;\n",
       "      cursor: pointer;\n",
       "      display: none;\n",
       "      fill: #1967D2;\n",
       "      height: 32px;\n",
       "      padding: 0 0 0 0;\n",
       "      width: 32px;\n",
       "    }\n",
       "\n",
       "    .colab-df-convert:hover {\n",
       "      background-color: #E2EBFA;\n",
       "      box-shadow: 0px 1px 2px rgba(60, 64, 67, 0.3), 0px 1px 3px 1px rgba(60, 64, 67, 0.15);\n",
       "      fill: #174EA6;\n",
       "    }\n",
       "\n",
       "    .colab-df-buttons div {\n",
       "      margin-bottom: 4px;\n",
       "    }\n",
       "\n",
       "    [theme=dark] .colab-df-convert {\n",
       "      background-color: #3B4455;\n",
       "      fill: #D2E3FC;\n",
       "    }\n",
       "\n",
       "    [theme=dark] .colab-df-convert:hover {\n",
       "      background-color: #434B5C;\n",
       "      box-shadow: 0px 1px 3px 1px rgba(0, 0, 0, 0.15);\n",
       "      filter: drop-shadow(0px 1px 2px rgba(0, 0, 0, 0.3));\n",
       "      fill: #FFFFFF;\n",
       "    }\n",
       "  </style>\n",
       "\n",
       "    <script>\n",
       "      const buttonEl =\n",
       "        document.querySelector('#df-448f3f4d-2a60-47a3-ad68-92fce373542e button.colab-df-convert');\n",
       "      buttonEl.style.display =\n",
       "        google.colab.kernel.accessAllowed ? 'block' : 'none';\n",
       "\n",
       "      async function convertToInteractive(key) {\n",
       "        const element = document.querySelector('#df-448f3f4d-2a60-47a3-ad68-92fce373542e');\n",
       "        const dataTable =\n",
       "          await google.colab.kernel.invokeFunction('convertToInteractive',\n",
       "                                                    [key], {});\n",
       "        if (!dataTable) return;\n",
       "\n",
       "        const docLinkHtml = 'Like what you see? Visit the ' +\n",
       "          '<a target=\"_blank\" href=https://colab.research.google.com/notebooks/data_table.ipynb>data table notebook</a>'\n",
       "          + ' to learn more about interactive tables.';\n",
       "        element.innerHTML = '';\n",
       "        dataTable['output_type'] = 'display_data';\n",
       "        await google.colab.output.renderOutput(dataTable, element);\n",
       "        const docLink = document.createElement('div');\n",
       "        docLink.innerHTML = docLinkHtml;\n",
       "        element.appendChild(docLink);\n",
       "      }\n",
       "    </script>\n",
       "  </div>\n",
       "\n",
       "\n",
       "<div id=\"df-f63d2896-9f14-4bd0-952b-a0fbd44e9959\">\n",
       "  <button class=\"colab-df-quickchart\" onclick=\"quickchart('df-f63d2896-9f14-4bd0-952b-a0fbd44e9959')\"\n",
       "            title=\"Suggest charts\"\n",
       "            style=\"display:none;\">\n",
       "\n",
       "<svg xmlns=\"http://www.w3.org/2000/svg\" height=\"24px\"viewBox=\"0 0 24 24\"\n",
       "     width=\"24px\">\n",
       "    <g>\n",
       "        <path d=\"M19 3H5c-1.1 0-2 .9-2 2v14c0 1.1.9 2 2 2h14c1.1 0 2-.9 2-2V5c0-1.1-.9-2-2-2zM9 17H7v-7h2v7zm4 0h-2V7h2v10zm4 0h-2v-4h2v4z\"/>\n",
       "    </g>\n",
       "</svg>\n",
       "  </button>\n",
       "\n",
       "<style>\n",
       "  .colab-df-quickchart {\n",
       "      --bg-color: #E8F0FE;\n",
       "      --fill-color: #1967D2;\n",
       "      --hover-bg-color: #E2EBFA;\n",
       "      --hover-fill-color: #174EA6;\n",
       "      --disabled-fill-color: #AAA;\n",
       "      --disabled-bg-color: #DDD;\n",
       "  }\n",
       "\n",
       "  [theme=dark] .colab-df-quickchart {\n",
       "      --bg-color: #3B4455;\n",
       "      --fill-color: #D2E3FC;\n",
       "      --hover-bg-color: #434B5C;\n",
       "      --hover-fill-color: #FFFFFF;\n",
       "      --disabled-bg-color: #3B4455;\n",
       "      --disabled-fill-color: #666;\n",
       "  }\n",
       "\n",
       "  .colab-df-quickchart {\n",
       "    background-color: var(--bg-color);\n",
       "    border: none;\n",
       "    border-radius: 50%;\n",
       "    cursor: pointer;\n",
       "    display: none;\n",
       "    fill: var(--fill-color);\n",
       "    height: 32px;\n",
       "    padding: 0;\n",
       "    width: 32px;\n",
       "  }\n",
       "\n",
       "  .colab-df-quickchart:hover {\n",
       "    background-color: var(--hover-bg-color);\n",
       "    box-shadow: 0 1px 2px rgba(60, 64, 67, 0.3), 0 1px 3px 1px rgba(60, 64, 67, 0.15);\n",
       "    fill: var(--button-hover-fill-color);\n",
       "  }\n",
       "\n",
       "  .colab-df-quickchart-complete:disabled,\n",
       "  .colab-df-quickchart-complete:disabled:hover {\n",
       "    background-color: var(--disabled-bg-color);\n",
       "    fill: var(--disabled-fill-color);\n",
       "    box-shadow: none;\n",
       "  }\n",
       "\n",
       "  .colab-df-spinner {\n",
       "    border: 2px solid var(--fill-color);\n",
       "    border-color: transparent;\n",
       "    border-bottom-color: var(--fill-color);\n",
       "    animation:\n",
       "      spin 1s steps(1) infinite;\n",
       "  }\n",
       "\n",
       "  @keyframes spin {\n",
       "    0% {\n",
       "      border-color: transparent;\n",
       "      border-bottom-color: var(--fill-color);\n",
       "      border-left-color: var(--fill-color);\n",
       "    }\n",
       "    20% {\n",
       "      border-color: transparent;\n",
       "      border-left-color: var(--fill-color);\n",
       "      border-top-color: var(--fill-color);\n",
       "    }\n",
       "    30% {\n",
       "      border-color: transparent;\n",
       "      border-left-color: var(--fill-color);\n",
       "      border-top-color: var(--fill-color);\n",
       "      border-right-color: var(--fill-color);\n",
       "    }\n",
       "    40% {\n",
       "      border-color: transparent;\n",
       "      border-right-color: var(--fill-color);\n",
       "      border-top-color: var(--fill-color);\n",
       "    }\n",
       "    60% {\n",
       "      border-color: transparent;\n",
       "      border-right-color: var(--fill-color);\n",
       "    }\n",
       "    80% {\n",
       "      border-color: transparent;\n",
       "      border-right-color: var(--fill-color);\n",
       "      border-bottom-color: var(--fill-color);\n",
       "    }\n",
       "    90% {\n",
       "      border-color: transparent;\n",
       "      border-bottom-color: var(--fill-color);\n",
       "    }\n",
       "  }\n",
       "</style>\n",
       "\n",
       "  <script>\n",
       "    async function quickchart(key) {\n",
       "      const quickchartButtonEl =\n",
       "        document.querySelector('#' + key + ' button');\n",
       "      quickchartButtonEl.disabled = true;  // To prevent multiple clicks.\n",
       "      quickchartButtonEl.classList.add('colab-df-spinner');\n",
       "      try {\n",
       "        const charts = await google.colab.kernel.invokeFunction(\n",
       "            'suggestCharts', [key], {});\n",
       "      } catch (error) {\n",
       "        console.error('Error during call to suggestCharts:', error);\n",
       "      }\n",
       "      quickchartButtonEl.classList.remove('colab-df-spinner');\n",
       "      quickchartButtonEl.classList.add('colab-df-quickchart-complete');\n",
       "    }\n",
       "    (() => {\n",
       "      let quickchartButtonEl =\n",
       "        document.querySelector('#df-f63d2896-9f14-4bd0-952b-a0fbd44e9959 button');\n",
       "      quickchartButtonEl.style.display =\n",
       "        google.colab.kernel.accessAllowed ? 'block' : 'none';\n",
       "    })();\n",
       "  </script>\n",
       "</div>\n",
       "    </div>\n",
       "  </div>\n"
      ],
      "text/plain": [
       "   id keyword location                                               text\n",
       "0   0     NaN      NaN                 Just happened a terrible car crash\n",
       "1   2     NaN      NaN  Heard about #earthquake is different cities, s...\n",
       "2   3     NaN      NaN  there is a forest fire at spot pond, geese are...\n",
       "3   9     NaN      NaN           Apocalypse lighting. #Spokane #wildfires\n",
       "4  11     NaN      NaN      Typhoon Soudelor kills 28 in China and Taiwan"
      ]
     },
     "execution_count": 7,
     "metadata": {},
     "output_type": "execute_result"
    }
   ],
   "source": [
    "test_df.head()"
   ]
  },
  {
   "cell_type": "code",
   "execution_count": null,
   "id": "42878774-ae52-4bf8-9a1d-6d1f9f8a3619",
   "metadata": {
    "colab": {
     "base_uri": "https://localhost:8080/"
    },
    "id": "42878774-ae52-4bf8-9a1d-6d1f9f8a3619",
    "outputId": "0d16c8c2-d110-4f15-a99d-3a13dcce0ebd"
   },
   "outputs": [
    {
     "data": {
      "text/plain": [
       "target\n",
       "0    4342\n",
       "1    3271\n",
       "Name: count, dtype: int64"
      ]
     },
     "execution_count": 8,
     "metadata": {},
     "output_type": "execute_result"
    }
   ],
   "source": [
    "train_df.target.value_counts()"
   ]
  },
  {
   "cell_type": "code",
   "execution_count": null,
   "id": "3a37e6ee-be02-49da-88a6-5e9bf2318f4a",
   "metadata": {
    "colab": {
     "base_uri": "https://localhost:8080/"
    },
    "id": "3a37e6ee-be02-49da-88a6-5e9bf2318f4a",
    "outputId": "09227340-b649-45ca-9df0-d76d90b1f828"
   },
   "outputs": [
    {
     "data": {
      "text/plain": [
       "(7613, 3263)"
      ]
     },
     "execution_count": 9,
     "metadata": {},
     "output_type": "execute_result"
    }
   ],
   "source": [
    "len(train_df), len(test_df)"
   ]
  },
  {
   "cell_type": "code",
   "execution_count": null,
   "id": "4e73d4bd-7098-4ee7-aa73-b9db2b7de07d",
   "metadata": {
    "colab": {
     "base_uri": "https://localhost:8080/"
    },
    "id": "4e73d4bd-7098-4ee7-aa73-b9db2b7de07d",
    "outputId": "34ab14d6-c06b-4c48-b8b6-9812c0439485"
   },
   "outputs": [
    {
     "name": "stdout",
     "output_type": "stream",
     "text": [
      "Target 1 (real disaster)\n",
      "Text:\n",
      "@DavidJordan88 @Stephanenny Except we don't know who started the riot or if it even makes sense to credit any particular individuals...\n",
      "\n",
      "---\n",
      "\n",
      "Target 1 (real disaster)\n",
      "Text:\n",
      "@AvBronstein @Popehat @instapundit @KurtSchlichter Also are you aware of the casualty estimates for an invasion of Japan's home islands?\n",
      "\n",
      "---\n",
      "\n",
      "Target 0 (not real diaster)\n",
      "Text:\n",
      "@cwheate hahaha I'm half traumatised half hoping my labour is that easy ??\n",
      "\n",
      "---\n",
      "\n",
      "Target 0 (not real diaster)\n",
      "Text:\n",
      "Free Kindle Book - Aug 3-7 - Thriller - Desolation Run by @jamessnyder22 http://t.co/sgXb6E5Yda\n",
      "\n",
      "---\n",
      "\n",
      "Target 0 (not real diaster)\n",
      "Text:\n",
      "Taylor and Cara aka Catastrophe and Mother Chucker behind the scenes of Bad Blood. Vote: http://t.co/TF2BkQ0OlX #VMAs http://t.co/3fQq7pFjvX\n",
      "\n",
      "---\n",
      "\n"
     ]
    }
   ],
   "source": [
    "import random\n",
    "\n",
    "random_index = random.randint(0, len(train_df)-5)  # Create random indexes not higher than the total number of samples\n",
    "for row in train_df_shuffled[[\"text\", \"target\"]][random_index:random_index+5].itertuples():\n",
    "    _, text, target = row\n",
    "    print(f\"Target {target}\", \"(real disaster)\" if target > 0 else \"(not real diaster)\")\n",
    "    print(f\"Text:\\n{text}\\n\")\n",
    "    print(f\"---\\n\")"
   ]
  },
  {
   "cell_type": "markdown",
   "id": "c37e27a7-d3c3-4d23-8405-f02b5032c17e",
   "metadata": {
    "id": "c37e27a7-d3c3-4d23-8405-f02b5032c17e"
   },
   "source": [
    "### Split data into trianing and validation sets"
   ]
  },
  {
   "cell_type": "code",
   "execution_count": null,
   "id": "ffcb2d5d-bb21-4035-b54c-547bd051b253",
   "metadata": {
    "id": "ffcb2d5d-bb21-4035-b54c-547bd051b253"
   },
   "outputs": [],
   "source": [
    "from sklearn.model_selection import train_test_split"
   ]
  },
  {
   "cell_type": "code",
   "execution_count": null,
   "id": "316c158f-2941-46a9-b33c-6c56fc0fb4b3",
   "metadata": {
    "id": "316c158f-2941-46a9-b33c-6c56fc0fb4b3"
   },
   "outputs": [],
   "source": [
    "train_sentences, val_sentences, train_labels, val_labels = train_test_split(train_df_shuffled[\"text\"].to_numpy(),\n",
    "                                                                            train_df_shuffled[\"target\"].to_numpy(),\n",
    "                                                                            test_size=0.1,\n",
    "                                                                            random_state=42)"
   ]
  },
  {
   "cell_type": "code",
   "execution_count": null,
   "id": "ff9c99bb-bfb4-45b8-90e6-42827412e896",
   "metadata": {
    "colab": {
     "base_uri": "https://localhost:8080/"
    },
    "id": "ff9c99bb-bfb4-45b8-90e6-42827412e896",
    "outputId": "6d9f6416-5e44-4310-9a9c-c89b795e2c33"
   },
   "outputs": [
    {
     "data": {
      "text/plain": [
       "(6851, 6851, 762, 762)"
      ]
     },
     "execution_count": 13,
     "metadata": {},
     "output_type": "execute_result"
    }
   ],
   "source": [
    "len(train_sentences), len(train_labels), len(val_sentences), len(val_labels)"
   ]
  },
  {
   "cell_type": "code",
   "execution_count": null,
   "id": "972edf72-9ddc-41ed-ad1f-60dda06ce4ed",
   "metadata": {
    "colab": {
     "base_uri": "https://localhost:8080/"
    },
    "id": "972edf72-9ddc-41ed-ad1f-60dda06ce4ed",
    "outputId": "39daaf81-ee0d-4d24-c3ac-d0820aa023a8"
   },
   "outputs": [
    {
     "data": {
      "text/plain": [
       "(array(['@mogacola @zamtriossu i screamed after hitting tweet',\n",
       "        'Imagine getting flattened by Kurt Zouma',\n",
       "        '@Gurmeetramrahim #MSGDoing111WelfareWorks Green S welfare force ke appx 65000 members har time disaster victim ki help ke liye tyar hai....',\n",
       "        \"@shakjn @C7 @Magnums im shaking in fear he's gonna hack the planet\",\n",
       "        'Somehow find you and I collide http://t.co/Ee8RpOahPk',\n",
       "        '@EvaHanderek @MarleyKnysh great times until the bus driver held us hostage in the mall parking lot lmfao',\n",
       "        'destroy the free fandom honestly',\n",
       "        'Weapons stolen from National Guard Armory in New Albany still missing #Gunsense http://t.co/lKNU8902JE',\n",
       "        '@wfaaweather Pete when will the heat wave pass? Is it really going to be mid month? Frisco Boy Scouts have a canoe trip in Okla.',\n",
       "        'Patient-reported outcomes in long-term survivors of metastatic colorectal cancer - British Journal of Surgery http://t.co/5Yl4DC1Tqt'],\n",
       "       dtype=object),\n",
       " array([0, 0, 1, 0, 0, 1, 1, 0, 1, 1]))"
      ]
     },
     "execution_count": 14,
     "metadata": {},
     "output_type": "execute_result"
    }
   ],
   "source": [
    "train_sentences[:10], train_labels[:10]"
   ]
  },
  {
   "cell_type": "markdown",
   "id": "c8f677eb-10b2-4ca1-88da-0d24ae7eda75",
   "metadata": {
    "id": "c8f677eb-10b2-4ca1-88da-0d24ae7eda75"
   },
   "source": [
    "## Text vectorization (tokenization)"
   ]
  },
  {
   "cell_type": "code",
   "execution_count": null,
   "id": "2bd11c36-da2e-4c64-a6e5-c7a06fe94a57",
   "metadata": {
    "colab": {
     "base_uri": "https://localhost:8080/"
    },
    "id": "2bd11c36-da2e-4c64-a6e5-c7a06fe94a57",
    "outputId": "e06c9ffa-af67-4fd5-b4b8-c3345400ed12"
   },
   "outputs": [
    {
     "name": "stdout",
     "output_type": "stream",
     "text": [
      "2.15.0\n"
     ]
    }
   ],
   "source": [
    "import tensorflow as tf\n",
    "print(tf.__version__)"
   ]
  },
  {
   "cell_type": "code",
   "execution_count": null,
   "id": "65413837-a129-460b-a7e5-32355d618399",
   "metadata": {
    "id": "65413837-a129-460b-a7e5-32355d618399"
   },
   "outputs": [],
   "source": [
    "from tensorflow.keras.layers import TextVectorization\n",
    "\n",
    "text_vectorizer = TextVectorization(max_tokens=None,\n",
    "                                 standardize=\"lower_and_strip_punctuation\",\n",
    "                                 split=\"whitespace\",\n",
    "                                 ngrams=None,\n",
    "                                 output_mode=\"int\",  # how to map tokens to numebers\n",
    "                                 output_sequence_length=None)"
   ]
  },
  {
   "cell_type": "code",
   "execution_count": null,
   "id": "fd26e636-f9c2-4fe5-a176-ab29346fb0b6",
   "metadata": {
    "colab": {
     "base_uri": "https://localhost:8080/"
    },
    "id": "fd26e636-f9c2-4fe5-a176-ab29346fb0b6",
    "outputId": "f63c6cd4-8493-4bd5-9e7f-3dd865e68fdb"
   },
   "outputs": [
    {
     "data": {
      "text/plain": [
       "15"
      ]
     },
     "execution_count": 17,
     "metadata": {},
     "output_type": "execute_result"
    }
   ],
   "source": [
    "# Find average number of tokens\n",
    "round(sum([len(i.split()) for i in train_sentences]) / len(train_sentences))"
   ]
  },
  {
   "cell_type": "code",
   "execution_count": null,
   "id": "a52fca30-31f1-40d0-9cec-0641c37f98d7",
   "metadata": {
    "id": "a52fca30-31f1-40d0-9cec-0641c37f98d7"
   },
   "outputs": [],
   "source": [
    "# Setup text vectorization with custom variables\n",
    "max_vocab_length = 10000\n",
    "max_length = 15\n",
    "\n",
    "text_vectorizer = TextVectorization(max_tokens=max_vocab_length,\n",
    "                                    output_sequence_length=max_length)"
   ]
  },
  {
   "cell_type": "code",
   "execution_count": null,
   "id": "206fb766-f6db-4dcc-aa32-9f32d35cef37",
   "metadata": {
    "id": "206fb766-f6db-4dcc-aa32-9f32d35cef37"
   },
   "outputs": [],
   "source": [
    "# Fit the text vectorizer to the training text\n",
    "text_vectorizer.adapt(train_sentences)"
   ]
  },
  {
   "cell_type": "code",
   "execution_count": null,
   "id": "eb8696b1-ae90-4d58-8b26-c48873712296",
   "metadata": {
    "colab": {
     "base_uri": "https://localhost:8080/"
    },
    "id": "eb8696b1-ae90-4d58-8b26-c48873712296",
    "outputId": "ff96eb75-984a-47ae-cbdd-47bb64b9d608"
   },
   "outputs": [
    {
     "data": {
      "text/plain": [
       "<tf.Tensor: shape=(1, 15), dtype=int64, numpy=\n",
       "array([[ 264,    3, 1104,  698,    0,    0,    0,    0,    0,    0,    0,\n",
       "           0,    0,    0,    0]])>"
      ]
     },
     "execution_count": 20,
     "metadata": {},
     "output_type": "execute_result"
    }
   ],
   "source": [
    "sample_sentence = \"There's a Wall Street!\"\n",
    "text_vectorizer([sample_sentence])"
   ]
  },
  {
   "cell_type": "code",
   "execution_count": null,
   "id": "c0ca3fdc-2b99-47ea-a4a1-142434f18969",
   "metadata": {
    "colab": {
     "base_uri": "https://localhost:8080/"
    },
    "id": "c0ca3fdc-2b99-47ea-a4a1-142434f18969",
    "outputId": "b83eaff9-7be5-480d-8488-39b8162a49d8"
   },
   "outputs": [
    {
     "name": "stdout",
     "output_type": "stream",
     "text": [
      "Original text:\n",
      "Families to sue over Legionnaires: More than 40 families affected by the fatal outbreak of Legionnaires' disea... http://t.co/Paje5mxN1z\n",
      "\n",
      "Vectorized version:\n",
      " [[117   5 526  60 177  51  76 354 117 446  18   2 163 298   6]]\n"
     ]
    }
   ],
   "source": [
    "# Chose a random sentence from training dataset and tokenize it\n",
    "random_sentence = random.choice(train_sentences)\n",
    "print(f\"Original text:\\n{random_sentence}\\\n",
    "\\n\\nVectorized version:\\n {text_vectorizer([random_sentence])}\")"
   ]
  },
  {
   "cell_type": "code",
   "execution_count": null,
   "id": "1e276aa7-22e2-4466-b19c-92cccc8b1120",
   "metadata": {
    "colab": {
     "base_uri": "https://localhost:8080/"
    },
    "id": "1e276aa7-22e2-4466-b19c-92cccc8b1120",
    "outputId": "83086268-520e-48a1-a6b8-77151af3267f"
   },
   "outputs": [
    {
     "name": "stdout",
     "output_type": "stream",
     "text": [
      "Number of words in vocab: 10000\n",
      "Top 5 most common words: ['', '[UNK]', 'the', 'a', 'in']\n",
      "Bottom 5 least common words: ['pages', 'paeds', 'pads', 'padres', 'paddytomlinson1']\n"
     ]
    }
   ],
   "source": [
    "# Get the unique words in the vocab\n",
    "words_in_vocab = text_vectorizer.get_vocabulary()\n",
    "top_5_words = words_in_vocab[:5]\n",
    "bottom_5_words = words_in_vocab[-5:]\n",
    "print(f\"Number of words in vocab: {len(words_in_vocab)}\")\n",
    "print(f\"Top 5 most common words: {top_5_words}\")\n",
    "print(f\"Bottom 5 least common words: {bottom_5_words}\")"
   ]
  },
  {
   "cell_type": "code",
   "execution_count": null,
   "id": "abc39cb3-f688-4c7e-8a39-0829e6d43145",
   "metadata": {
    "colab": {
     "base_uri": "https://localhost:8080/"
    },
    "id": "abc39cb3-f688-4c7e-8a39-0829e6d43145",
    "outputId": "9c9e92b9-de52-4ee8-efa9-dcadf496c1eb"
   },
   "outputs": [
    {
     "data": {
      "text/plain": [
       "<keras.src.layers.core.embedding.Embedding at 0x7c624f3da050>"
      ]
     },
     "execution_count": 23,
     "metadata": {},
     "output_type": "execute_result"
    }
   ],
   "source": [
    "tf.random.set_seed(42)\n",
    "from tensorflow.keras import layers\n",
    "\n",
    "embedding = layers.Embedding(input_dim=max_vocab_length,\n",
    "                             output_dim=128,\n",
    "                             embeddings_initializer=\"uniform\",\n",
    "                             name=\"embedding_1\")\n",
    "embedding"
   ]
  },
  {
   "cell_type": "code",
   "execution_count": null,
   "id": "94cd9188-1cc1-49ba-98cf-cb8e9613727d",
   "metadata": {
    "colab": {
     "base_uri": "https://localhost:8080/"
    },
    "id": "94cd9188-1cc1-49ba-98cf-cb8e9613727d",
    "outputId": "1ee05128-c592-49b9-9c4c-f210b0f9f68d"
   },
   "outputs": [
    {
     "name": "stdout",
     "output_type": "stream",
     "text": [
      "Original first word from sentence: Sprinklers: FAQ About Lawn Inundation Systems Answered eBb\n"
     ]
    },
    {
     "data": {
      "text/plain": [
       "<tf.Tensor: shape=(1, 15, 128), dtype=float32, numpy=\n",
       "array([[[ 0.02040413,  0.0366663 ,  0.00107204, ..., -0.01668916,\n",
       "          0.03024108,  0.02769978],\n",
       "        [-0.04327389,  0.02358573, -0.0142221 , ..., -0.03886215,\n",
       "         -0.00117434,  0.03383854],\n",
       "        [-0.03804722,  0.0478421 ,  0.0416662 , ...,  0.03973958,\n",
       "         -0.04787729,  0.02794781],\n",
       "        ...,\n",
       "        [ 0.01016738, -0.03420854,  0.04698325, ...,  0.00885843,\n",
       "          0.0090337 ,  0.01314092],\n",
       "        [ 0.01016738, -0.03420854,  0.04698325, ...,  0.00885843,\n",
       "          0.0090337 ,  0.01314092],\n",
       "        [ 0.01016738, -0.03420854,  0.04698325, ...,  0.00885843,\n",
       "          0.0090337 ,  0.01314092]]], dtype=float32)>"
      ]
     },
     "execution_count": 24,
     "metadata": {},
     "output_type": "execute_result"
    }
   ],
   "source": [
    "random_sentence = random.choice(train_sentences)\n",
    "print(f\"Original first word from sentence: {random_sentence}\")\n",
    "sample_embed = embedding(text_vectorizer([random_sentence]))\n",
    "sample_embed"
   ]
  },
  {
   "cell_type": "code",
   "execution_count": null,
   "id": "c0ac276c-c313-4f6c-8842-b7c3dc9f1e92",
   "metadata": {
    "colab": {
     "base_uri": "https://localhost:8080/"
    },
    "id": "c0ac276c-c313-4f6c-8842-b7c3dc9f1e92",
    "outputId": "0fc5779d-dc53-4a28-9d95-e19e5bd8bb00"
   },
   "outputs": [
    {
     "data": {
      "text/plain": [
       "<tf.Tensor: shape=(128,), dtype=float32, numpy=\n",
       "array([ 0.02040413,  0.0366663 ,  0.00107204,  0.03071029,  0.04366089,\n",
       "        0.00065166,  0.02279237, -0.03819783, -0.00586518,  0.00377406,\n",
       "        0.00242336,  0.04920426,  0.01620096,  0.00950447, -0.00091166,\n",
       "        0.01009804, -0.01543421,  0.00183124,  0.04027542,  0.04386164,\n",
       "        0.01399883, -0.0109847 , -0.02573694,  0.01651258, -0.00683007,\n",
       "       -0.04943001,  0.00481573,  0.01716352, -0.00299635, -0.01363315,\n",
       "        0.00690063, -0.00383717,  0.03193024,  0.04557495, -0.0049978 ,\n",
       "       -0.00497669, -0.01789801,  0.00111911, -0.02529739, -0.04788091,\n",
       "       -0.04474167, -0.0298453 ,  0.04883311,  0.00885846, -0.04323119,\n",
       "       -0.02472239,  0.02572093,  0.01794947, -0.020399  , -0.03108299,\n",
       "       -0.04748681,  0.04446142,  0.04483635,  0.00287256,  0.00178208,\n",
       "       -0.04518525,  0.03757394, -0.04218326, -0.02003429,  0.03381958,\n",
       "        0.04639787,  0.00791519,  0.04661597,  0.03985366,  0.03124524,\n",
       "        0.01776541, -0.02936454,  0.04401696, -0.02133901,  0.01798363,\n",
       "        0.04964573, -0.02593079, -0.02625838,  0.03508731, -0.04908782,\n",
       "        0.0266257 ,  0.01948056,  0.00427181, -0.00588816, -0.03706132,\n",
       "       -0.03423007,  0.03650722, -0.02096746,  0.04242984, -0.00342054,\n",
       "       -0.00535693, -0.01067008, -0.02266759,  0.04044705, -0.00348596,\n",
       "       -0.02919873, -0.04756541,  0.00843637, -0.03862632, -0.01003693,\n",
       "       -0.00207965,  0.0461975 ,  0.00846032, -0.01278279,  0.0255424 ,\n",
       "       -0.02815925, -0.02783996, -0.00084095, -0.00994667, -0.04909486,\n",
       "        0.00322553, -0.03546919,  0.02462343,  0.00073111,  0.02134463,\n",
       "       -0.02437582, -0.03327608, -0.02468002, -0.02922589, -0.01743795,\n",
       "        0.03096758, -0.01974258,  0.01952897, -0.0474023 , -0.04648404,\n",
       "        0.02176877,  0.02390556, -0.04043492,  0.00659832, -0.01429067,\n",
       "       -0.01668916,  0.03024108,  0.02769978], dtype=float32)>"
      ]
     },
     "execution_count": 25,
     "metadata": {},
     "output_type": "execute_result"
    }
   ],
   "source": [
    "sample_embed[0][0]"
   ]
  },
  {
   "cell_type": "code",
   "execution_count": null,
   "id": "d7010e1b-840c-44f7-9fd3-647e0c9037db",
   "metadata": {
    "colab": {
     "base_uri": "https://localhost:8080/"
    },
    "id": "d7010e1b-840c-44f7-9fd3-647e0c9037db",
    "outputId": "d5cd0953-f92f-43f4-8c54-767009139008"
   },
   "outputs": [
    {
     "data": {
      "text/plain": [
       "128"
      ]
     },
     "execution_count": 26,
     "metadata": {},
     "output_type": "execute_result"
    }
   ],
   "source": [
    "len(sample_embed[0][0])"
   ]
  },
  {
   "cell_type": "markdown",
   "id": "d06cfa5d-54ee-45d7-95fa-565f6826695a",
   "metadata": {
    "id": "d06cfa5d-54ee-45d7-95fa-565f6826695a"
   },
   "source": [
    "### Following models:\n",
    "* Model 0: Naive Bayes (baseline)\n",
    "* Model 1: Feed-forward neural network (dense model)\n",
    "* Model 2: LSTM model\n",
    "* Model 3: GRU model\n",
    "* Model 4: Bidirectional-LSTM model\n",
    "* Model 5: 1D Convolutional Neural Network\n",
    "* Model 6: TensorFlow Hub Pretrained Feature Extractor\n",
    "* Model 7: Same as model 6 with 10% of training data"
   ]
  },
  {
   "cell_type": "markdown",
   "id": "64b88319-c2a8-44b1-9e38-f5b54e0d4b68",
   "metadata": {
    "id": "64b88319-c2a8-44b1-9e38-f5b54e0d4b68"
   },
   "source": [
    "### Each experiment will go through the following steps:\n",
    "* Construct the model\n",
    "* Train the model\n",
    "* Make predictions with the model\n",
    "* Track prediction evaluation metrics for later comparison"
   ]
  },
  {
   "cell_type": "code",
   "execution_count": null,
   "id": "9fIADyI3k5vM",
   "metadata": {
    "id": "9fIADyI3k5vM"
   },
   "outputs": [],
   "source": [
    "train_sentences_10, val_sentences_90, train_labels_10, val_labels_90 = train_test_split(train_df_shuffled[\"text\"].to_numpy(),\n",
    "                                                                            train_df_shuffled[\"target\"].to_numpy(),\n",
    "                                                                            test_size=0.9,\n",
    "                                                                            random_state=42)"
   ]
  },
  {
   "cell_type": "code",
   "execution_count": null,
   "id": "aD1g7r05l14n",
   "metadata": {
    "colab": {
     "base_uri": "https://localhost:8080/"
    },
    "id": "aD1g7r05l14n",
    "outputId": "71ab487f-7a22-4779-e652-3cfd009c6bc0"
   },
   "outputs": [
    {
     "data": {
      "text/plain": [
       "(761, 6852, 761, 6852)"
      ]
     },
     "execution_count": 205,
     "metadata": {},
     "output_type": "execute_result"
    }
   ],
   "source": [
    "len(train_sentences_10), len(val_sentences_90), len(train_labels_10), len(val_labels_90)"
   ]
  },
  {
   "cell_type": "code",
   "execution_count": null,
   "id": "50c4f39d-a066-478e-b5b2-171e7ecff3f0",
   "metadata": {
    "colab": {
     "base_uri": "https://localhost:8080/",
     "height": 124
    },
    "id": "50c4f39d-a066-478e-b5b2-171e7ecff3f0",
    "outputId": "17eebf18-c3e5-461d-90d6-ab4a915778dd"
   },
   "outputs": [
    {
     "data": {
      "text/html": [
       "<style>#sk-container-id-3 {color: black;background-color: white;}#sk-container-id-3 pre{padding: 0;}#sk-container-id-3 div.sk-toggleable {background-color: white;}#sk-container-id-3 label.sk-toggleable__label {cursor: pointer;display: block;width: 100%;margin-bottom: 0;padding: 0.3em;box-sizing: border-box;text-align: center;}#sk-container-id-3 label.sk-toggleable__label-arrow:before {content: \"▸\";float: left;margin-right: 0.25em;color: #696969;}#sk-container-id-3 label.sk-toggleable__label-arrow:hover:before {color: black;}#sk-container-id-3 div.sk-estimator:hover label.sk-toggleable__label-arrow:before {color: black;}#sk-container-id-3 div.sk-toggleable__content {max-height: 0;max-width: 0;overflow: hidden;text-align: left;background-color: #f0f8ff;}#sk-container-id-3 div.sk-toggleable__content pre {margin: 0.2em;color: black;border-radius: 0.25em;background-color: #f0f8ff;}#sk-container-id-3 input.sk-toggleable__control:checked~div.sk-toggleable__content {max-height: 200px;max-width: 100%;overflow: auto;}#sk-container-id-3 input.sk-toggleable__control:checked~label.sk-toggleable__label-arrow:before {content: \"▾\";}#sk-container-id-3 div.sk-estimator input.sk-toggleable__control:checked~label.sk-toggleable__label {background-color: #d4ebff;}#sk-container-id-3 div.sk-label input.sk-toggleable__control:checked~label.sk-toggleable__label {background-color: #d4ebff;}#sk-container-id-3 input.sk-hidden--visually {border: 0;clip: rect(1px 1px 1px 1px);clip: rect(1px, 1px, 1px, 1px);height: 1px;margin: -1px;overflow: hidden;padding: 0;position: absolute;width: 1px;}#sk-container-id-3 div.sk-estimator {font-family: monospace;background-color: #f0f8ff;border: 1px dotted black;border-radius: 0.25em;box-sizing: border-box;margin-bottom: 0.5em;}#sk-container-id-3 div.sk-estimator:hover {background-color: #d4ebff;}#sk-container-id-3 div.sk-parallel-item::after {content: \"\";width: 100%;border-bottom: 1px solid gray;flex-grow: 1;}#sk-container-id-3 div.sk-label:hover label.sk-toggleable__label {background-color: #d4ebff;}#sk-container-id-3 div.sk-serial::before {content: \"\";position: absolute;border-left: 1px solid gray;box-sizing: border-box;top: 0;bottom: 0;left: 50%;z-index: 0;}#sk-container-id-3 div.sk-serial {display: flex;flex-direction: column;align-items: center;background-color: white;padding-right: 0.2em;padding-left: 0.2em;position: relative;}#sk-container-id-3 div.sk-item {position: relative;z-index: 1;}#sk-container-id-3 div.sk-parallel {display: flex;align-items: stretch;justify-content: center;background-color: white;position: relative;}#sk-container-id-3 div.sk-item::before, #sk-container-id-3 div.sk-parallel-item::before {content: \"\";position: absolute;border-left: 1px solid gray;box-sizing: border-box;top: 0;bottom: 0;left: 50%;z-index: -1;}#sk-container-id-3 div.sk-parallel-item {display: flex;flex-direction: column;z-index: 1;position: relative;background-color: white;}#sk-container-id-3 div.sk-parallel-item:first-child::after {align-self: flex-end;width: 50%;}#sk-container-id-3 div.sk-parallel-item:last-child::after {align-self: flex-start;width: 50%;}#sk-container-id-3 div.sk-parallel-item:only-child::after {width: 0;}#sk-container-id-3 div.sk-dashed-wrapped {border: 1px dashed gray;margin: 0 0.4em 0.5em 0.4em;box-sizing: border-box;padding-bottom: 0.4em;background-color: white;}#sk-container-id-3 div.sk-label label {font-family: monospace;font-weight: bold;display: inline-block;line-height: 1.2em;}#sk-container-id-3 div.sk-label-container {text-align: center;}#sk-container-id-3 div.sk-container {/* jupyter's `normalize.less` sets `[hidden] { display: none; }` but bootstrap.min.css set `[hidden] { display: none !important; }` so we also need the `!important` here to be able to override the default hidden behavior on the sphinx rendered scikit-learn.org. See: https://github.com/scikit-learn/scikit-learn/issues/21755 */display: inline-block !important;position: relative;}#sk-container-id-3 div.sk-text-repr-fallback {display: none;}</style><div id=\"sk-container-id-3\" class=\"sk-top-container\"><div class=\"sk-text-repr-fallback\"><pre>Pipeline(steps=[(&#x27;tfidf&#x27;, TfidfVectorizer()), (&#x27;clf&#x27;, MultinomialNB())])</pre><b>In a Jupyter environment, please rerun this cell to show the HTML representation or trust the notebook. <br />On GitHub, the HTML representation is unable to render, please try loading this page with nbviewer.org.</b></div><div class=\"sk-container\" hidden><div class=\"sk-item sk-dashed-wrapped\"><div class=\"sk-label-container\"><div class=\"sk-label sk-toggleable\"><input class=\"sk-toggleable__control sk-hidden--visually\" id=\"sk-estimator-id-7\" type=\"checkbox\" ><label for=\"sk-estimator-id-7\" class=\"sk-toggleable__label sk-toggleable__label-arrow\">Pipeline</label><div class=\"sk-toggleable__content\"><pre>Pipeline(steps=[(&#x27;tfidf&#x27;, TfidfVectorizer()), (&#x27;clf&#x27;, MultinomialNB())])</pre></div></div></div><div class=\"sk-serial\"><div class=\"sk-item\"><div class=\"sk-estimator sk-toggleable\"><input class=\"sk-toggleable__control sk-hidden--visually\" id=\"sk-estimator-id-8\" type=\"checkbox\" ><label for=\"sk-estimator-id-8\" class=\"sk-toggleable__label sk-toggleable__label-arrow\">TfidfVectorizer</label><div class=\"sk-toggleable__content\"><pre>TfidfVectorizer()</pre></div></div></div><div class=\"sk-item\"><div class=\"sk-estimator sk-toggleable\"><input class=\"sk-toggleable__control sk-hidden--visually\" id=\"sk-estimator-id-9\" type=\"checkbox\" ><label for=\"sk-estimator-id-9\" class=\"sk-toggleable__label sk-toggleable__label-arrow\">MultinomialNB</label><div class=\"sk-toggleable__content\"><pre>MultinomialNB()</pre></div></div></div></div></div></div></div>"
      ],
      "text/plain": [
       "Pipeline(steps=[('tfidf', TfidfVectorizer()), ('clf', MultinomialNB())])"
      ]
     },
     "execution_count": 206,
     "metadata": {},
     "output_type": "execute_result"
    }
   ],
   "source": [
    "from sklearn.feature_extraction.text import TfidfVectorizer\n",
    "from sklearn.naive_bayes import MultinomialNB\n",
    "from sklearn.pipeline import Pipeline\n",
    "\n",
    "baseline = Pipeline([\n",
    "    (\"tfidf\", TfidfVectorizer()), # convert words to numbers using tfidf\n",
    "    (\"clf\", MultinomialNB()), # model the text\n",
    "])\n",
    "\n",
    "baseline_v1 = Pipeline([\n",
    "    (\"tfidf\", TfidfVectorizer()),\n",
    "    (\"clf\", MultinomialNB()),\n",
    "\n",
    "])\n",
    "\n",
    "baseline.fit(train_sentences, train_labels)\n",
    "baseline_v1.fit(train_sentences_10_percent, train_labels_10)"
   ]
  },
  {
   "cell_type": "code",
   "execution_count": null,
   "id": "96590366-0ded-4f53-8675-d80c1912a4bc",
   "metadata": {
    "colab": {
     "base_uri": "https://localhost:8080/"
    },
    "id": "96590366-0ded-4f53-8675-d80c1912a4bc",
    "outputId": "282e9158-a94e-477f-bb87-e55965ed28b3"
   },
   "outputs": [
    {
     "name": "stdout",
     "output_type": "stream",
     "text": [
      "Our baseline model achieves an accuracy of: 79.27%\n",
      "Our baseline_v1 model achives an accuracy of: 73.34%\n"
     ]
    }
   ],
   "source": [
    "baseline_score = baseline.score(val_sentences, val_labels)\n",
    "print(f\"Our baseline model achieves an accuracy of: {baseline_score*100:.2f}%\")\n",
    "\n",
    "baseline_v1_score = baseline_v1.score(val_sentences_90, val_labels_90)\n",
    "print(f\"Our baseline_v1 model achives an accuracy of: {baseline_v1_score*100:.2f}%\")"
   ]
  },
  {
   "cell_type": "code",
   "execution_count": null,
   "id": "518965d9-32f1-4003-af02-f517386749ac",
   "metadata": {
    "colab": {
     "base_uri": "https://localhost:8080/"
    },
    "id": "518965d9-32f1-4003-af02-f517386749ac",
    "outputId": "f704e1cb-43db-4532-ecca-51782b0da750"
   },
   "outputs": [
    {
     "data": {
      "text/plain": [
       "array([1, 1, 1, 0, 0, 1, 1, 1, 1, 0, 0, 1, 0, 0, 0, 0, 0, 0, 0, 1])"
      ]
     },
     "execution_count": 160,
     "metadata": {},
     "output_type": "execute_result"
    }
   ],
   "source": [
    "baseline_preds = baseline.predict(val_sentences)\n",
    "baseline_preds[:20]"
   ]
  },
  {
   "cell_type": "code",
   "execution_count": null,
   "id": "67550146-26bd-432a-a3f8-7ad6cb27025d",
   "metadata": {
    "id": "67550146-26bd-432a-a3f8-7ad6cb27025d"
   },
   "outputs": [],
   "source": [
    "from sklearn.metrics import accuracy_score, precision_recall_fscore_support\n",
    "\n",
    "def calculate_results(y_true, y_pred):\n",
    "    \"\"\"\n",
    "  Calculates model accuracy, precision, recall and f1 score of a binary classification model.\n",
    "    Args:\n",
    "    y_true = true labels in the form of a 1D array\n",
    "    y_pred = predicted labels in the form of a 1D array\n",
    "\n",
    "    Return a dictionary of accuracy, precision, recall, f1-score.\n",
    "    \"\"\"\n",
    "    model_accuracy = accuracy_score(y_true, y_pred) * 100\n",
    "    model_precision, model_recall, model_f1, _ = precision_recall_fscore_support(y_true, y_pred, average=\"weighted\")\n",
    "    model_results = {\"accuracy\": model_accuracy,\n",
    "                    \"precision\": model_precision,\n",
    "                    \"recall\": model_recall,\n",
    "                    \"f1\": model_f1}\n",
    "    return model_results"
   ]
  },
  {
   "cell_type": "code",
   "execution_count": null,
   "id": "74646bf0-0a58-4879-b53c-11bfd1a37647",
   "metadata": {
    "colab": {
     "base_uri": "https://localhost:8080/"
    },
    "id": "74646bf0-0a58-4879-b53c-11bfd1a37647",
    "outputId": "8d7300b5-12e1-409e-e1e0-5021409fa35f"
   },
   "outputs": [
    {
     "data": {
      "text/plain": [
       "{'accuracy': 79.26509186351706,\n",
       " 'precision': 0.8111390004213173,\n",
       " 'recall': 0.7926509186351706,\n",
       " 'f1': 0.7862189758049549}"
      ]
     },
     "execution_count": 31,
     "metadata": {},
     "output_type": "execute_result"
    }
   ],
   "source": [
    "baseline_results = calculate_results(y_true=val_labels,\n",
    "                                     y_pred=baseline_preds)\n",
    "baseline_results"
   ]
  },
  {
   "cell_type": "code",
   "execution_count": null,
   "id": "5c19b5fe-6fba-479d-82c6-f5397f28cb10",
   "metadata": {
    "id": "5c19b5fe-6fba-479d-82c6-f5397f28cb10"
   },
   "outputs": [],
   "source": [
    "from helper_functions import create_tensorboard_callback\n",
    "\n",
    "SAVE_DIR = \"model_logs\""
   ]
  },
  {
   "cell_type": "code",
   "execution_count": null,
   "id": "42441154-c551-40ca-95fd-ec3d81054c6d",
   "metadata": {
    "id": "42441154-c551-40ca-95fd-ec3d81054c6d"
   },
   "outputs": [],
   "source": [
    "# from tensorflow.keras import layers\n",
    "# inputs = layers.Input(shape=(1,), dtype=\"string\")\n",
    "# x = text_vectorizer(inputs)\n",
    "# x = embedding(x)\n",
    "# x = layers.GlobalAveragePooling1D()(x)\n",
    "# outputs = layers.Dense(1, activation=\"sigmoid\")(x)\n",
    "# model_1 = tf.keras.Model(inputs, outputs, name=\"model_1_dense\")"
   ]
  },
  {
   "cell_type": "code",
   "execution_count": null,
   "id": "tmfwhAo2eYIm",
   "metadata": {
    "colab": {
     "base_uri": "https://localhost:8080/"
    },
    "id": "tmfwhAo2eYIm",
    "outputId": "20d8a4dd-8efc-43db-addc-46ca0e109127"
   },
   "outputs": [
    {
     "name": "stdout",
     "output_type": "stream",
     "text": [
      "Model: \"sequential_4\"\n",
      "_________________________________________________________________\n",
      " Layer (type)                Output Shape              Param #   \n",
      "=================================================================\n",
      " text_vectorization_1 (Text  (None, 15)                0         \n",
      " Vectorization)                                                  \n",
      "                                                                 \n",
      " embedding_1 (Embedding)     (None, 15, 128)           1280000   \n",
      "                                                                 \n",
      " dense_23 (Dense)            (None, 15, 64)            8256      \n",
      "                                                                 \n",
      " global_average_pooling1d_5  (None, 64)                0         \n",
      "  (GlobalAveragePooling1D)                                       \n",
      "                                                                 \n",
      " dense_24 (Dense)            (None, 1)                 65        \n",
      "                                                                 \n",
      "=================================================================\n",
      "Total params: 1288321 (4.91 MB)\n",
      "Trainable params: 1288321 (4.91 MB)\n",
      "Non-trainable params: 0 (0.00 Byte)\n",
      "_________________________________________________________________\n"
     ]
    }
   ],
   "source": [
    "import tensorflow as tf\n",
    "from tensorflow.keras import layers\n",
    "\n",
    "model_1 = tf.keras.Sequential()\n",
    "model_1.add(layers.Input(shape=(1,), dtype=\"string\"))\n",
    "model_1.add(text_vectorizer)\n",
    "model_1.add(embedding)\n",
    "model_1.add(layers.Dense(64, activation=\"relu\"))\n",
    "model_1.add(layers.GlobalAveragePooling1D())\n",
    "model_1.add(layers.Dense(1, activation=\"sigmoid\"))\n",
    "\n",
    "\n",
    "model_1.compile(loss=\"binary_crossentropy\",\n",
    "              optimizer=tf.keras.optimizers.Adam(),\n",
    "              metrics=[\"accuracy\"])\n",
    "\n",
    "model_1.summary()"
   ]
  },
  {
   "cell_type": "code",
   "execution_count": null,
   "id": "c036203b-8450-4710-b960-62483d293410",
   "metadata": {
    "colab": {
     "base_uri": "https://localhost:8080/"
    },
    "id": "c036203b-8450-4710-b960-62483d293410",
    "outputId": "f851006e-e2b0-4768-8bda-c93dcd1adc30"
   },
   "outputs": [
    {
     "name": "stdout",
     "output_type": "stream",
     "text": [
      "Saving TensorBoard log files to: model_logs/simple_dense_model/20240416-104741\n",
      "Epoch 1/5\n",
      "215/215 [==============================] - 9s 32ms/step - loss: 0.2266 - accuracy: 0.9464 - val_loss: 0.6208 - val_accuracy: 0.7703\n",
      "Epoch 2/5\n",
      "215/215 [==============================] - 4s 19ms/step - loss: 0.0812 - accuracy: 0.9750 - val_loss: 0.8004 - val_accuracy: 0.7651\n",
      "Epoch 3/5\n",
      "215/215 [==============================] - 3s 13ms/step - loss: 0.0645 - accuracy: 0.9764 - val_loss: 0.9180 - val_accuracy: 0.7651\n",
      "Epoch 4/5\n",
      "215/215 [==============================] - 2s 7ms/step - loss: 0.0586 - accuracy: 0.9785 - val_loss: 1.0150 - val_accuracy: 0.7625\n",
      "Epoch 5/5\n",
      "215/215 [==============================] - 2s 8ms/step - loss: 0.0537 - accuracy: 0.9775 - val_loss: 1.0927 - val_accuracy: 0.7612\n"
     ]
    }
   ],
   "source": [
    "model_1_history = model_1.fit(train_sentences,\n",
    "                              train_labels,\n",
    "                              epochs=5,\n",
    "                              validation_data=(val_sentences, val_labels),\n",
    "                              callbacks=[create_tensorboard_callback(dir_name=SAVE_DIR,\n",
    "                                                                     experiment_name=\"simple_dense_model\")])"
   ]
  },
  {
   "cell_type": "code",
   "execution_count": null,
   "id": "dGIJn1Kug8xk",
   "metadata": {
    "colab": {
     "base_uri": "https://localhost:8080/"
    },
    "id": "dGIJn1Kug8xk",
    "outputId": "506f8c6e-7784-498a-a23f-04addad6f0ea"
   },
   "outputs": [
    {
     "name": "stdout",
     "output_type": "stream",
     "text": [
      "24/24 [==============================] - 0s 4ms/step - loss: 1.0927 - accuracy: 0.7612\n"
     ]
    },
    {
     "data": {
      "text/plain": [
       "[1.0926700830459595, 0.76115483045578]"
      ]
     },
     "execution_count": 184,
     "metadata": {},
     "output_type": "execute_result"
    }
   ],
   "source": [
    "model_1.evaluate(val_sentences, val_labels)"
   ]
  },
  {
   "cell_type": "code",
   "execution_count": null,
   "id": "18a1c3a4-f36e-46d6-b6f0-c6f58f54f98a",
   "metadata": {
    "colab": {
     "base_uri": "https://localhost:8080/"
    },
    "id": "18a1c3a4-f36e-46d6-b6f0-c6f58f54f98a",
    "outputId": "0b380e06-770f-4169-b852-00bbee5232ce"
   },
   "outputs": [
    {
     "data": {
      "text/plain": [
       "[<tf.Variable 'embedding_1/embeddings:0' shape=(10000, 128) dtype=float32, numpy=\n",
       " array([[ 0.02106338, -0.04539728,  0.05867413, ...,  0.01804908,\n",
       "         -0.00322121,  0.00344549],\n",
       "        [-0.03519374,  0.01531914, -0.005963  , ..., -0.03189863,\n",
       "         -0.00983267,  0.02660864],\n",
       "        [ 0.00700877,  0.00174412,  0.00894701, ...,  0.03314073,\n",
       "          0.03105928, -0.0602543 ],\n",
       "        ...,\n",
       "        [ 0.00736568,  0.04532123, -0.04305228, ...,  0.04137529,\n",
       "          0.01213801,  0.01762248],\n",
       "        [ 0.05496906, -0.0375995 ,  0.06304831, ...,  0.05690532,\n",
       "         -0.00303569, -0.09145936],\n",
       "        [ 0.09290449, -0.08724672,  0.1075459 , ...,  0.04565138,\n",
       "         -0.05933434, -0.111234  ]], dtype=float32)>]"
      ]
     },
     "execution_count": 39,
     "metadata": {},
     "output_type": "execute_result"
    }
   ],
   "source": [
    "embedding.weights"
   ]
  },
  {
   "cell_type": "code",
   "execution_count": null,
   "id": "c129c394-7e5d-496c-a7a8-eac61019d756",
   "metadata": {
    "colab": {
     "base_uri": "https://localhost:8080/"
    },
    "id": "c129c394-7e5d-496c-a7a8-eac61019d756",
    "outputId": "5d275d5e-fa22-4a27-e8c6-7d50f2d9cb4b"
   },
   "outputs": [
    {
     "name": "stdout",
     "output_type": "stream",
     "text": [
      "(10000, 128)\n"
     ]
    }
   ],
   "source": [
    "embed_weights = model_1.get_layer(\"embedding_1\").get_weights()[0]\n",
    "print(embed_weights.shape)"
   ]
  },
  {
   "cell_type": "code",
   "execution_count": null,
   "id": "a9102024-aca6-4b7f-b526-7571ca1b68d8",
   "metadata": {
    "colab": {
     "base_uri": "https://localhost:8080/",
     "height": 430
    },
    "id": "a9102024-aca6-4b7f-b526-7571ca1b68d8",
    "outputId": "7981aeee-fee4-48d5-9256-8c46370f76e3"
   },
   "outputs": [
    {
     "data": {
      "image/png": "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\n",
      "text/plain": [
       "<Figure size 1200x600 with 2 Axes>"
      ]
     },
     "metadata": {},
     "output_type": "display_data"
    }
   ],
   "source": [
    "import matplotlib.pyplot as plt\n",
    "\n",
    "def plot_training_history(model_history):\n",
    "    fig, (ax1, ax2) = plt.subplots(1, 2, figsize=(12, 6))\n",
    "\n",
    "    ax1.plot(model_history.history['loss'], label=\"Training_Loss\")\n",
    "    ax1.plot(model_history.history['val_loss'], label=\"Validation Loss\")\n",
    "    ax1.set_title('Model Loss')\n",
    "    ax1.set_xlabel('Epoch')\n",
    "    ax1.set_ylabel('Loss')\n",
    "    ax1.grid()\n",
    "    ax1.legend()\n",
    "    ax1.set_ylim(0, 1)\n",
    "\n",
    "    ax2.plot(model_history.history['accuracy'], label=\"Training Accuracy\")\n",
    "    ax2.plot(model_history.history['val_accuracy'], label=\"Validation Accuracy\")\n",
    "    ax2.set_title('Model Accuracy')\n",
    "    ax2.set_xlabel('Epoch')\n",
    "    ax2.set_ylabel('Accuracy')\n",
    "    ax2.grid()\n",
    "    ax2.legend()\n",
    "    ax2.set_ylim(0, 1)\n",
    "\n",
    "    plt.tight_layout()\n",
    "    plt.show()\n",
    "\n",
    "plot_training_history(model_history=model_1_history)"
   ]
  },
  {
   "cell_type": "code",
   "execution_count": null,
   "id": "ed8763bb-547c-4a91-afd7-0f5c5bfe6ecd",
   "metadata": {
    "colab": {
     "base_uri": "https://localhost:8080/"
    },
    "id": "ed8763bb-547c-4a91-afd7-0f5c5bfe6ecd",
    "outputId": "fd69fba6-cf09-4fde-ca6a-b91cc9f06490"
   },
   "outputs": [
    {
     "name": "stdout",
     "output_type": "stream",
     "text": [
      "24/24 [==============================] - 0s 3ms/step\n"
     ]
    },
    {
     "data": {
      "text/plain": [
       "array([[4.3931687e-01],\n",
       "       [6.2530822e-01],\n",
       "       [9.9967933e-01],\n",
       "       [6.4803682e-02],\n",
       "       [1.3409305e-05],\n",
       "       [9.9404669e-01],\n",
       "       [6.1863381e-01],\n",
       "       [1.0000000e+00],\n",
       "       [9.9999940e-01],\n",
       "       [8.8455135e-01]], dtype=float32)"
      ]
     },
     "execution_count": 187,
     "metadata": {},
     "output_type": "execute_result"
    }
   ],
   "source": [
    "model_1_pred_probs = model_1.predict(val_sentences)\n",
    "model_1_pred_probs[:10]"
   ]
  },
  {
   "cell_type": "code",
   "execution_count": null,
   "id": "54468360-4b4f-4714-9775-3c144611b4bb",
   "metadata": {
    "colab": {
     "base_uri": "https://localhost:8080/"
    },
    "id": "54468360-4b4f-4714-9775-3c144611b4bb",
    "outputId": "5722434f-c89a-4d0e-8289-584cd53b1cc2"
   },
   "outputs": [
    {
     "data": {
      "text/plain": [
       "<tf.Tensor: shape=(20,), dtype=float32, numpy=\n",
       "array([0., 1., 1., 0., 0., 1., 1., 1., 1., 0., 0., 1., 0., 0., 0., 0., 0.,\n",
       "       0., 0., 1.], dtype=float32)>"
      ]
     },
     "execution_count": 43,
     "metadata": {},
     "output_type": "execute_result"
    }
   ],
   "source": [
    "model_1_preds = tf.squeeze(tf.round(model_1_pred_probs))\n",
    "model_1_preds[:20]"
   ]
  },
  {
   "cell_type": "code",
   "execution_count": null,
   "id": "45b98843-c885-40ed-a1fd-a4764ccdf3f2",
   "metadata": {
    "colab": {
     "base_uri": "https://localhost:8080/"
    },
    "id": "45b98843-c885-40ed-a1fd-a4764ccdf3f2",
    "outputId": "4c1a4238-f709-4a5c-cf7a-4626e9a6992b"
   },
   "outputs": [
    {
     "data": {
      "text/plain": [
       "{'accuracy': 78.60892388451444,\n",
       " 'precision': 0.7903277546022673,\n",
       " 'recall': 0.7860892388451444,\n",
       " 'f1': 0.7832971347503846}"
      ]
     },
     "execution_count": 44,
     "metadata": {},
     "output_type": "execute_result"
    }
   ],
   "source": [
    "model_1_results = calculate_results(y_true=val_labels,\n",
    "                                    y_pred=model_1_preds)\n",
    "model_1_results"
   ]
  },
  {
   "cell_type": "code",
   "execution_count": null,
   "id": "45e4940b-d3e2-4c6b-985b-4d7caafa16ea",
   "metadata": {
    "colab": {
     "base_uri": "https://localhost:8080/"
    },
    "id": "45e4940b-d3e2-4c6b-985b-4d7caafa16ea",
    "outputId": "2e45ae33-1010-4071-edef-8f21fb61fa79"
   },
   "outputs": [
    {
     "data": {
      "text/plain": [
       "array([False, False, False, False])"
      ]
     },
     "execution_count": 45,
     "metadata": {},
     "output_type": "execute_result"
    }
   ],
   "source": [
    "import numpy as np\n",
    "np.array(list(model_1_results.values())) > np.array(list(baseline_results.values()))"
   ]
  },
  {
   "cell_type": "code",
   "execution_count": null,
   "id": "c38f7065-b4eb-4807-9d34-a9b2f17b2f44",
   "metadata": {
    "colab": {
     "base_uri": "https://localhost:8080/"
    },
    "id": "c38f7065-b4eb-4807-9d34-a9b2f17b2f44",
    "outputId": "bc2e2143-569e-4afd-86ad-6ce04b70b1d5"
   },
   "outputs": [
    {
     "name": "stdout",
     "output_type": "stream",
     "text": [
      "Baseline accuracy: 79.27, New accuracy: 78.61, Difference: -0.66\n",
      "Baseline precision: 0.81, New precision: 0.79, Difference: -0.02\n",
      "Baseline recall: 0.79, New recall: 0.79, Difference: -0.01\n",
      "Baseline f1: 0.79, New f1: 0.78, Difference: -0.00\n"
     ]
    }
   ],
   "source": [
    "def compare_baseline_to_new_results(baseline_results, new_model_results):\n",
    "    for key, value in baseline_results.items():\n",
    "        print(f\"Baseline {key}: {value:.2f}, New {key}: {new_model_results[key]:.2f}, Difference: {new_model_results[key]-value:.2f}\")\n",
    "\n",
    "compare_baseline_to_new_results(baseline_results=baseline_results,\n",
    "                                new_model_results=model_1_results)"
   ]
  },
  {
   "cell_type": "code",
   "execution_count": null,
   "id": "44334179-f5c3-4927-9970-12c6b9909b3f",
   "metadata": {
    "colab": {
     "base_uri": "https://localhost:8080/"
    },
    "id": "44334179-f5c3-4927-9970-12c6b9909b3f",
    "outputId": "a3503d0d-d80f-4372-ffcd-89e62877617d"
   },
   "outputs": [
    {
     "data": {
      "text/plain": [
       "(10000, ['', '[UNK]', 'the', 'a', 'in', 'to', 'of', 'and', 'i', 'is'])"
      ]
     },
     "execution_count": 47,
     "metadata": {},
     "output_type": "execute_result"
    }
   ],
   "source": [
    "# Get the vocabulary from the text vectorization layer\n",
    "words_in_vocab = text_vectorizer.get_vocabulary()\n",
    "len(words_in_vocab), words_in_vocab[:10]"
   ]
  },
  {
   "cell_type": "code",
   "execution_count": null,
   "id": "b4281f73-0c61-4048-ac43-a6de828264fe",
   "metadata": {
    "colab": {
     "base_uri": "https://localhost:8080/"
    },
    "id": "b4281f73-0c61-4048-ac43-a6de828264fe",
    "outputId": "28d20469-d44e-41aa-bfe1-667a66124b56"
   },
   "outputs": [
    {
     "name": "stdout",
     "output_type": "stream",
     "text": [
      "Model: \"model_1_dense\"\n",
      "_________________________________________________________________\n",
      " Layer (type)                Output Shape              Param #   \n",
      "=================================================================\n",
      " input_1 (InputLayer)        [(None, 1)]               0         \n",
      "                                                                 \n",
      " text_vectorization_1 (Text  (None, 15)                0         \n",
      " Vectorization)                                                  \n",
      "                                                                 \n",
      " embedding_1 (Embedding)     (None, 15, 128)           1280000   \n",
      "                                                                 \n",
      " global_average_pooling1d (  (None, 128)               0         \n",
      " GlobalAveragePooling1D)                                         \n",
      "                                                                 \n",
      " dense (Dense)               (None, 1)                 129       \n",
      "                                                                 \n",
      "=================================================================\n",
      "Total params: 1280129 (4.88 MB)\n",
      "Trainable params: 1280129 (4.88 MB)\n",
      "Non-trainable params: 0 (0.00 Byte)\n",
      "_________________________________________________________________\n"
     ]
    }
   ],
   "source": [
    "model_1.summary()"
   ]
  },
  {
   "cell_type": "code",
   "execution_count": null,
   "id": "a0e9ab0b-631d-40ae-97f2-6d5eb9a68ebc",
   "metadata": {
    "colab": {
     "base_uri": "https://localhost:8080/"
    },
    "id": "a0e9ab0b-631d-40ae-97f2-6d5eb9a68ebc",
    "outputId": "75f366b7-14ce-4c61-948e-7a86f3711ea1"
   },
   "outputs": [
    {
     "name": "stdout",
     "output_type": "stream",
     "text": [
      "(10000, 128)\n"
     ]
    }
   ],
   "source": [
    "# Get the weight matrix of mebedding layer\n",
    "# (these are the numerical patterns between the text in the training dataset the model has learned)\n",
    "embed_weights = model_1.get_layer(\"embedding_1\").get_weights()[0]\n",
    "print(embed_weights.shape)"
   ]
  },
  {
   "cell_type": "code",
   "execution_count": null,
   "id": "2b555b94-fbd9-4b94-9100-46f52c44ee27",
   "metadata": {
    "id": "2b555b94-fbd9-4b94-9100-46f52c44ee27"
   },
   "outputs": [],
   "source": [
    "# tf.random.set_seed(42)\n",
    "# from tensorflow.keras import layers\n",
    "model_2_embedding = layers.Embedding(input_dim=max_vocab_length,\n",
    "                                     output_dim=128,\n",
    "                                     embeddings_initializer=\"uniform\",\n",
    "                                     name=\"embedding_2\")\n",
    "# # LSTM model\n",
    "# inputs = layers.Input(shape=(1,), dtype=\"string\")\n",
    "# x = text_vectorizer(inputs)\n",
    "# x = model_2_embedding(x)\n",
    "# print(x.shape)\n",
    "# x = layers.LSTM(64)(x)\n",
    "# print(x.shape)\n",
    "# x = layers.Dense(64, activation='relu')(x)\n",
    "# outputs = layers.Dense(1, activation=\"sigmoid\")(x)\n",
    "# model_2 = tf.keras.Model(inputs, outputs, name=\"model_2_LSTM\")"
   ]
  },
  {
   "cell_type": "code",
   "execution_count": null,
   "id": "F2GtybHyhyR6",
   "metadata": {
    "colab": {
     "base_uri": "https://localhost:8080/"
    },
    "id": "F2GtybHyhyR6",
    "outputId": "e060cae0-5ed0-4d25-d998-6c7fc50cafe3"
   },
   "outputs": [
    {
     "name": "stdout",
     "output_type": "stream",
     "text": [
      "Model: \"sequential_11\"\n",
      "_________________________________________________________________\n",
      " Layer (type)                Output Shape              Param #   \n",
      "=================================================================\n",
      " text_vectorization_1 (Text  (None, 15)                0         \n",
      " Vectorization)                                                  \n",
      "                                                                 \n",
      " embedding_2 (Embedding)     (None, 15, 128)           1280000   \n",
      "                                                                 \n",
      " lstm_4 (LSTM)               (None, 64)                49408     \n",
      "                                                                 \n",
      " dense_26 (Dense)            (None, 64)                4160      \n",
      "                                                                 \n",
      " dense_27 (Dense)            (None, 1)                 65        \n",
      "                                                                 \n",
      "=================================================================\n",
      "Total params: 1333633 (5.09 MB)\n",
      "Trainable params: 1333633 (5.09 MB)\n",
      "Non-trainable params: 0 (0.00 Byte)\n",
      "_________________________________________________________________\n"
     ]
    }
   ],
   "source": [
    "from tensorflow.keras import layers\n",
    "\n",
    "model_2 = tf.keras.Sequential()\n",
    "model_2.add(layers.Input(shape=(1,), dtype=\"string\"))\n",
    "model_2.add(text_vectorizer)\n",
    "model_2.add(model_2_embedding)\n",
    "model_2.add(layers.LSTM(64))\n",
    "model_2.add(layers.Dense(64, activation=\"relu\"))\n",
    "model_2.add(layers.Dense(1, activation=\"sigmoid\"))\n",
    "\n",
    "model_2.compile(loss=\"binary_crossentropy\",\n",
    "                optimizer=tf.keras.optimizers.Adam(),\n",
    "                metrics=[\"accuracy\"])\n",
    "\n",
    "model_2.summary()"
   ]
  },
  {
   "cell_type": "code",
   "execution_count": null,
   "id": "c9d40d09-bf33-4f70-ae00-3c6c49a134d1",
   "metadata": {
    "colab": {
     "base_uri": "https://localhost:8080/"
    },
    "id": "c9d40d09-bf33-4f70-ae00-3c6c49a134d1",
    "outputId": "c3795bac-b78b-4756-9d7c-5d93909c9a2b"
   },
   "outputs": [
    {
     "name": "stdout",
     "output_type": "stream",
     "text": [
      "Saving TensorBoard log files to: model_logs/LSTM/20240416-091304\n",
      "Epoch 1/5\n",
      "215/215 [==============================] - 11s 39ms/step - loss: 0.5127 - accuracy: 0.7409 - val_loss: 0.4539 - val_accuracy: 0.7848\n",
      "Epoch 2/5\n",
      "215/215 [==============================] - 2s 10ms/step - loss: 0.3163 - accuracy: 0.8727 - val_loss: 0.5077 - val_accuracy: 0.7822\n",
      "Epoch 3/5\n",
      "215/215 [==============================] - 2s 10ms/step - loss: 0.2165 - accuracy: 0.9155 - val_loss: 0.5883 - val_accuracy: 0.7677\n",
      "Epoch 4/5\n",
      "215/215 [==============================] - 2s 11ms/step - loss: 0.1509 - accuracy: 0.9447 - val_loss: 0.7036 - val_accuracy: 0.7730\n",
      "Epoch 5/5\n",
      "215/215 [==============================] - 3s 12ms/step - loss: 0.1064 - accuracy: 0.9583 - val_loss: 0.7901 - val_accuracy: 0.7690\n"
     ]
    }
   ],
   "source": [
    "model_2_history = model_2.fit(train_sentences,\n",
    "                              train_labels,\n",
    "                              epochs=5,\n",
    "                              validation_data=(val_sentences, val_labels),\n",
    "                              callbacks=[create_tensorboard_callback(SAVE_DIR,\n",
    "                                                                     \"LSTM\")])"
   ]
  },
  {
   "cell_type": "code",
   "execution_count": null,
   "id": "ec07a30e-c689-450a-b901-5cf24faec8b1",
   "metadata": {
    "colab": {
     "base_uri": "https://localhost:8080/"
    },
    "id": "ec07a30e-c689-450a-b901-5cf24faec8b1",
    "outputId": "3a021f40-fa08-4bd2-b994-0ede4e34c14e"
   },
   "outputs": [
    {
     "name": "stdout",
     "output_type": "stream",
     "text": [
      "24/24 [==============================] - 0s 3ms/step\n"
     ]
    },
    {
     "data": {
      "text/plain": [
       "((762, 1),\n",
       " array([[1.5109340e-02],\n",
       "        [7.4792045e-01],\n",
       "        [9.9950147e-01],\n",
       "        [5.5398706e-02],\n",
       "        [6.4544682e-04],\n",
       "        [9.9970716e-01],\n",
       "        [8.1830424e-01],\n",
       "        [9.9994075e-01],\n",
       "        [9.9971026e-01],\n",
       "        [1.9047469e-01]], dtype=float32))"
      ]
     },
     "execution_count": 54,
     "metadata": {},
     "output_type": "execute_result"
    }
   ],
   "source": [
    "model_2_pred_probs = model_2.predict(val_sentences)\n",
    "model_2_pred_probs.shape, model_2_pred_probs[:10]"
   ]
  },
  {
   "cell_type": "code",
   "execution_count": null,
   "id": "39591a62-3597-440f-8ad8-d0c1ce54803a",
   "metadata": {
    "colab": {
     "base_uri": "https://localhost:8080/"
    },
    "id": "39591a62-3597-440f-8ad8-d0c1ce54803a",
    "outputId": "deab7191-cedb-43a6-f96b-4d1015942ff8"
   },
   "outputs": [
    {
     "data": {
      "text/plain": [
       "<tf.Tensor: shape=(10,), dtype=float32, numpy=array([0., 1., 1., 0., 0., 1., 1., 1., 1., 0.], dtype=float32)>"
      ]
     },
     "execution_count": 55,
     "metadata": {},
     "output_type": "execute_result"
    }
   ],
   "source": [
    "model_2_preds = tf.squeeze(tf.round(model_2_pred_probs))\n",
    "model_2_preds[:10]"
   ]
  },
  {
   "cell_type": "code",
   "execution_count": null,
   "id": "51e6ea9c-744a-4dc6-9a16-df519476d08a",
   "metadata": {
    "colab": {
     "base_uri": "https://localhost:8080/"
    },
    "id": "51e6ea9c-744a-4dc6-9a16-df519476d08a",
    "outputId": "fac69546-33de-474e-a335-5d96c73992ca"
   },
   "outputs": [
    {
     "data": {
      "text/plain": [
       "{'accuracy': 76.9028871391076,\n",
       " 'precision': 0.7739700256882782,\n",
       " 'recall': 0.7690288713910761,\n",
       " 'f1': 0.7654561636171319}"
      ]
     },
     "execution_count": 56,
     "metadata": {},
     "output_type": "execute_result"
    }
   ],
   "source": [
    "model_2_results = calculate_results(y_true=val_labels,\n",
    "                                    y_pred=model_2_preds)\n",
    "model_2_results"
   ]
  },
  {
   "cell_type": "code",
   "execution_count": null,
   "id": "3817c213-bbef-4b2e-baa0-deb1fac08853",
   "metadata": {
    "colab": {
     "base_uri": "https://localhost:8080/"
    },
    "id": "3817c213-bbef-4b2e-baa0-deb1fac08853",
    "outputId": "2505d402-d9bc-458e-addc-b70538ad3bcd"
   },
   "outputs": [
    {
     "name": "stdout",
     "output_type": "stream",
     "text": [
      "Baseline accuracy: 79.27, New accuracy: 76.90, Difference: -2.36\n",
      "Baseline precision: 0.81, New precision: 0.77, Difference: -0.04\n",
      "Baseline recall: 0.79, New recall: 0.77, Difference: -0.02\n",
      "Baseline f1: 0.79, New f1: 0.77, Difference: -0.02\n"
     ]
    }
   ],
   "source": [
    "compare_baseline_to_new_results(baseline_results, model_2_results)"
   ]
  },
  {
   "cell_type": "code",
   "execution_count": null,
   "id": "57417a84-8844-4f78-b759-eabd7dd42229",
   "metadata": {
    "id": "57417a84-8844-4f78-b759-eabd7dd42229"
   },
   "outputs": [],
   "source": [
    "# GRU model\n",
    "tf.random.set_seed(42)\n",
    "from tensorflow.keras import layers\n",
    "model_3_embedding = layers.Embedding(input_dim=max_vocab_length,\n",
    "                                     output_dim=128,\n",
    "                                     embeddings_initializer=\"uniform\",\n",
    "                                     name=\"embedding_3\")\n",
    "\n",
    "inputs = layers.Input(shape=(1,), dtype=\"string\")\n",
    "x = text_vectorizer(inputs)\n",
    "x = model_3_embedding(x)\n",
    "x = layers.GRU(64)(x)\n",
    "x = layers.Dense(64, activation=\"relu\")(x)\n",
    "outputs = layers.Dense(1, activation=\"sigmoid\")(x)\n",
    "model_3 = tf.keras.Model(inputs, outputs, name=\"model_3_GRU\")"
   ]
  },
  {
   "cell_type": "code",
   "execution_count": null,
   "id": "834f3759-271f-47ff-b46b-d23cbc7502ce",
   "metadata": {
    "id": "834f3759-271f-47ff-b46b-d23cbc7502ce"
   },
   "outputs": [],
   "source": [
    "model_3.compile(loss=\"binary_crossentropy\",\n",
    "                 optimizer=tf.keras.optimizers.Adam(),\n",
    "                 metrics=[\"accuracy\"])"
   ]
  },
  {
   "cell_type": "code",
   "execution_count": null,
   "id": "87615b7f-c02e-40a9-bd97-cfc58aa49f80",
   "metadata": {
    "colab": {
     "base_uri": "https://localhost:8080/"
    },
    "id": "87615b7f-c02e-40a9-bd97-cfc58aa49f80",
    "outputId": "dda7ebaf-b858-416d-a1a5-72f2d7787409"
   },
   "outputs": [
    {
     "name": "stdout",
     "output_type": "stream",
     "text": [
      "Model: \"model_3_GRU\"\n",
      "_________________________________________________________________\n",
      " Layer (type)                Output Shape              Param #   \n",
      "=================================================================\n",
      " input_3 (InputLayer)        [(None, 1)]               0         \n",
      "                                                                 \n",
      " text_vectorization_1 (Text  (None, 15)                0         \n",
      " Vectorization)                                                  \n",
      "                                                                 \n",
      " embedding_3 (Embedding)     (None, 15, 128)           1280000   \n",
      "                                                                 \n",
      " gru (GRU)                   (None, 64)                37248     \n",
      "                                                                 \n",
      " dense_3 (Dense)             (None, 64)                4160      \n",
      "                                                                 \n",
      " dense_4 (Dense)             (None, 1)                 65        \n",
      "                                                                 \n",
      "=================================================================\n",
      "Total params: 1321473 (5.04 MB)\n",
      "Trainable params: 1321473 (5.04 MB)\n",
      "Non-trainable params: 0 (0.00 Byte)\n",
      "_________________________________________________________________\n"
     ]
    }
   ],
   "source": [
    "model_3.summary()"
   ]
  },
  {
   "cell_type": "code",
   "execution_count": null,
   "id": "7fb5755c-a9aa-4061-bd5e-8b4b4f910d0c",
   "metadata": {
    "colab": {
     "base_uri": "https://localhost:8080/"
    },
    "id": "7fb5755c-a9aa-4061-bd5e-8b4b4f910d0c",
    "outputId": "0843ed22-98f7-4452-a6a6-64f7b7445c4d"
   },
   "outputs": [
    {
     "name": "stdout",
     "output_type": "stream",
     "text": [
      "Saving TensorBoard log files to: model_logs/GRU/20240416-091326\n",
      "Epoch 1/5\n",
      "215/215 [==============================] - 11s 40ms/step - loss: 0.5350 - accuracy: 0.7211 - val_loss: 0.4507 - val_accuracy: 0.7835\n",
      "Epoch 2/5\n",
      "215/215 [==============================] - 3s 13ms/step - loss: 0.3239 - accuracy: 0.8678 - val_loss: 0.4819 - val_accuracy: 0.7861\n",
      "Epoch 3/5\n",
      "215/215 [==============================] - 2s 10ms/step - loss: 0.2211 - accuracy: 0.9178 - val_loss: 0.5462 - val_accuracy: 0.7677\n",
      "Epoch 4/5\n",
      "215/215 [==============================] - 2s 9ms/step - loss: 0.1568 - accuracy: 0.9437 - val_loss: 0.6388 - val_accuracy: 0.7756\n",
      "Epoch 5/5\n",
      "215/215 [==============================] - 2s 9ms/step - loss: 0.1152 - accuracy: 0.9587 - val_loss: 0.6652 - val_accuracy: 0.7638\n"
     ]
    }
   ],
   "source": [
    "model_3_history = model_3.fit(train_sentences,\n",
    "                              train_labels,\n",
    "                              epochs=5,\n",
    "                              validation_data=(val_sentences, val_labels),\n",
    "                              callbacks=[create_tensorboard_callback(SAVE_DIR, \"GRU\")])"
   ]
  },
  {
   "cell_type": "code",
   "execution_count": null,
   "id": "96e08528-1056-4003-9ca6-3aa19b9756ab",
   "metadata": {
    "colab": {
     "base_uri": "https://localhost:8080/"
    },
    "id": "96e08528-1056-4003-9ca6-3aa19b9756ab",
    "outputId": "f3d88f18-c222-4582-fa7e-eeb01a02fd5f"
   },
   "outputs": [
    {
     "name": "stdout",
     "output_type": "stream",
     "text": [
      "24/24 [==============================] - 1s 5ms/step\n"
     ]
    },
    {
     "data": {
      "text/plain": [
       "((762, 1),\n",
       " array([[0.19043976],\n",
       "        [0.88850045],\n",
       "        [0.9990017 ],\n",
       "        [0.11823603],\n",
       "        [0.01808476],\n",
       "        [0.9986098 ],\n",
       "        [0.6630031 ],\n",
       "        [0.99918205],\n",
       "        [0.99924624],\n",
       "        [0.56773275]], dtype=float32))"
      ]
     },
     "execution_count": 62,
     "metadata": {},
     "output_type": "execute_result"
    }
   ],
   "source": [
    "model_3_pred_probs = model_3.predict(val_sentences)\n",
    "model_3_pred_probs.shape, model_3_pred_probs[:10]"
   ]
  },
  {
   "cell_type": "code",
   "execution_count": null,
   "id": "f3be37ed-7433-4d74-ab01-c98459a7a351",
   "metadata": {
    "colab": {
     "base_uri": "https://localhost:8080/"
    },
    "id": "f3be37ed-7433-4d74-ab01-c98459a7a351",
    "outputId": "66ea1eec-8b7d-4099-f8a2-dc8567a4b154"
   },
   "outputs": [
    {
     "data": {
      "text/plain": [
       "<tf.Tensor: shape=(10,), dtype=float32, numpy=array([0., 1., 1., 0., 0., 1., 1., 1., 1., 1.], dtype=float32)>"
      ]
     },
     "execution_count": 63,
     "metadata": {},
     "output_type": "execute_result"
    }
   ],
   "source": [
    "model_3_preds = tf.squeeze(tf.round(model_3_pred_probs))\n",
    "model_3_preds[:10]"
   ]
  },
  {
   "cell_type": "code",
   "execution_count": null,
   "id": "3d011faa-f89b-4635-a92d-19262855a014",
   "metadata": {
    "colab": {
     "base_uri": "https://localhost:8080/"
    },
    "id": "3d011faa-f89b-4635-a92d-19262855a014",
    "outputId": "f38f58dd-25e9-4b87-e53e-e10983706580"
   },
   "outputs": [
    {
     "data": {
      "text/plain": [
       "{'accuracy': 76.37795275590551,\n",
       " 'precision': 0.7633947745168217,\n",
       " 'recall': 0.7637795275590551,\n",
       " 'f1': 0.7631568413202727}"
      ]
     },
     "execution_count": 64,
     "metadata": {},
     "output_type": "execute_result"
    }
   ],
   "source": [
    "model_3_results = calculate_results(y_true=val_labels,\n",
    "                                    y_pred=model_3_preds)\n",
    "model_3_results"
   ]
  },
  {
   "cell_type": "code",
   "execution_count": null,
   "id": "27c9a4e6-626b-4337-8afa-bf4aa25a5566",
   "metadata": {
    "colab": {
     "base_uri": "https://localhost:8080/"
    },
    "id": "27c9a4e6-626b-4337-8afa-bf4aa25a5566",
    "outputId": "a46306bf-d9dd-40af-afcb-94cbb6537897"
   },
   "outputs": [
    {
     "name": "stdout",
     "output_type": "stream",
     "text": [
      "Baseline accuracy: 79.27, New accuracy: 76.38, Difference: -2.89\n",
      "Baseline precision: 0.81, New precision: 0.76, Difference: -0.05\n",
      "Baseline recall: 0.79, New recall: 0.76, Difference: -0.03\n",
      "Baseline f1: 0.79, New f1: 0.76, Difference: -0.02\n"
     ]
    }
   ],
   "source": [
    "compare_baseline_to_new_results(baseline_results, model_3_results)"
   ]
  },
  {
   "cell_type": "code",
   "execution_count": null,
   "id": "57adf951-92b2-4879-8dbe-26e506d07391",
   "metadata": {
    "id": "57adf951-92b2-4879-8dbe-26e506d07391"
   },
   "outputs": [],
   "source": [
    "# Bidirectional model\n",
    "tf.random.set_seed(42)\n",
    "from tensorflow.keras import layers\n",
    "\n",
    "model_4_embedding = layers.Embedding(input_dim=max_vocab_length,\n",
    "                                     output_dim=128,\n",
    "                                     embeddings_initializer=\"uniform\",\n",
    "                                     name=\"embedding_4\")\n",
    "\n",
    "inputs = layers.Input(shape=(1,), dtype=\"string\")\n",
    "x = text_vectorizer(inputs)\n",
    "x = model_4_embedding(x)\n",
    "x = layers.Bidirectional(layers.LSTM(64))(x)\n",
    "outputs = layers.Dense(1, activation=\"sigmoid\")(x)\n",
    "model_4 = tf.keras.Model(inputs, outputs, name=\"model_4_Bidirectional\")"
   ]
  },
  {
   "cell_type": "code",
   "execution_count": null,
   "id": "ce4fcb6f-46fa-4b9a-9cf9-51349192ec2d",
   "metadata": {
    "id": "ce4fcb6f-46fa-4b9a-9cf9-51349192ec2d"
   },
   "outputs": [],
   "source": [
    "model_4.compile(loss=\"binary_crossentropy\",\n",
    "                optimizer=tf.keras.optimizers.Adam(),\n",
    "                metrics=[\"accuracy\"])"
   ]
  },
  {
   "cell_type": "code",
   "execution_count": null,
   "id": "f27dc57d-a685-42bc-bed1-29004249211a",
   "metadata": {
    "colab": {
     "base_uri": "https://localhost:8080/"
    },
    "id": "f27dc57d-a685-42bc-bed1-29004249211a",
    "outputId": "96c925eb-997e-45bd-c7e9-a45646524035"
   },
   "outputs": [
    {
     "name": "stdout",
     "output_type": "stream",
     "text": [
      "Model: \"model_4_Bidirectional\"\n",
      "_________________________________________________________________\n",
      " Layer (type)                Output Shape              Param #   \n",
      "=================================================================\n",
      " input_4 (InputLayer)        [(None, 1)]               0         \n",
      "                                                                 \n",
      " text_vectorization_1 (Text  (None, 15)                0         \n",
      " Vectorization)                                                  \n",
      "                                                                 \n",
      " embedding_4 (Embedding)     (None, 15, 128)           1280000   \n",
      "                                                                 \n",
      " bidirectional (Bidirection  (None, 128)               98816     \n",
      " al)                                                             \n",
      "                                                                 \n",
      " dense_5 (Dense)             (None, 1)                 129       \n",
      "                                                                 \n",
      "=================================================================\n",
      "Total params: 1378945 (5.26 MB)\n",
      "Trainable params: 1378945 (5.26 MB)\n",
      "Non-trainable params: 0 (0.00 Byte)\n",
      "_________________________________________________________________\n"
     ]
    }
   ],
   "source": [
    "model_4.summary()"
   ]
  },
  {
   "cell_type": "code",
   "execution_count": null,
   "id": "e118d3c6-3b91-493e-8807-6c464186843c",
   "metadata": {
    "colab": {
     "base_uri": "https://localhost:8080/"
    },
    "id": "e118d3c6-3b91-493e-8807-6c464186843c",
    "outputId": "3757018e-476f-4739-b1a6-d06006c41c5a"
   },
   "outputs": [
    {
     "name": "stdout",
     "output_type": "stream",
     "text": [
      "Saving TensorBoard log files to: model_logs/bidirectional_RNN/20240416-091348\n",
      "Epoch 1/5\n",
      "215/215 [==============================] - 13s 41ms/step - loss: 0.5086 - accuracy: 0.7475 - val_loss: 0.4581 - val_accuracy: 0.7887\n",
      "Epoch 2/5\n",
      "215/215 [==============================] - 3s 12ms/step - loss: 0.3133 - accuracy: 0.8739 - val_loss: 0.5201 - val_accuracy: 0.7717\n",
      "Epoch 3/5\n",
      "215/215 [==============================] - 3s 12ms/step - loss: 0.2142 - accuracy: 0.9181 - val_loss: 0.5603 - val_accuracy: 0.7769\n",
      "Epoch 4/5\n",
      "215/215 [==============================] - 2s 10ms/step - loss: 0.1507 - accuracy: 0.9483 - val_loss: 0.6359 - val_accuracy: 0.7756\n",
      "Epoch 5/5\n",
      "215/215 [==============================] - 2s 11ms/step - loss: 0.1084 - accuracy: 0.9616 - val_loss: 0.6695 - val_accuracy: 0.7638\n"
     ]
    }
   ],
   "source": [
    "model_4_history = model_4.fit(train_sentences,\n",
    "                              train_labels,\n",
    "                              epochs=5,\n",
    "                              validation_data=(val_sentences, val_labels),\n",
    "                              callbacks=[create_tensorboard_callback(SAVE_DIR, \"bidirectional_RNN\")])"
   ]
  },
  {
   "cell_type": "code",
   "execution_count": null,
   "id": "4d3b6a9f-3dc7-492b-8996-270a84343631",
   "metadata": {
    "colab": {
     "base_uri": "https://localhost:8080/"
    },
    "id": "4d3b6a9f-3dc7-492b-8996-270a84343631",
    "outputId": "8043f6a6-e6ba-4296-d6b4-c8167f982dc3"
   },
   "outputs": [
    {
     "name": "stdout",
     "output_type": "stream",
     "text": [
      "24/24 [==============================] - 1s 5ms/step\n"
     ]
    },
    {
     "data": {
      "text/plain": [
       "array([[0.01302608],\n",
       "       [0.8789188 ],\n",
       "       [0.999255  ],\n",
       "       [0.18645461],\n",
       "       [0.00281129],\n",
       "       [0.9944296 ],\n",
       "       [0.8618155 ],\n",
       "       [0.99946564],\n",
       "       [0.99946755],\n",
       "       [0.38019758]], dtype=float32)"
      ]
     },
     "execution_count": 70,
     "metadata": {},
     "output_type": "execute_result"
    }
   ],
   "source": [
    "model_4_pred_probs = model_4.predict(val_sentences)\n",
    "model_4_pred_probs[:10]"
   ]
  },
  {
   "cell_type": "code",
   "execution_count": null,
   "id": "b529505b-cc0a-4e5e-bf05-90a9531e6737",
   "metadata": {
    "colab": {
     "base_uri": "https://localhost:8080/"
    },
    "id": "b529505b-cc0a-4e5e-bf05-90a9531e6737",
    "outputId": "c856055e-0e95-4859-caa6-3b874cdd9307"
   },
   "outputs": [
    {
     "data": {
      "text/plain": [
       "<tf.Tensor: shape=(10,), dtype=float32, numpy=array([0., 1., 1., 0., 0., 1., 1., 1., 1., 0.], dtype=float32)>"
      ]
     },
     "execution_count": 71,
     "metadata": {},
     "output_type": "execute_result"
    }
   ],
   "source": [
    "model_4_preds = tf.squeeze(tf.round(model_4_pred_probs))\n",
    "model_4_preds[:10]"
   ]
  },
  {
   "cell_type": "code",
   "execution_count": null,
   "id": "9d983282-7deb-43f9-9919-85c3f682cadb",
   "metadata": {
    "colab": {
     "base_uri": "https://localhost:8080/"
    },
    "id": "9d983282-7deb-43f9-9919-85c3f682cadb",
    "outputId": "b6037264-73d3-4e8b-e909-2b749ab696f4"
   },
   "outputs": [
    {
     "data": {
      "text/plain": [
       "{'accuracy': 76.37795275590551,\n",
       " 'precision': 0.7633947745168217,\n",
       " 'recall': 0.7637795275590551,\n",
       " 'f1': 0.7631568413202727}"
      ]
     },
     "execution_count": 72,
     "metadata": {},
     "output_type": "execute_result"
    }
   ],
   "source": [
    "model_4_results = calculate_results(val_labels, model_4_preds)\n",
    "model_4_results"
   ]
  },
  {
   "cell_type": "code",
   "execution_count": null,
   "id": "2327089a-7ef8-44ea-8691-063544b7ac48",
   "metadata": {
    "colab": {
     "base_uri": "https://localhost:8080/"
    },
    "id": "2327089a-7ef8-44ea-8691-063544b7ac48",
    "outputId": "eb7a603e-4e4f-4c01-cf5d-aed306cc30ca"
   },
   "outputs": [
    {
     "name": "stdout",
     "output_type": "stream",
     "text": [
      "Baseline accuracy: 79.27, New accuracy: 76.38, Difference: -2.89\n",
      "Baseline precision: 0.81, New precision: 0.76, Difference: -0.05\n",
      "Baseline recall: 0.79, New recall: 0.76, Difference: -0.03\n",
      "Baseline f1: 0.79, New f1: 0.76, Difference: -0.02\n"
     ]
    }
   ],
   "source": [
    "compare_baseline_to_new_results(baseline_results, model_4_results)"
   ]
  },
  {
   "cell_type": "code",
   "execution_count": null,
   "id": "e949227a-4ec6-438e-9378-3c337de41cc6",
   "metadata": {
    "colab": {
     "base_uri": "https://localhost:8080/"
    },
    "id": "e949227a-4ec6-438e-9378-3c337de41cc6",
    "outputId": "f378df5b-0fed-49bd-cfb0-309494007775"
   },
   "outputs": [
    {
     "data": {
      "text/plain": [
       "(TensorShape([1, 15, 128]), TensorShape([1, 11, 32]), TensorShape([1, 32]))"
      ]
     },
     "execution_count": 74,
     "metadata": {},
     "output_type": "execute_result"
    }
   ],
   "source": [
    "# Test out the embedding, 1D convolutional and max pooling\n",
    "embedding_test = embedding(text_vectorizer([\"this is a test sentence\"]))\n",
    "conv_1d = layers.Conv1D(filters=32, kernel_size=5, activation=\"relu\")\n",
    "conv_1d_output = conv_1d(embedding_test)\n",
    "max_pool = layers.GlobalMaxPool1D()\n",
    "max_pool_output = max_pool(conv_1d_output)\n",
    "embedding_test.shape, conv_1d_output.shape, max_pool_output.shape"
   ]
  },
  {
   "cell_type": "code",
   "execution_count": null,
   "id": "06d17839-5be3-4b56-89b3-970c04a0d367",
   "metadata": {
    "colab": {
     "base_uri": "https://localhost:8080/"
    },
    "id": "06d17839-5be3-4b56-89b3-970c04a0d367",
    "outputId": "0d0b4ea7-54f2-401c-8639-5e120fa3167b"
   },
   "outputs": [
    {
     "name": "stdout",
     "output_type": "stream",
     "text": [
      "Model: \"sequential_13\"\n",
      "_________________________________________________________________\n",
      " Layer (type)                Output Shape              Param #   \n",
      "=================================================================\n",
      " text_vectorization_1 (Text  (None, 15)                0         \n",
      " Vectorization)                                                  \n",
      "                                                                 \n",
      " embedding_5 (Embedding)     (None, 15, 128)           1280000   \n",
      "                                                                 \n",
      " conv1d_3 (Conv1D)           (None, 11, 32)            20512     \n",
      "                                                                 \n",
      " global_max_pooling1d_2 (Gl  (None, 32)                0         \n",
      " obalMaxPooling1D)                                               \n",
      "                                                                 \n",
      " dense_28 (Dense)            (None, 64)                2112      \n",
      "                                                                 \n",
      " dense_29 (Dense)            (None, 1)                 65        \n",
      "                                                                 \n",
      "=================================================================\n",
      "Total params: 1302689 (4.97 MB)\n",
      "Trainable params: 1302689 (4.97 MB)\n",
      "Non-trainable params: 0 (0.00 Byte)\n",
      "_________________________________________________________________\n"
     ]
    }
   ],
   "source": [
    "# Conv1D model\n",
    "tf.random.set_seed(42)\n",
    "from tensorflow.keras import layers\n",
    "\n",
    "model_5_embedding = layers.Embedding(input_dim=max_vocab_length,\n",
    "                                     output_dim=128,\n",
    "                                     embeddings_initializer=\"uniform\",\n",
    "                                     name=\"embedding_5\")\n",
    "\n",
    "# inputs = layers.Input(shape=(1,), dtype=\"string\")\n",
    "# x = text_vectorizer(inputs)\n",
    "# x = model_5_embedding(x)\n",
    "# x = layers.Conv1D(filters=32, kernel_size=5, activation=\"relu\")(x)\n",
    "# x = layers.GlobalMaxPool1D()(x)\n",
    "# x = layers.Dense(64, activation=\"relu\")(x)\n",
    "# outputs = layers.Dense(1, activation=\"sigmoid\")(x)\n",
    "# model_5 = tf.keras.Model(inputs, outputs, name=\"model_5_Conv1D\")\n",
    "\n",
    "model_5 = tf.keras.Sequential()\n",
    "model_5.add(layers.Input(shape=(1,), dtype=\"string\"))\n",
    "model_5.add(text_vectorizer)\n",
    "model_5.add(model_5_embedding)\n",
    "model_5.add(layers.Conv1D(filters=32, kernel_size=5, activation=\"relu\"))\n",
    "model_5.add(layers.GlobalMaxPool1D())\n",
    "model_5.add(layers.Dense(64, activation=\"relu\"))\n",
    "model_5.add(layers.Dense(1, activation=\"sigmoid\"))\n",
    "\n",
    "\n",
    "model_5.compile(loss=\"binary_crossentropy\",\n",
    "                optimizer=tf.keras.optimizers.Adam(),\n",
    "                metrics=[\"accuracy\"])\n",
    "\n",
    "model_5.summary()"
   ]
  },
  {
   "cell_type": "code",
   "execution_count": null,
   "id": "9dcaae18-c18e-4914-8aef-30162ed9c4ad",
   "metadata": {
    "colab": {
     "base_uri": "https://localhost:8080/"
    },
    "id": "9dcaae18-c18e-4914-8aef-30162ed9c4ad",
    "outputId": "1bf1b6e8-ade8-40a0-d2e6-1dab81924b7d"
   },
   "outputs": [
    {
     "name": "stdout",
     "output_type": "stream",
     "text": [
      "Saving TensorBoard log files to: model_logs/Conv1D/20240416-091413\n",
      "Epoch 1/5\n",
      "215/215 [==============================] - 10s 39ms/step - loss: 0.5563 - accuracy: 0.7113 - val_loss: 0.4673 - val_accuracy: 0.7887\n",
      "Epoch 2/5\n",
      "215/215 [==============================] - 3s 12ms/step - loss: 0.3102 - accuracy: 0.8752 - val_loss: 0.5146 - val_accuracy: 0.7769\n",
      "Epoch 3/5\n",
      "215/215 [==============================] - 2s 10ms/step - loss: 0.1668 - accuracy: 0.9441 - val_loss: 0.5553 - val_accuracy: 0.7677\n",
      "Epoch 4/5\n",
      "215/215 [==============================] - 2s 8ms/step - loss: 0.1038 - accuracy: 0.9691 - val_loss: 0.6242 - val_accuracy: 0.7664\n",
      "Epoch 5/5\n",
      "215/215 [==============================] - 2s 8ms/step - loss: 0.0778 - accuracy: 0.9747 - val_loss: 0.6484 - val_accuracy: 0.7730\n"
     ]
    }
   ],
   "source": [
    "model_5_history = model_5.fit(train_sentences,\n",
    "                              train_labels,\n",
    "                              epochs=5,\n",
    "                              validation_data=(val_sentences, val_labels),\n",
    "                              callbacks=[create_tensorboard_callback(SAVE_DIR,\n",
    "                                                                      \"Conv1D\")])"
   ]
  },
  {
   "cell_type": "code",
   "execution_count": null,
   "id": "d7012e35-fc2b-42d5-91c3-dbbc10bb5cfb",
   "metadata": {
    "colab": {
     "base_uri": "https://localhost:8080/"
    },
    "id": "d7012e35-fc2b-42d5-91c3-dbbc10bb5cfb",
    "outputId": "4bd9c2f6-44d0-41fe-bf41-881e29bd3e15",
    "scrolled": true
   },
   "outputs": [
    {
     "name": "stdout",
     "output_type": "stream",
     "text": [
      "24/24 [==============================] - 0s 3ms/step\n"
     ]
    },
    {
     "data": {
      "text/plain": [
       "array([[0.58306473],\n",
       "       [0.77973026],\n",
       "       [0.99920434],\n",
       "       [0.06787607],\n",
       "       [0.01010176],\n",
       "       [0.9928362 ],\n",
       "       [0.8645132 ],\n",
       "       [0.9959715 ],\n",
       "       [0.9955407 ],\n",
       "       [0.46648315]], dtype=float32)"
      ]
     },
     "execution_count": 77,
     "metadata": {},
     "output_type": "execute_result"
    }
   ],
   "source": [
    "model_5_pred_probs = model_5.predict(val_sentences)\n",
    "model_5_pred_probs[:10]"
   ]
  },
  {
   "cell_type": "code",
   "execution_count": null,
   "id": "2591588a-c038-493b-bdb4-e9996cdb63a2",
   "metadata": {
    "colab": {
     "base_uri": "https://localhost:8080/"
    },
    "id": "2591588a-c038-493b-bdb4-e9996cdb63a2",
    "outputId": "23ff833f-07be-493d-cf6c-782371fdceb7"
   },
   "outputs": [
    {
     "data": {
      "text/plain": [
       "<tf.Tensor: shape=(10,), dtype=float32, numpy=array([1., 1., 1., 0., 0., 1., 1., 1., 1., 0.], dtype=float32)>"
      ]
     },
     "execution_count": 78,
     "metadata": {},
     "output_type": "execute_result"
    }
   ],
   "source": [
    "model_5_preds = tf.squeeze(tf.round(model_5_pred_probs))\n",
    "model_5_preds[:10]"
   ]
  },
  {
   "cell_type": "code",
   "execution_count": null,
   "id": "1709c453-cc76-43a6-9ece-d25ae10ab0aa",
   "metadata": {
    "colab": {
     "base_uri": "https://localhost:8080/"
    },
    "id": "1709c453-cc76-43a6-9ece-d25ae10ab0aa",
    "outputId": "ab5d91e9-3b6d-4abe-ce69-6021ef3e4dfb"
   },
   "outputs": [
    {
     "data": {
      "text/plain": [
       "{'accuracy': 77.29658792650919,\n",
       " 'precision': 0.7742755789705,\n",
       " 'recall': 0.7729658792650919,\n",
       " 'f1': 0.7710949612836401}"
      ]
     },
     "execution_count": 79,
     "metadata": {},
     "output_type": "execute_result"
    }
   ],
   "source": [
    "model_5_results = calculate_results(y_true=val_labels,\n",
    "                                    y_pred=model_5_preds)\n",
    "model_5_results"
   ]
  },
  {
   "cell_type": "code",
   "execution_count": null,
   "id": "87442a4f-0ca1-48d8-bb74-0e8b3c1886bb",
   "metadata": {
    "colab": {
     "base_uri": "https://localhost:8080/"
    },
    "id": "87442a4f-0ca1-48d8-bb74-0e8b3c1886bb",
    "outputId": "43d76409-0dce-457a-fee5-83f47623fc5c"
   },
   "outputs": [
    {
     "name": "stdout",
     "output_type": "stream",
     "text": [
      "Baseline accuracy: 79.27, New accuracy: 77.30, Difference: -1.97\n",
      "Baseline precision: 0.81, New precision: 0.77, Difference: -0.04\n",
      "Baseline recall: 0.79, New recall: 0.77, Difference: -0.02\n",
      "Baseline f1: 0.79, New f1: 0.77, Difference: -0.02\n"
     ]
    }
   ],
   "source": [
    "compare_baseline_to_new_results(baseline_results, model_5_results)"
   ]
  },
  {
   "cell_type": "code",
   "execution_count": null,
   "id": "41a05461-8524-4716-8d95-3d2b32914342",
   "metadata": {
    "colab": {
     "base_uri": "https://localhost:8080/"
    },
    "id": "41a05461-8524-4716-8d95-3d2b32914342",
    "outputId": "9c5d2b2a-52fd-456b-9c41-bde7ab827527"
   },
   "outputs": [
    {
     "name": "stdout",
     "output_type": "stream",
     "text": [
      "tensorflow: 2.15.0\n",
      "tensorflow hub: 0.16.1\n"
     ]
    }
   ],
   "source": [
    "import tensorflow_hub as hub\n",
    "\n",
    "print(\"tensorflow:\", tf.__version__)\n",
    "print(\"tensorflow hub:\", hub.__version__)"
   ]
  },
  {
   "cell_type": "code",
   "execution_count": null,
   "id": "3537e3a7-9d00-47a1-ba7e-135660c130dc",
   "metadata": {
    "colab": {
     "base_uri": "https://localhost:8080/"
    },
    "id": "3537e3a7-9d00-47a1-ba7e-135660c130dc",
    "outputId": "41cc40f3-4429-453a-a761-579c37c41d0b"
   },
   "outputs": [
    {
     "name": "stdout",
     "output_type": "stream",
     "text": [
      "Model: \"model_6_USE\"\n",
      "_________________________________________________________________\n",
      " Layer (type)                Output Shape              Param #   \n",
      "=================================================================\n",
      " input_layer (InputLayer)    [(None,)]                 0         \n",
      "                                                                 \n",
      " use_layer_4 (USELayer)      (None, 512)               0         \n",
      "                                                                 \n",
      " dense_36 (Dense)            (None, 64)                32832     \n",
      "                                                                 \n",
      " dense_37 (Dense)            (None, 1)                 65        \n",
      "                                                                 \n",
      "=================================================================\n",
      "Total params: 32897 (128.50 KB)\n",
      "Trainable params: 32897 (128.50 KB)\n",
      "Non-trainable params: 0 (0.00 Byte)\n",
      "_________________________________________________________________\n"
     ]
    }
   ],
   "source": [
    "import tensorflow as tf\n",
    "import tensorflow_hub as hub\n",
    "from tensorflow.keras import layers, Model\n",
    "\n",
    "# Define input layer\n",
    "input_layer = layers.Input(shape=[], dtype=tf.string, name=\"input_layer\")\n",
    "\n",
    "# Load Universal Sentence Encoder\n",
    "use_url = \"https://tfhub.dev/google/universal-sentence-encoder/4\"\n",
    "use_embed = hub.load(use_url)\n",
    "\n",
    "# Define a custom layer to wrap the USE function\n",
    "@tf.keras.utils.register_keras_serializable()\n",
    "class USELayer(layers.Layer):\n",
    "    def __init__(self, **kwargs):\n",
    "        super(USELayer, self).__init__(**kwargs)\n",
    "\n",
    "    def call(self, inputs):\n",
    "        return use_embed(inputs)\n",
    "\n",
    "# Apply the custom layer to the input\n",
    "use_embedding = USELayer()(input_layer)\n",
    "\n",
    "# Define the remaining layers of the model\n",
    "dense_1 = layers.Dense(64, activation=\"relu\")(use_embedding)\n",
    "output = layers.Dense(1, activation=\"sigmoid\")(dense_1)\n",
    "\n",
    "# Create the model\n",
    "model_6 = Model(inputs=input_layer, outputs=output, name=\"model_6_USE\")\n",
    "\n",
    "# Compile model\n",
    "model_6.compile(loss=\"binary_crossentropy\",\n",
    "                optimizer=tf.keras.optimizers.Adam(),\n",
    "                metrics=[\"accuracy\"])\n",
    "\n",
    "model_6.summary()"
   ]
  },
  {
   "cell_type": "code",
   "execution_count": null,
   "id": "xdMx2zQ-oTPp",
   "metadata": {
    "colab": {
     "base_uri": "https://localhost:8080/"
    },
    "id": "xdMx2zQ-oTPp",
    "outputId": "a08a9d82-21e5-4f28-a137-0132a47d6a29"
   },
   "outputs": [
    {
     "name": "stdout",
     "output_type": "stream",
     "text": [
      "Saving TensorBoard log files to: model_logs/tf_hub_sentence_encoder/20240416-114107\n",
      "Epoch 1/5\n",
      "215/215 [==============================] - 8s 16ms/step - loss: 0.5049 - accuracy: 0.7828 - val_loss: 0.4481 - val_accuracy: 0.7940\n",
      "Epoch 2/5\n",
      "215/215 [==============================] - 3s 15ms/step - loss: 0.4144 - accuracy: 0.8146 - val_loss: 0.4369 - val_accuracy: 0.8084\n",
      "Epoch 3/5\n",
      "215/215 [==============================] - 3s 13ms/step - loss: 0.4000 - accuracy: 0.8227 - val_loss: 0.4330 - val_accuracy: 0.8110\n",
      "Epoch 4/5\n",
      "215/215 [==============================] - 4s 19ms/step - loss: 0.3931 - accuracy: 0.8270 - val_loss: 0.4284 - val_accuracy: 0.8163\n",
      "Epoch 5/5\n",
      "215/215 [==============================] - 3s 13ms/step - loss: 0.3871 - accuracy: 0.8301 - val_loss: 0.4300 - val_accuracy: 0.8189\n"
     ]
    }
   ],
   "source": [
    "model_6_history = model_6.fit(train_sentences,\n",
    "                              train_labels,\n",
    "                              epochs=5,\n",
    "                              validation_data=(val_sentences, val_labels),\n",
    "                              callbacks=[create_tensorboard_callback(SAVE_DIR,\n",
    "                                                                      \"tf_hub_sentence_encoder\")])"
   ]
  },
  {
   "cell_type": "code",
   "execution_count": null,
   "id": "jSa8AGjsOwV7",
   "metadata": {
    "id": "jSa8AGjsOwV7"
   },
   "outputs": [],
   "source": [
    "model_6.save(\"model_6.keras\")"
   ]
  },
  {
   "cell_type": "code",
   "execution_count": null,
   "id": "3eHhai1AO3O4",
   "metadata": {
    "id": "3eHhai1AO3O4"
   },
   "outputs": [],
   "source": [
    "loaded_model_6 = tf.keras.models.load_model(\"model_6.keras\")"
   ]
  },
  {
   "cell_type": "code",
   "execution_count": null,
   "id": "e08ca7ee-7eec-47b2-8424-e7fe8f06e60c",
   "metadata": {
    "colab": {
     "base_uri": "https://localhost:8080/"
    },
    "id": "e08ca7ee-7eec-47b2-8424-e7fe8f06e60c",
    "outputId": "2d0ada02-746b-47fa-f641-d86a8c732f53"
   },
   "outputs": [
    {
     "name": "stdout",
     "output_type": "stream",
     "text": [
      "24/24 [==============================] - 1s 22ms/step\n"
     ]
    },
    {
     "data": {
      "text/plain": [
       "array([[0.14744583],\n",
       "       [0.7446255 ],\n",
       "       [0.9877972 ],\n",
       "       [0.18235353],\n",
       "       [0.7325986 ],\n",
       "       [0.6839295 ],\n",
       "       [0.98062664],\n",
       "       [0.9747594 ],\n",
       "       [0.9217571 ],\n",
       "       [0.09255888]], dtype=float32)"
      ]
     },
     "execution_count": 220,
     "metadata": {},
     "output_type": "execute_result"
    }
   ],
   "source": [
    "model_6_pred_probs = model_6.predict(val_sentences)\n",
    "model_6_pred_probs[:10]"
   ]
  },
  {
   "cell_type": "code",
   "execution_count": null,
   "id": "e6cfac55-ee9a-40f8-a829-eb8078f00aca",
   "metadata": {
    "colab": {
     "base_uri": "https://localhost:8080/"
    },
    "id": "e6cfac55-ee9a-40f8-a829-eb8078f00aca",
    "outputId": "fd2c3016-b093-41e4-b80b-62b3e92a756f"
   },
   "outputs": [
    {
     "data": {
      "text/plain": [
       "<tf.Tensor: shape=(10,), dtype=float32, numpy=array([0., 1., 1., 0., 1., 1., 1., 1., 1., 0.], dtype=float32)>"
      ]
     },
     "execution_count": 221,
     "metadata": {},
     "output_type": "execute_result"
    }
   ],
   "source": [
    "model_6_preds = tf.squeeze(tf.round(model_6_pred_probs))\n",
    "model_6_preds[:10]"
   ]
  },
  {
   "cell_type": "code",
   "execution_count": null,
   "id": "5248add8-95c1-419f-b49b-1a74a015846f",
   "metadata": {
    "colab": {
     "base_uri": "https://localhost:8080/"
    },
    "id": "5248add8-95c1-419f-b49b-1a74a015846f",
    "outputId": "c02eb757-0e1d-49e4-8768-5a703ac0eacc"
   },
   "outputs": [
    {
     "data": {
      "text/plain": [
       "{'accuracy': 81.88976377952756,\n",
       " 'precision': 0.8211302341077333,\n",
       " 'recall': 0.8188976377952756,\n",
       " 'f1': 0.817453860659066}"
      ]
     },
     "execution_count": 222,
     "metadata": {},
     "output_type": "execute_result"
    }
   ],
   "source": [
    "model_6_results = calculate_results(val_labels, model_6_preds)\n",
    "model_6_results"
   ]
  },
  {
   "cell_type": "code",
   "execution_count": null,
   "id": "fab18f57-b478-4253-928f-f807dfa1a09e",
   "metadata": {
    "colab": {
     "base_uri": "https://localhost:8080/"
    },
    "id": "fab18f57-b478-4253-928f-f807dfa1a09e",
    "outputId": "a1851bc3-7b45-4a1d-f3d5-7886c8a12792"
   },
   "outputs": [
    {
     "name": "stdout",
     "output_type": "stream",
     "text": [
      "Baseline accuracy: 79.27, New accuracy: 81.89, Difference: 2.62\n",
      "Baseline precision: 0.81, New precision: 0.82, Difference: 0.01\n",
      "Baseline recall: 0.79, New recall: 0.82, Difference: 0.03\n",
      "Baseline f1: 0.79, New f1: 0.82, Difference: 0.03\n"
     ]
    }
   ],
   "source": [
    "compare_baseline_to_new_results(baseline_results, model_6_results)"
   ]
  },
  {
   "cell_type": "code",
   "execution_count": null,
   "id": "ad57137b-dd82-47eb-a6a7-52d1843044e1",
   "metadata": {
    "id": "ad57137b-dd82-47eb-a6a7-52d1843044e1"
   },
   "outputs": [],
   "source": [
    "train_sentences_90_percent, train_sentences_10_percent, train_labels_90_percent, train_labels_10_percent = train_test_split(np.array(train_sentences),\n",
    "                                                                                                                             train_labels,\n",
    "                                                                                                                             test_size=0.1,\n",
    "                                                                                                                             random_state=42)"
   ]
  },
  {
   "cell_type": "code",
   "execution_count": null,
   "id": "ae30e64c-f334-49b8-bea2-875c4fd0d352",
   "metadata": {
    "colab": {
     "base_uri": "https://localhost:8080/"
    },
    "id": "ae30e64c-f334-49b8-bea2-875c4fd0d352",
    "outputId": "f113d523-6094-42f3-e098-900cfe7f6a59"
   },
   "outputs": [
    {
     "name": "stdout",
     "output_type": "stream",
     "text": [
      "Total training examples: 6851\n",
      "Length of 10%  training examples: 686\n"
     ]
    }
   ],
   "source": [
    "print(f\"Total training examples: {len(train_sentences)}\")\n",
    "print(f\"Length of 10%  training examples: {len(train_sentences_10_percent)}\")"
   ]
  },
  {
   "cell_type": "code",
   "execution_count": null,
   "id": "da8fd004-67e4-4ecd-b745-20696122e9a6",
   "metadata": {
    "colab": {
     "base_uri": "https://localhost:8080/"
    },
    "id": "da8fd004-67e4-4ecd-b745-20696122e9a6",
    "outputId": "235c0850-d4bc-4a83-8e76-e044cda7738f"
   },
   "outputs": [
    {
     "data": {
      "text/plain": [
       "0    415\n",
       "1    271\n",
       "Name: count, dtype: int64"
      ]
     },
     "execution_count": 232,
     "metadata": {},
     "output_type": "execute_result"
    }
   ],
   "source": [
    "# Check the number of targets in subnet data\n",
    "pd.Series(train_labels_10_percent).value_counts()"
   ]
  },
  {
   "cell_type": "code",
   "execution_count": null,
   "id": "c5ec6074-4069-47c6-9bd5-156f79160575",
   "metadata": {
    "id": "c5ec6074-4069-47c6-9bd5-156f79160575"
   },
   "outputs": [],
   "source": [
    "# Clone model_6 but reset weights\n",
    "import tensorflow as tf\n",
    "import tensorflow_hub as hub\n",
    "from tensorflow.keras import layers, Model\n",
    "\n",
    "# Define input layer\n",
    "input_layer = layers.Input(shape=[], dtype=tf.string, name=\"input_layer\")\n",
    "\n",
    "# Load Universal Sentence Encoder\n",
    "use_url = \"https://tfhub.dev/google/universal-sentence-encoder/4\"\n",
    "use_embed = hub.load(use_url)\n",
    "\n",
    "# Define a custom layer to wrap the USE function\n",
    "class USELayer(layers.Layer):\n",
    "    def __init__(self, **kwargs):\n",
    "        super(USELayer, self).__init__(**kwargs)\n",
    "\n",
    "    def call(self, inputs):\n",
    "        return use_embed(inputs)\n",
    "\n",
    "# Apply the custom layer to the input\n",
    "use_embedding = USELayer()(input_layer)\n",
    "\n",
    "# Define the remaining layers of the model\n",
    "dense_1 = layers.Dense(64, activation=\"relu\")(use_embedding)\n",
    "output = layers.Dense(1, activation=\"sigmoid\")(dense_1)\n",
    "\n",
    "# Create the model\n",
    "model_7 = Model(inputs=input_layer, outputs=output, name=\"model_6_USE\")\n",
    "\n",
    "# Compile model\n",
    "model_7.compile(loss=\"binary_crossentropy\",\n",
    "                optimizer=tf.keras.optimizers.Adam(),\n",
    "                metrics=[\"accuracy\"])"
   ]
  },
  {
   "cell_type": "code",
   "execution_count": null,
   "id": "18381084-270f-4438-9e6f-3e0dae00efff",
   "metadata": {
    "colab": {
     "base_uri": "https://localhost:8080/"
    },
    "id": "18381084-270f-4438-9e6f-3e0dae00efff",
    "outputId": "78a4ab6a-b222-4b36-dac6-413fdc271822"
   },
   "outputs": [
    {
     "name": "stdout",
     "output_type": "stream",
     "text": [
      "Saving TensorBoard log files to: model_logs/10_percent_tf_hub_sentence_encoder/20240416-114901\n",
      "Epoch 1/5\n",
      "22/22 [==============================] - 2s 40ms/step - loss: 0.3725 - accuracy: 0.8513 - val_loss: 0.4809 - val_accuracy: 0.7848\n",
      "Epoch 2/5\n",
      "22/22 [==============================] - 1s 28ms/step - loss: 0.3486 - accuracy: 0.8542 - val_loss: 0.4758 - val_accuracy: 0.7900\n",
      "Epoch 3/5\n",
      "22/22 [==============================] - 1s 26ms/step - loss: 0.3289 - accuracy: 0.8630 - val_loss: 0.4778 - val_accuracy: 0.7913\n",
      "Epoch 4/5\n",
      "22/22 [==============================] - 1s 27ms/step - loss: 0.3121 - accuracy: 0.8732 - val_loss: 0.4776 - val_accuracy: 0.7913\n",
      "Epoch 5/5\n",
      "22/22 [==============================] - 1s 27ms/step - loss: 0.2975 - accuracy: 0.8863 - val_loss: 0.4796 - val_accuracy: 0.7874\n"
     ]
    }
   ],
   "source": [
    "model_7_history = model_7.fit(x=train_sentences_10_percent,\n",
    "                              y=train_labels_10_percent,\n",
    "                              epochs=5,\n",
    "                              validation_data=(val_sentences, val_labels),\n",
    "                              callbacks=[create_tensorboard_callback(SAVE_DIR, \"10_percent_tf_hub_sentence_encoder\")])"
   ]
  },
  {
   "cell_type": "code",
   "execution_count": null,
   "id": "da786bfe-fb67-4a6b-a75c-2f84378effc5",
   "metadata": {
    "colab": {
     "base_uri": "https://localhost:8080/"
    },
    "id": "da786bfe-fb67-4a6b-a75c-2f84378effc5",
    "outputId": "42ecc0d5-d2c0-4fac-ae0a-199463e29b10"
   },
   "outputs": [
    {
     "name": "stdout",
     "output_type": "stream",
     "text": [
      "24/24 [==============================] - 0s 9ms/step\n"
     ]
    },
    {
     "data": {
      "text/plain": [
       "array([[0.16973995],\n",
       "       [0.92495555],\n",
       "       [0.9679248 ],\n",
       "       [0.20446236],\n",
       "       [0.50571936],\n",
       "       [0.91696626],\n",
       "       [0.9257474 ],\n",
       "       [0.9057481 ],\n",
       "       [0.91713756],\n",
       "       [0.07186857]], dtype=float32)"
      ]
     },
     "execution_count": 227,
     "metadata": {},
     "output_type": "execute_result"
    }
   ],
   "source": [
    "model_7_pred_probs = model_7.predict(val_sentences)\n",
    "model_7_pred_probs[:10]"
   ]
  },
  {
   "cell_type": "code",
   "execution_count": null,
   "id": "d827299e-75b9-4b48-8892-fc574bbef31a",
   "metadata": {
    "colab": {
     "base_uri": "https://localhost:8080/"
    },
    "id": "d827299e-75b9-4b48-8892-fc574bbef31a",
    "outputId": "ab48bc50-5b0c-4543-d47d-5f435a99d73d"
   },
   "outputs": [
    {
     "data": {
      "text/plain": [
       "<tf.Tensor: shape=(10,), dtype=float32, numpy=array([0., 1., 1., 0., 1., 1., 1., 1., 1., 0.], dtype=float32)>"
      ]
     },
     "execution_count": 228,
     "metadata": {},
     "output_type": "execute_result"
    }
   ],
   "source": [
    "model_7_preds = tf.squeeze(tf.round(model_7_pred_probs))\n",
    "model_7_preds[:10]"
   ]
  },
  {
   "cell_type": "code",
   "execution_count": null,
   "id": "bd1f9821-4e31-4f40-8d42-0e76c85308e2",
   "metadata": {
    "colab": {
     "base_uri": "https://localhost:8080/"
    },
    "id": "bd1f9821-4e31-4f40-8d42-0e76c85308e2",
    "outputId": "4af4d11d-3948-470c-88cc-2954efe5c10b"
   },
   "outputs": [
    {
     "data": {
      "text/plain": [
       "{'accuracy': 78.74015748031496,\n",
       " 'precision': 0.7903907506573856,\n",
       " 'recall': 0.7874015748031497,\n",
       " 'f1': 0.7850997256765829}"
      ]
     },
     "execution_count": 229,
     "metadata": {},
     "output_type": "execute_result"
    }
   ],
   "source": [
    "model_7_results = calculate_results(val_labels, model_7_preds)\n",
    "model_7_results"
   ]
  },
  {
   "cell_type": "code",
   "execution_count": null,
   "id": "14cc662e-1ed6-47ea-9827-ee99b78c476c",
   "metadata": {
    "colab": {
     "base_uri": "https://localhost:8080/"
    },
    "id": "14cc662e-1ed6-47ea-9827-ee99b78c476c",
    "outputId": "aeb663e5-f691-4758-beeb-86095674c33b"
   },
   "outputs": [
    {
     "name": "stdout",
     "output_type": "stream",
     "text": [
      "Baseline accuracy: 79.27, New accuracy: 78.74, Difference: -0.52\n",
      "Baseline precision: 0.81, New precision: 0.79, Difference: -0.02\n",
      "Baseline recall: 0.79, New recall: 0.79, Difference: -0.01\n",
      "Baseline f1: 0.79, New f1: 0.79, Difference: -0.00\n"
     ]
    }
   ],
   "source": [
    "compare_baseline_to_new_results(baseline_results, model_7_results)"
   ]
  },
  {
   "cell_type": "code",
   "execution_count": null,
   "id": "cfb42689-479a-4e60-9189-149b366db036",
   "metadata": {
    "colab": {
     "base_uri": "https://localhost:8080/",
     "height": 300
    },
    "id": "cfb42689-479a-4e60-9189-149b366db036",
    "outputId": "48422fdb-a465-4aaf-ae1e-a6060cfb56a6"
   },
   "outputs": [
    {
     "data": {
      "application/vnd.google.colaboratory.intrinsic+json": {
       "summary": "{\n  \"name\": \"all_model_results\",\n  \"rows\": 8,\n  \"fields\": [\n    {\n      \"column\": \"accuracy\",\n      \"properties\": {\n        \"dtype\": \"number\",\n        \"std\": 1.864850043700592,\n        \"min\": 76.37795275590551,\n        \"max\": 81.88976377952756,\n        \"num_unique_values\": 7,\n        \"samples\": [\n          79.26509186351706,\n          78.60892388451444,\n          81.88976377952756\n        ],\n        \"semantic_type\": \"\",\n        \"description\": \"\"\n      }\n    },\n    {\n      \"column\": \"precision\",\n      \"properties\": {\n        \"dtype\": \"number\",\n        \"std\": 0.021408561521951638,\n        \"min\": 0.7633947745168217,\n        \"max\": 0.8211302341077333,\n        \"num_unique_values\": 7,\n        \"samples\": [\n          0.8111390004213173,\n          0.7903277546022673,\n          0.8211302341077333\n        ],\n        \"semantic_type\": \"\",\n        \"description\": \"\"\n      }\n    },\n    {\n      \"column\": \"recall\",\n      \"properties\": {\n        \"dtype\": \"number\",\n        \"std\": 0.018648500437005926,\n        \"min\": 0.7637795275590551,\n        \"max\": 0.8188976377952756,\n        \"num_unique_values\": 7,\n        \"samples\": [\n          0.7926509186351706,\n          0.7860892388451444,\n          0.8188976377952756\n        ],\n        \"semantic_type\": \"\",\n        \"description\": \"\"\n      }\n    },\n    {\n      \"column\": \"f1\",\n      \"properties\": {\n        \"dtype\": \"number\",\n        \"std\": 0.018257464665540037,\n        \"min\": 0.7631568413202727,\n        \"max\": 0.817453860659066,\n        \"num_unique_values\": 7,\n        \"samples\": [\n          0.7862189758049549,\n          0.7832971347503846,\n          0.817453860659066\n        ],\n        \"semantic_type\": \"\",\n        \"description\": \"\"\n      }\n    }\n  ]\n}",
       "type": "dataframe",
       "variable_name": "all_model_results"
      },
      "text/html": [
       "\n",
       "  <div id=\"df-bc69137f-45d5-4fe6-9be4-18f312496980\" class=\"colab-df-container\">\n",
       "    <div>\n",
       "<style scoped>\n",
       "    .dataframe tbody tr th:only-of-type {\n",
       "        vertical-align: middle;\n",
       "    }\n",
       "\n",
       "    .dataframe tbody tr th {\n",
       "        vertical-align: top;\n",
       "    }\n",
       "\n",
       "    .dataframe thead th {\n",
       "        text-align: right;\n",
       "    }\n",
       "</style>\n",
       "<table border=\"1\" class=\"dataframe\">\n",
       "  <thead>\n",
       "    <tr style=\"text-align: right;\">\n",
       "      <th></th>\n",
       "      <th>accuracy</th>\n",
       "      <th>precision</th>\n",
       "      <th>recall</th>\n",
       "      <th>f1</th>\n",
       "    </tr>\n",
       "  </thead>\n",
       "  <tbody>\n",
       "    <tr>\n",
       "      <th>baseline</th>\n",
       "      <td>79.265092</td>\n",
       "      <td>0.811139</td>\n",
       "      <td>0.792651</td>\n",
       "      <td>0.786219</td>\n",
       "    </tr>\n",
       "    <tr>\n",
       "      <th>simple_dense</th>\n",
       "      <td>78.608924</td>\n",
       "      <td>0.790328</td>\n",
       "      <td>0.786089</td>\n",
       "      <td>0.783297</td>\n",
       "    </tr>\n",
       "    <tr>\n",
       "      <th>lstm</th>\n",
       "      <td>76.902887</td>\n",
       "      <td>0.773970</td>\n",
       "      <td>0.769029</td>\n",
       "      <td>0.765456</td>\n",
       "    </tr>\n",
       "    <tr>\n",
       "      <th>gru</th>\n",
       "      <td>76.377953</td>\n",
       "      <td>0.763395</td>\n",
       "      <td>0.763780</td>\n",
       "      <td>0.763157</td>\n",
       "    </tr>\n",
       "    <tr>\n",
       "      <th>bidirectional</th>\n",
       "      <td>76.377953</td>\n",
       "      <td>0.763395</td>\n",
       "      <td>0.763780</td>\n",
       "      <td>0.763157</td>\n",
       "    </tr>\n",
       "    <tr>\n",
       "      <th>conv1d</th>\n",
       "      <td>77.296588</td>\n",
       "      <td>0.774276</td>\n",
       "      <td>0.772966</td>\n",
       "      <td>0.771095</td>\n",
       "    </tr>\n",
       "    <tr>\n",
       "      <th>tf_hub_sentence_encoder</th>\n",
       "      <td>81.889764</td>\n",
       "      <td>0.821130</td>\n",
       "      <td>0.818898</td>\n",
       "      <td>0.817454</td>\n",
       "    </tr>\n",
       "    <tr>\n",
       "      <th>tf_hub_10_percent_data</th>\n",
       "      <td>78.740157</td>\n",
       "      <td>0.790391</td>\n",
       "      <td>0.787402</td>\n",
       "      <td>0.785100</td>\n",
       "    </tr>\n",
       "  </tbody>\n",
       "</table>\n",
       "</div>\n",
       "    <div class=\"colab-df-buttons\">\n",
       "\n",
       "  <div class=\"colab-df-container\">\n",
       "    <button class=\"colab-df-convert\" onclick=\"convertToInteractive('df-bc69137f-45d5-4fe6-9be4-18f312496980')\"\n",
       "            title=\"Convert this dataframe to an interactive table.\"\n",
       "            style=\"display:none;\">\n",
       "\n",
       "  <svg xmlns=\"http://www.w3.org/2000/svg\" height=\"24px\" viewBox=\"0 -960 960 960\">\n",
       "    <path d=\"M120-120v-720h720v720H120Zm60-500h600v-160H180v160Zm220 220h160v-160H400v160Zm0 220h160v-160H400v160ZM180-400h160v-160H180v160Zm440 0h160v-160H620v160ZM180-180h160v-160H180v160Zm440 0h160v-160H620v160Z\"/>\n",
       "  </svg>\n",
       "    </button>\n",
       "\n",
       "  <style>\n",
       "    .colab-df-container {\n",
       "      display:flex;\n",
       "      gap: 12px;\n",
       "    }\n",
       "\n",
       "    .colab-df-convert {\n",
       "      background-color: #E8F0FE;\n",
       "      border: none;\n",
       "      border-radius: 50%;\n",
       "      cursor: pointer;\n",
       "      display: none;\n",
       "      fill: #1967D2;\n",
       "      height: 32px;\n",
       "      padding: 0 0 0 0;\n",
       "      width: 32px;\n",
       "    }\n",
       "\n",
       "    .colab-df-convert:hover {\n",
       "      background-color: #E2EBFA;\n",
       "      box-shadow: 0px 1px 2px rgba(60, 64, 67, 0.3), 0px 1px 3px 1px rgba(60, 64, 67, 0.15);\n",
       "      fill: #174EA6;\n",
       "    }\n",
       "\n",
       "    .colab-df-buttons div {\n",
       "      margin-bottom: 4px;\n",
       "    }\n",
       "\n",
       "    [theme=dark] .colab-df-convert {\n",
       "      background-color: #3B4455;\n",
       "      fill: #D2E3FC;\n",
       "    }\n",
       "\n",
       "    [theme=dark] .colab-df-convert:hover {\n",
       "      background-color: #434B5C;\n",
       "      box-shadow: 0px 1px 3px 1px rgba(0, 0, 0, 0.15);\n",
       "      filter: drop-shadow(0px 1px 2px rgba(0, 0, 0, 0.3));\n",
       "      fill: #FFFFFF;\n",
       "    }\n",
       "  </style>\n",
       "\n",
       "    <script>\n",
       "      const buttonEl =\n",
       "        document.querySelector('#df-bc69137f-45d5-4fe6-9be4-18f312496980 button.colab-df-convert');\n",
       "      buttonEl.style.display =\n",
       "        google.colab.kernel.accessAllowed ? 'block' : 'none';\n",
       "\n",
       "      async function convertToInteractive(key) {\n",
       "        const element = document.querySelector('#df-bc69137f-45d5-4fe6-9be4-18f312496980');\n",
       "        const dataTable =\n",
       "          await google.colab.kernel.invokeFunction('convertToInteractive',\n",
       "                                                    [key], {});\n",
       "        if (!dataTable) return;\n",
       "\n",
       "        const docLinkHtml = 'Like what you see? Visit the ' +\n",
       "          '<a target=\"_blank\" href=https://colab.research.google.com/notebooks/data_table.ipynb>data table notebook</a>'\n",
       "          + ' to learn more about interactive tables.';\n",
       "        element.innerHTML = '';\n",
       "        dataTable['output_type'] = 'display_data';\n",
       "        await google.colab.output.renderOutput(dataTable, element);\n",
       "        const docLink = document.createElement('div');\n",
       "        docLink.innerHTML = docLinkHtml;\n",
       "        element.appendChild(docLink);\n",
       "      }\n",
       "    </script>\n",
       "  </div>\n",
       "\n",
       "\n",
       "<div id=\"df-9568cd59-d997-47bf-95fd-27faf766d624\">\n",
       "  <button class=\"colab-df-quickchart\" onclick=\"quickchart('df-9568cd59-d997-47bf-95fd-27faf766d624')\"\n",
       "            title=\"Suggest charts\"\n",
       "            style=\"display:none;\">\n",
       "\n",
       "<svg xmlns=\"http://www.w3.org/2000/svg\" height=\"24px\"viewBox=\"0 0 24 24\"\n",
       "     width=\"24px\">\n",
       "    <g>\n",
       "        <path d=\"M19 3H5c-1.1 0-2 .9-2 2v14c0 1.1.9 2 2 2h14c1.1 0 2-.9 2-2V5c0-1.1-.9-2-2-2zM9 17H7v-7h2v7zm4 0h-2V7h2v10zm4 0h-2v-4h2v4z\"/>\n",
       "    </g>\n",
       "</svg>\n",
       "  </button>\n",
       "\n",
       "<style>\n",
       "  .colab-df-quickchart {\n",
       "      --bg-color: #E8F0FE;\n",
       "      --fill-color: #1967D2;\n",
       "      --hover-bg-color: #E2EBFA;\n",
       "      --hover-fill-color: #174EA6;\n",
       "      --disabled-fill-color: #AAA;\n",
       "      --disabled-bg-color: #DDD;\n",
       "  }\n",
       "\n",
       "  [theme=dark] .colab-df-quickchart {\n",
       "      --bg-color: #3B4455;\n",
       "      --fill-color: #D2E3FC;\n",
       "      --hover-bg-color: #434B5C;\n",
       "      --hover-fill-color: #FFFFFF;\n",
       "      --disabled-bg-color: #3B4455;\n",
       "      --disabled-fill-color: #666;\n",
       "  }\n",
       "\n",
       "  .colab-df-quickchart {\n",
       "    background-color: var(--bg-color);\n",
       "    border: none;\n",
       "    border-radius: 50%;\n",
       "    cursor: pointer;\n",
       "    display: none;\n",
       "    fill: var(--fill-color);\n",
       "    height: 32px;\n",
       "    padding: 0;\n",
       "    width: 32px;\n",
       "  }\n",
       "\n",
       "  .colab-df-quickchart:hover {\n",
       "    background-color: var(--hover-bg-color);\n",
       "    box-shadow: 0 1px 2px rgba(60, 64, 67, 0.3), 0 1px 3px 1px rgba(60, 64, 67, 0.15);\n",
       "    fill: var(--button-hover-fill-color);\n",
       "  }\n",
       "\n",
       "  .colab-df-quickchart-complete:disabled,\n",
       "  .colab-df-quickchart-complete:disabled:hover {\n",
       "    background-color: var(--disabled-bg-color);\n",
       "    fill: var(--disabled-fill-color);\n",
       "    box-shadow: none;\n",
       "  }\n",
       "\n",
       "  .colab-df-spinner {\n",
       "    border: 2px solid var(--fill-color);\n",
       "    border-color: transparent;\n",
       "    border-bottom-color: var(--fill-color);\n",
       "    animation:\n",
       "      spin 1s steps(1) infinite;\n",
       "  }\n",
       "\n",
       "  @keyframes spin {\n",
       "    0% {\n",
       "      border-color: transparent;\n",
       "      border-bottom-color: var(--fill-color);\n",
       "      border-left-color: var(--fill-color);\n",
       "    }\n",
       "    20% {\n",
       "      border-color: transparent;\n",
       "      border-left-color: var(--fill-color);\n",
       "      border-top-color: var(--fill-color);\n",
       "    }\n",
       "    30% {\n",
       "      border-color: transparent;\n",
       "      border-left-color: var(--fill-color);\n",
       "      border-top-color: var(--fill-color);\n",
       "      border-right-color: var(--fill-color);\n",
       "    }\n",
       "    40% {\n",
       "      border-color: transparent;\n",
       "      border-right-color: var(--fill-color);\n",
       "      border-top-color: var(--fill-color);\n",
       "    }\n",
       "    60% {\n",
       "      border-color: transparent;\n",
       "      border-right-color: var(--fill-color);\n",
       "    }\n",
       "    80% {\n",
       "      border-color: transparent;\n",
       "      border-right-color: var(--fill-color);\n",
       "      border-bottom-color: var(--fill-color);\n",
       "    }\n",
       "    90% {\n",
       "      border-color: transparent;\n",
       "      border-bottom-color: var(--fill-color);\n",
       "    }\n",
       "  }\n",
       "</style>\n",
       "\n",
       "  <script>\n",
       "    async function quickchart(key) {\n",
       "      const quickchartButtonEl =\n",
       "        document.querySelector('#' + key + ' button');\n",
       "      quickchartButtonEl.disabled = true;  // To prevent multiple clicks.\n",
       "      quickchartButtonEl.classList.add('colab-df-spinner');\n",
       "      try {\n",
       "        const charts = await google.colab.kernel.invokeFunction(\n",
       "            'suggestCharts', [key], {});\n",
       "      } catch (error) {\n",
       "        console.error('Error during call to suggestCharts:', error);\n",
       "      }\n",
       "      quickchartButtonEl.classList.remove('colab-df-spinner');\n",
       "      quickchartButtonEl.classList.add('colab-df-quickchart-complete');\n",
       "    }\n",
       "    (() => {\n",
       "      let quickchartButtonEl =\n",
       "        document.querySelector('#df-9568cd59-d997-47bf-95fd-27faf766d624 button');\n",
       "      quickchartButtonEl.style.display =\n",
       "        google.colab.kernel.accessAllowed ? 'block' : 'none';\n",
       "    })();\n",
       "  </script>\n",
       "</div>\n",
       "    </div>\n",
       "  </div>\n"
      ],
      "text/plain": [
       "                          accuracy  precision    recall        f1\n",
       "baseline                 79.265092   0.811139  0.792651  0.786219\n",
       "simple_dense             78.608924   0.790328  0.786089  0.783297\n",
       "lstm                     76.902887   0.773970  0.769029  0.765456\n",
       "gru                      76.377953   0.763395  0.763780  0.763157\n",
       "bidirectional            76.377953   0.763395  0.763780  0.763157\n",
       "conv1d                   77.296588   0.774276  0.772966  0.771095\n",
       "tf_hub_sentence_encoder  81.889764   0.821130  0.818898  0.817454\n",
       "tf_hub_10_percent_data   78.740157   0.790391  0.787402  0.785100"
      ]
     },
     "execution_count": 234,
     "metadata": {},
     "output_type": "execute_result"
    }
   ],
   "source": [
    "all_model_results = pd.DataFrame({\"baseline\": baseline_results,\n",
    "                                  \"simple_dense\": model_1_results,\n",
    "                                  \"lstm\": model_2_results,\n",
    "                                  \"gru\": model_3_results,\n",
    "                                  \"bidirectional\": model_4_results,\n",
    "                                  \"conv1d\": model_5_results,\n",
    "                                  \"tf_hub_sentence_encoder\": model_6_results,\n",
    "                                  \"tf_hub_10_percent_data\": model_7_results})\n",
    "all_model_results = all_model_results.transpose()\n",
    "all_model_results"
   ]
  },
  {
   "cell_type": "code",
   "execution_count": null,
   "id": "5c6ddbad-36b4-48e8-a185-6cb7ac5ce41f",
   "metadata": {
    "id": "5c6ddbad-36b4-48e8-a185-6cb7ac5ce41f"
   },
   "outputs": [],
   "source": [
    "all_model_results[\"accuracy\"] = all_model_results[\"accuracy\"]/100"
   ]
  },
  {
   "cell_type": "code",
   "execution_count": null,
   "id": "cf3d8036-3d50-412b-adbf-06f0923559e1",
   "metadata": {
    "colab": {
     "base_uri": "https://localhost:8080/",
     "height": 674
    },
    "id": "cf3d8036-3d50-412b-adbf-06f0923559e1",
    "outputId": "847366e6-c0f5-49a2-9a5e-b6e1ed8cc6da"
   },
   "outputs": [
    {
     "data": {
      "image/png": "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\n",
      "text/plain": [
       "<Figure size 1000x700 with 1 Axes>"
      ]
     },
     "metadata": {},
     "output_type": "display_data"
    }
   ],
   "source": [
    "all_model_results.plot(kind=\"bar\", figsize=(10, 7)).legend(bbox_to_anchor=(1.0, 1.0));"
   ]
  },
  {
   "cell_type": "code",
   "execution_count": null,
   "id": "87dcb22b-93d1-4fb7-a8cb-bd5d589303eb",
   "metadata": {
    "colab": {
     "base_uri": "https://localhost:8080/",
     "height": 763
    },
    "id": "87dcb22b-93d1-4fb7-a8cb-bd5d589303eb",
    "outputId": "dffe7c40-f05e-429f-e12f-354e5ce79db6"
   },
   "outputs": [
    {
     "data": {
      "image/png": "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\n",
      "text/plain": [
       "<Figure size 1000x700 with 1 Axes>"
      ]
     },
     "metadata": {},
     "output_type": "display_data"
    }
   ],
   "source": [
    "all_model_results.sort_values(\"f1\", ascending=False)[\"f1\"].plot(kind=\"bar\", figsize=(10, 7));"
   ]
  },
  {
   "cell_type": "code",
   "execution_count": null,
   "id": "9610c1c1-ff11-447c-be34-85839c877292",
   "metadata": {
    "colab": {
     "base_uri": "https://localhost:8080/"
    },
    "id": "9610c1c1-ff11-447c-be34-85839c877292",
    "outputId": "cdb1e714-7a00-4fc4-e6d5-1227b31c3032"
   },
   "outputs": [
    {
     "data": {
      "text/plain": [
       "<tf.Tensor: shape=(20,), dtype=float32, numpy=\n",
       "array([0., 1., 1., 0., 0., 1., 1., 1., 1., 0., 0., 0., 0., 1., 0., 0., 0.,\n",
       "       0., 0., 1.], dtype=float32)>"
      ]
     },
     "execution_count": 163,
     "metadata": {},
     "output_type": "execute_result"
    }
   ],
   "source": [
    "# Get mean pred for 3 models\n",
    "baseline_pred_probs = np.max(baseline.predict_proba(val_sentences), axis=1)\n",
    "combined_pred_probs = baseline_pred_probs + tf.squeeze(model_2_pred_probs, axis=1) + tf.squeeze(model_6_pred_probs)\n",
    "combined_preds = tf.round(combined_pred_probs/3)\n",
    "combined_preds[:20]"
   ]
  },
  {
   "cell_type": "code",
<<<<<<< HEAD
   "execution_count": 326,
=======
   "execution_count": null,
>>>>>>> 01ae81d04be66cfe8f52552778470262d28caad0
   "id": "0baa4577-4c06-48d7-90ac-d766b8327da1",
   "metadata": {
    "colab": {
     "base_uri": "https://localhost:8080/"
    },
    "id": "0baa4577-4c06-48d7-90ac-d766b8327da1",
    "outputId": "79bc946a-9d38-4ba3-ab88-fcee81b0cbde"
   },
   "outputs": [
    {
     "data": {
      "text/plain": [
       "{'accuracy': 79.00262467191601,\n",
       " 'precision': 0.7901384733034853,\n",
       " 'recall': 0.7900262467191601,\n",
       " 'f1': 0.7891484508894426}"
      ]
     },
<<<<<<< HEAD
     "execution_count": 326,
=======
     "execution_count": 103,
>>>>>>> 01ae81d04be66cfe8f52552778470262d28caad0
     "metadata": {},
     "output_type": "execute_result"
    }
   ],
   "source": [
    "# Calculate results from averaging the prediction probabilities\n",
    "ensemble_results = calculate_results(val_labels, combined_preds)\n",
    "ensemble_results"
   ]
  },
  {
   "cell_type": "code",
<<<<<<< HEAD
   "execution_count": 327,
=======
   "execution_count": null,
>>>>>>> 01ae81d04be66cfe8f52552778470262d28caad0
   "id": "94e21ca8-5ca7-4b09-bebe-a754b731bb7e",
   "metadata": {
    "id": "94e21ca8-5ca7-4b09-bebe-a754b731bb7e"
   },
   "outputs": [],
   "source": [
    "# Add our combined model's results to the results DataFrame\n",
    "all_model_results.loc[\"ensemble_results\"] = ensemble_results"
   ]
  },
  {
   "cell_type": "code",
<<<<<<< HEAD
   "execution_count": 328,
=======
   "execution_count": null,
>>>>>>> 01ae81d04be66cfe8f52552778470262d28caad0
   "id": "8691df2f-7578-481b-bd16-57c626089fce",
   "metadata": {
    "colab": {
     "base_uri": "https://localhost:8080/"
    },
    "id": "8691df2f-7578-481b-bd16-57c626089fce",
    "outputId": "5143fec8-c734-4b88-a373-f6afacd712de"
   },
   "outputs": [
    {
     "name": "stderr",
     "output_type": "stream",
     "text": [
      "<ipython-input-105-5bfc9ea95ee8>:1: SettingWithCopyWarning: \n",
      "A value is trying to be set on a copy of a slice from a DataFrame\n",
      "\n",
      "See the caveats in the documentation: https://pandas.pydata.org/pandas-docs/stable/user_guide/indexing.html#returning-a-view-versus-a-copy\n",
      "  all_model_results.loc[\"ensemble_results\"][\"accuracy\"] = all_model_results.loc[\"ensemble_results\"][\"accuracy\"]/100\n"
     ]
    }
   ],
   "source": [
    "all_model_results.loc[\"ensemble_results\"][\"accuracy\"] = all_model_results.loc[\"ensemble_results\"][\"accuracy\"]/100"
   ]
<<<<<<< HEAD
=======
  },
  {
   "cell_type": "code",
   "execution_count": null,
   "id": "6HgRP86CORcX",
   "metadata": {
    "colab": {
     "base_uri": "https://localhost:8080/"
    },
    "id": "6HgRP86CORcX",
    "outputId": "521ce9d5-f9ea-4ac3-a56c-df8b14ca65bf"
   },
   "outputs": [
    {
     "name": "stdout",
     "output_type": "stream",
     "text": [
      "24/24 [==============================] - 2s 19ms/step - loss: 0.4302 - accuracy: 0.8163\n"
     ]
    },
    {
     "data": {
      "text/plain": [
       "[0.43017497658729553, 0.8162729740142822]"
      ]
     },
     "execution_count": 119,
     "metadata": {},
     "output_type": "execute_result"
    }
   ],
   "source": [
    "loaded_model_6.evaluate(val_sentences, val_labels)"
   ]
  },
  {
   "cell_type": "code",
   "execution_count": null,
   "id": "ukxVdiLjPyaD",
   "metadata": {
    "colab": {
     "base_uri": "https://localhost:8080/",
     "height": 206
    },
    "id": "ukxVdiLjPyaD",
    "outputId": "75818dca-0629-409c-f470-814ecb3bcf15"
   },
   "outputs": [
    {
     "data": {
      "application/vnd.google.colaboratory.intrinsic+json": {
       "summary": "{\n  \"name\": \"val_df\",\n  \"rows\": 762,\n  \"fields\": [\n    {\n      \"column\": \"text\",\n      \"properties\": {\n        \"dtype\": \"string\",\n        \"num_unique_values\": 761,\n        \"samples\": [\n          \"collapsed the moment i got home last night lol\",\n          \"Reality Training: Train falls off elevated tracks during windstorm http://t.co/qzRciNaF5z\",\n          \"Storm headed towards Idaho Falls with blowing dust &amp; winds to 60 mph.  US HWY 20 &amp; I15 look out.  #idwx http://t.co/0cR74m1Uxm\"\n        ],\n        \"semantic_type\": \"\",\n        \"description\": \"\"\n      }\n    },\n    {\n      \"column\": \"target\",\n      \"properties\": {\n        \"dtype\": \"number\",\n        \"std\": 0,\n        \"min\": 0,\n        \"max\": 1,\n        \"num_unique_values\": 2,\n        \"samples\": [\n          1,\n          0\n        ],\n        \"semantic_type\": \"\",\n        \"description\": \"\"\n      }\n    },\n    {\n      \"column\": \"pred\",\n      \"properties\": {\n        \"dtype\": \"float32\",\n        \"num_unique_values\": 2,\n        \"samples\": [\n          1.0,\n          0.0\n        ],\n        \"semantic_type\": \"\",\n        \"description\": \"\"\n      }\n    },\n    {\n      \"column\": \"pred_prob\",\n      \"properties\": {\n        \"dtype\": \"float32\",\n        \"num_unique_values\": 762,\n        \"samples\": [\n          0.12196303904056549,\n          0.9489253163337708\n        ],\n        \"semantic_type\": \"\",\n        \"description\": \"\"\n      }\n    }\n  ]\n}",
       "type": "dataframe",
       "variable_name": "val_df"
      },
      "text/html": [
       "\n",
       "  <div id=\"df-f24cd613-eec8-41b8-9b19-1f81a1512bc2\" class=\"colab-df-container\">\n",
       "    <div>\n",
       "<style scoped>\n",
       "    .dataframe tbody tr th:only-of-type {\n",
       "        vertical-align: middle;\n",
       "    }\n",
       "\n",
       "    .dataframe tbody tr th {\n",
       "        vertical-align: top;\n",
       "    }\n",
       "\n",
       "    .dataframe thead th {\n",
       "        text-align: right;\n",
       "    }\n",
       "</style>\n",
       "<table border=\"1\" class=\"dataframe\">\n",
       "  <thead>\n",
       "    <tr style=\"text-align: right;\">\n",
       "      <th></th>\n",
       "      <th>text</th>\n",
       "      <th>target</th>\n",
       "      <th>pred</th>\n",
       "      <th>pred_prob</th>\n",
       "    </tr>\n",
       "  </thead>\n",
       "  <tbody>\n",
       "    <tr>\n",
       "      <th>0</th>\n",
       "      <td>DFR EP016 Monthly Meltdown - On Dnbheaven 2015...</td>\n",
       "      <td>0</td>\n",
       "      <td>0.0</td>\n",
       "      <td>0.140847</td>\n",
       "    </tr>\n",
       "    <tr>\n",
       "      <th>1</th>\n",
       "      <td>FedEx no longer to transport bioterror germs i...</td>\n",
       "      <td>0</td>\n",
       "      <td>1.0</td>\n",
       "      <td>0.766248</td>\n",
       "    </tr>\n",
       "    <tr>\n",
       "      <th>2</th>\n",
       "      <td>Gunmen kill four in El Salvador bus attack: Su...</td>\n",
       "      <td>1</td>\n",
       "      <td>1.0</td>\n",
       "      <td>0.985710</td>\n",
       "    </tr>\n",
       "    <tr>\n",
       "      <th>3</th>\n",
       "      <td>@camilacabello97 Internally and externally scr...</td>\n",
       "      <td>1</td>\n",
       "      <td>0.0</td>\n",
       "      <td>0.196094</td>\n",
       "    </tr>\n",
       "    <tr>\n",
       "      <th>4</th>\n",
       "      <td>Radiation emergency #preparedness starts with ...</td>\n",
       "      <td>1</td>\n",
       "      <td>1.0</td>\n",
       "      <td>0.731901</td>\n",
       "    </tr>\n",
       "  </tbody>\n",
       "</table>\n",
       "</div>\n",
       "    <div class=\"colab-df-buttons\">\n",
       "\n",
       "  <div class=\"colab-df-container\">\n",
       "    <button class=\"colab-df-convert\" onclick=\"convertToInteractive('df-f24cd613-eec8-41b8-9b19-1f81a1512bc2')\"\n",
       "            title=\"Convert this dataframe to an interactive table.\"\n",
       "            style=\"display:none;\">\n",
       "\n",
       "  <svg xmlns=\"http://www.w3.org/2000/svg\" height=\"24px\" viewBox=\"0 -960 960 960\">\n",
       "    <path d=\"M120-120v-720h720v720H120Zm60-500h600v-160H180v160Zm220 220h160v-160H400v160Zm0 220h160v-160H400v160ZM180-400h160v-160H180v160Zm440 0h160v-160H620v160ZM180-180h160v-160H180v160Zm440 0h160v-160H620v160Z\"/>\n",
       "  </svg>\n",
       "    </button>\n",
       "\n",
       "  <style>\n",
       "    .colab-df-container {\n",
       "      display:flex;\n",
       "      gap: 12px;\n",
       "    }\n",
       "\n",
       "    .colab-df-convert {\n",
       "      background-color: #E8F0FE;\n",
       "      border: none;\n",
       "      border-radius: 50%;\n",
       "      cursor: pointer;\n",
       "      display: none;\n",
       "      fill: #1967D2;\n",
       "      height: 32px;\n",
       "      padding: 0 0 0 0;\n",
       "      width: 32px;\n",
       "    }\n",
       "\n",
       "    .colab-df-convert:hover {\n",
       "      background-color: #E2EBFA;\n",
       "      box-shadow: 0px 1px 2px rgba(60, 64, 67, 0.3), 0px 1px 3px 1px rgba(60, 64, 67, 0.15);\n",
       "      fill: #174EA6;\n",
       "    }\n",
       "\n",
       "    .colab-df-buttons div {\n",
       "      margin-bottom: 4px;\n",
       "    }\n",
       "\n",
       "    [theme=dark] .colab-df-convert {\n",
       "      background-color: #3B4455;\n",
       "      fill: #D2E3FC;\n",
       "    }\n",
       "\n",
       "    [theme=dark] .colab-df-convert:hover {\n",
       "      background-color: #434B5C;\n",
       "      box-shadow: 0px 1px 3px 1px rgba(0, 0, 0, 0.15);\n",
       "      filter: drop-shadow(0px 1px 2px rgba(0, 0, 0, 0.3));\n",
       "      fill: #FFFFFF;\n",
       "    }\n",
       "  </style>\n",
       "\n",
       "    <script>\n",
       "      const buttonEl =\n",
       "        document.querySelector('#df-f24cd613-eec8-41b8-9b19-1f81a1512bc2 button.colab-df-convert');\n",
       "      buttonEl.style.display =\n",
       "        google.colab.kernel.accessAllowed ? 'block' : 'none';\n",
       "\n",
       "      async function convertToInteractive(key) {\n",
       "        const element = document.querySelector('#df-f24cd613-eec8-41b8-9b19-1f81a1512bc2');\n",
       "        const dataTable =\n",
       "          await google.colab.kernel.invokeFunction('convertToInteractive',\n",
       "                                                    [key], {});\n",
       "        if (!dataTable) return;\n",
       "\n",
       "        const docLinkHtml = 'Like what you see? Visit the ' +\n",
       "          '<a target=\"_blank\" href=https://colab.research.google.com/notebooks/data_table.ipynb>data table notebook</a>'\n",
       "          + ' to learn more about interactive tables.';\n",
       "        element.innerHTML = '';\n",
       "        dataTable['output_type'] = 'display_data';\n",
       "        await google.colab.output.renderOutput(dataTable, element);\n",
       "        const docLink = document.createElement('div');\n",
       "        docLink.innerHTML = docLinkHtml;\n",
       "        element.appendChild(docLink);\n",
       "      }\n",
       "    </script>\n",
       "  </div>\n",
       "\n",
       "\n",
       "<div id=\"df-8f6f0120-3968-45b0-ab2d-40ba9ed2029f\">\n",
       "  <button class=\"colab-df-quickchart\" onclick=\"quickchart('df-8f6f0120-3968-45b0-ab2d-40ba9ed2029f')\"\n",
       "            title=\"Suggest charts\"\n",
       "            style=\"display:none;\">\n",
       "\n",
       "<svg xmlns=\"http://www.w3.org/2000/svg\" height=\"24px\"viewBox=\"0 0 24 24\"\n",
       "     width=\"24px\">\n",
       "    <g>\n",
       "        <path d=\"M19 3H5c-1.1 0-2 .9-2 2v14c0 1.1.9 2 2 2h14c1.1 0 2-.9 2-2V5c0-1.1-.9-2-2-2zM9 17H7v-7h2v7zm4 0h-2V7h2v10zm4 0h-2v-4h2v4z\"/>\n",
       "    </g>\n",
       "</svg>\n",
       "  </button>\n",
       "\n",
       "<style>\n",
       "  .colab-df-quickchart {\n",
       "      --bg-color: #E8F0FE;\n",
       "      --fill-color: #1967D2;\n",
       "      --hover-bg-color: #E2EBFA;\n",
       "      --hover-fill-color: #174EA6;\n",
       "      --disabled-fill-color: #AAA;\n",
       "      --disabled-bg-color: #DDD;\n",
       "  }\n",
       "\n",
       "  [theme=dark] .colab-df-quickchart {\n",
       "      --bg-color: #3B4455;\n",
       "      --fill-color: #D2E3FC;\n",
       "      --hover-bg-color: #434B5C;\n",
       "      --hover-fill-color: #FFFFFF;\n",
       "      --disabled-bg-color: #3B4455;\n",
       "      --disabled-fill-color: #666;\n",
       "  }\n",
       "\n",
       "  .colab-df-quickchart {\n",
       "    background-color: var(--bg-color);\n",
       "    border: none;\n",
       "    border-radius: 50%;\n",
       "    cursor: pointer;\n",
       "    display: none;\n",
       "    fill: var(--fill-color);\n",
       "    height: 32px;\n",
       "    padding: 0;\n",
       "    width: 32px;\n",
       "  }\n",
       "\n",
       "  .colab-df-quickchart:hover {\n",
       "    background-color: var(--hover-bg-color);\n",
       "    box-shadow: 0 1px 2px rgba(60, 64, 67, 0.3), 0 1px 3px 1px rgba(60, 64, 67, 0.15);\n",
       "    fill: var(--button-hover-fill-color);\n",
       "  }\n",
       "\n",
       "  .colab-df-quickchart-complete:disabled,\n",
       "  .colab-df-quickchart-complete:disabled:hover {\n",
       "    background-color: var(--disabled-bg-color);\n",
       "    fill: var(--disabled-fill-color);\n",
       "    box-shadow: none;\n",
       "  }\n",
       "\n",
       "  .colab-df-spinner {\n",
       "    border: 2px solid var(--fill-color);\n",
       "    border-color: transparent;\n",
       "    border-bottom-color: var(--fill-color);\n",
       "    animation:\n",
       "      spin 1s steps(1) infinite;\n",
       "  }\n",
       "\n",
       "  @keyframes spin {\n",
       "    0% {\n",
       "      border-color: transparent;\n",
       "      border-bottom-color: var(--fill-color);\n",
       "      border-left-color: var(--fill-color);\n",
       "    }\n",
       "    20% {\n",
       "      border-color: transparent;\n",
       "      border-left-color: var(--fill-color);\n",
       "      border-top-color: var(--fill-color);\n",
       "    }\n",
       "    30% {\n",
       "      border-color: transparent;\n",
       "      border-left-color: var(--fill-color);\n",
       "      border-top-color: var(--fill-color);\n",
       "      border-right-color: var(--fill-color);\n",
       "    }\n",
       "    40% {\n",
       "      border-color: transparent;\n",
       "      border-right-color: var(--fill-color);\n",
       "      border-top-color: var(--fill-color);\n",
       "    }\n",
       "    60% {\n",
       "      border-color: transparent;\n",
       "      border-right-color: var(--fill-color);\n",
       "    }\n",
       "    80% {\n",
       "      border-color: transparent;\n",
       "      border-right-color: var(--fill-color);\n",
       "      border-bottom-color: var(--fill-color);\n",
       "    }\n",
       "    90% {\n",
       "      border-color: transparent;\n",
       "      border-bottom-color: var(--fill-color);\n",
       "    }\n",
       "  }\n",
       "</style>\n",
       "\n",
       "  <script>\n",
       "    async function quickchart(key) {\n",
       "      const quickchartButtonEl =\n",
       "        document.querySelector('#' + key + ' button');\n",
       "      quickchartButtonEl.disabled = true;  // To prevent multiple clicks.\n",
       "      quickchartButtonEl.classList.add('colab-df-spinner');\n",
       "      try {\n",
       "        const charts = await google.colab.kernel.invokeFunction(\n",
       "            'suggestCharts', [key], {});\n",
       "      } catch (error) {\n",
       "        console.error('Error during call to suggestCharts:', error);\n",
       "      }\n",
       "      quickchartButtonEl.classList.remove('colab-df-spinner');\n",
       "      quickchartButtonEl.classList.add('colab-df-quickchart-complete');\n",
       "    }\n",
       "    (() => {\n",
       "      let quickchartButtonEl =\n",
       "        document.querySelector('#df-8f6f0120-3968-45b0-ab2d-40ba9ed2029f button');\n",
       "      quickchartButtonEl.style.display =\n",
       "        google.colab.kernel.accessAllowed ? 'block' : 'none';\n",
       "    })();\n",
       "  </script>\n",
       "</div>\n",
       "    </div>\n",
       "  </div>\n"
      ],
      "text/plain": [
       "                                                text  target  pred  pred_prob\n",
       "0  DFR EP016 Monthly Meltdown - On Dnbheaven 2015...       0   0.0   0.140847\n",
       "1  FedEx no longer to transport bioterror germs i...       0   1.0   0.766248\n",
       "2  Gunmen kill four in El Salvador bus attack: Su...       1   1.0   0.985710\n",
       "3  @camilacabello97 Internally and externally scr...       1   0.0   0.196094\n",
       "4  Radiation emergency #preparedness starts with ...       1   1.0   0.731901"
      ]
     },
     "execution_count": 121,
     "metadata": {},
     "output_type": "execute_result"
    }
   ],
   "source": [
    "# Finding the most wrong examples\n",
    "val_df = pd.DataFrame({\"text\": val_sentences,\n",
    "                       \"target\": val_labels,\n",
    "                       \"pred\": model_6_preds,\n",
    "                       \"pred_prob\": tf.squeeze(model_6_pred_probs)})\n",
    "val_df.head()"
   ]
  },
  {
   "cell_type": "code",
   "execution_count": null,
   "id": "fBZyeii0QogU",
   "metadata": {
    "colab": {
     "base_uri": "https://localhost:8080/",
     "height": 362
    },
    "id": "fBZyeii0QogU",
    "outputId": "9f682af3-7808-4d89-d5b6-d93b909b82b6"
   },
   "outputs": [
    {
     "data": {
      "application/vnd.google.colaboratory.intrinsic+json": {
       "summary": "{\n  \"name\": \"most_wrong[:10]\",\n  \"rows\": 10,\n  \"fields\": [\n    {\n      \"column\": \"text\",\n      \"properties\": {\n        \"dtype\": \"string\",\n        \"num_unique_values\": 10,\n        \"samples\": [\n          \"@AshGhebranious civil rights continued in the 60s. And what about trans-generational trauma? if anything we should listen to the Americans.\",\n          \"FedEx will no longer transport bioterror pathogens in wake of anthrax lab mishaps http://t.co/lHpgxc4b8J\",\n          \"Ashes 2015: Australia\\u0089\\u00db\\u00aas collapse at Trent Bridge among worst in history: England bundled out Australia for 60 ... http://t.co/t5TrhjUAU0\"\n        ],\n        \"semantic_type\": \"\",\n        \"description\": \"\"\n      }\n    },\n    {\n      \"column\": \"target\",\n      \"properties\": {\n        \"dtype\": \"number\",\n        \"std\": 0,\n        \"min\": 0,\n        \"max\": 0,\n        \"num_unique_values\": 1,\n        \"samples\": [\n          0\n        ],\n        \"semantic_type\": \"\",\n        \"description\": \"\"\n      }\n    },\n    {\n      \"column\": \"pred\",\n      \"properties\": {\n        \"dtype\": \"float32\",\n        \"num_unique_values\": 1,\n        \"samples\": [\n          1.0\n        ],\n        \"semantic_type\": \"\",\n        \"description\": \"\"\n      }\n    },\n    {\n      \"column\": \"pred_prob\",\n      \"properties\": {\n        \"dtype\": \"float32\",\n        \"num_unique_values\": 10,\n        \"samples\": [\n          0.783454954624176\n        ],\n        \"semantic_type\": \"\",\n        \"description\": \"\"\n      }\n    }\n  ]\n}",
       "type": "dataframe"
      },
      "text/html": [
       "\n",
       "  <div id=\"df-172c589b-34d9-4b3e-acc6-06fb9c8d4b8a\" class=\"colab-df-container\">\n",
       "    <div>\n",
       "<style scoped>\n",
       "    .dataframe tbody tr th:only-of-type {\n",
       "        vertical-align: middle;\n",
       "    }\n",
       "\n",
       "    .dataframe tbody tr th {\n",
       "        vertical-align: top;\n",
       "    }\n",
       "\n",
       "    .dataframe thead th {\n",
       "        text-align: right;\n",
       "    }\n",
       "</style>\n",
       "<table border=\"1\" class=\"dataframe\">\n",
       "  <thead>\n",
       "    <tr style=\"text-align: right;\">\n",
       "      <th></th>\n",
       "      <th>text</th>\n",
       "      <th>target</th>\n",
       "      <th>pred</th>\n",
       "      <th>pred_prob</th>\n",
       "    </tr>\n",
       "  </thead>\n",
       "  <tbody>\n",
       "    <tr>\n",
       "      <th>31</th>\n",
       "      <td>? High Skies - Burning Buildings ? http://t.co...</td>\n",
       "      <td>0</td>\n",
       "      <td>1.0</td>\n",
       "      <td>0.909097</td>\n",
       "    </tr>\n",
       "    <tr>\n",
       "      <th>759</th>\n",
       "      <td>FedEx will no longer transport bioterror patho...</td>\n",
       "      <td>0</td>\n",
       "      <td>1.0</td>\n",
       "      <td>0.864874</td>\n",
       "    </tr>\n",
       "    <tr>\n",
       "      <th>49</th>\n",
       "      <td>@madonnamking RSPCA site multiple 7 story high...</td>\n",
       "      <td>0</td>\n",
       "      <td>1.0</td>\n",
       "      <td>0.837476</td>\n",
       "    </tr>\n",
       "    <tr>\n",
       "      <th>628</th>\n",
       "      <td>@noah_anyname That's where the concentration c...</td>\n",
       "      <td>0</td>\n",
       "      <td>1.0</td>\n",
       "      <td>0.823826</td>\n",
       "    </tr>\n",
       "    <tr>\n",
       "      <th>393</th>\n",
       "      <td>@SonofLiberty357 all illuminated by the bright...</td>\n",
       "      <td>0</td>\n",
       "      <td>1.0</td>\n",
       "      <td>0.821779</td>\n",
       "    </tr>\n",
       "    <tr>\n",
       "      <th>209</th>\n",
       "      <td>Ashes 2015: AustraliaÛªs collapse at Trent Br...</td>\n",
       "      <td>0</td>\n",
       "      <td>1.0</td>\n",
       "      <td>0.814847</td>\n",
       "    </tr>\n",
       "    <tr>\n",
       "      <th>109</th>\n",
       "      <td>[55436] 1950 LIONEL TRAINS SMOKE LOCOMOTIVES W...</td>\n",
       "      <td>0</td>\n",
       "      <td>1.0</td>\n",
       "      <td>0.799062</td>\n",
       "    </tr>\n",
       "    <tr>\n",
       "      <th>698</th>\n",
       "      <td>åÈMGN-AFRICAå¨ pin:263789F4 åÈ Correction: Ten...</td>\n",
       "      <td>0</td>\n",
       "      <td>1.0</td>\n",
       "      <td>0.788643</td>\n",
       "    </tr>\n",
       "    <tr>\n",
       "      <th>251</th>\n",
       "      <td>@AshGhebranious civil rights continued in the ...</td>\n",
       "      <td>0</td>\n",
       "      <td>1.0</td>\n",
       "      <td>0.783455</td>\n",
       "    </tr>\n",
       "    <tr>\n",
       "      <th>1</th>\n",
       "      <td>FedEx no longer to transport bioterror germs i...</td>\n",
       "      <td>0</td>\n",
       "      <td>1.0</td>\n",
       "      <td>0.766248</td>\n",
       "    </tr>\n",
       "  </tbody>\n",
       "</table>\n",
       "</div>\n",
       "    <div class=\"colab-df-buttons\">\n",
       "\n",
       "  <div class=\"colab-df-container\">\n",
       "    <button class=\"colab-df-convert\" onclick=\"convertToInteractive('df-172c589b-34d9-4b3e-acc6-06fb9c8d4b8a')\"\n",
       "            title=\"Convert this dataframe to an interactive table.\"\n",
       "            style=\"display:none;\">\n",
       "\n",
       "  <svg xmlns=\"http://www.w3.org/2000/svg\" height=\"24px\" viewBox=\"0 -960 960 960\">\n",
       "    <path d=\"M120-120v-720h720v720H120Zm60-500h600v-160H180v160Zm220 220h160v-160H400v160Zm0 220h160v-160H400v160ZM180-400h160v-160H180v160Zm440 0h160v-160H620v160ZM180-180h160v-160H180v160Zm440 0h160v-160H620v160Z\"/>\n",
       "  </svg>\n",
       "    </button>\n",
       "\n",
       "  <style>\n",
       "    .colab-df-container {\n",
       "      display:flex;\n",
       "      gap: 12px;\n",
       "    }\n",
       "\n",
       "    .colab-df-convert {\n",
       "      background-color: #E8F0FE;\n",
       "      border: none;\n",
       "      border-radius: 50%;\n",
       "      cursor: pointer;\n",
       "      display: none;\n",
       "      fill: #1967D2;\n",
       "      height: 32px;\n",
       "      padding: 0 0 0 0;\n",
       "      width: 32px;\n",
       "    }\n",
       "\n",
       "    .colab-df-convert:hover {\n",
       "      background-color: #E2EBFA;\n",
       "      box-shadow: 0px 1px 2px rgba(60, 64, 67, 0.3), 0px 1px 3px 1px rgba(60, 64, 67, 0.15);\n",
       "      fill: #174EA6;\n",
       "    }\n",
       "\n",
       "    .colab-df-buttons div {\n",
       "      margin-bottom: 4px;\n",
       "    }\n",
       "\n",
       "    [theme=dark] .colab-df-convert {\n",
       "      background-color: #3B4455;\n",
       "      fill: #D2E3FC;\n",
       "    }\n",
       "\n",
       "    [theme=dark] .colab-df-convert:hover {\n",
       "      background-color: #434B5C;\n",
       "      box-shadow: 0px 1px 3px 1px rgba(0, 0, 0, 0.15);\n",
       "      filter: drop-shadow(0px 1px 2px rgba(0, 0, 0, 0.3));\n",
       "      fill: #FFFFFF;\n",
       "    }\n",
       "  </style>\n",
       "\n",
       "    <script>\n",
       "      const buttonEl =\n",
       "        document.querySelector('#df-172c589b-34d9-4b3e-acc6-06fb9c8d4b8a button.colab-df-convert');\n",
       "      buttonEl.style.display =\n",
       "        google.colab.kernel.accessAllowed ? 'block' : 'none';\n",
       "\n",
       "      async function convertToInteractive(key) {\n",
       "        const element = document.querySelector('#df-172c589b-34d9-4b3e-acc6-06fb9c8d4b8a');\n",
       "        const dataTable =\n",
       "          await google.colab.kernel.invokeFunction('convertToInteractive',\n",
       "                                                    [key], {});\n",
       "        if (!dataTable) return;\n",
       "\n",
       "        const docLinkHtml = 'Like what you see? Visit the ' +\n",
       "          '<a target=\"_blank\" href=https://colab.research.google.com/notebooks/data_table.ipynb>data table notebook</a>'\n",
       "          + ' to learn more about interactive tables.';\n",
       "        element.innerHTML = '';\n",
       "        dataTable['output_type'] = 'display_data';\n",
       "        await google.colab.output.renderOutput(dataTable, element);\n",
       "        const docLink = document.createElement('div');\n",
       "        docLink.innerHTML = docLinkHtml;\n",
       "        element.appendChild(docLink);\n",
       "      }\n",
       "    </script>\n",
       "  </div>\n",
       "\n",
       "\n",
       "<div id=\"df-f7850d7c-61f7-4ad3-a0b8-9e3b8c639604\">\n",
       "  <button class=\"colab-df-quickchart\" onclick=\"quickchart('df-f7850d7c-61f7-4ad3-a0b8-9e3b8c639604')\"\n",
       "            title=\"Suggest charts\"\n",
       "            style=\"display:none;\">\n",
       "\n",
       "<svg xmlns=\"http://www.w3.org/2000/svg\" height=\"24px\"viewBox=\"0 0 24 24\"\n",
       "     width=\"24px\">\n",
       "    <g>\n",
       "        <path d=\"M19 3H5c-1.1 0-2 .9-2 2v14c0 1.1.9 2 2 2h14c1.1 0 2-.9 2-2V5c0-1.1-.9-2-2-2zM9 17H7v-7h2v7zm4 0h-2V7h2v10zm4 0h-2v-4h2v4z\"/>\n",
       "    </g>\n",
       "</svg>\n",
       "  </button>\n",
       "\n",
       "<style>\n",
       "  .colab-df-quickchart {\n",
       "      --bg-color: #E8F0FE;\n",
       "      --fill-color: #1967D2;\n",
       "      --hover-bg-color: #E2EBFA;\n",
       "      --hover-fill-color: #174EA6;\n",
       "      --disabled-fill-color: #AAA;\n",
       "      --disabled-bg-color: #DDD;\n",
       "  }\n",
       "\n",
       "  [theme=dark] .colab-df-quickchart {\n",
       "      --bg-color: #3B4455;\n",
       "      --fill-color: #D2E3FC;\n",
       "      --hover-bg-color: #434B5C;\n",
       "      --hover-fill-color: #FFFFFF;\n",
       "      --disabled-bg-color: #3B4455;\n",
       "      --disabled-fill-color: #666;\n",
       "  }\n",
       "\n",
       "  .colab-df-quickchart {\n",
       "    background-color: var(--bg-color);\n",
       "    border: none;\n",
       "    border-radius: 50%;\n",
       "    cursor: pointer;\n",
       "    display: none;\n",
       "    fill: var(--fill-color);\n",
       "    height: 32px;\n",
       "    padding: 0;\n",
       "    width: 32px;\n",
       "  }\n",
       "\n",
       "  .colab-df-quickchart:hover {\n",
       "    background-color: var(--hover-bg-color);\n",
       "    box-shadow: 0 1px 2px rgba(60, 64, 67, 0.3), 0 1px 3px 1px rgba(60, 64, 67, 0.15);\n",
       "    fill: var(--button-hover-fill-color);\n",
       "  }\n",
       "\n",
       "  .colab-df-quickchart-complete:disabled,\n",
       "  .colab-df-quickchart-complete:disabled:hover {\n",
       "    background-color: var(--disabled-bg-color);\n",
       "    fill: var(--disabled-fill-color);\n",
       "    box-shadow: none;\n",
       "  }\n",
       "\n",
       "  .colab-df-spinner {\n",
       "    border: 2px solid var(--fill-color);\n",
       "    border-color: transparent;\n",
       "    border-bottom-color: var(--fill-color);\n",
       "    animation:\n",
       "      spin 1s steps(1) infinite;\n",
       "  }\n",
       "\n",
       "  @keyframes spin {\n",
       "    0% {\n",
       "      border-color: transparent;\n",
       "      border-bottom-color: var(--fill-color);\n",
       "      border-left-color: var(--fill-color);\n",
       "    }\n",
       "    20% {\n",
       "      border-color: transparent;\n",
       "      border-left-color: var(--fill-color);\n",
       "      border-top-color: var(--fill-color);\n",
       "    }\n",
       "    30% {\n",
       "      border-color: transparent;\n",
       "      border-left-color: var(--fill-color);\n",
       "      border-top-color: var(--fill-color);\n",
       "      border-right-color: var(--fill-color);\n",
       "    }\n",
       "    40% {\n",
       "      border-color: transparent;\n",
       "      border-right-color: var(--fill-color);\n",
       "      border-top-color: var(--fill-color);\n",
       "    }\n",
       "    60% {\n",
       "      border-color: transparent;\n",
       "      border-right-color: var(--fill-color);\n",
       "    }\n",
       "    80% {\n",
       "      border-color: transparent;\n",
       "      border-right-color: var(--fill-color);\n",
       "      border-bottom-color: var(--fill-color);\n",
       "    }\n",
       "    90% {\n",
       "      border-color: transparent;\n",
       "      border-bottom-color: var(--fill-color);\n",
       "    }\n",
       "  }\n",
       "</style>\n",
       "\n",
       "  <script>\n",
       "    async function quickchart(key) {\n",
       "      const quickchartButtonEl =\n",
       "        document.querySelector('#' + key + ' button');\n",
       "      quickchartButtonEl.disabled = true;  // To prevent multiple clicks.\n",
       "      quickchartButtonEl.classList.add('colab-df-spinner');\n",
       "      try {\n",
       "        const charts = await google.colab.kernel.invokeFunction(\n",
       "            'suggestCharts', [key], {});\n",
       "      } catch (error) {\n",
       "        console.error('Error during call to suggestCharts:', error);\n",
       "      }\n",
       "      quickchartButtonEl.classList.remove('colab-df-spinner');\n",
       "      quickchartButtonEl.classList.add('colab-df-quickchart-complete');\n",
       "    }\n",
       "    (() => {\n",
       "      let quickchartButtonEl =\n",
       "        document.querySelector('#df-f7850d7c-61f7-4ad3-a0b8-9e3b8c639604 button');\n",
       "      quickchartButtonEl.style.display =\n",
       "        google.colab.kernel.accessAllowed ? 'block' : 'none';\n",
       "    })();\n",
       "  </script>\n",
       "</div>\n",
       "    </div>\n",
       "  </div>\n"
      ],
      "text/plain": [
       "                                                  text  target  pred  \\\n",
       "31   ? High Skies - Burning Buildings ? http://t.co...       0   1.0   \n",
       "759  FedEx will no longer transport bioterror patho...       0   1.0   \n",
       "49   @madonnamking RSPCA site multiple 7 story high...       0   1.0   \n",
       "628  @noah_anyname That's where the concentration c...       0   1.0   \n",
       "393  @SonofLiberty357 all illuminated by the bright...       0   1.0   \n",
       "209  Ashes 2015: AustraliaÛªs collapse at Trent Br...       0   1.0   \n",
       "109  [55436] 1950 LIONEL TRAINS SMOKE LOCOMOTIVES W...       0   1.0   \n",
       "698  åÈMGN-AFRICAå¨ pin:263789F4 åÈ Correction: Ten...       0   1.0   \n",
       "251  @AshGhebranious civil rights continued in the ...       0   1.0   \n",
       "1    FedEx no longer to transport bioterror germs i...       0   1.0   \n",
       "\n",
       "     pred_prob  \n",
       "31    0.909097  \n",
       "759   0.864874  \n",
       "49    0.837476  \n",
       "628   0.823826  \n",
       "393   0.821779  \n",
       "209   0.814847  \n",
       "109   0.799062  \n",
       "698   0.788643  \n",
       "251   0.783455  \n",
       "1     0.766248  "
      ]
     },
     "execution_count": 124,
     "metadata": {},
     "output_type": "execute_result"
    }
   ],
   "source": [
    "most_wrong = val_df[val_df[\"target\"] != val_df[\"pred\"]].sort_values(\"pred_prob\", ascending=False)\n",
    "most_wrong[:10]"
   ]
  },
  {
   "cell_type": "code",
   "execution_count": null,
   "id": "gehP-W14Q8tg",
   "metadata": {
    "colab": {
     "base_uri": "https://localhost:8080/"
    },
    "id": "gehP-W14Q8tg",
    "outputId": "385dd996-f62a-4c87-ea93-357f9545a290"
   },
   "outputs": [
    {
     "name": "stdout",
     "output_type": "stream",
     "text": [
      "Target: 0, Pred: 1, Prob: 0.9090967178344727\n",
      "Text:\n",
      "? High Skies - Burning Buildings ? http://t.co/uVq41i3Kx2 #nowplaying\n",
      "\n",
      "----\n",
      "\n",
      "Target: 0, Pred: 1, Prob: 0.8648740649223328\n",
      "Text:\n",
      "FedEx will no longer transport bioterror pathogens in wake of anthrax lab mishaps http://t.co/lHpgxc4b8J\n",
      "\n",
      "----\n",
      "\n",
      "Target: 0, Pred: 1, Prob: 0.8374760150909424\n",
      "Text:\n",
      "@madonnamking RSPCA site multiple 7 story high rise buildings next to low density character residential in an area that floods\n",
      "\n",
      "----\n",
      "\n",
      "Target: 0, Pred: 1, Prob: 0.8238256573677063\n",
      "Text:\n",
      "@noah_anyname That's where the concentration camps and mass murder come in. \n",
      " \n",
      "EVERY. FUCKING. TIME.\n",
      "\n",
      "----\n",
      "\n",
      "Target: 0, Pred: 1, Prob: 0.8217787146568298\n",
      "Text:\n",
      "@SonofLiberty357 all illuminated by the brightly burning buildings all around the town!\n",
      "\n",
      "----\n",
      "\n",
      "Target: 0, Pred: 1, Prob: 0.8148474097251892\n",
      "Text:\n",
      "Ashes 2015: AustraliaÛªs collapse at Trent Bridge among worst in history: England bundled out Australia for 60 ... http://t.co/t5TrhjUAU0\n",
      "\n",
      "----\n",
      "\n",
      "Target: 0, Pred: 1, Prob: 0.7990623712539673\n",
      "Text:\n",
      "[55436] 1950 LIONEL TRAINS SMOKE LOCOMOTIVES WITH MAGNE-TRACTION INSTRUCTIONS http://t.co/xEZBs3sq0y http://t.co/C2x0QoKGlY\n",
      "\n",
      "----\n",
      "\n",
      "Target: 0, Pred: 1, Prob: 0.7886433005332947\n",
      "Text:\n",
      "åÈMGN-AFRICAå¨ pin:263789F4 åÈ Correction: Tent Collapse Story: Correction: Tent Collapse story åÈ http://t.co/fDJUYvZMrv @wizkidayo\n",
      "\n",
      "----\n",
      "\n",
      "Target: 0, Pred: 1, Prob: 0.783454954624176\n",
      "Text:\n",
      "@AshGhebranious civil rights continued in the 60s. And what about trans-generational trauma? if anything we should listen to the Americans.\n",
      "\n",
      "----\n",
      "\n",
      "Target: 0, Pred: 1, Prob: 0.7662475109100342\n",
      "Text:\n",
      "FedEx no longer to transport bioterror germs in wake of anthrax lab mishaps http://t.co/qZQc8WWwcN via @usatoday\n",
      "\n",
      "----\n",
      "\n"
     ]
    }
   ],
   "source": [
    "# 0 = Not a real diaster Tweet\n",
    "# 1 = Real diaster Tweet\n",
    "# The false positves (model predicted 1 when should've been 0)\n",
    "for row in most_wrong[:10].itertuples():\n",
    "  _, text, target, pred, prob = row\n",
    "  print(f\"Target: {target}, Pred: {int(pred)}, Prob: {prob}\")\n",
    "  print(f\"Text:\\n{text}\\n\")\n",
    "  print(f\"----\\n\")"
   ]
  },
  {
   "cell_type": "code",
   "execution_count": null,
   "id": "RmH1Xn9pSWUW",
   "metadata": {
    "colab": {
     "base_uri": "https://localhost:8080/"
    },
    "id": "RmH1Xn9pSWUW",
    "outputId": "1ae1ce1c-227f-4f38-f810-14625427660b"
   },
   "outputs": [
    {
     "name": "stdout",
     "output_type": "stream",
     "text": [
      "Target: 1, Pred: 0, Prob: 0.058252133429050446\n",
      "Text:\n",
      "going to redo my nails and watch behind the scenes of desolation of smaug ayyy\n",
      "\n",
      "----\n",
      "\n",
      "Target: 1, Pred: 0, Prob: 0.055936481803655624\n",
      "Text:\n",
      "VICTORINOX SWISS ARMY DATE WOMEN'S RUBBER MOP WATCH 241487 http://t.co/yFy3nkkcoH http://t.co/KNEhVvOHVK\n",
      "\n",
      "----\n",
      "\n",
      "Target: 1, Pred: 0, Prob: 0.04978294298052788\n",
      "Text:\n",
      "Lucas Duda is Ghost Rider. Not the Nic Cage version but an actual 'engulfed in flames' badass. #Mets\n",
      "\n",
      "----\n",
      "\n",
      "Target: 1, Pred: 0, Prob: 0.04920399561524391\n",
      "Text:\n",
      "@willienelson We need help! Horses will die!Please RT &amp; sign petition!Take a stand &amp; be a voice for them! #gilbert23 https://t.co/e8dl1lNCVu\n",
      "\n",
      "----\n",
      "\n",
      "Target: 1, Pred: 0, Prob: 0.04620877280831337\n",
      "Text:\n",
      "You can never escape me. Bullets don't harm me. Nothing harms me. But I know pain. I know pain. Sometimes I share it. With someone like you.\n",
      "\n",
      "----\n",
      "\n",
      "Target: 1, Pred: 0, Prob: 0.04548640176653862\n",
      "Text:\n",
      "I get to smoke my shit in peace\n",
      "\n",
      "----\n",
      "\n",
      "Target: 1, Pred: 0, Prob: 0.035622917115688324\n",
      "Text:\n",
      "@SoonerMagic_ I mean I'm a fan but I don't need a girl sounding off like a damn siren\n",
      "\n",
      "----\n",
      "\n",
      "Target: 1, Pred: 0, Prob: 0.03352326154708862\n",
      "Text:\n",
      "Why are you deluged with low self-image? Take the quiz: http://t.co/XsPqdOrIqj http://t.co/CQYvFR4UCy\n",
      "\n",
      "----\n",
      "\n",
      "Target: 1, Pred: 0, Prob: 0.031085917726159096\n",
      "Text:\n",
      "Reddit Will Now QuarantineÛ_ http://t.co/pkUAMXw6pm #onlinecommunities #reddit #amageddon #freespeech #Business http://t.co/PAWvNJ4sAP\n",
      "\n",
      "----\n",
      "\n",
      "Target: 1, Pred: 0, Prob: 0.02570064179599285\n",
      "Text:\n",
      "Ron &amp; Fez - Dave's High School Crush https://t.co/aN3W16c8F6 via @YouTube\n",
      "\n",
      "----\n",
      "\n"
     ]
    }
   ],
   "source": [
    "# The positive false\n",
    "for row in most_wrong[-10:].itertuples():\n",
    "  _, text, target, pred, prob = row\n",
    "  print(f\"Target: {target}, Pred: {int(pred)}, Prob: {prob}\")\n",
    "  print(f\"Text:\\n{text}\\n\")\n",
    "  print(f\"----\\n\")"
   ]
  },
  {
   "cell_type": "code",
   "execution_count": null,
   "id": "JXJIqSydTazv",
   "metadata": {
    "colab": {
     "base_uri": "https://localhost:8080/"
    },
    "id": "JXJIqSydTazv",
    "outputId": "bd9f7181-835f-4f87-bce4-ec6e1e8cd336"
   },
   "outputs": [
    {
     "name": "stdout",
     "output_type": "stream",
     "text": [
      "1/1 [==============================] - 1s 514ms/step\n",
      "Pred: 0, Prob: 0.05584137886762619\n",
      "Text:\n",
      "Businesses are deluged with ivoices. Make yours stand out with colour or shape and it's likely to ris; to the top of the pay' pile.\n",
      "\n",
      "----\n",
      "\n",
      "1/1 [==============================] - 0s 58ms/step\n",
      "Pred: 0, Prob: 0.08824936300516129\n",
      "Text:\n",
      "@ShojoShit /SCREAMS\n",
      "\n",
      "----\n",
      "\n",
      "1/1 [==============================] - 0s 65ms/step\n",
      "Pred: 0, Prob: 0.03774441033601761\n",
      "Text:\n",
      "@JadeForMKX You should be happy I don't use Aftershock. That variation counters your play style hard.\n",
      "\n",
      "----\n",
      "\n",
      "1/1 [==============================] - 0s 58ms/step\n",
      "Pred: 1, Prob: 0.7046456933021545\n",
      "Text:\n",
      "FedEx no longer to transport bioterror germs in wake of anthrax lab mishaps #breakingnews\n",
      "\n",
      "----\n",
      "\n",
      "1/1 [==============================] - 0s 74ms/step\n",
      "Pred: 1, Prob: 0.9682904481887817\n",
      "Text:\n",
      "Truck driver died in Turnpike fire most lanes still closed police say http://t.co/tTmJgq6ayM via @njdotcom\n",
      "\n",
      "----\n",
      "\n",
      "1/1 [==============================] - 0s 54ms/step\n",
      "Pred: 1, Prob: 0.6100999116897583\n",
      "Text:\n",
      "Hollywood movie about trapped miners released in Chile: SANTIAGO Chile (AP) ÛÓ The Hollywood movie on the 33 m... http://t.co/RAzFkXbhMN\n",
      "\n",
      "----\n",
      "\n",
      "1/1 [==============================] - 0s 58ms/step\n",
      "Pred: 1, Prob: 0.9574507474899292\n",
      "Text:\n",
      "RT AbbsWinston: #Zionist #Terrorist kidnapped 15 #Palestinians in overnight terror on Palestinian Villages Û_ http://t.co/J5mKcbKcov\n",
      "\n",
      "----\n",
      "\n",
      "1/1 [==============================] - 0s 61ms/step\n",
      "Pred: 1, Prob: 0.9358487129211426\n",
      "Text:\n",
      "Rescuers are searching for hundreds of migrants in the Mediterranean after a boat carrying as many as 600 peopleÛ_\n",
      "\n",
      "----\n",
      "\n",
      "1/1 [==============================] - 0s 59ms/step\n",
      "Pred: 1, Prob: 0.7702367305755615\n",
      "Text:\n",
      "Going to attempt the California fair again tomorrow hopefully we don't die in a tornado ??\n",
      "\n",
      "----\n",
      "\n",
      "1/1 [==============================] - 0s 61ms/step\n",
      "Pred: 1, Prob: 0.5021845698356628\n",
      "Text:\n",
      "Citizens Education Project has acted for years as a watchdog on the Dugway Proving Grounds. http://t.co/NZHXYapLm0\n",
      "\n",
      "----\n",
      "\n"
     ]
    }
   ],
   "source": [
    "test_sentences = test_df[\"text\"].to_list()\n",
    "test_samples = random.sample(test_sentences, 10)\n",
    "for test_sample in test_samples:\n",
    "  pred_prob = tf.squeeze(model_6.predict([test_sample]))  # has to be list\n",
    "  pred = tf.round(pred_prob)\n",
    "  print(f\"Pred: {int(pred)}, Prob: {pred_prob}\")\n",
    "  print(f\"Text:\\n{test_sample}\\n\")\n",
    "  print(f\"----\\n\")"
   ]
  },
  {
   "cell_type": "code",
   "execution_count": null,
   "id": "B2KrJVieUyBs",
   "metadata": {
    "id": "B2KrJVieUyBs"
   },
   "outputs": [],
   "source": [
    "kajetans_tweet = \"I like tensorflow, but one day it may not be there anyway.\""
   ]
  },
  {
   "cell_type": "code",
   "execution_count": null,
   "id": "g1ru-SfoViRx",
   "metadata": {
    "id": "g1ru-SfoViRx"
   },
   "outputs": [],
   "source": [
    "def predict_on_sentence(model, sentence):\n",
    "  \"\"\"\n",
    "  Uses model to make a prediction on sentence\n",
    "\n",
    "  Return the sentence, the pridcted label and the prediction probability.\n",
    "  \"\"\"\n",
    "  pred_prob = model.predict([sentence])\n",
    "  pred_label = tf.squeeze(tf.round(pred_prob)).numpy()\n",
    "  print(f\"Pred: {pred_label}\", \"(real disaster)\" if pred_label > 0 else \"(not real distaster)\", end=\" \")\n",
    "  print(f\"Prob: {pred_prob}\")\n",
    "  print(f\"Text: {sentence}\")"
   ]
  },
  {
   "cell_type": "code",
   "execution_count": null,
   "id": "4Dk35b_YWU_e",
   "metadata": {
    "colab": {
     "base_uri": "https://localhost:8080/"
    },
    "id": "4Dk35b_YWU_e",
    "outputId": "a8b35466-0d44-4be8-b4a7-793534f37e39"
   },
   "outputs": [
    {
     "name": "stdout",
     "output_type": "stream",
     "text": [
      "1/1 [==============================] - 0s 52ms/step\n",
      "Pred: 0.0 (not real distaster) Prob: [[0.09687037]]\n",
      "Text: I like tensorflow, but one day it may not be there anyway.\n"
     ]
    }
   ],
   "source": [
    "predict_on_sentence(model_6, kajetans_tweet)"
   ]
  },
  {
   "cell_type": "code",
   "execution_count": null,
   "id": "4VP8_6TOWbGj",
   "metadata": {
    "colab": {
     "base_uri": "https://localhost:8080/"
    },
    "id": "4VP8_6TOWbGj",
    "outputId": "aaaac27c-71d2-4a14-89b7-7e9160ab029e"
   },
   "outputs": [
    {
     "name": "stdout",
     "output_type": "stream",
     "text": [
      "1/1 [==============================] - 0s 69ms/step\n",
      "Pred: 1.0 (real disaster) Prob: [[0.9668569]]\n",
      "Text: Reports that the smoke in Beirut sky contains nitric acid, which is toxic. Please share and refrain from stepping outside unless urgent. #Lebanon\n",
      "1/1 [==============================] - 0s 60ms/step\n",
      "Pred: 1.0 (real disaster) Prob: [[0.9731024]]\n",
      "Text: #Beirut declared a “devastated city”, two-week state of emergency officially declared. #Lebanon\n"
     ]
    }
   ],
   "source": [
    "beirut_tweet_1 = \"Reports that the smoke in Beirut sky contains nitric acid, which is toxic. Please share and refrain from stepping outside unless urgent. #Lebanon\"\n",
    "predict_on_sentence(model_6, beirut_tweet_1)\n",
    "beirut_tweet_2 = \"#Beirut declared a “devastated city”, two-week state of emergency officially declared. #Lebanon\"\n",
    "predict_on_sentence(model_6, beirut_tweet_2)"
   ]
  },
  {
   "cell_type": "code",
   "execution_count": null,
   "id": "FimGWXcgYRJS",
   "metadata": {
    "id": "FimGWXcgYRJS"
   },
   "outputs": [],
   "source": [
    "import time\n",
    "def pred_timer(model, samples):\n",
    "  \"\"\"\n",
    "  Times how long a model takes to make prediciions on samples.\n",
    "\n",
    "  Args:\n",
    "  model = a trained model\n",
    "  sampels = a list of samples\n",
    "  ----\n",
    "  total_time = total elapsed tiem for model to make predictions on samples\n",
    "  time_per_pred = time in seconds per single sample\n",
    "  \"\"\"\n",
    "  start_time = time.perf_counter()\n",
    "  model.predict(samples)\n",
    "  end_time = time.perf_counter()\n",
    "  total_time = end_time - start_time\n",
    "  time_per_pred = total_time / len(samples)\n",
    "  return total_time, time_per_pred"
   ]
  },
  {
   "cell_type": "code",
   "execution_count": null,
   "id": "Hai793aBZrv-",
   "metadata": {
    "colab": {
     "base_uri": "https://localhost:8080/"
    },
    "id": "Hai793aBZrv-",
    "outputId": "c818eb61-9cdd-41db-cb3d-dce63bf24ccc"
   },
   "outputs": [
    {
     "name": "stdout",
     "output_type": "stream",
     "text": [
      "24/24 [==============================] - 0s 19ms/step\n",
      "Total time: 0.747174585000721, Time per pred: 0.00098\n"
     ]
    }
   ],
   "source": [
    "model_6_total_time, model_6_time_per_pred = pred_timer(model_6, val_sentences)\n",
    "print(f\"Total time: {model_6_total_time}, Time per pred: {model_6_time_per_pred:.5f}\")"
   ]
  },
  {
   "cell_type": "code",
   "execution_count": null,
   "id": "pn-WtQQ4aCVb",
   "metadata": {
    "colab": {
     "base_uri": "https://localhost:8080/"
    },
    "id": "pn-WtQQ4aCVb",
    "outputId": "a71d5c8b-c013-464a-a9fe-a0dcb9768ae8"
   },
   "outputs": [
    {
     "name": "stdout",
     "output_type": "stream",
     "text": [
      "Total time: 0.030209190000277886, time per pred: 0.00004\n"
     ]
    }
   ],
   "source": [
    "baseline_total_time, baseline_time_per_pred = pred_timer(baseline, val_sentences)\n",
    "print(f\"Total time: {baseline_total_time}, time per pred: {baseline_time_per_pred:.5f}\")"
   ]
  },
  {
   "cell_type": "code",
   "execution_count": null,
   "id": "TIdx8hGVa84Q",
   "metadata": {
    "colab": {
     "base_uri": "https://localhost:8080/",
     "height": 661
    },
    "id": "TIdx8hGVa84Q",
    "outputId": "3142811a-5038-42a6-bed0-9849ad6c9531"
   },
   "outputs": [
    {
     "data": {
      "image/png": "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\n",
      "text/plain": [
       "<Figure size 1000x700 with 1 Axes>"
      ]
     },
     "metadata": {},
     "output_type": "display_data"
    }
   ],
   "source": [
    "import matplotlib.pyplot as plt\n",
    "\n",
    "plt.figure(figsize=(10, 7))\n",
    "plt.scatter(baseline_time_per_pred, baseline_results[\"f1\"], label=\"baseline\")\n",
    "plt.scatter(model_6_time_per_pred, model_6_results[\"f1\"], label=\"model_6\")\n",
    "plt.legend()\n",
    "plt.title(\"F1-score versus time per prediction\")\n",
    "plt.xlabel(\"Time per prediction\")\n",
    "plt.ylabel(\"F1-Score\");"
   ]
  },
  {
   "cell_type": "code",
   "execution_count": null,
   "id": "ZunoR2a84KGT",
   "metadata": {
    "id": "ZunoR2a84KGT"
   },
   "outputs": [],
   "source": []
>>>>>>> 01ae81d04be66cfe8f52552778470262d28caad0
  }
 ],
 "metadata": {
  "accelerator": "GPU",
  "colab": {
   "gpuType": "T4",
   "include_colab_link": true,
   "provenance": [],
   "toc_visible": true
  },
  "kernelspec": {
   "display_name": "Python 3 (ipykernel)",
   "language": "python",
   "name": "python3"
  },
  "language_info": {
   "codemirror_mode": {
    "name": "ipython",
    "version": 3
   },
   "file_extension": ".py",
   "mimetype": "text/x-python",
   "name": "python",
   "nbconvert_exporter": "python",
   "pygments_lexer": "ipython3",
   "version": "3.11.5"
  }
 },
 "nbformat": 4,
 "nbformat_minor": 5
}
