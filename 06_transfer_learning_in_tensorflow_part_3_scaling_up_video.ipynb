{
 "cells": [
  {
   "cell_type": "markdown",
   "metadata": {
    "colab_type": "text",
    "id": "view-in-github"
   },
   "source": [
    "<a href=\"https://colab.research.google.com/github/KajetanFrackowiak/tensorflow_fundamentals/blob/main/06_transfer_learning_in_tensorflow_part_3_scaling_up_video.ipynb\" target=\"_parent\"><img src=\"https://colab.research.google.com/assets/colab-badge.svg\" alt=\"Open In Colab\"/></a>"
   ]
  },
  {
   "cell_type": "markdown",
   "metadata": {
    "id": "wOgfLt_qIoMB"
   },
   "source": [
    "# Transfer Learning with TensorFlow Part 3: Scaling up"
   ]
  },
  {
   "cell_type": "code",
   "execution_count": 1,
   "metadata": {
    "colab": {
     "base_uri": "https://localhost:8080/"
    },
    "id": "r55BQA0dJxsd",
    "outputId": "32034d6a-b077-4b64-e4f9-a54191bf509e",
    "scrolled": true
   },
   "outputs": [
    {
     "name": "stdout",
     "output_type": "stream",
     "text": [
      "Fri Dec 29 22:57:39 2023       \n",
      "+---------------------------------------------------------------------------------------+\n",
      "| NVIDIA-SMI 532.09                 Driver Version: 532.09       CUDA Version: 12.1     |\n",
      "|-----------------------------------------+----------------------+----------------------+\n",
      "| GPU  Name                      TCC/WDDM | Bus-Id        Disp.A | Volatile Uncorr. ECC |\n",
      "| Fan  Temp  Perf            Pwr:Usage/Cap|         Memory-Usage | GPU-Util  Compute M. |\n",
      "|                                         |                      |               MIG M. |\n",
      "|=========================================+======================+======================|\n",
      "|   0  NVIDIA GeForce GTX 1650       WDDM | 00000000:01:00.0 Off |                  N/A |\n",
      "| N/A   58C    P8                3W /  N/A|    160MiB /  4096MiB |      3%      Default |\n",
      "|                                         |                      |                  N/A |\n",
      "+-----------------------------------------+----------------------+----------------------+\n",
      "                                                                                         \n",
      "+---------------------------------------------------------------------------------------+\n",
      "| Processes:                                                                            |\n",
      "|  GPU   GI   CI        PID   Type   Process name                            GPU Memory |\n",
      "|        ID   ID                                                             Usage      |\n",
      "|=======================================================================================|\n",
      "|    0   N/A  N/A     19728    C+G   ...Brave-Browser\\Application\\brave.exe    N/A      |\n",
      "+---------------------------------------------------------------------------------------+\n"
     ]
    }
   ],
   "source": [
    "!nvidia-smi"
   ]
  },
  {
   "cell_type": "code",
   "execution_count": 2,
   "metadata": {},
   "outputs": [],
   "source": [
    "import zipfile\n",
    "\n",
    "def unzip_data(filename):\n",
    "    zip_ref =  zipfile.ZipFile(filename, \"r\")\n",
    "    zip_ref.extractall()\n",
    "    zip_ref.close()"
   ]
  },
  {
   "cell_type": "code",
   "execution_count": 3,
   "metadata": {},
   "outputs": [],
   "source": [
    "import os\n",
    "\n",
    "def walk_through_dir(dir_path):\n",
    "    for dirpath, dirnames, filenames in os.walk(dir_path):\n",
    "        print(f\"There are {len(dirnames)} directories and {len(filenames)} images in '{dirpath}'\")"
   ]
  },
  {
   "cell_type": "code",
   "execution_count": 4,
   "metadata": {},
   "outputs": [
    {
     "name": "stdout",
     "output_type": "stream",
     "text": [
      "WARNING:tensorflow:From C:\\Users\\kajte\\anaconda3\\Lib\\site-packages\\keras\\src\\losses.py:2976: The name tf.losses.sparse_softmax_cross_entropy is deprecated. Please use tf.compat.v1.losses.sparse_softmax_cross_entropy instead.\n",
      "\n"
     ]
    }
   ],
   "source": [
    "import datetime\n",
    "import tensorflow as tf\n",
    "\n",
    "def create_tensorboard_callback(dir_name, experiment_name):\n",
    "    log_dir = dir_name + \"/\" + experiment_name + \"/\" + datetime.datetime.now().strftime(\"%Y%m%d-%H%M%S\")\n",
    "    tensorboard_callback = tf.keras.callbacks.TensorBoard(\n",
    "    log_dir=log_dir\n",
    "    )\n",
    "    print(f\"Saving TensorBoard log files to: {log_dir}\")\n",
    "    return tensorboard_callback"
   ]
  },
  {
   "cell_type": "code",
   "execution_count": 5,
   "metadata": {},
   "outputs": [
    {
     "name": "stdout",
     "output_type": "stream",
     "text": [
      "--2023-12-30 10:19:54--  https://storage.googleapis.com/ztm_tf_course/food_vision/101_food_classes_10_percent.zip\n",
      "Resolving storage.googleapis.com (storage.googleapis.com)... 2a00:1450:401b:800::201b, 2a00:1450:401b:80e::201b, 2a00:1450:401b:810::201b, ...\n",
      "Connecting to storage.googleapis.com (storage.googleapis.com)|2a00:1450:401b:800::201b|:443... connected.\n",
      "HTTP request sent, awaiting response... 200 OK\n",
      "Length: 1625420029 (1.5G) [application/zip]\n",
      "Saving to: ‘101_food_classes_10_percent.zip’\n",
      "\n",
      "101_food_classes_10 100%[===================>]   1.51G  9.20MB/s    in 3m 1s   \n",
      "\n",
      "2023-12-30 10:22:55 (8.59 MB/s) - ‘101_food_classes_10_percent.zip’ saved [1625420029/1625420029]\n",
      "\n"
     ]
    }
   ],
   "source": [
    "# !wget \"https://storage.googleapis.com/ztm_tf_course/food_vision/101_food_classes_10_percent.zip\"\n",
    "# unzip_data(\"101_food_classes_10_percent.zip\")\n",
    "\n",
    "# train_dir = \"101_food_classes_10_percent/train/\"\n",
    "# test_dir = \"101_food_classes_10_percent/test/\""
   ]
  },
  {
   "cell_type": "code",
   "execution_count": 6,
   "metadata": {},
   "outputs": [],
   "source": [
    "# Use the urllib library to download the file\n",
    "import urllib.request\n",
    "\n",
    "url = \"https://storage.googleapis.com/ztm_tf_course/food_vision/101_food_classes_10_percent.zip\"\n",
    "filename = \"101_food_classes_10_percent.zip\"\n",
    "\n",
    "urllib.request.urlretrieve(url, filename)\n",
    "\n",
    "# Use the zipfile library to unzip the downloaded file\n",
    "import zipfile\n",
    "\n",
    "with zipfile.ZipFile(filename, 'r') as zip_ref:\n",
    "    zip_ref.extractall()\n",
    "\n",
    "# Define the directories\n",
    "train_dir = \"101_food_classes_10_percent/train/\"\n",
    "test_dir = \"101_food_classes_10_percent/test/\"\n"
   ]
  },
  {
   "cell_type": "code",
   "execution_count": 7,
   "metadata": {},
   "outputs": [
    {
     "name": "stdout",
     "output_type": "stream",
     "text": [
      "There are 2 directories and 0 images in '101_food_classes_10_percent'\n",
      "There are 101 directories and 0 images in '101_food_classes_10_percent\\test'\n",
      "There are 0 directories and 250 images in '101_food_classes_10_percent\\test\\apple_pie'\n",
      "There are 0 directories and 250 images in '101_food_classes_10_percent\\test\\baby_back_ribs'\n",
      "There are 0 directories and 250 images in '101_food_classes_10_percent\\test\\baklava'\n",
      "There are 0 directories and 250 images in '101_food_classes_10_percent\\test\\beef_carpaccio'\n",
      "There are 0 directories and 250 images in '101_food_classes_10_percent\\test\\beef_tartare'\n",
      "There are 0 directories and 250 images in '101_food_classes_10_percent\\test\\beet_salad'\n",
      "There are 0 directories and 250 images in '101_food_classes_10_percent\\test\\beignets'\n",
      "There are 0 directories and 250 images in '101_food_classes_10_percent\\test\\bibimbap'\n",
      "There are 0 directories and 250 images in '101_food_classes_10_percent\\test\\bread_pudding'\n",
      "There are 0 directories and 250 images in '101_food_classes_10_percent\\test\\breakfast_burrito'\n",
      "There are 0 directories and 250 images in '101_food_classes_10_percent\\test\\bruschetta'\n",
      "There are 0 directories and 250 images in '101_food_classes_10_percent\\test\\caesar_salad'\n",
      "There are 0 directories and 250 images in '101_food_classes_10_percent\\test\\cannoli'\n",
      "There are 0 directories and 250 images in '101_food_classes_10_percent\\test\\caprese_salad'\n",
      "There are 0 directories and 250 images in '101_food_classes_10_percent\\test\\carrot_cake'\n",
      "There are 0 directories and 250 images in '101_food_classes_10_percent\\test\\ceviche'\n",
      "There are 0 directories and 250 images in '101_food_classes_10_percent\\test\\cheesecake'\n",
      "There are 0 directories and 250 images in '101_food_classes_10_percent\\test\\cheese_plate'\n",
      "There are 0 directories and 250 images in '101_food_classes_10_percent\\test\\chicken_curry'\n",
      "There are 0 directories and 250 images in '101_food_classes_10_percent\\test\\chicken_quesadilla'\n",
      "There are 0 directories and 250 images in '101_food_classes_10_percent\\test\\chicken_wings'\n",
      "There are 0 directories and 250 images in '101_food_classes_10_percent\\test\\chocolate_cake'\n",
      "There are 0 directories and 250 images in '101_food_classes_10_percent\\test\\chocolate_mousse'\n",
      "There are 0 directories and 250 images in '101_food_classes_10_percent\\test\\churros'\n",
      "There are 0 directories and 250 images in '101_food_classes_10_percent\\test\\clam_chowder'\n",
      "There are 0 directories and 250 images in '101_food_classes_10_percent\\test\\club_sandwich'\n",
      "There are 0 directories and 250 images in '101_food_classes_10_percent\\test\\crab_cakes'\n",
      "There are 0 directories and 250 images in '101_food_classes_10_percent\\test\\creme_brulee'\n",
      "There are 0 directories and 250 images in '101_food_classes_10_percent\\test\\croque_madame'\n",
      "There are 0 directories and 250 images in '101_food_classes_10_percent\\test\\cup_cakes'\n",
      "There are 0 directories and 250 images in '101_food_classes_10_percent\\test\\deviled_eggs'\n",
      "There are 0 directories and 250 images in '101_food_classes_10_percent\\test\\donuts'\n",
      "There are 0 directories and 250 images in '101_food_classes_10_percent\\test\\dumplings'\n",
      "There are 0 directories and 250 images in '101_food_classes_10_percent\\test\\edamame'\n",
      "There are 0 directories and 250 images in '101_food_classes_10_percent\\test\\eggs_benedict'\n",
      "There are 0 directories and 250 images in '101_food_classes_10_percent\\test\\escargots'\n",
      "There are 0 directories and 250 images in '101_food_classes_10_percent\\test\\falafel'\n",
      "There are 0 directories and 250 images in '101_food_classes_10_percent\\test\\filet_mignon'\n",
      "There are 0 directories and 250 images in '101_food_classes_10_percent\\test\\fish_and_chips'\n",
      "There are 0 directories and 250 images in '101_food_classes_10_percent\\test\\foie_gras'\n",
      "There are 0 directories and 250 images in '101_food_classes_10_percent\\test\\french_fries'\n",
      "There are 0 directories and 250 images in '101_food_classes_10_percent\\test\\french_onion_soup'\n",
      "There are 0 directories and 250 images in '101_food_classes_10_percent\\test\\french_toast'\n",
      "There are 0 directories and 250 images in '101_food_classes_10_percent\\test\\fried_calamari'\n",
      "There are 0 directories and 250 images in '101_food_classes_10_percent\\test\\fried_rice'\n",
      "There are 0 directories and 250 images in '101_food_classes_10_percent\\test\\frozen_yogurt'\n",
      "There are 0 directories and 250 images in '101_food_classes_10_percent\\test\\garlic_bread'\n",
      "There are 0 directories and 250 images in '101_food_classes_10_percent\\test\\gnocchi'\n",
      "There are 0 directories and 250 images in '101_food_classes_10_percent\\test\\greek_salad'\n",
      "There are 0 directories and 250 images in '101_food_classes_10_percent\\test\\grilled_cheese_sandwich'\n",
      "There are 0 directories and 250 images in '101_food_classes_10_percent\\test\\grilled_salmon'\n",
      "There are 0 directories and 250 images in '101_food_classes_10_percent\\test\\guacamole'\n",
      "There are 0 directories and 250 images in '101_food_classes_10_percent\\test\\gyoza'\n",
      "There are 0 directories and 250 images in '101_food_classes_10_percent\\test\\hamburger'\n",
      "There are 0 directories and 250 images in '101_food_classes_10_percent\\test\\hot_and_sour_soup'\n",
      "There are 0 directories and 250 images in '101_food_classes_10_percent\\test\\hot_dog'\n",
      "There are 0 directories and 250 images in '101_food_classes_10_percent\\test\\huevos_rancheros'\n",
      "There are 0 directories and 250 images in '101_food_classes_10_percent\\test\\hummus'\n",
      "There are 0 directories and 250 images in '101_food_classes_10_percent\\test\\ice_cream'\n",
      "There are 0 directories and 250 images in '101_food_classes_10_percent\\test\\lasagna'\n",
      "There are 0 directories and 250 images in '101_food_classes_10_percent\\test\\lobster_bisque'\n",
      "There are 0 directories and 250 images in '101_food_classes_10_percent\\test\\lobster_roll_sandwich'\n",
      "There are 0 directories and 250 images in '101_food_classes_10_percent\\test\\macaroni_and_cheese'\n",
      "There are 0 directories and 250 images in '101_food_classes_10_percent\\test\\macarons'\n",
      "There are 0 directories and 250 images in '101_food_classes_10_percent\\test\\miso_soup'\n",
      "There are 0 directories and 250 images in '101_food_classes_10_percent\\test\\mussels'\n",
      "There are 0 directories and 250 images in '101_food_classes_10_percent\\test\\nachos'\n",
      "There are 0 directories and 250 images in '101_food_classes_10_percent\\test\\omelette'\n",
      "There are 0 directories and 250 images in '101_food_classes_10_percent\\test\\onion_rings'\n",
      "There are 0 directories and 250 images in '101_food_classes_10_percent\\test\\oysters'\n",
      "There are 0 directories and 250 images in '101_food_classes_10_percent\\test\\pad_thai'\n",
      "There are 0 directories and 250 images in '101_food_classes_10_percent\\test\\paella'\n",
      "There are 0 directories and 250 images in '101_food_classes_10_percent\\test\\pancakes'\n",
      "There are 0 directories and 250 images in '101_food_classes_10_percent\\test\\panna_cotta'\n",
      "There are 0 directories and 250 images in '101_food_classes_10_percent\\test\\peking_duck'\n",
      "There are 0 directories and 250 images in '101_food_classes_10_percent\\test\\pho'\n",
      "There are 0 directories and 250 images in '101_food_classes_10_percent\\test\\pizza'\n",
      "There are 0 directories and 250 images in '101_food_classes_10_percent\\test\\pork_chop'\n",
      "There are 0 directories and 250 images in '101_food_classes_10_percent\\test\\poutine'\n",
      "There are 0 directories and 250 images in '101_food_classes_10_percent\\test\\prime_rib'\n",
      "There are 0 directories and 250 images in '101_food_classes_10_percent\\test\\pulled_pork_sandwich'\n",
      "There are 0 directories and 250 images in '101_food_classes_10_percent\\test\\ramen'\n",
      "There are 0 directories and 250 images in '101_food_classes_10_percent\\test\\ravioli'\n",
      "There are 0 directories and 250 images in '101_food_classes_10_percent\\test\\red_velvet_cake'\n",
      "There are 0 directories and 250 images in '101_food_classes_10_percent\\test\\risotto'\n",
      "There are 0 directories and 250 images in '101_food_classes_10_percent\\test\\samosa'\n",
      "There are 0 directories and 250 images in '101_food_classes_10_percent\\test\\sashimi'\n",
      "There are 0 directories and 250 images in '101_food_classes_10_percent\\test\\scallops'\n",
      "There are 0 directories and 250 images in '101_food_classes_10_percent\\test\\seaweed_salad'\n",
      "There are 0 directories and 250 images in '101_food_classes_10_percent\\test\\shrimp_and_grits'\n",
      "There are 0 directories and 250 images in '101_food_classes_10_percent\\test\\spaghetti_bolognese'\n",
      "There are 0 directories and 250 images in '101_food_classes_10_percent\\test\\spaghetti_carbonara'\n",
      "There are 0 directories and 250 images in '101_food_classes_10_percent\\test\\spring_rolls'\n",
      "There are 0 directories and 250 images in '101_food_classes_10_percent\\test\\steak'\n",
      "There are 0 directories and 250 images in '101_food_classes_10_percent\\test\\strawberry_shortcake'\n",
      "There are 0 directories and 250 images in '101_food_classes_10_percent\\test\\sushi'\n",
      "There are 0 directories and 250 images in '101_food_classes_10_percent\\test\\tacos'\n",
      "There are 0 directories and 250 images in '101_food_classes_10_percent\\test\\takoyaki'\n",
      "There are 0 directories and 250 images in '101_food_classes_10_percent\\test\\tiramisu'\n",
      "There are 0 directories and 250 images in '101_food_classes_10_percent\\test\\tuna_tartare'\n",
      "There are 0 directories and 250 images in '101_food_classes_10_percent\\test\\waffles'\n",
      "There are 101 directories and 0 images in '101_food_classes_10_percent\\train'\n",
      "There are 0 directories and 75 images in '101_food_classes_10_percent\\train\\apple_pie'\n",
      "There are 0 directories and 75 images in '101_food_classes_10_percent\\train\\baby_back_ribs'\n",
      "There are 0 directories and 75 images in '101_food_classes_10_percent\\train\\baklava'\n",
      "There are 0 directories and 75 images in '101_food_classes_10_percent\\train\\beef_carpaccio'\n",
      "There are 0 directories and 75 images in '101_food_classes_10_percent\\train\\beef_tartare'\n",
      "There are 0 directories and 75 images in '101_food_classes_10_percent\\train\\beet_salad'\n",
      "There are 0 directories and 75 images in '101_food_classes_10_percent\\train\\beignets'\n",
      "There are 0 directories and 75 images in '101_food_classes_10_percent\\train\\bibimbap'\n",
      "There are 0 directories and 75 images in '101_food_classes_10_percent\\train\\bread_pudding'\n",
      "There are 0 directories and 75 images in '101_food_classes_10_percent\\train\\breakfast_burrito'\n",
      "There are 0 directories and 75 images in '101_food_classes_10_percent\\train\\bruschetta'\n",
      "There are 0 directories and 75 images in '101_food_classes_10_percent\\train\\caesar_salad'\n",
      "There are 0 directories and 75 images in '101_food_classes_10_percent\\train\\cannoli'\n",
      "There are 0 directories and 75 images in '101_food_classes_10_percent\\train\\caprese_salad'\n",
      "There are 0 directories and 75 images in '101_food_classes_10_percent\\train\\carrot_cake'\n",
      "There are 0 directories and 75 images in '101_food_classes_10_percent\\train\\ceviche'\n",
      "There are 0 directories and 75 images in '101_food_classes_10_percent\\train\\cheesecake'\n",
      "There are 0 directories and 75 images in '101_food_classes_10_percent\\train\\cheese_plate'\n",
      "There are 0 directories and 75 images in '101_food_classes_10_percent\\train\\chicken_curry'\n",
      "There are 0 directories and 75 images in '101_food_classes_10_percent\\train\\chicken_quesadilla'\n",
      "There are 0 directories and 75 images in '101_food_classes_10_percent\\train\\chicken_wings'\n",
      "There are 0 directories and 75 images in '101_food_classes_10_percent\\train\\chocolate_cake'\n",
      "There are 0 directories and 75 images in '101_food_classes_10_percent\\train\\chocolate_mousse'\n",
      "There are 0 directories and 75 images in '101_food_classes_10_percent\\train\\churros'\n",
      "There are 0 directories and 75 images in '101_food_classes_10_percent\\train\\clam_chowder'\n",
      "There are 0 directories and 75 images in '101_food_classes_10_percent\\train\\club_sandwich'\n",
      "There are 0 directories and 75 images in '101_food_classes_10_percent\\train\\crab_cakes'\n",
      "There are 0 directories and 75 images in '101_food_classes_10_percent\\train\\creme_brulee'\n",
      "There are 0 directories and 75 images in '101_food_classes_10_percent\\train\\croque_madame'\n",
      "There are 0 directories and 75 images in '101_food_classes_10_percent\\train\\cup_cakes'\n",
      "There are 0 directories and 75 images in '101_food_classes_10_percent\\train\\deviled_eggs'\n",
      "There are 0 directories and 75 images in '101_food_classes_10_percent\\train\\donuts'\n",
      "There are 0 directories and 75 images in '101_food_classes_10_percent\\train\\dumplings'\n",
      "There are 0 directories and 75 images in '101_food_classes_10_percent\\train\\edamame'\n",
      "There are 0 directories and 75 images in '101_food_classes_10_percent\\train\\eggs_benedict'\n",
      "There are 0 directories and 75 images in '101_food_classes_10_percent\\train\\escargots'\n",
      "There are 0 directories and 75 images in '101_food_classes_10_percent\\train\\falafel'\n",
      "There are 0 directories and 75 images in '101_food_classes_10_percent\\train\\filet_mignon'\n",
      "There are 0 directories and 75 images in '101_food_classes_10_percent\\train\\fish_and_chips'\n",
      "There are 0 directories and 75 images in '101_food_classes_10_percent\\train\\foie_gras'\n",
      "There are 0 directories and 75 images in '101_food_classes_10_percent\\train\\french_fries'\n",
      "There are 0 directories and 75 images in '101_food_classes_10_percent\\train\\french_onion_soup'\n",
      "There are 0 directories and 75 images in '101_food_classes_10_percent\\train\\french_toast'\n",
      "There are 0 directories and 75 images in '101_food_classes_10_percent\\train\\fried_calamari'\n",
      "There are 0 directories and 75 images in '101_food_classes_10_percent\\train\\fried_rice'\n",
      "There are 0 directories and 75 images in '101_food_classes_10_percent\\train\\frozen_yogurt'\n",
      "There are 0 directories and 75 images in '101_food_classes_10_percent\\train\\garlic_bread'\n",
      "There are 0 directories and 75 images in '101_food_classes_10_percent\\train\\gnocchi'\n",
      "There are 0 directories and 75 images in '101_food_classes_10_percent\\train\\greek_salad'\n",
      "There are 0 directories and 75 images in '101_food_classes_10_percent\\train\\grilled_cheese_sandwich'\n",
      "There are 0 directories and 75 images in '101_food_classes_10_percent\\train\\grilled_salmon'\n",
      "There are 0 directories and 75 images in '101_food_classes_10_percent\\train\\guacamole'\n",
      "There are 0 directories and 75 images in '101_food_classes_10_percent\\train\\gyoza'\n",
      "There are 0 directories and 75 images in '101_food_classes_10_percent\\train\\hamburger'\n",
      "There are 0 directories and 75 images in '101_food_classes_10_percent\\train\\hot_and_sour_soup'\n",
      "There are 0 directories and 75 images in '101_food_classes_10_percent\\train\\hot_dog'\n",
      "There are 0 directories and 75 images in '101_food_classes_10_percent\\train\\huevos_rancheros'\n",
      "There are 0 directories and 75 images in '101_food_classes_10_percent\\train\\hummus'\n",
      "There are 0 directories and 75 images in '101_food_classes_10_percent\\train\\ice_cream'\n",
      "There are 0 directories and 75 images in '101_food_classes_10_percent\\train\\lasagna'\n",
      "There are 0 directories and 75 images in '101_food_classes_10_percent\\train\\lobster_bisque'\n",
      "There are 0 directories and 75 images in '101_food_classes_10_percent\\train\\lobster_roll_sandwich'\n",
      "There are 0 directories and 75 images in '101_food_classes_10_percent\\train\\macaroni_and_cheese'\n",
      "There are 0 directories and 75 images in '101_food_classes_10_percent\\train\\macarons'\n",
      "There are 0 directories and 75 images in '101_food_classes_10_percent\\train\\miso_soup'\n",
      "There are 0 directories and 75 images in '101_food_classes_10_percent\\train\\mussels'\n",
      "There are 0 directories and 75 images in '101_food_classes_10_percent\\train\\nachos'\n",
      "There are 0 directories and 75 images in '101_food_classes_10_percent\\train\\omelette'\n",
      "There are 0 directories and 75 images in '101_food_classes_10_percent\\train\\onion_rings'\n",
      "There are 0 directories and 75 images in '101_food_classes_10_percent\\train\\oysters'\n",
      "There are 0 directories and 75 images in '101_food_classes_10_percent\\train\\pad_thai'\n",
      "There are 0 directories and 75 images in '101_food_classes_10_percent\\train\\paella'\n",
      "There are 0 directories and 75 images in '101_food_classes_10_percent\\train\\pancakes'\n",
      "There are 0 directories and 75 images in '101_food_classes_10_percent\\train\\panna_cotta'\n",
      "There are 0 directories and 75 images in '101_food_classes_10_percent\\train\\peking_duck'\n",
      "There are 0 directories and 75 images in '101_food_classes_10_percent\\train\\pho'\n",
      "There are 0 directories and 75 images in '101_food_classes_10_percent\\train\\pizza'\n",
      "There are 0 directories and 75 images in '101_food_classes_10_percent\\train\\pork_chop'\n",
      "There are 0 directories and 75 images in '101_food_classes_10_percent\\train\\poutine'\n",
      "There are 0 directories and 75 images in '101_food_classes_10_percent\\train\\prime_rib'\n",
      "There are 0 directories and 75 images in '101_food_classes_10_percent\\train\\pulled_pork_sandwich'\n",
      "There are 0 directories and 75 images in '101_food_classes_10_percent\\train\\ramen'\n",
      "There are 0 directories and 75 images in '101_food_classes_10_percent\\train\\ravioli'\n",
      "There are 0 directories and 75 images in '101_food_classes_10_percent\\train\\red_velvet_cake'\n",
      "There are 0 directories and 75 images in '101_food_classes_10_percent\\train\\risotto'\n",
      "There are 0 directories and 75 images in '101_food_classes_10_percent\\train\\samosa'\n",
      "There are 0 directories and 75 images in '101_food_classes_10_percent\\train\\sashimi'\n",
      "There are 0 directories and 75 images in '101_food_classes_10_percent\\train\\scallops'\n",
      "There are 0 directories and 75 images in '101_food_classes_10_percent\\train\\seaweed_salad'\n",
      "There are 0 directories and 75 images in '101_food_classes_10_percent\\train\\shrimp_and_grits'\n",
      "There are 0 directories and 75 images in '101_food_classes_10_percent\\train\\spaghetti_bolognese'\n",
      "There are 0 directories and 75 images in '101_food_classes_10_percent\\train\\spaghetti_carbonara'\n",
      "There are 0 directories and 75 images in '101_food_classes_10_percent\\train\\spring_rolls'\n",
      "There are 0 directories and 75 images in '101_food_classes_10_percent\\train\\steak'\n",
      "There are 0 directories and 75 images in '101_food_classes_10_percent\\train\\strawberry_shortcake'\n",
      "There are 0 directories and 75 images in '101_food_classes_10_percent\\train\\sushi'\n",
      "There are 0 directories and 75 images in '101_food_classes_10_percent\\train\\tacos'\n",
      "There are 0 directories and 75 images in '101_food_classes_10_percent\\train\\takoyaki'\n",
      "There are 0 directories and 75 images in '101_food_classes_10_percent\\train\\tiramisu'\n",
      "There are 0 directories and 75 images in '101_food_classes_10_percent\\train\\tuna_tartare'\n",
      "There are 0 directories and 75 images in '101_food_classes_10_percent\\train\\waffles'\n"
     ]
    }
   ],
   "source": [
    "walk_through_dir(\"101_food_classes_10_percent\")"
   ]
  },
  {
   "cell_type": "code",
   "execution_count": 8,
   "metadata": {},
   "outputs": [
    {
     "name": "stdout",
     "output_type": "stream",
     "text": [
      "Found 7575 files belonging to 101 classes.\n",
      "Found 25250 files belonging to 101 classes.\n"
     ]
    }
   ],
   "source": [
    "# Setup data input\n",
    "import tensorflow as tf\n",
    "IMG_SIZE = (224, 224)\n",
    "train_data_all_10_percent = tf.keras.preprocessing.image_dataset_from_directory(train_dir,\n",
    "                                                                               label_mode=\"categorical\",\n",
    "                                                                               image_size=IMG_SIZE)\n",
    "test_data = tf.keras.preprocessing.image_dataset_from_directory(test_dir,\n",
    "                                                                label_mode=\"categorical\",\n",
    "                                                                image_size=IMG_SIZE,\n",
    "                                                                shuffle=False)  # don't shuffle test data for prediction analysis"
   ]
  },
  {
   "cell_type": "markdown",
   "metadata": {},
   "source": [
    "## Train a big dog model with trainsfer learning on 10% of 101 food classes\n",
    "\n",
    "* Create a ModelCHeckpint callback\n",
    "* Create a data augmentation layer to build data augmentation right into the model\n",
    "* Build a headless (no top layers( FUntional EfficientNetB0 backboned-model\n",
    "* Compile our model\n",
    "* Feature extract fo 5 full passes (5 epochs on the train dataset and validat on 15% of the test data, to save epoch time)"
   ]
  },
  {
   "cell_type": "markdown",
   "metadata": {},
   "source": [
    "# Create checkpoint callback"
   ]
  },
  {
   "cell_type": "code",
   "execution_count": 9,
   "metadata": {},
   "outputs": [],
   "source": [
    "checkpoint_path = \"101_classes_10_percent_data_model_checkpoint\"\n",
    "checkpoint_callback = tf.keras.callbacks.ModelCheckpoint(checkpoint_path,\n",
    "                                                         save_weights_only=True, # save only the model weights\n",
    "                                                         monitor=\"val_accuracy\", # save the model weights which score the best validation accuracy\n",
    "                                                         save_best_only=True)"
   ]
  },
  {
   "cell_type": "code",
   "execution_count": 10,
   "metadata": {},
   "outputs": [
    {
     "name": "stdout",
     "output_type": "stream",
     "text": [
      "WARNING:tensorflow:From C:\\Users\\kajte\\anaconda3\\Lib\\site-packages\\keras\\src\\backend.py:873: The name tf.get_default_graph is deprecated. Please use tf.compat.v1.get_default_graph instead.\n",
      "\n"
     ]
    }
   ],
   "source": [
    "# Create data augmentation layer to incorporate it right into the model\n",
    "from tensorflow.keras.layers.experimental import preprocessing\n",
    "from tensorflow.keras.models import Sequential\n",
    "\n",
    "# Setup data augmentation\n",
    "data_augmentation = Sequential([\n",
    "    preprocessing.RandomFlip(\"horizontal\"),\n",
    "    preprocessing.RandomRotation(0.2),\n",
    "    preprocessing.RandomZoom(0.2),\n",
    "    preprocessing.RandomHeight(0.2),\n",
    "    preprocessing.RandomWidth(0.2),\n",
    "    # preprocessing.Rescaling(1/225.)  # rescale inputs of images to between 0 & 1, reuqired for models like ResNet50\n",
    "], name=\"data_augmentation\")"
   ]
  },
  {
   "cell_type": "code",
   "execution_count": 11,
   "metadata": {},
   "outputs": [
    {
     "name": "stdout",
     "output_type": "stream",
     "text": [
      "WARNING:tensorflow:From C:\\Users\\kajte\\anaconda3\\Lib\\site-packages\\keras\\src\\layers\\normalization\\batch_normalization.py:979: The name tf.nn.fused_batch_norm is deprecated. Please use tf.compat.v1.nn.fused_batch_norm instead.\n",
      "\n",
      "Downloading data from https://storage.googleapis.com/keras-applications/efficientnetb0_notop.h5\n",
      "16705208/16705208 [==============================] - 1s 0us/step\n"
     ]
    },
    {
     "ename": "NameError",
     "evalue": "name 'layers' is not defined",
     "output_type": "error",
     "traceback": [
      "\u001b[1;31m---------------------------------------------------------------------------\u001b[0m",
      "\u001b[1;31mNameError\u001b[0m                                 Traceback (most recent call last)",
      "Cell \u001b[1;32mIn[11], line 6\u001b[0m\n\u001b[0;32m      3\u001b[0m base_model\u001b[38;5;241m.\u001b[39mtrainable \u001b[38;5;241m=\u001b[39m \u001b[38;5;28;01mFalse\u001b[39;00m\n\u001b[0;32m      5\u001b[0m \u001b[38;5;66;03m# Setup model architecture with trainable top layers\u001b[39;00m\n\u001b[1;32m----> 6\u001b[0m inputs \u001b[38;5;241m=\u001b[39m layers\u001b[38;5;241m.\u001b[39mInput(shape\u001b[38;5;241m=\u001b[39m(\u001b[38;5;241m224\u001b[39m, \u001b[38;5;241m224\u001b[39m, \u001b[38;5;241m3\u001b[39m), name\u001b[38;5;241m=\u001b[39m\u001b[38;5;124m\"\u001b[39m\u001b[38;5;124minput_layer\u001b[39m\u001b[38;5;124m\"\u001b[39m) \u001b[38;5;66;03m# shape of input image\u001b[39;00m\n\u001b[0;32m      7\u001b[0m x \u001b[38;5;241m=\u001b[39m data_augmentation(inputs) \u001b[38;5;66;03m# augment images (only happens during training)\u001b[39;00m\n\u001b[0;32m      8\u001b[0m x \u001b[38;5;241m=\u001b[39m base_model(x, training\u001b[38;5;241m=\u001b[39m\u001b[38;5;28;01mFalse\u001b[39;00m) \u001b[38;5;66;03m# put the base model in inference mode so we can use it to extract features without updating the weights\u001b[39;00m\n",
      "\u001b[1;31mNameError\u001b[0m: name 'layers' is not defined"
     ]
    }
   ],
   "source": [
    "# Setup base model and freeze its layers (this will extract features)\n",
    "base_model = tf.keras.applications.efficientnet.EfficientNetB0(include_top=False)\n",
    "base_model.trainable = False\n",
    "\n",
    "# Setup model architecture with trainable top layers\n",
    "inputs = layers.Input(shape=(224, 224, 3), name=\"input_layer\") # shape of input image\n",
    "x = data_augmentation(inputs) # augment images (only happens during training)\n",
    "x = base_model(x, training=False) # put the base model in inference mode so we can use it to extract features without updating the weights\n",
    "x = layers.GlobalAveragePooling2D(name=\"global_average_pooling\")(x) # pool the outputs of the base model\n",
    "outputs = layers.Dense(len(train_data_all_10_percent.class_names), activation=\"softmax\", name=\"output_layer\")(x) # same number of outputs as classes\n",
    "model = tf.keras.Model(inputs, outputs)"
   ]
  },
  {
   "cell_type": "code",
   "execution_count": 17,
   "metadata": {},
   "outputs": [
    {
     "name": "stdout",
     "output_type": "stream",
     "text": [
      "Model: \"model\"\n",
      "_________________________________________________________________\n",
      " Layer (type)                Output Shape              Param #   \n",
      "=================================================================\n",
      " input_layer (InputLayer)    [(None, 224, 224, 3)]     0         \n",
      "                                                                 \n",
      " data_augmentation (Sequent  (None, None, None, 3)     0         \n",
      " ial)                                                            \n",
      "                                                                 \n",
      " efficientnetb0 (Functional  (None, None, None, 1280   4049571   \n",
      " )                           )                                   \n",
      "                                                                 \n",
      " global_avg_pool_layer (Glo  (None, 1280)              0         \n",
      " balAveragePooling2D)                                            \n",
      "                                                                 \n",
      " output_layer (Dense)        (None, 101)               129381    \n",
      "                                                                 \n",
      "=================================================================\n",
      "Total params: 4178952 (15.94 MB)\n",
      "Trainable params: 129381 (505.39 KB)\n",
      "Non-trainable params: 4049571 (15.45 MB)\n",
      "_________________________________________________________________\n"
     ]
    }
   ],
   "source": [
    "model.summary()"
   ]
  },
  {
   "cell_type": "code",
   "execution_count": 28,
   "metadata": {},
   "outputs": [],
   "source": [
    "model.compile(loss=\"categorical_crossentropy\",\n",
    "             optimizer=tf.keras.optimizers.Adam(),\n",
    "             metrics=[\"accuracy\"])"
   ]
  },
  {
   "cell_type": "code",
   "execution_count": 29,
   "metadata": {},
   "outputs": [
    {
     "name": "stdout",
     "output_type": "stream",
     "text": [
      "Epoch 1/5\n",
      "237/237 [==============================] - 446s 2s/step - loss: 3.3681 - accuracy: 0.2712 - val_loss: 2.5410 - val_accuracy: 0.4206\n",
      "Epoch 2/5\n",
      "237/237 [==============================] - 443s 2s/step - loss: 2.1966 - accuracy: 0.4973 - val_loss: 2.0477 - val_accuracy: 0.4976\n",
      "Epoch 3/5\n",
      "237/237 [==============================] - 461s 2s/step - loss: 1.8116 - accuracy: 0.5716 - val_loss: 1.9182 - val_accuracy: 0.5124\n",
      "Epoch 4/5\n",
      "237/237 [==============================] - 492s 2s/step - loss: 1.6044 - accuracy: 0.6074 - val_loss: 1.8277 - val_accuracy: 0.5273\n",
      "Epoch 5/5\n",
      "237/237 [==============================] - 476s 2s/step - loss: 1.4455 - accuracy: 0.6453 - val_loss: 1.7752 - val_accuracy: 0.5347\n"
     ]
    }
   ],
   "source": [
    "# Compile\n",
    "model.compile(loss=\"categorical_crossentropy\",\n",
    "              optimizer=tf.keras.optimizers.Adam(), # use Adam with default settings\n",
    "              metrics=[\"accuracy\"])\n",
    "\n",
    "# Fit\n",
    "history_all_classes_10_percent = model.fit(train_data_all_10_percent,\n",
    "                                           epochs=5, # fit for 5 epochs to keep experiments quick\n",
    "                                           validation_data=test_data,\n",
    "                                           validation_steps=int(0.15 * len(test_data)), # evaluate on smaller portion of test data\n",
    "                                           callbacks=[checkpoint_callback])"
   ]
  },
  {
   "cell_type": "code",
   "execution_count": null,
   "metadata": {},
   "outputs": [],
   "source": [
    "# Save Model\n",
    "model.save('model.keras')\n",
    "\n",
    "import pickle\n",
    "\n",
    "with open('C:\\\\Users\\\\kajte\\\\tensorflow_fundamentals\\\\history_all_classes_10_percent.pkl', 'wb') as file:\n",
    "    pickle.dump(history_all_classes_10_percent.history, file)"
   ]
  },
  {
   "cell_type": "code",
   "execution_count": 23,
   "metadata": {},
   "outputs": [
    {
     "name": "stdout",
     "output_type": "stream",
     "text": [
      "File size: 0 bytes\n"
     ]
    },
    {
     "ename": "EOFError",
     "evalue": "Ran out of input",
     "output_type": "error",
     "traceback": [
      "\u001b[1;31m---------------------------------------------------------------------------\u001b[0m",
      "\u001b[1;31mEOFError\u001b[0m                                  Traceback (most recent call last)",
      "Cell \u001b[1;32mIn[23], line 8\u001b[0m\n\u001b[0;32m      5\u001b[0m \u001b[38;5;28mprint\u001b[39m(\u001b[38;5;124mf\u001b[39m\u001b[38;5;124m\"\u001b[39m\u001b[38;5;124mFile size: \u001b[39m\u001b[38;5;132;01m{\u001b[39;00mos\u001b[38;5;241m.\u001b[39mpath\u001b[38;5;241m.\u001b[39mgetsize(file_path)\u001b[38;5;132;01m}\u001b[39;00m\u001b[38;5;124m bytes\u001b[39m\u001b[38;5;124m\"\u001b[39m)\n\u001b[0;32m      7\u001b[0m \u001b[38;5;28;01mwith\u001b[39;00m \u001b[38;5;28mopen\u001b[39m(file_path, \u001b[38;5;124m'\u001b[39m\u001b[38;5;124mrb\u001b[39m\u001b[38;5;124m'\u001b[39m) \u001b[38;5;28;01mas\u001b[39;00m file:\n\u001b[1;32m----> 8\u001b[0m     loaded_history \u001b[38;5;241m=\u001b[39m pickle\u001b[38;5;241m.\u001b[39mload(file)\n",
      "\u001b[1;31mEOFError\u001b[0m: Ran out of input"
     ]
    }
   ],
   "source": [
    "import os\n",
    "\n",
    "file_path = 'C:\\\\Users\\\\kajte\\\\tensorflow_fundamentals\\\\history_all_classes_10_percent.pkl'\n",
    "\n",
    "print(f\"File size: {os.path.getsize(file_path)} bytes\")\n",
    "\n",
    "with open(file_path, 'rb') as file:\n",
    "    loaded_history = pickle.load(file)"
   ]
  },
  {
   "cell_type": "code",
   "execution_count": 16,
   "metadata": {},
   "outputs": [
    {
     "ename": "ValueError",
     "evalue": "Layer 'normalization_1' expected 3 variables, but received 0 variables during loading. Expected: ['normalization_1/mean:0', 'normalization_1/variance:0', 'normalization_1/count:0']",
     "output_type": "error",
     "traceback": [
      "\u001b[1;31m---------------------------------------------------------------------------\u001b[0m",
      "\u001b[1;31mValueError\u001b[0m                                Traceback (most recent call last)",
      "Cell \u001b[1;32mIn[16], line 4\u001b[0m\n\u001b[0;32m      1\u001b[0m \u001b[38;5;28;01mfrom\u001b[39;00m \u001b[38;5;21;01mtensorflow\u001b[39;00m\u001b[38;5;21;01m.\u001b[39;00m\u001b[38;5;21;01mkeras\u001b[39;00m\u001b[38;5;21;01m.\u001b[39;00m\u001b[38;5;21;01mmodels\u001b[39;00m \u001b[38;5;28;01mimport\u001b[39;00m load_model\n\u001b[0;32m      3\u001b[0m \u001b[38;5;66;03m# Load Model (if needed)\u001b[39;00m\n\u001b[1;32m----> 4\u001b[0m loaded_model \u001b[38;5;241m=\u001b[39m load_model(\u001b[38;5;124m'\u001b[39m\u001b[38;5;124mmodel.keras\u001b[39m\u001b[38;5;124m'\u001b[39m)\n",
      "File \u001b[1;32m~\\anaconda3\\Lib\\site-packages\\keras\\src\\saving\\saving_api.py:254\u001b[0m, in \u001b[0;36mload_model\u001b[1;34m(filepath, custom_objects, compile, safe_mode, **kwargs)\u001b[0m\n\u001b[0;32m    249\u001b[0m     \u001b[38;5;28;01mif\u001b[39;00m kwargs:\n\u001b[0;32m    250\u001b[0m         \u001b[38;5;28;01mraise\u001b[39;00m \u001b[38;5;167;01mValueError\u001b[39;00m(\n\u001b[0;32m    251\u001b[0m             \u001b[38;5;124m\"\u001b[39m\u001b[38;5;124mThe following argument(s) are not supported \u001b[39m\u001b[38;5;124m\"\u001b[39m\n\u001b[0;32m    252\u001b[0m             \u001b[38;5;124mf\u001b[39m\u001b[38;5;124m\"\u001b[39m\u001b[38;5;124mwith the native Keras format: \u001b[39m\u001b[38;5;132;01m{\u001b[39;00m\u001b[38;5;28mlist\u001b[39m(kwargs\u001b[38;5;241m.\u001b[39mkeys())\u001b[38;5;132;01m}\u001b[39;00m\u001b[38;5;124m\"\u001b[39m\n\u001b[0;32m    253\u001b[0m         )\n\u001b[1;32m--> 254\u001b[0m     \u001b[38;5;28;01mreturn\u001b[39;00m saving_lib\u001b[38;5;241m.\u001b[39mload_model(\n\u001b[0;32m    255\u001b[0m         filepath,\n\u001b[0;32m    256\u001b[0m         custom_objects\u001b[38;5;241m=\u001b[39mcustom_objects,\n\u001b[0;32m    257\u001b[0m         \u001b[38;5;28mcompile\u001b[39m\u001b[38;5;241m=\u001b[39m\u001b[38;5;28mcompile\u001b[39m,\n\u001b[0;32m    258\u001b[0m         safe_mode\u001b[38;5;241m=\u001b[39msafe_mode,\n\u001b[0;32m    259\u001b[0m     )\n\u001b[0;32m    261\u001b[0m \u001b[38;5;66;03m# Legacy case.\u001b[39;00m\n\u001b[0;32m    262\u001b[0m \u001b[38;5;28;01mreturn\u001b[39;00m legacy_sm_saving_lib\u001b[38;5;241m.\u001b[39mload_model(\n\u001b[0;32m    263\u001b[0m     filepath, custom_objects\u001b[38;5;241m=\u001b[39mcustom_objects, \u001b[38;5;28mcompile\u001b[39m\u001b[38;5;241m=\u001b[39m\u001b[38;5;28mcompile\u001b[39m, \u001b[38;5;241m*\u001b[39m\u001b[38;5;241m*\u001b[39mkwargs\n\u001b[0;32m    264\u001b[0m )\n",
      "File \u001b[1;32m~\\anaconda3\\Lib\\site-packages\\keras\\src\\saving\\saving_lib.py:281\u001b[0m, in \u001b[0;36mload_model\u001b[1;34m(filepath, custom_objects, compile, safe_mode)\u001b[0m\n\u001b[0;32m    278\u001b[0m             asset_store\u001b[38;5;241m.\u001b[39mclose()\n\u001b[0;32m    280\u001b[0m \u001b[38;5;28;01mexcept\u001b[39;00m \u001b[38;5;167;01mException\u001b[39;00m \u001b[38;5;28;01mas\u001b[39;00m e:\n\u001b[1;32m--> 281\u001b[0m     \u001b[38;5;28;01mraise\u001b[39;00m e\n\u001b[0;32m    282\u001b[0m \u001b[38;5;28;01melse\u001b[39;00m:\n\u001b[0;32m    283\u001b[0m     \u001b[38;5;28;01mreturn\u001b[39;00m model\n",
      "File \u001b[1;32m~\\anaconda3\\Lib\\site-packages\\keras\\src\\saving\\saving_lib.py:269\u001b[0m, in \u001b[0;36mload_model\u001b[1;34m(filepath, custom_objects, compile, safe_mode)\u001b[0m\n\u001b[0;32m    266\u001b[0m \u001b[38;5;28;01melse\u001b[39;00m:\n\u001b[0;32m    267\u001b[0m     asset_store \u001b[38;5;241m=\u001b[39m \u001b[38;5;28;01mNone\u001b[39;00m\n\u001b[1;32m--> 269\u001b[0m _load_state(\n\u001b[0;32m    270\u001b[0m     model,\n\u001b[0;32m    271\u001b[0m     weights_store\u001b[38;5;241m=\u001b[39mweights_store,\n\u001b[0;32m    272\u001b[0m     assets_store\u001b[38;5;241m=\u001b[39masset_store,\n\u001b[0;32m    273\u001b[0m     inner_path\u001b[38;5;241m=\u001b[39m\u001b[38;5;124m\"\u001b[39m\u001b[38;5;124m\"\u001b[39m,\n\u001b[0;32m    274\u001b[0m     visited_trackables\u001b[38;5;241m=\u001b[39m\u001b[38;5;28mset\u001b[39m(),\n\u001b[0;32m    275\u001b[0m )\n\u001b[0;32m    276\u001b[0m weights_store\u001b[38;5;241m.\u001b[39mclose()\n\u001b[0;32m    277\u001b[0m \u001b[38;5;28;01mif\u001b[39;00m asset_store:\n",
      "File \u001b[1;32m~\\anaconda3\\Lib\\site-packages\\keras\\src\\saving\\saving_lib.py:466\u001b[0m, in \u001b[0;36m_load_state\u001b[1;34m(trackable, weights_store, assets_store, inner_path, skip_mismatch, visited_trackables)\u001b[0m\n\u001b[0;32m    457\u001b[0m     _load_state(\n\u001b[0;32m    458\u001b[0m         child_obj,\n\u001b[0;32m    459\u001b[0m         weights_store,\n\u001b[1;32m   (...)\u001b[0m\n\u001b[0;32m    463\u001b[0m         visited_trackables\u001b[38;5;241m=\u001b[39mvisited_trackables,\n\u001b[0;32m    464\u001b[0m     )\n\u001b[0;32m    465\u001b[0m \u001b[38;5;28;01melif\u001b[39;00m \u001b[38;5;28misinstance\u001b[39m(child_obj, (\u001b[38;5;28mlist\u001b[39m, \u001b[38;5;28mdict\u001b[39m, \u001b[38;5;28mtuple\u001b[39m, \u001b[38;5;28mset\u001b[39m)):\n\u001b[1;32m--> 466\u001b[0m     _load_container_state(\n\u001b[0;32m    467\u001b[0m         child_obj,\n\u001b[0;32m    468\u001b[0m         weights_store,\n\u001b[0;32m    469\u001b[0m         assets_store,\n\u001b[0;32m    470\u001b[0m         inner_path\u001b[38;5;241m=\u001b[39mtf\u001b[38;5;241m.\u001b[39mio\u001b[38;5;241m.\u001b[39mgfile\u001b[38;5;241m.\u001b[39mjoin(inner_path, child_attr),\n\u001b[0;32m    471\u001b[0m         skip_mismatch\u001b[38;5;241m=\u001b[39mskip_mismatch,\n\u001b[0;32m    472\u001b[0m         visited_trackables\u001b[38;5;241m=\u001b[39mvisited_trackables,\n\u001b[0;32m    473\u001b[0m     )\n",
      "File \u001b[1;32m~\\anaconda3\\Lib\\site-packages\\keras\\src\\saving\\saving_lib.py:534\u001b[0m, in \u001b[0;36m_load_container_state\u001b[1;34m(container, weights_store, assets_store, inner_path, skip_mismatch, visited_trackables)\u001b[0m\n\u001b[0;32m    532\u001b[0m \u001b[38;5;28;01melse\u001b[39;00m:\n\u001b[0;32m    533\u001b[0m     used_names[name] \u001b[38;5;241m=\u001b[39m \u001b[38;5;241m0\u001b[39m\n\u001b[1;32m--> 534\u001b[0m _load_state(\n\u001b[0;32m    535\u001b[0m     trackable,\n\u001b[0;32m    536\u001b[0m     weights_store,\n\u001b[0;32m    537\u001b[0m     assets_store,\n\u001b[0;32m    538\u001b[0m     inner_path\u001b[38;5;241m=\u001b[39mtf\u001b[38;5;241m.\u001b[39mio\u001b[38;5;241m.\u001b[39mgfile\u001b[38;5;241m.\u001b[39mjoin(inner_path, name),\n\u001b[0;32m    539\u001b[0m     skip_mismatch\u001b[38;5;241m=\u001b[39mskip_mismatch,\n\u001b[0;32m    540\u001b[0m     visited_trackables\u001b[38;5;241m=\u001b[39mvisited_trackables,\n\u001b[0;32m    541\u001b[0m )\n",
      "File \u001b[1;32m~\\anaconda3\\Lib\\site-packages\\keras\\src\\saving\\saving_lib.py:466\u001b[0m, in \u001b[0;36m_load_state\u001b[1;34m(trackable, weights_store, assets_store, inner_path, skip_mismatch, visited_trackables)\u001b[0m\n\u001b[0;32m    457\u001b[0m     _load_state(\n\u001b[0;32m    458\u001b[0m         child_obj,\n\u001b[0;32m    459\u001b[0m         weights_store,\n\u001b[1;32m   (...)\u001b[0m\n\u001b[0;32m    463\u001b[0m         visited_trackables\u001b[38;5;241m=\u001b[39mvisited_trackables,\n\u001b[0;32m    464\u001b[0m     )\n\u001b[0;32m    465\u001b[0m \u001b[38;5;28;01melif\u001b[39;00m \u001b[38;5;28misinstance\u001b[39m(child_obj, (\u001b[38;5;28mlist\u001b[39m, \u001b[38;5;28mdict\u001b[39m, \u001b[38;5;28mtuple\u001b[39m, \u001b[38;5;28mset\u001b[39m)):\n\u001b[1;32m--> 466\u001b[0m     _load_container_state(\n\u001b[0;32m    467\u001b[0m         child_obj,\n\u001b[0;32m    468\u001b[0m         weights_store,\n\u001b[0;32m    469\u001b[0m         assets_store,\n\u001b[0;32m    470\u001b[0m         inner_path\u001b[38;5;241m=\u001b[39mtf\u001b[38;5;241m.\u001b[39mio\u001b[38;5;241m.\u001b[39mgfile\u001b[38;5;241m.\u001b[39mjoin(inner_path, child_attr),\n\u001b[0;32m    471\u001b[0m         skip_mismatch\u001b[38;5;241m=\u001b[39mskip_mismatch,\n\u001b[0;32m    472\u001b[0m         visited_trackables\u001b[38;5;241m=\u001b[39mvisited_trackables,\n\u001b[0;32m    473\u001b[0m     )\n",
      "File \u001b[1;32m~\\anaconda3\\Lib\\site-packages\\keras\\src\\saving\\saving_lib.py:534\u001b[0m, in \u001b[0;36m_load_container_state\u001b[1;34m(container, weights_store, assets_store, inner_path, skip_mismatch, visited_trackables)\u001b[0m\n\u001b[0;32m    532\u001b[0m \u001b[38;5;28;01melse\u001b[39;00m:\n\u001b[0;32m    533\u001b[0m     used_names[name] \u001b[38;5;241m=\u001b[39m \u001b[38;5;241m0\u001b[39m\n\u001b[1;32m--> 534\u001b[0m _load_state(\n\u001b[0;32m    535\u001b[0m     trackable,\n\u001b[0;32m    536\u001b[0m     weights_store,\n\u001b[0;32m    537\u001b[0m     assets_store,\n\u001b[0;32m    538\u001b[0m     inner_path\u001b[38;5;241m=\u001b[39mtf\u001b[38;5;241m.\u001b[39mio\u001b[38;5;241m.\u001b[39mgfile\u001b[38;5;241m.\u001b[39mjoin(inner_path, name),\n\u001b[0;32m    539\u001b[0m     skip_mismatch\u001b[38;5;241m=\u001b[39mskip_mismatch,\n\u001b[0;32m    540\u001b[0m     visited_trackables\u001b[38;5;241m=\u001b[39mvisited_trackables,\n\u001b[0;32m    541\u001b[0m )\n",
      "File \u001b[1;32m~\\anaconda3\\Lib\\site-packages\\keras\\src\\saving\\saving_lib.py:435\u001b[0m, in \u001b[0;36m_load_state\u001b[1;34m(trackable, weights_store, assets_store, inner_path, skip_mismatch, visited_trackables)\u001b[0m\n\u001b[0;32m    428\u001b[0m             warnings\u001b[38;5;241m.\u001b[39mwarn(\n\u001b[0;32m    429\u001b[0m                 \u001b[38;5;124mf\u001b[39m\u001b[38;5;124m\"\u001b[39m\u001b[38;5;124mCould not load weights in object \u001b[39m\u001b[38;5;132;01m{\u001b[39;00mtrackable\u001b[38;5;132;01m}\u001b[39;00m\u001b[38;5;124m. \u001b[39m\u001b[38;5;124m\"\u001b[39m\n\u001b[0;32m    430\u001b[0m                 \u001b[38;5;124m\"\u001b[39m\u001b[38;5;124mSkipping object. \u001b[39m\u001b[38;5;124m\"\u001b[39m\n\u001b[0;32m    431\u001b[0m                 \u001b[38;5;124mf\u001b[39m\u001b[38;5;124m\"\u001b[39m\u001b[38;5;124mException encountered: \u001b[39m\u001b[38;5;132;01m{\u001b[39;00me\u001b[38;5;132;01m}\u001b[39;00m\u001b[38;5;124m\"\u001b[39m,\n\u001b[0;32m    432\u001b[0m                 stacklevel\u001b[38;5;241m=\u001b[39m\u001b[38;5;241m2\u001b[39m,\n\u001b[0;32m    433\u001b[0m             )\n\u001b[0;32m    434\u001b[0m     \u001b[38;5;28;01melse\u001b[39;00m:\n\u001b[1;32m--> 435\u001b[0m         trackable\u001b[38;5;241m.\u001b[39mload_own_variables(weights_store\u001b[38;5;241m.\u001b[39mget(inner_path))\n\u001b[0;32m    437\u001b[0m \u001b[38;5;28;01mif\u001b[39;00m \u001b[38;5;28mhasattr\u001b[39m(trackable, \u001b[38;5;124m\"\u001b[39m\u001b[38;5;124mload_assets\u001b[39m\u001b[38;5;124m\"\u001b[39m) \u001b[38;5;129;01mand\u001b[39;00m assets_store:\n\u001b[0;32m    438\u001b[0m     \u001b[38;5;28;01mif\u001b[39;00m skip_mismatch:\n",
      "File \u001b[1;32m~\\anaconda3\\Lib\\site-packages\\keras\\src\\layers\\preprocessing\\normalization.py:392\u001b[0m, in \u001b[0;36mNormalization.load_own_variables\u001b[1;34m(self, store)\u001b[0m\n\u001b[0;32m    390\u001b[0m \u001b[38;5;28;01mdef\u001b[39;00m \u001b[38;5;21mload_own_variables\u001b[39m(\u001b[38;5;28mself\u001b[39m, store):\n\u001b[0;32m    391\u001b[0m     \u001b[38;5;66;03m# Ensure that we call finalize_state after variable loading.\u001b[39;00m\n\u001b[1;32m--> 392\u001b[0m     \u001b[38;5;28msuper\u001b[39m()\u001b[38;5;241m.\u001b[39mload_own_variables(store)\n\u001b[0;32m    393\u001b[0m     \u001b[38;5;28mself\u001b[39m\u001b[38;5;241m.\u001b[39mfinalize_state()\n",
      "File \u001b[1;32m~\\anaconda3\\Lib\\site-packages\\keras\\src\\engine\\base_layer.py:3531\u001b[0m, in \u001b[0;36mLayer.load_own_variables\u001b[1;34m(self, store)\u001b[0m\n\u001b[0;32m   3529\u001b[0m all_vars \u001b[38;5;241m=\u001b[39m \u001b[38;5;28mself\u001b[39m\u001b[38;5;241m.\u001b[39m_trainable_weights \u001b[38;5;241m+\u001b[39m \u001b[38;5;28mself\u001b[39m\u001b[38;5;241m.\u001b[39m_non_trainable_weights\n\u001b[0;32m   3530\u001b[0m \u001b[38;5;28;01mif\u001b[39;00m \u001b[38;5;28mlen\u001b[39m(store\u001b[38;5;241m.\u001b[39mkeys()) \u001b[38;5;241m!=\u001b[39m \u001b[38;5;28mlen\u001b[39m(all_vars):\n\u001b[1;32m-> 3531\u001b[0m     \u001b[38;5;28;01mraise\u001b[39;00m \u001b[38;5;167;01mValueError\u001b[39;00m(\n\u001b[0;32m   3532\u001b[0m         \u001b[38;5;124mf\u001b[39m\u001b[38;5;124m\"\u001b[39m\u001b[38;5;124mLayer \u001b[39m\u001b[38;5;124m'\u001b[39m\u001b[38;5;132;01m{\u001b[39;00m\u001b[38;5;28mself\u001b[39m\u001b[38;5;241m.\u001b[39mname\u001b[38;5;132;01m}\u001b[39;00m\u001b[38;5;124m'\u001b[39m\u001b[38;5;124m expected \u001b[39m\u001b[38;5;132;01m{\u001b[39;00m\u001b[38;5;28mlen\u001b[39m(all_vars)\u001b[38;5;132;01m}\u001b[39;00m\u001b[38;5;124m variables, \u001b[39m\u001b[38;5;124m\"\u001b[39m\n\u001b[0;32m   3533\u001b[0m         \u001b[38;5;124m\"\u001b[39m\u001b[38;5;124mbut received \u001b[39m\u001b[38;5;124m\"\u001b[39m\n\u001b[0;32m   3534\u001b[0m         \u001b[38;5;124mf\u001b[39m\u001b[38;5;124m\"\u001b[39m\u001b[38;5;132;01m{\u001b[39;00m\u001b[38;5;28mlen\u001b[39m(store\u001b[38;5;241m.\u001b[39mkeys())\u001b[38;5;132;01m}\u001b[39;00m\u001b[38;5;124m variables during loading. \u001b[39m\u001b[38;5;124m\"\u001b[39m\n\u001b[0;32m   3535\u001b[0m         \u001b[38;5;124mf\u001b[39m\u001b[38;5;124m\"\u001b[39m\u001b[38;5;124mExpected: \u001b[39m\u001b[38;5;132;01m{\u001b[39;00m[v\u001b[38;5;241m.\u001b[39mname\u001b[38;5;250m \u001b[39m\u001b[38;5;28;01mfor\u001b[39;00m\u001b[38;5;250m \u001b[39mv\u001b[38;5;250m \u001b[39m\u001b[38;5;129;01min\u001b[39;00m\u001b[38;5;250m \u001b[39mall_vars]\u001b[38;5;132;01m}\u001b[39;00m\u001b[38;5;124m\"\u001b[39m\n\u001b[0;32m   3536\u001b[0m     )\n\u001b[0;32m   3537\u001b[0m \u001b[38;5;28;01mfor\u001b[39;00m i, v \u001b[38;5;129;01min\u001b[39;00m \u001b[38;5;28menumerate\u001b[39m(all_vars):\n\u001b[0;32m   3538\u001b[0m     \u001b[38;5;66;03m# TODO(rchao): check shapes and raise errors.\u001b[39;00m\n\u001b[0;32m   3539\u001b[0m     v\u001b[38;5;241m.\u001b[39massign(store[\u001b[38;5;124mf\u001b[39m\u001b[38;5;124m\"\u001b[39m\u001b[38;5;132;01m{\u001b[39;00mi\u001b[38;5;132;01m}\u001b[39;00m\u001b[38;5;124m\"\u001b[39m])\n",
      "\u001b[1;31mValueError\u001b[0m: Layer 'normalization_1' expected 3 variables, but received 0 variables during loading. Expected: ['normalization_1/mean:0', 'normalization_1/variance:0', 'normalization_1/count:0']"
     ]
    }
   ],
   "source": [
    "from tensorflow.keras.models import load_model\n",
    "\n",
    "# Load Model (if needed)\n",
    "loaded_model = load_model('model.keras')"
   ]
  },
  {
   "cell_type": "code",
   "execution_count": null,
   "metadata": {},
   "outputs": [],
   "source": [
    "fine_tuning_results = model.evaluate(test_data)\n",
    "fine_tuning_results"
   ]
  },
  {
   "cell_type": "code",
   "execution_count": null,
   "metadata": {},
   "outputs": [],
   "source": []
  }
 ],
 "metadata": {
  "colab": {
   "authorship_tag": "ABX9TyP0atNxJKJ5KOKrXGDdrJfJ",
   "include_colab_link": true,
   "provenance": []
  },
  "kernelspec": {
   "display_name": "Python 3 (ipykernel)",
   "language": "python",
   "name": "python3"
  },
  "language_info": {
   "codemirror_mode": {
    "name": "ipython",
    "version": 3
   },
   "file_extension": ".py",
   "mimetype": "text/x-python",
   "name": "python",
   "nbconvert_exporter": "python",
   "pygments_lexer": "ipython3",
   "version": "3.11.5"
  }
 },
 "nbformat": 4,
 "nbformat_minor": 1
}
