{
 "cells": [
  {
   "cell_type": "markdown",
   "metadata": {
    "colab_type": "text",
    "id": "view-in-github"
   },
   "source": [
    "<a href=\"https://colab.research.google.com/github/KajetanFrackowiak/tensorflow_fundamentals/blob/main/06_transfer_learning_in_tensorflow_part_3_scaling_up_video.ipynb\" target=\"_parent\"><img src=\"https://colab.research.google.com/assets/colab-badge.svg\" alt=\"Open In Colab\"/></a>"
   ]
  },
  {
   "cell_type": "markdown",
   "metadata": {
    "id": "wOgfLt_qIoMB"
   },
   "source": [
    "# Transfer Learning with TensorFlow Part 3: Scaling up"
   ]
  },
  {
   "cell_type": "code",
   "execution_count": 1,
   "metadata": {
    "colab": {
     "base_uri": "https://localhost:8080/"
    },
    "id": "r55BQA0dJxsd",
    "outputId": "32034d6a-b077-4b64-e4f9-a54191bf509e",
    "scrolled": true
   },
   "outputs": [
    {
     "name": "stdout",
     "output_type": "stream",
     "text": [
      "Fri Dec 29 22:57:39 2023       \n",
      "+---------------------------------------------------------------------------------------+\n",
      "| NVIDIA-SMI 532.09                 Driver Version: 532.09       CUDA Version: 12.1     |\n",
      "|-----------------------------------------+----------------------+----------------------+\n",
      "| GPU  Name                      TCC/WDDM | Bus-Id        Disp.A | Volatile Uncorr. ECC |\n",
      "| Fan  Temp  Perf            Pwr:Usage/Cap|         Memory-Usage | GPU-Util  Compute M. |\n",
      "|                                         |                      |               MIG M. |\n",
      "|=========================================+======================+======================|\n",
      "|   0  NVIDIA GeForce GTX 1650       WDDM | 00000000:01:00.0 Off |                  N/A |\n",
      "| N/A   58C    P8                3W /  N/A|    160MiB /  4096MiB |      3%      Default |\n",
      "|                                         |                      |                  N/A |\n",
      "+-----------------------------------------+----------------------+----------------------+\n",
      "                                                                                         \n",
      "+---------------------------------------------------------------------------------------+\n",
      "| Processes:                                                                            |\n",
      "|  GPU   GI   CI        PID   Type   Process name                            GPU Memory |\n",
      "|        ID   ID                                                             Usage      |\n",
      "|=======================================================================================|\n",
      "|    0   N/A  N/A     19728    C+G   ...Brave-Browser\\Application\\brave.exe    N/A      |\n",
      "+---------------------------------------------------------------------------------------+\n"
     ]
    }
   ],
   "source": [
    "!nvidia-smi"
   ]
  },
  {
   "cell_type": "code",
   "execution_count": 1,
   "metadata": {},
   "outputs": [],
   "source": [
    "import zipfile\n",
    "\n",
    "def unzip_data(filename):\n",
    "    zip_ref =  zipfile.ZipFile(filename, \"r\")\n",
    "    zip_ref.extractall()\n",
    "    zip_ref.close()"
   ]
  },
  {
   "cell_type": "code",
   "execution_count": 4,
   "metadata": {},
   "outputs": [],
   "source": [
    "import os\n",
    "\n",
    "def walk_through_dir(dir_path):\n",
    "    for dirpath, dirnames, filenames in os.walk(dir_path):\n",
    "        print(f\"There are {len(dirnames)} directories and {len(filenames)} images in '{dirpath}'\")"
   ]
  },
  {
   "cell_type": "code",
   "execution_count": 19,
   "metadata": {},
   "outputs": [],
   "source": [
    "import datetime\n",
    "import tensorflow as tf\n",
    "\n",
    "def create_tensorboard_callback(dir_name, experiment_name):\n",
    "    log_dir = dir_name + \"/\" + experiment_name + \"/\" + datetime.datetime.now().strftime(\"%Y%m%d-%H%M%S\")\n",
    "    tensorboard_callback = tf.keras.callbacks.TensorBoard(\n",
    "    log_dir=log_dir\n",
    "    )\n",
    "    print(f\"Saving TensorBoard log files to: {log_dir}\")\n",
    "    return tensorboard_callback"
   ]
  },
  {
   "cell_type": "code",
   "execution_count": 5,
   "metadata": {},
   "outputs": [
    {
     "name": "stdout",
     "output_type": "stream",
     "text": [
      "--2023-12-30 10:19:54--  https://storage.googleapis.com/ztm_tf_course/food_vision/101_food_classes_10_percent.zip\n",
      "Resolving storage.googleapis.com (storage.googleapis.com)... 2a00:1450:401b:800::201b, 2a00:1450:401b:80e::201b, 2a00:1450:401b:810::201b, ...\n",
      "Connecting to storage.googleapis.com (storage.googleapis.com)|2a00:1450:401b:800::201b|:443... connected.\n",
      "HTTP request sent, awaiting response... 200 OK\n",
      "Length: 1625420029 (1.5G) [application/zip]\n",
      "Saving to: ‘101_food_classes_10_percent.zip’\n",
      "\n",
      "101_food_classes_10 100%[===================>]   1.51G  9.20MB/s    in 3m 1s   \n",
      "\n",
      "2023-12-30 10:22:55 (8.59 MB/s) - ‘101_food_classes_10_percent.zip’ saved [1625420029/1625420029]\n",
      "\n"
     ]
    }
   ],
   "source": [
    "!wget \"https://storage.googleapis.com/ztm_tf_course/food_vision/101_food_classes_10_percent.zip\"\n",
    "unzip_data(\"101_food_classes_10_percent.zip\")\n",
    "\n",
    "train_dir = \"101_food_classes_10_percent/train/\"\n",
    "test_dir = \"101_food_classes_10_percent/test/\""
   ]
  },
  {
   "cell_type": "code",
   "execution_count": 6,
   "metadata": {},
   "outputs": [
    {
     "name": "stdout",
     "output_type": "stream",
     "text": [
      "There are 2 directories and 0 images in '101_food_classes_10_percent'\n",
      "There are 101 directories and 0 images in '101_food_classes_10_percent/test'\n",
      "There are 0 directories and 250 images in '101_food_classes_10_percent/test/donuts'\n",
      "There are 0 directories and 250 images in '101_food_classes_10_percent/test/sashimi'\n",
      "There are 0 directories and 250 images in '101_food_classes_10_percent/test/macaroni_and_cheese'\n",
      "There are 0 directories and 250 images in '101_food_classes_10_percent/test/bibimbap'\n",
      "There are 0 directories and 250 images in '101_food_classes_10_percent/test/lobster_roll_sandwich'\n",
      "There are 0 directories and 250 images in '101_food_classes_10_percent/test/baklava'\n",
      "There are 0 directories and 250 images in '101_food_classes_10_percent/test/poutine'\n",
      "There are 0 directories and 250 images in '101_food_classes_10_percent/test/bruschetta'\n",
      "There are 0 directories and 250 images in '101_food_classes_10_percent/test/takoyaki'\n",
      "There are 0 directories and 250 images in '101_food_classes_10_percent/test/pancakes'\n",
      "There are 0 directories and 250 images in '101_food_classes_10_percent/test/chocolate_cake'\n",
      "There are 0 directories and 250 images in '101_food_classes_10_percent/test/tiramisu'\n",
      "There are 0 directories and 250 images in '101_food_classes_10_percent/test/chicken_quesadilla'\n",
      "There are 0 directories and 250 images in '101_food_classes_10_percent/test/foie_gras'\n",
      "There are 0 directories and 250 images in '101_food_classes_10_percent/test/risotto'\n",
      "There are 0 directories and 250 images in '101_food_classes_10_percent/test/club_sandwich'\n",
      "There are 0 directories and 250 images in '101_food_classes_10_percent/test/french_fries'\n",
      "There are 0 directories and 250 images in '101_food_classes_10_percent/test/cheesecake'\n",
      "There are 0 directories and 250 images in '101_food_classes_10_percent/test/creme_brulee'\n",
      "There are 0 directories and 250 images in '101_food_classes_10_percent/test/cheese_plate'\n",
      "There are 0 directories and 250 images in '101_food_classes_10_percent/test/greek_salad'\n",
      "There are 0 directories and 250 images in '101_food_classes_10_percent/test/mussels'\n",
      "There are 0 directories and 250 images in '101_food_classes_10_percent/test/macarons'\n",
      "There are 0 directories and 250 images in '101_food_classes_10_percent/test/bread_pudding'\n",
      "There are 0 directories and 250 images in '101_food_classes_10_percent/test/ceviche'\n",
      "There are 0 directories and 250 images in '101_food_classes_10_percent/test/fried_rice'\n",
      "There are 0 directories and 250 images in '101_food_classes_10_percent/test/waffles'\n",
      "There are 0 directories and 250 images in '101_food_classes_10_percent/test/churros'\n",
      "There are 0 directories and 250 images in '101_food_classes_10_percent/test/chocolate_mousse'\n",
      "There are 0 directories and 250 images in '101_food_classes_10_percent/test/beef_tartare'\n",
      "There are 0 directories and 250 images in '101_food_classes_10_percent/test/french_toast'\n",
      "There are 0 directories and 250 images in '101_food_classes_10_percent/test/filet_mignon'\n",
      "There are 0 directories and 250 images in '101_food_classes_10_percent/test/sushi'\n",
      "There are 0 directories and 250 images in '101_food_classes_10_percent/test/falafel'\n",
      "There are 0 directories and 250 images in '101_food_classes_10_percent/test/carrot_cake'\n",
      "There are 0 directories and 250 images in '101_food_classes_10_percent/test/steak'\n",
      "There are 0 directories and 250 images in '101_food_classes_10_percent/test/red_velvet_cake'\n",
      "There are 0 directories and 250 images in '101_food_classes_10_percent/test/huevos_rancheros'\n",
      "There are 0 directories and 250 images in '101_food_classes_10_percent/test/ice_cream'\n",
      "There are 0 directories and 250 images in '101_food_classes_10_percent/test/prime_rib'\n",
      "There are 0 directories and 250 images in '101_food_classes_10_percent/test/spaghetti_bolognese'\n",
      "There are 0 directories and 250 images in '101_food_classes_10_percent/test/cannoli'\n",
      "There are 0 directories and 250 images in '101_food_classes_10_percent/test/beet_salad'\n",
      "There are 0 directories and 250 images in '101_food_classes_10_percent/test/crab_cakes'\n",
      "There are 0 directories and 250 images in '101_food_classes_10_percent/test/peking_duck'\n",
      "There are 0 directories and 250 images in '101_food_classes_10_percent/test/lobster_bisque'\n",
      "There are 0 directories and 250 images in '101_food_classes_10_percent/test/gnocchi'\n",
      "There are 0 directories and 250 images in '101_food_classes_10_percent/test/clam_chowder'\n",
      "There are 0 directories and 250 images in '101_food_classes_10_percent/test/croque_madame'\n",
      "There are 0 directories and 250 images in '101_food_classes_10_percent/test/spring_rolls'\n",
      "There are 0 directories and 250 images in '101_food_classes_10_percent/test/hamburger'\n",
      "There are 0 directories and 250 images in '101_food_classes_10_percent/test/escargots'\n",
      "There are 0 directories and 250 images in '101_food_classes_10_percent/test/ravioli'\n",
      "There are 0 directories and 250 images in '101_food_classes_10_percent/test/pad_thai'\n",
      "There are 0 directories and 250 images in '101_food_classes_10_percent/test/scallops'\n",
      "There are 0 directories and 250 images in '101_food_classes_10_percent/test/dumplings'\n",
      "There are 0 directories and 250 images in '101_food_classes_10_percent/test/breakfast_burrito'\n",
      "There are 0 directories and 250 images in '101_food_classes_10_percent/test/chicken_curry'\n",
      "There are 0 directories and 250 images in '101_food_classes_10_percent/test/pork_chop'\n",
      "There are 0 directories and 250 images in '101_food_classes_10_percent/test/edamame'\n",
      "There are 0 directories and 250 images in '101_food_classes_10_percent/test/beignets'\n",
      "There are 0 directories and 250 images in '101_food_classes_10_percent/test/hot_and_sour_soup'\n",
      "There are 0 directories and 250 images in '101_food_classes_10_percent/test/miso_soup'\n",
      "There are 0 directories and 250 images in '101_food_classes_10_percent/test/fried_calamari'\n",
      "There are 0 directories and 250 images in '101_food_classes_10_percent/test/paella'\n",
      "There are 0 directories and 250 images in '101_food_classes_10_percent/test/fish_and_chips'\n",
      "There are 0 directories and 250 images in '101_food_classes_10_percent/test/ramen'\n",
      "There are 0 directories and 250 images in '101_food_classes_10_percent/test/strawberry_shortcake'\n",
      "There are 0 directories and 250 images in '101_food_classes_10_percent/test/caprese_salad'\n",
      "There are 0 directories and 250 images in '101_food_classes_10_percent/test/gyoza'\n",
      "There are 0 directories and 250 images in '101_food_classes_10_percent/test/tuna_tartare'\n",
      "There are 0 directories and 250 images in '101_food_classes_10_percent/test/grilled_salmon'\n",
      "There are 0 directories and 250 images in '101_food_classes_10_percent/test/shrimp_and_grits'\n",
      "There are 0 directories and 250 images in '101_food_classes_10_percent/test/pho'\n",
      "There are 0 directories and 250 images in '101_food_classes_10_percent/test/frozen_yogurt'\n",
      "There are 0 directories and 250 images in '101_food_classes_10_percent/test/apple_pie'\n",
      "There are 0 directories and 250 images in '101_food_classes_10_percent/test/caesar_salad'\n",
      "There are 0 directories and 250 images in '101_food_classes_10_percent/test/tacos'\n",
      "There are 0 directories and 250 images in '101_food_classes_10_percent/test/guacamole'\n",
      "There are 0 directories and 250 images in '101_food_classes_10_percent/test/cup_cakes'\n",
      "There are 0 directories and 250 images in '101_food_classes_10_percent/test/garlic_bread'\n",
      "There are 0 directories and 250 images in '101_food_classes_10_percent/test/french_onion_soup'\n",
      "There are 0 directories and 250 images in '101_food_classes_10_percent/test/panna_cotta'\n",
      "There are 0 directories and 250 images in '101_food_classes_10_percent/test/samosa'\n",
      "There are 0 directories and 250 images in '101_food_classes_10_percent/test/omelette'\n",
      "There are 0 directories and 250 images in '101_food_classes_10_percent/test/pulled_pork_sandwich'\n",
      "There are 0 directories and 250 images in '101_food_classes_10_percent/test/nachos'\n",
      "There are 0 directories and 250 images in '101_food_classes_10_percent/test/lasagna'\n",
      "There are 0 directories and 250 images in '101_food_classes_10_percent/test/grilled_cheese_sandwich'\n",
      "There are 0 directories and 250 images in '101_food_classes_10_percent/test/eggs_benedict'\n",
      "There are 0 directories and 250 images in '101_food_classes_10_percent/test/seaweed_salad'\n",
      "There are 0 directories and 250 images in '101_food_classes_10_percent/test/hummus'\n",
      "There are 0 directories and 250 images in '101_food_classes_10_percent/test/oysters'\n",
      "There are 0 directories and 250 images in '101_food_classes_10_percent/test/chicken_wings'\n",
      "There are 0 directories and 250 images in '101_food_classes_10_percent/test/beef_carpaccio'\n",
      "There are 0 directories and 250 images in '101_food_classes_10_percent/test/hot_dog'\n",
      "There are 0 directories and 250 images in '101_food_classes_10_percent/test/baby_back_ribs'\n",
      "There are 0 directories and 250 images in '101_food_classes_10_percent/test/onion_rings'\n",
      "There are 0 directories and 250 images in '101_food_classes_10_percent/test/pizza'\n",
      "There are 0 directories and 250 images in '101_food_classes_10_percent/test/deviled_eggs'\n",
      "There are 0 directories and 250 images in '101_food_classes_10_percent/test/spaghetti_carbonara'\n",
      "There are 101 directories and 0 images in '101_food_classes_10_percent/train'\n",
      "There are 0 directories and 75 images in '101_food_classes_10_percent/train/donuts'\n",
      "There are 0 directories and 75 images in '101_food_classes_10_percent/train/sashimi'\n",
      "There are 0 directories and 75 images in '101_food_classes_10_percent/train/macaroni_and_cheese'\n",
      "There are 0 directories and 75 images in '101_food_classes_10_percent/train/bibimbap'\n",
      "There are 0 directories and 75 images in '101_food_classes_10_percent/train/lobster_roll_sandwich'\n",
      "There are 0 directories and 75 images in '101_food_classes_10_percent/train/baklava'\n",
      "There are 0 directories and 75 images in '101_food_classes_10_percent/train/poutine'\n",
      "There are 0 directories and 75 images in '101_food_classes_10_percent/train/bruschetta'\n",
      "There are 0 directories and 75 images in '101_food_classes_10_percent/train/takoyaki'\n",
      "There are 0 directories and 75 images in '101_food_classes_10_percent/train/pancakes'\n",
      "There are 0 directories and 75 images in '101_food_classes_10_percent/train/chocolate_cake'\n",
      "There are 0 directories and 75 images in '101_food_classes_10_percent/train/tiramisu'\n",
      "There are 0 directories and 75 images in '101_food_classes_10_percent/train/chicken_quesadilla'\n",
      "There are 0 directories and 75 images in '101_food_classes_10_percent/train/foie_gras'\n",
      "There are 0 directories and 75 images in '101_food_classes_10_percent/train/risotto'\n",
      "There are 0 directories and 75 images in '101_food_classes_10_percent/train/club_sandwich'\n",
      "There are 0 directories and 75 images in '101_food_classes_10_percent/train/french_fries'\n",
      "There are 0 directories and 75 images in '101_food_classes_10_percent/train/cheesecake'\n",
      "There are 0 directories and 75 images in '101_food_classes_10_percent/train/creme_brulee'\n",
      "There are 0 directories and 75 images in '101_food_classes_10_percent/train/cheese_plate'\n",
      "There are 0 directories and 75 images in '101_food_classes_10_percent/train/greek_salad'\n",
      "There are 0 directories and 75 images in '101_food_classes_10_percent/train/mussels'\n",
      "There are 0 directories and 75 images in '101_food_classes_10_percent/train/macarons'\n",
      "There are 0 directories and 75 images in '101_food_classes_10_percent/train/bread_pudding'\n",
      "There are 0 directories and 75 images in '101_food_classes_10_percent/train/ceviche'\n",
      "There are 0 directories and 75 images in '101_food_classes_10_percent/train/fried_rice'\n",
      "There are 0 directories and 75 images in '101_food_classes_10_percent/train/waffles'\n",
      "There are 0 directories and 75 images in '101_food_classes_10_percent/train/churros'\n",
      "There are 0 directories and 75 images in '101_food_classes_10_percent/train/chocolate_mousse'\n",
      "There are 0 directories and 75 images in '101_food_classes_10_percent/train/beef_tartare'\n",
      "There are 0 directories and 75 images in '101_food_classes_10_percent/train/french_toast'\n",
      "There are 0 directories and 75 images in '101_food_classes_10_percent/train/filet_mignon'\n",
      "There are 0 directories and 75 images in '101_food_classes_10_percent/train/sushi'\n",
      "There are 0 directories and 75 images in '101_food_classes_10_percent/train/falafel'\n",
      "There are 0 directories and 75 images in '101_food_classes_10_percent/train/carrot_cake'\n",
      "There are 0 directories and 75 images in '101_food_classes_10_percent/train/steak'\n",
      "There are 0 directories and 75 images in '101_food_classes_10_percent/train/red_velvet_cake'\n",
      "There are 0 directories and 75 images in '101_food_classes_10_percent/train/huevos_rancheros'\n",
      "There are 0 directories and 75 images in '101_food_classes_10_percent/train/ice_cream'\n",
      "There are 0 directories and 75 images in '101_food_classes_10_percent/train/prime_rib'\n",
      "There are 0 directories and 75 images in '101_food_classes_10_percent/train/spaghetti_bolognese'\n",
      "There are 0 directories and 75 images in '101_food_classes_10_percent/train/cannoli'\n",
      "There are 0 directories and 75 images in '101_food_classes_10_percent/train/beet_salad'\n",
      "There are 0 directories and 75 images in '101_food_classes_10_percent/train/crab_cakes'\n",
      "There are 0 directories and 75 images in '101_food_classes_10_percent/train/peking_duck'\n",
      "There are 0 directories and 75 images in '101_food_classes_10_percent/train/lobster_bisque'\n",
      "There are 0 directories and 75 images in '101_food_classes_10_percent/train/gnocchi'\n",
      "There are 0 directories and 75 images in '101_food_classes_10_percent/train/clam_chowder'\n",
      "There are 0 directories and 75 images in '101_food_classes_10_percent/train/croque_madame'\n",
      "There are 0 directories and 75 images in '101_food_classes_10_percent/train/spring_rolls'\n",
      "There are 0 directories and 75 images in '101_food_classes_10_percent/train/hamburger'\n",
      "There are 0 directories and 75 images in '101_food_classes_10_percent/train/escargots'\n",
      "There are 0 directories and 75 images in '101_food_classes_10_percent/train/ravioli'\n",
      "There are 0 directories and 75 images in '101_food_classes_10_percent/train/pad_thai'\n",
      "There are 0 directories and 75 images in '101_food_classes_10_percent/train/scallops'\n",
      "There are 0 directories and 75 images in '101_food_classes_10_percent/train/dumplings'\n",
      "There are 0 directories and 75 images in '101_food_classes_10_percent/train/breakfast_burrito'\n",
      "There are 0 directories and 75 images in '101_food_classes_10_percent/train/chicken_curry'\n",
      "There are 0 directories and 75 images in '101_food_classes_10_percent/train/pork_chop'\n",
      "There are 0 directories and 75 images in '101_food_classes_10_percent/train/edamame'\n",
      "There are 0 directories and 75 images in '101_food_classes_10_percent/train/beignets'\n",
      "There are 0 directories and 75 images in '101_food_classes_10_percent/train/hot_and_sour_soup'\n",
      "There are 0 directories and 75 images in '101_food_classes_10_percent/train/miso_soup'\n",
      "There are 0 directories and 75 images in '101_food_classes_10_percent/train/fried_calamari'\n",
      "There are 0 directories and 75 images in '101_food_classes_10_percent/train/paella'\n",
      "There are 0 directories and 75 images in '101_food_classes_10_percent/train/fish_and_chips'\n",
      "There are 0 directories and 75 images in '101_food_classes_10_percent/train/ramen'\n",
      "There are 0 directories and 75 images in '101_food_classes_10_percent/train/strawberry_shortcake'\n",
      "There are 0 directories and 75 images in '101_food_classes_10_percent/train/caprese_salad'\n",
      "There are 0 directories and 75 images in '101_food_classes_10_percent/train/gyoza'\n",
      "There are 0 directories and 75 images in '101_food_classes_10_percent/train/tuna_tartare'\n",
      "There are 0 directories and 75 images in '101_food_classes_10_percent/train/grilled_salmon'\n",
      "There are 0 directories and 75 images in '101_food_classes_10_percent/train/shrimp_and_grits'\n",
      "There are 0 directories and 75 images in '101_food_classes_10_percent/train/pho'\n",
      "There are 0 directories and 75 images in '101_food_classes_10_percent/train/frozen_yogurt'\n",
      "There are 0 directories and 75 images in '101_food_classes_10_percent/train/apple_pie'\n",
      "There are 0 directories and 75 images in '101_food_classes_10_percent/train/caesar_salad'\n",
      "There are 0 directories and 75 images in '101_food_classes_10_percent/train/tacos'\n",
      "There are 0 directories and 75 images in '101_food_classes_10_percent/train/guacamole'\n",
      "There are 0 directories and 75 images in '101_food_classes_10_percent/train/cup_cakes'\n",
      "There are 0 directories and 75 images in '101_food_classes_10_percent/train/garlic_bread'\n",
      "There are 0 directories and 75 images in '101_food_classes_10_percent/train/french_onion_soup'\n",
      "There are 0 directories and 75 images in '101_food_classes_10_percent/train/panna_cotta'\n",
      "There are 0 directories and 75 images in '101_food_classes_10_percent/train/samosa'\n",
      "There are 0 directories and 75 images in '101_food_classes_10_percent/train/omelette'\n",
      "There are 0 directories and 75 images in '101_food_classes_10_percent/train/pulled_pork_sandwich'\n",
      "There are 0 directories and 75 images in '101_food_classes_10_percent/train/nachos'\n",
      "There are 0 directories and 75 images in '101_food_classes_10_percent/train/lasagna'\n",
      "There are 0 directories and 75 images in '101_food_classes_10_percent/train/grilled_cheese_sandwich'\n",
      "There are 0 directories and 75 images in '101_food_classes_10_percent/train/eggs_benedict'\n",
      "There are 0 directories and 75 images in '101_food_classes_10_percent/train/seaweed_salad'\n",
      "There are 0 directories and 75 images in '101_food_classes_10_percent/train/hummus'\n",
      "There are 0 directories and 75 images in '101_food_classes_10_percent/train/oysters'\n",
      "There are 0 directories and 75 images in '101_food_classes_10_percent/train/chicken_wings'\n",
      "There are 0 directories and 75 images in '101_food_classes_10_percent/train/beef_carpaccio'\n",
      "There are 0 directories and 75 images in '101_food_classes_10_percent/train/hot_dog'\n",
      "There are 0 directories and 75 images in '101_food_classes_10_percent/train/baby_back_ribs'\n",
      "There are 0 directories and 75 images in '101_food_classes_10_percent/train/onion_rings'\n",
      "There are 0 directories and 75 images in '101_food_classes_10_percent/train/pizza'\n",
      "There are 0 directories and 75 images in '101_food_classes_10_percent/train/deviled_eggs'\n",
      "There are 0 directories and 75 images in '101_food_classes_10_percent/train/spaghetti_carbonara'\n"
     ]
    }
   ],
   "source": [
    "walk_through_dir(\"101_food_classes_10_percent\")"
   ]
  },
  {
   "cell_type": "code",
   "execution_count": 7,
   "metadata": {},
   "outputs": [
    {
     "name": "stderr",
     "output_type": "stream",
     "text": [
      "2023-12-30 12:08:49.796885: E external/local_xla/xla/stream_executor/cuda/cuda_dnn.cc:9261] Unable to register cuDNN factory: Attempting to register factory for plugin cuDNN when one has already been registered\n",
      "2023-12-30 12:08:49.796944: E external/local_xla/xla/stream_executor/cuda/cuda_fft.cc:607] Unable to register cuFFT factory: Attempting to register factory for plugin cuFFT when one has already been registered\n",
      "2023-12-30 12:08:49.905557: E external/local_xla/xla/stream_executor/cuda/cuda_blas.cc:1515] Unable to register cuBLAS factory: Attempting to register factory for plugin cuBLAS when one has already been registered\n",
      "2023-12-30 12:08:50.093831: I tensorflow/core/platform/cpu_feature_guard.cc:182] This TensorFlow binary is optimized to use available CPU instructions in performance-critical operations.\n",
      "To enable the following instructions: AVX2 FMA, in other operations, rebuild TensorFlow with the appropriate compiler flags.\n",
      "2023-12-30 12:08:51.518573: W tensorflow/compiler/tf2tensorrt/utils/py_utils.cc:38] TF-TRT Warning: Could not find TensorRT\n"
     ]
    },
    {
     "name": "stdout",
     "output_type": "stream",
     "text": [
      "Found 7575 files belonging to 101 classes.\n"
     ]
    },
    {
     "name": "stderr",
     "output_type": "stream",
     "text": [
      "2023-12-30 12:08:54.698796: I external/local_xla/xla/stream_executor/cuda/cuda_executor.cc:901] successful NUMA node read from SysFS had negative value (-1), but there must be at least one NUMA node, so returning NUMA node zero. See more at https://github.com/torvalds/linux/blob/v6.0/Documentation/ABI/testing/sysfs-bus-pci#L344-L355\n",
      "2023-12-30 12:08:55.132844: W tensorflow/core/common_runtime/gpu/gpu_device.cc:2256] Cannot dlopen some GPU libraries. Please make sure the missing libraries mentioned above are installed properly if you would like to use GPU. Follow the guide at https://www.tensorflow.org/install/gpu for how to download and setup the required libraries for your platform.\n",
      "Skipping registering GPU devices...\n"
     ]
    },
    {
     "name": "stdout",
     "output_type": "stream",
     "text": [
      "Found 25250 files belonging to 101 classes.\n"
     ]
    }
   ],
   "source": [
    "# Setup data input\n",
    "import tensorflow as tf\n",
    "IMG_SIZE = (224, 224)\n",
    "train_data_all_10_percent = tf.keras.preprocessing.image_dataset_from_directory(train_dir,\n",
    "                                                                               label_mode=\"categorical\",\n",
    "                                                                               image_size=IMG_SIZE)\n",
    "test_data = tf.keras.preprocessing.image_dataset_from_directory(test_dir,\n",
    "                                                                label_mode=\"categorical\",\n",
    "                                                                image_size=IMG_SIZE,\n",
    "                                                                shuffle=False)  # don't shuffle test data for prediction analysis"
   ]
  },
  {
   "cell_type": "markdown",
   "metadata": {},
   "source": [
    "## Train a big dog model with trainsfer learning on 10% of 101 food classes\n",
    "\n",
    "* Create a ModelCHeckpint callback\n",
    "* Create a data augmentation layer to build data augmentation right into the model\n",
    "* Build a headless (no top layers( FUntional EfficientNetB0 backboned-model\n",
    "* Compile our model\n",
    "* Feature extract fo 5 full passes (5 epochs on the train dataset and validat on 15% of the test data, to save epoch time)"
   ]
  },
  {
   "cell_type": "markdown",
   "metadata": {},
   "source": [
    "# Create checkpoint callback"
   ]
  },
  {
   "cell_type": "code",
   "execution_count": 25,
   "metadata": {},
   "outputs": [],
   "source": [
    "checkpoint_path = \"101_classes_10_percent_data_model_checkpoint\"\n",
    "checkpoint_callback = tf.keras.callbacks.ModelCheckpoint(checkpoint_path,\n",
    "                                                         save_weights_only=True, # save only the model weights\n",
    "                                                         monitor=\"val_accuracy\", # save the model weights which score the best validation accuracy\n",
    "                                                         save_best_only=True)"
   ]
  },
  {
   "cell_type": "code",
   "execution_count": 14,
   "metadata": {},
   "outputs": [],
   "source": [
    "# Create data augmentation layer to incorporate it right into the model\n",
    "from tensorflow.keras.layers.experimental import preprocessing\n",
    "from tensorflow.keras.models import Sequential\n",
    "\n",
    "# Setup data augmentation\n",
    "data_augmentation = Sequential([\n",
    "    preprocessing.RandomFlip(\"horizontal\"),\n",
    "    preprocessing.RandomRotation(0.2),\n",
    "    preprocessing.RandomZoom(0.2),\n",
    "    preprocessing.RandomHeight(0.2),\n",
    "    preprocessing.RandomWidth(0.2),\n",
    "    # preprocessing.Rescaling(1/225.)  # rescale inputs of images to between 0 & 1, reuqired for models like ResNet50\n",
    "], name=\"data_augmentation\")"
   ]
  },
  {
   "cell_type": "code",
   "execution_count": 27,
   "metadata": {},
   "outputs": [],
   "source": [
    "# Setup base model and freeze its layers (this will extract features)\n",
    "base_model = tf.keras.applications.efficientnet.EfficientNetB0(include_top=False)\n",
    "base_model.trainable = False\n",
    "\n",
    "# Setup model architecture with trainable top layers\n",
    "inputs = layers.Input(shape=(224, 224, 3), name=\"input_layer\") # shape of input image\n",
    "x = data_augmentation(inputs) # augment images (only happens during training)\n",
    "x = base_model(x, training=False) # put the base model in inference mode so we can use it to extract features without updating the weights\n",
    "x = layers.GlobalAveragePooling2D(name=\"global_average_pooling\")(x) # pool the outputs of the base model\n",
    "outputs = layers.Dense(len(train_data_all_10_percent.class_names), activation=\"softmax\", name=\"output_layer\")(x) # same number of outputs as classes\n",
    "model = tf.keras.Model(inputs, outputs)"
   ]
  },
  {
   "cell_type": "code",
   "execution_count": 17,
   "metadata": {},
   "outputs": [
    {
     "name": "stdout",
     "output_type": "stream",
     "text": [
      "Model: \"model\"\n",
      "_________________________________________________________________\n",
      " Layer (type)                Output Shape              Param #   \n",
      "=================================================================\n",
      " input_layer (InputLayer)    [(None, 224, 224, 3)]     0         \n",
      "                                                                 \n",
      " data_augmentation (Sequent  (None, None, None, 3)     0         \n",
      " ial)                                                            \n",
      "                                                                 \n",
      " efficientnetb0 (Functional  (None, None, None, 1280   4049571   \n",
      " )                           )                                   \n",
      "                                                                 \n",
      " global_avg_pool_layer (Glo  (None, 1280)              0         \n",
      " balAveragePooling2D)                                            \n",
      "                                                                 \n",
      " output_layer (Dense)        (None, 101)               129381    \n",
      "                                                                 \n",
      "=================================================================\n",
      "Total params: 4178952 (15.94 MB)\n",
      "Trainable params: 129381 (505.39 KB)\n",
      "Non-trainable params: 4049571 (15.45 MB)\n",
      "_________________________________________________________________\n"
     ]
    }
   ],
   "source": [
    "model.summary()"
   ]
  },
  {
   "cell_type": "code",
   "execution_count": 28,
   "metadata": {},
   "outputs": [],
   "source": [
    "model.compile(loss=\"categorical_crossentropy\",\n",
    "             optimizer=tf.keras.optimizers.Adam(),\n",
    "             metrics=[\"accuracy\"])"
   ]
  },
  {
   "cell_type": "code",
   "execution_count": 29,
   "metadata": {},
   "outputs": [
    {
     "name": "stdout",
     "output_type": "stream",
     "text": [
      "Epoch 1/5\n",
      "237/237 [==============================] - 446s 2s/step - loss: 3.3681 - accuracy: 0.2712 - val_loss: 2.5410 - val_accuracy: 0.4206\n",
      "Epoch 2/5\n",
      "237/237 [==============================] - 443s 2s/step - loss: 2.1966 - accuracy: 0.4973 - val_loss: 2.0477 - val_accuracy: 0.4976\n",
      "Epoch 3/5\n",
      "237/237 [==============================] - 461s 2s/step - loss: 1.8116 - accuracy: 0.5716 - val_loss: 1.9182 - val_accuracy: 0.5124\n",
      "Epoch 4/5\n",
      "237/237 [==============================] - 492s 2s/step - loss: 1.6044 - accuracy: 0.6074 - val_loss: 1.8277 - val_accuracy: 0.5273\n",
      "Epoch 5/5\n",
      "237/237 [==============================] - 476s 2s/step - loss: 1.4455 - accuracy: 0.6453 - val_loss: 1.7752 - val_accuracy: 0.5347\n"
     ]
    }
   ],
   "source": [
    "# Compile\n",
    "model.compile(loss=\"categorical_crossentropy\",\n",
    "              optimizer=tf.keras.optimizers.Adam(), # use Adam with default settings\n",
    "              metrics=[\"accuracy\"])\n",
    "\n",
    "# Fit\n",
    "history_all_classes_10_percent = model.fit(train_data_all_10_percent,\n",
    "                                           epochs=5, # fit for 5 epochs to keep experiments quick\n",
    "                                           validation_data=test_data,\n",
    "                                           validation_steps=int(0.15 * len(test_data)), # evaluate on smaller portion of test data\n",
    "                                           callbacks=[checkpoint_callback])"
   ]
  },
  {
   "cell_type": "code",
   "execution_count": null,
   "metadata": {},
   "outputs": [],
   "source": [
    "fine_tuning_results = model.evaluate(test_data)\n",
    "fine_tuning_results"
   ]
  },
  {
   "cell_type": "code",
   "execution_count": 35,
   "metadata": {},
   "outputs": [],
   "source": [
    "import pickle\n",
    "from tensorflow.keras.models import load_model\n",
    "\n",
    "with open('history_all_classes_10_percent.pkl', 'wb') as file:\n",
    "    pickle.dump(history_all_classes_10_percent.history, file)\n",
    "\n",
    "# Save Model\n",
    "model.save('model.keras')\n",
    "\n",
    "# Load Model (if needed)\n",
    "loaded_model = load_model('model.keras')"
   ]
  },
  {
   "cell_type": "code",
   "execution_count": null,
   "metadata": {},
   "outputs": [],
   "source": []
  },
  {
   "cell_type": "code",
   "execution_count": null,
   "metadata": {},
   "outputs": [],
   "source": []
  }
 ],
 "metadata": {
  "colab": {
   "authorship_tag": "ABX9TyP0atNxJKJ5KOKrXGDdrJfJ",
   "include_colab_link": true,
   "provenance": []
  },
  "kernelspec": {
   "display_name": "Python 3 (ipykernel)",
   "language": "python",
   "name": "python3"
  },
  "language_info": {
   "codemirror_mode": {
    "name": "ipython",
    "version": 3
   },
   "file_extension": ".py",
   "mimetype": "text/x-python",
   "name": "python",
   "nbconvert_exporter": "python",
   "pygments_lexer": "ipython3",
   "version": "3.11.5"
  }
 },
 "nbformat": 4,
 "nbformat_minor": 1
}
